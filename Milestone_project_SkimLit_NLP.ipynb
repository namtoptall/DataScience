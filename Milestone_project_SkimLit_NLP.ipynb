{
  "nbformat": 4,
  "nbformat_minor": 0,
  "metadata": {
    "accelerator": "GPU",
    "colab": {
      "provenance": [],
      "toc_visible": true,
      "include_colab_link": true
    },
    "kernelspec": {
      "display_name": "Python 3",
      "name": "python3"
    }
  },
  "cells": [
    {
      "cell_type": "markdown",
      "metadata": {
        "id": "view-in-github",
        "colab_type": "text"
      },
      "source": [
        "<a href=\"https://colab.research.google.com/github/namtoptall/DataScience/blob/main/Milestone_project_SkimLit_NLP.ipynb\" target=\"_parent\"><img src=\"https://colab.research.google.com/assets/colab-badge.svg\" alt=\"Open In Colab\"/></a>"
      ]
    },
    {
      "cell_type": "markdown",
      "metadata": {
        "id": "dDWUcMGOauy8"
      },
      "source": [
        "# 09. Milestone Project 2: SkimLit 📄🔥\n",
        "\n",
        "Ở notebook trước ([Giới thiệu về NLP trong TensorFlow](https://github.com/mrdbourke/tensorflow-deep-learning/blob/main/08_introduction_to_nlp_in_tensorflow.ipynb)), chúng ta đã tìm hiểu một số khái niệm NLP cơ bản, trong đó có hai khái niệm chính là **tokenzation** (biến từ thành số) và **tạo embedding** (tạo biểu diễn dạng số của từ).\n",
        "\n",
        "Trong project này, chúng ta sẽ thực hành kiến thức về NLP đã học.\n",
        "\n",
        "Cụ thể, chúng ta sẽ tái tạo lại mô hình học sâu trong tài liệu [*PubMed 200k RCT: a Dataset for Sequenctial Sentence Classification in Medical Abstracts*](https://arxiv.org/abs/1710.06071) (2017).\n",
        "\n",
        "Lúc phát hành, tài liệu này đã biểu diễn một tập dữ liệu mới là PubMed 200k RCT, chứa ~200,000 Randomized Controlled Trial (RCT) abstract được gắn nhãn.\n",
        "\n",
        "Mục đích của tập dữ liệu này là khám phá khả năng phân loại câu xuất hiện theo trình tự của các mô hình NLP.\n",
        "\n",
        "Nói cách khác, với các RCT abstract đã cho, mỗi câu có vài trò gì trong abstract?\n",
        "\n",
        "![Skimlit example inputs and outputs](https://raw.githubusercontent.com/mrdbourke/tensorflow-deep-learning/main/images/09-skimlit-overview-input-and-output.png)\n",
        "\n",
        "*Ví dụ về đầu vào ([phần abstract khó đọc hơn từ PubMed](https://pubmed.ncbi.nlm.nih.gov/28942748/)) và đầu ra ([phần abstract dễ đọc hơn](https://pubmed.ncbi.nlm.nih.gov/32537182/)) của mô hình mà chúng ta đang xây dựng. Mô hình sẽ lấy một khối văn bản và dự đoán nhãn của phần mà từng câu có.*  \n",
        "\n",
        "### Đầu vào mô hình\n",
        "\n",
        "Ví dụ, chúng ta có thể huấn luyện mô hình NLP có các đầu vào sau (lưu ý: mẫu sau có các ký tự số được thay bằng \"@\"):\n",
        "\n",
        "> To investigate the efficacy of @ weeks of daily low-dose oral prednisolone in improving pain , mobility , and systemic low-grade inflammation in the short term and whether the effect would be sustained at @ weeks in older adults with moderate to severe knee osteoarthritis ( OA ). A total of @ patients with primary knee OA were randomized @:@ ; @ received @ mg/day of prednisolone and @ received placebo for @ weeks. Outcome measures included pain reduction and improvement in function scores and systemic inflammation markers. Pain was assessed using the visual analog pain scale ( @-@ mm ).\n",
        "Secondary outcome measures included the Western Ontario and McMaster Universities Osteoarthritis Index scores , patient global assessment ( PGA ) of the severity of knee OA , and @-min walk distance ( @MWD ).,\n",
        "Serum levels of interleukin @ ( IL-@ ) , IL-@ , tumor necrosis factor ( TNF ) - , and high-sensitivity C-reactive protein ( hsCRP ) were measured.\n",
        "There was a clinically relevant reduction in the intervention group compared to the placebo group for knee pain , physical function , PGA , and @MWD at @ weeks. The mean difference between treatment arms ( @ % CI ) was @ ( @-@ @ ) , p < @ ; @ ( @-@ @ ) , p < @ ; @ ( @-@ @ ) , p < @ ; and @ ( @-@ @ ) , p < @ , respectively. Further , there was a clinically relevant reduction in the serum levels of IL-@ , IL-@ , TNF - , and hsCRP at @ weeks in the intervention group when compared to the placebo group. These differences remained significant at @ weeks. The Outcome Measures in Rheumatology Clinical Trials-Osteoarthritis Research Society International responder rate was @ % in the intervention group and @ % in the placebo group ( p < @ ). Low-dose oral prednisolone had both a short-term and a longer sustained effect resulting in less knee pain , better physical function , and attenuation of systemic inflammation in older patients with knee OA ( ClinicalTrials.gov identifier NCT@ ).\n",
        "\n",
        "### Đầu ra mô hình\n",
        "\n",
        "Mô hình trả về đầu ra sau:\n",
        "\n",
        "```\n",
        "['###24293578\\n',\n",
        " 'OBJECTIVE\\tTo investigate the efficacy of @ weeks of daily low-dose oral prednisolone in improving pain , mobility , and systemic low-grade inflammation in the short term and whether the effect would be sustained at @ weeks in older adults with moderate to severe knee osteoarthritis ( OA ) .\\n',\n",
        " 'METHODS\\tA total of @ patients with primary knee OA were randomized @:@ ; @ received @ mg/day of prednisolone and @ received placebo for @ weeks .\\n',\n",
        " 'METHODS\\tOutcome measures included pain reduction and improvement in function scores and systemic inflammation markers .\\n',\n",
        " 'METHODS\\tPain was assessed using the visual analog pain scale ( @-@ mm ) .\\n',\n",
        " 'METHODS\\tSecondary outcome measures included the Western Ontario and McMaster Universities Osteoarthritis Index scores , patient global assessment ( PGA ) of the severity of knee OA , and @-min walk distance ( @MWD ) .\\n',\n",
        " 'METHODS\\tSerum levels of interleukin @ ( IL-@ ) , IL-@ , tumor necrosis factor ( TNF ) - , and high-sensitivity C-reactive protein ( hsCRP ) were measured .\\n',\n",
        " 'RESULTS\\tThere was a clinically relevant reduction in the intervention group compared to the placebo group for knee pain , physical function , PGA , and @MWD at @ weeks .\\n',\n",
        " 'RESULTS\\tThe mean difference between treatment arms ( @ % CI ) was @ ( @-@ @ ) , p < @ ; @ ( @-@ @ ) , p < @ ; @ ( @-@ @ ) , p < @ ; and @ ( @-@ @ ) , p < @ , respectively .\\n',\n",
        " 'RESULTS\\tFurther , there was a clinically relevant reduction in the serum levels of IL-@ , IL-@ , TNF - , and hsCRP at @ weeks in the intervention group when compared to the placebo group .\\n',\n",
        " 'RESULTS\\tThese differences remained significant at @ weeks .\\n',\n",
        " 'RESULTS\\tThe Outcome Measures in Rheumatology Clinical Trials-Osteoarthritis Research Society International responder rate was @ % in the intervention group and @ % in the placebo group ( p < @ ) .\\n',\n",
        " 'CONCLUSIONS\\tLow-dose oral prednisolone had both a short-term and a longer sustained effect resulting in less knee pain , better physical function , and attenuation of systemic inflammation in older patients with knee OA ( ClinicalTrials.gov identifier NCT@ ) .\\n',\n",
        " '\\n']\n",
        " ```\n",
        "\n",
        "### Vấn đề trong câu\n",
        "\n",
        "Số lượng tài liệu RCT phát hành ngày càng tăng, những tài liệu không có abstract có cấu trúc sẽ khó đọc và khiến quá trình tìm hiểu của các nhà nghiên cứu chậm lại.\n",
        "\n",
        "### Giải pháp trong câu\n",
        "\n",
        "Tạo mô hình NLP để phân loại các câu abstract thành vai trò của chúng (chẳng hạn: mục tiêu, phương thức, kết quả,...) cho phép các nhà nghiên cứu đọc qua tài liệu (SkimLit 🤓🔥) và tìm hiểu sâu hơn nếu cần\n",
        "\n",
        "> 📖 **Tài liệu:** Trước khi xem qua code trong notebook này, chúng ta cần biết những gì chúng ta sẽ làm. Hãy dành một (hoặc hai giờ) xem qua các tài liệu sau rồi quay lại notebook này:\n",
        "1. Dữ liệu của chúng ta có từ đâu: [*PubMed 200k RCT: a Dataset for Sequential Sentence Classification in Medical Abstracts*](https://arxiv.org/abs/1710.06071)\n",
        "2. Mô hình của chúng ta có từ đâu: [*Neural networks for joint sentence\n",
        "classification in medical paper abstracts*](https://arxiv.org/pdf/1612.05251.pdf).\n",
        "\n",
        "## Những điều chúng ta sẽ tìm hiểu\n",
        "\n",
        "Đã đến lúc vận dụng những gì chúng ta đã học được từ notebook về NLP và xây dựng mô hình NLP lớn nhất của chúng ta:\n",
        "\n",
        "* Download tập dữ liệu văn bản ([PubMed RCT200k from GitHub](https://github.com/Franck-Dernoncourt/pubmed-rct))\n",
        "* Viết một hàm tiền xử lý để chuẩn bị dữ liệu cho việc lập mô hình\n",
        "* Thiết lập một loạt các thử nghiệm lập mô hình\n",
        "  * Lập mô hình cơ sở (bộ phân loại TF-IDF)\n",
        "  *  Mô hình sâu với các tổ hợp khác nhau của: token embedding, character embedding, pretrained embedding, positional embedding\n",
        "* Xây dựng mô hình đa phương thức đầu tiên (nhiều loại đầu vào dữ liệu)\n",
        "  * Sao chép kiến ​​trúc mô hình từ https://arxiv.org/pdf/1612.05251.pdf\n",
        "* Tìm các dự đoán sai nhiều nhất\n",
        "* Đưa ra dự đoán trên PubMed abstract từ tự nhiên\n",
        "\n",
        "## Cách sử dụng notebook này\n",
        "\n",
        "Các bạn có thể đọc qua các mô tả và code (tất cả sẽ chạy, trừ những cell mắc lỗi có chủ đích), nhưng có một lựa chọn tốt hơn.\n",
        "\n",
        "Tự viết toàn bộ code.\n",
        "\n",
        "Nghiêm túc đấy. Hãy tạo notebook mới và tự viết lại từng dòng. Kiểm tra xem bạn có thể thay đổi nó không và lý do cho điều đó.\n",
        "\n",
        "Bạn không cần viết mô tả bằng văn bản nhưng tự viết lại code là một cách tuyệt vời để có trải nghiệm thực tiễn.\n",
        "\n",
        "Đừng lo lắng nếu mắc sai sót, ai cũng đều mắc lỗi cả. Cách thực hiện tốt hơn và mắc ít lỗi hơn là **viết nhiều code hơn**.\n",
        "\n",
        "> 📖 **Tài liệu:** Xem bộ tài liệu khóa học đầy đủ trên GitHub: https://github.com/mrdbourke/tensorflow-deep-learning"
      ]
    },
    {
      "cell_type": "markdown",
      "metadata": {
        "id": "4NG3nevdEZBs"
      },
      "source": [
        "## Xác nhận quyền truy cập vào GPU\n",
        "\n",
        "Do chúng ta sẽ xây dựng các mô hình học sâu, nên hãy đảm bảo có GPU.\n",
        "\n",
        "Trong Google Colab, chúng ta có thể thiết lập điều này bằng cách đi tới Runtime -> Change runtime type -> Hardware accelerator -> GPU.\n",
        "\n",
        "Nếu bạn không có quyền truy cập vào GPU, các mô hình mà chúng ta sẽ xây dựng ở đây có thể sẽ chạy lâu gấp 10 lần."
      ]
    },
    {
      "cell_type": "code",
      "metadata": {
        "id": "dsuQCg5Uaw1w",
        "colab": {
          "base_uri": "https://localhost:8080/"
        },
        "outputId": "f1681b9e-a9e6-4049-9591-7300b376cf46"
      },
      "source": [
        "# Kiểm tra GPU\n",
        "!nvidia-smi -L"
      ],
      "execution_count": null,
      "outputs": [
        {
          "output_type": "stream",
          "text": [
            "GPU 0: Tesla T4 (UUID: GPU-90b6bfd2-2dbc-6214-b3b0-835ecd7fd102)\n"
          ],
          "name": "stdout"
        }
      ]
    },
    {
      "cell_type": "markdown",
      "metadata": {
        "id": "2MdzfDdzaQCb"
      },
      "source": [
        "## Lấy dữ liệu\n",
        "Trước khi bắt đầu xây dựng mô hình, chúng ta cần download tập dữ liệu PubMed 200k RCT.\n",
        "\n",
        "Các tác giả của tài liệu đã công khai và miễn phí dữ liệu họ sử dụng cho nghiên cứu của mình dưới dạng file .txt trên [GitHub](https://github.com/Franck-Dernoncourt/pubmed-rct).\n",
        "\n",
        "Chúng ta có thể sao chép chúng vào directory cục bộ của mình bằng cách sử dụng [`git clone`](https://github.com/Franck-Dernoncourt/pubmed-rct`)."
      ]
    },
    {
      "cell_type": "code",
      "metadata": {
        "id": "c0qt0M55a98x",
        "colab": {
          "base_uri": "https://localhost:8080/"
        },
        "outputId": "4f4db3ae-e84b-432d-a807-7900ef3e1461"
      },
      "source": [
        "!git clone https://github.com/Franck-Dernoncourt/pubmed-rct.git\n",
        "!ls pubmed-rct"
      ],
      "execution_count": null,
      "outputs": [
        {
          "output_type": "stream",
          "text": [
            "Cloning into 'pubmed-rct'...\n",
            "remote: Enumerating objects: 33, done.\u001b[K\n",
            "remote: Counting objects: 100% (3/3), done.\u001b[K\n",
            "remote: Compressing objects: 100% (3/3), done.\u001b[K\n",
            "remote: Total 33 (delta 0), reused 0 (delta 0), pack-reused 30\u001b[K\n",
            "Unpacking objects: 100% (33/33), done.\n",
            "PubMed_200k_RCT\n",
            "PubMed_200k_RCT_numbers_replaced_with_at_sign\n",
            "PubMed_20k_RCT\n",
            "PubMed_20k_RCT_numbers_replaced_with_at_sign\n",
            "README.md\n"
          ],
          "name": "stdout"
        }
      ]
    },
    {
      "cell_type": "markdown",
      "metadata": {
        "id": "Y3Oe1F6e7y0E"
      },
      "source": [
        "Kiểm tra nội dung của repository đã tải, chúng ta sẽ thấy có bốn folder.\n",
        "\n",
        "Mỗi folder lại chứa một phiên bản khác của tập dữ liệu PubMed 200k RCT.\n",
        "\n",
        "Xem xét vào [file README](https://github.com/Franck-Dernoncourt/pubmed-rct) từ trang GitHub, chúng ta thu được các thông tin sau:\n",
        "* PubMed 20k là một tập con của PubMed 200k. Tức là, bất kỳ abstract nào trong PubMed 20k cũng đều có mặt trong PubMed 200k.\n",
        "* `PubMed_200k_RCT` giống với `PubMed_200k_RCT_numbers_replaced_with_at_sign`, ngoại trừ ở phần sau, tất cả các số đã được thay thế bằng `@`. (tương tự cho `PubMed_20k_RCT` với `PubMed_20k_RCT_numbers_replaced_with_at_sign`).\n",
        "* Vì giới hạn kích thước file Github là 100 MiB, nên chúng ta cần nén `PubMed_200k_RCT\\train.7z` và `PubMed_200k_RCT_numbers_replaced_with_at_sign\\train.zip`. Để giải nén `train.7z`, chúng ta có thể sử dụng 7-Zip (trong Windows), Keka (trong MacOS X) hoặc p7zip (trong Linux).\n",
        "\n",
        "Đầu tiên, chúng ta sẽ tập trung vào tập dữ liệu `PubMed_20k_RCT_numbers_replaced_with_at_sign`.\n",
        "\n",
        "Tại sao lại là tập dữ liệu này?\n",
        "\n",
        "Thay vì làm việc với toàn bộ tập dữ liệu 200k, chúng ta sẽ giữ cho các thử nghiệm của mình nhanh chóng bằng cách bắt đầu với một tập dữ liệu con nhỏ hơn. Chúng ta có thể chọn tập dữ liệu có các số thay vì thay thế chúng bằng `@`, nhưng chúng ta không làm như vậy.\n",
        "\n",
        "Hãy kiểm tra nội dung file."
      ]
    },
    {
      "cell_type": "code",
      "metadata": {
        "id": "crmxKEJ69bNW",
        "colab": {
          "base_uri": "https://localhost:8080/"
        },
        "outputId": "87514fc4-594d-4572-d5ca-0125b51e073e"
      },
      "source": [
        "# Kiểm tra xem có những file nào trong tập dữ liệu PubMed_20K\n",
        "!ls pubmed-rct/PubMed_20k_RCT_numbers_replaced_with_at_sign"
      ],
      "execution_count": null,
      "outputs": [
        {
          "output_type": "stream",
          "text": [
            "dev.txt  test.txt  train.txt\n"
          ],
          "name": "stdout"
        }
      ]
    },
    {
      "cell_type": "markdown",
      "metadata": {
        "id": "joApaTyD_DYL"
      },
      "source": [
        "Tuyệt, có vẻ như chúng ta có ba text file riêng biệt:\n",
        "* `train.txt` - các mẫu huấn luyện.\n",
        "* `dev.txt` - dev là viết tắt của development set (tập phát triển), là một tên khác của tập kiểm định (trong trường hợp này, chúng ta sẽ sử dụng và gọi file này là tập kiểm định).\n",
        "* `test.txt` - các mẫu kiểm tra.\n",
        "\n",
        "Để không phải lần nào cũng nhập đường dẫn file vào directory đích, hãy biến nó thành một biến."
      ]
    },
    {
      "cell_type": "code",
      "metadata": {
        "id": "C1Zp21fGbBUJ"
      },
      "source": [
        "# Bắt đầu sử dụng tập dữ liệu 20k\n",
        "data_dir = \"pubmed-rct/PubMed_20k_RCT_numbers_replaced_with_at_sign/\""
      ],
      "execution_count": null,
      "outputs": []
    },
    {
      "cell_type": "code",
      "metadata": {
        "id": "CWqMrjLCbFTr",
        "colab": {
          "base_uri": "https://localhost:8080/"
        },
        "outputId": "872976d8-e0c4-4cae-fd6a-db538926fa46"
      },
      "source": [
        "# Kiểm tra tất cả filename trong directory đích\n",
        "import os\n",
        "filenames = [data_dir + filename for filename in os.listdir(data_dir)]\n",
        "filenames"
      ],
      "execution_count": null,
      "outputs": [
        {
          "output_type": "execute_result",
          "data": {
            "text/plain": [
              "['pubmed-rct/PubMed_20k_RCT_numbers_replaced_with_at_sign/train.txt',\n",
              " 'pubmed-rct/PubMed_20k_RCT_numbers_replaced_with_at_sign/test.txt',\n",
              " 'pubmed-rct/PubMed_20k_RCT_numbers_replaced_with_at_sign/dev.txt']"
            ]
          },
          "metadata": {},
          "execution_count": 5
        }
      ]
    },
    {
      "cell_type": "markdown",
      "metadata": {
        "id": "BTjZ9NziaeKU"
      },
      "source": [
        "## Tiền xử lý dữ liệu\n",
        "\n",
        "Được rồi, chúng ta đã download một số dữ liệu text, bạn có nghĩ rằng chúng ta đã sẵn sàng để lập mô hình không?\n",
        "\n",
        "Đợi đã...\n",
        "\n",
        "Chúng ta đã download dữ liệu nhưng chưa xem xét nó.\n",
        "\n",
        "Phương châm để làm quen với bất kỳ tập dữ liệu mới nào là gì?\n",
        "\n",
        "Để tôi sẽ gợi ý nhé, từ bắt đầu bằng \"v\" và lặp lại ba lần.\n",
        "\n",
        "> Vibe, vibe, vibe?\n",
        "\n",
        "Đại loại là ... chúng ta chắc chắn cảm nhận được sự rung cảm của dữ liệu.\n",
        "\n",
        "> Values, values, values?\n",
        "\n",
        "Chúng ta muốn thấy *nhiều* giá trị nhưng đây không hoàn toàn là những gì chúng ta đang tìm kiếm.\n",
        "\n",
        "> Visualize, visualize, visualize?\n",
        "\n",
        "Chính là nó. Để làm quen và biết cách chuẩn bị dữ liệu cho các mô hình học sâu , chúng ta cần trực quan hóa nó.\n",
        "\n",
        "Vì dữ liệu của chúng ta ở dạng text file, nên hãy viết một ít code để đọc từng dòng trong file đích."
      ]
    },
    {
      "cell_type": "code",
      "metadata": {
        "id": "2yjdhJxbbIhX"
      },
      "source": [
        "# Tạo hàm để đọc các dòng của tài liệu\n",
        "def get_lines(filename):\n",
        "  \"\"\"\n",
        "  Đọc filename (text file) và trả về các dòng text ở dạng list.\n",
        "\n",
        "  Đối số:\n",
        "      filename: string chứa đường dẫn file đích để đọc.\n",
        "\n",
        "  Trả về:\n",
        "      List các string với một string mỗi dòng từ filename mục tiêu.\n",
        "      Ví dụ:\n",
        "      [\"this is the first line of filename\",\n",
        "       \"this is the second line of filename\",\n",
        "       \"...\"]\n",
        "  \"\"\"\n",
        "  with open(filename, \"r\") as f:\n",
        "    return f.readlines()"
      ],
      "execution_count": null,
      "outputs": []
    },
    {
      "cell_type": "markdown",
      "metadata": {
        "id": "jpeOUfnkCNII"
      },
      "source": [
        "Chúng ta có một hàm nhỏ: `get_lines()` sẽ nhận đường dẫn file của text file, mở file, đọc từng dòng và trả về.\n",
        "\n",
        "Hãy thử nó trên dữ liệu huấn luyện (`train.txt`)."
      ]
    },
    {
      "cell_type": "code",
      "metadata": {
        "id": "IT7RMQsEbI0I",
        "colab": {
          "base_uri": "https://localhost:8080/"
        },
        "outputId": "5c6b3b6d-393c-42d2-bf0d-009f288d61cf"
      },
      "source": [
        "train_lines = get_lines(data_dir+\"train.txt\")\n",
        "train_lines[:20] # the whole first example of an abstract + a little more of the next one"
      ],
      "execution_count": null,
      "outputs": [
        {
          "output_type": "execute_result",
          "data": {
            "text/plain": [
              "['###24293578\\n',\n",
              " 'OBJECTIVE\\tTo investigate the efficacy of @ weeks of daily low-dose oral prednisolone in improving pain , mobility , and systemic low-grade inflammation in the short term and whether the effect would be sustained at @ weeks in older adults with moderate to severe knee osteoarthritis ( OA ) .\\n',\n",
              " 'METHODS\\tA total of @ patients with primary knee OA were randomized @:@ ; @ received @ mg/day of prednisolone and @ received placebo for @ weeks .\\n',\n",
              " 'METHODS\\tOutcome measures included pain reduction and improvement in function scores and systemic inflammation markers .\\n',\n",
              " 'METHODS\\tPain was assessed using the visual analog pain scale ( @-@ mm ) .\\n',\n",
              " 'METHODS\\tSecondary outcome measures included the Western Ontario and McMaster Universities Osteoarthritis Index scores , patient global assessment ( PGA ) of the severity of knee OA , and @-min walk distance ( @MWD ) .\\n',\n",
              " 'METHODS\\tSerum levels of interleukin @ ( IL-@ ) , IL-@ , tumor necrosis factor ( TNF ) - , and high-sensitivity C-reactive protein ( hsCRP ) were measured .\\n',\n",
              " 'RESULTS\\tThere was a clinically relevant reduction in the intervention group compared to the placebo group for knee pain , physical function , PGA , and @MWD at @ weeks .\\n',\n",
              " 'RESULTS\\tThe mean difference between treatment arms ( @ % CI ) was @ ( @-@ @ ) , p < @ ; @ ( @-@ @ ) , p < @ ; @ ( @-@ @ ) , p < @ ; and @ ( @-@ @ ) , p < @ , respectively .\\n',\n",
              " 'RESULTS\\tFurther , there was a clinically relevant reduction in the serum levels of IL-@ , IL-@ , TNF - , and hsCRP at @ weeks in the intervention group when compared to the placebo group .\\n',\n",
              " 'RESULTS\\tThese differences remained significant at @ weeks .\\n',\n",
              " 'RESULTS\\tThe Outcome Measures in Rheumatology Clinical Trials-Osteoarthritis Research Society International responder rate was @ % in the intervention group and @ % in the placebo group ( p < @ ) .\\n',\n",
              " 'CONCLUSIONS\\tLow-dose oral prednisolone had both a short-term and a longer sustained effect resulting in less knee pain , better physical function , and attenuation of systemic inflammation in older patients with knee OA ( ClinicalTrials.gov identifier NCT@ ) .\\n',\n",
              " '\\n',\n",
              " '###24854809\\n',\n",
              " 'BACKGROUND\\tEmotional eating is associated with overeating and the development of obesity .\\n',\n",
              " 'BACKGROUND\\tYet , empirical evidence for individual ( trait ) differences in emotional eating and cognitive mechanisms that contribute to eating during sad mood remain equivocal .\\n',\n",
              " 'OBJECTIVE\\tThe aim of this study was to test if attention bias for food moderates the effect of self-reported emotional eating during sad mood ( vs neutral mood ) on actual food intake .\\n',\n",
              " 'OBJECTIVE\\tIt was expected that emotional eating is predictive of elevated attention for food and higher food intake after an experimentally induced sad mood and that attentional maintenance on food predicts food intake during a sad versus a neutral mood .\\n',\n",
              " 'METHODS\\tParticipants ( N = @ ) were randomly assigned to one of the two experimental mood induction conditions ( sad/neutral ) .\\n']"
            ]
          },
          "metadata": {},
          "execution_count": 7
        }
      ]
    },
    {
      "cell_type": "markdown",
      "metadata": {
        "id": "j-IfwKVAbJAy"
      },
      "source": [
        "Việc đọc các dòng từ file text huấn luyện dẫn đến một list các string chứa các mẫu abstract khác nhau, các câu trong một mẫu cùng với vai trò của câu trong abstract.\n",
        "\n",
        "Vai trò của mỗi câu ở đầu mỗi dòng được phân tách bằng dấu tab (`\\t`) và mỗi câu kết thúc bằng một dòng mới (`\\n`).\n",
        "\n",
        "Các abstract khác nhau được phân tách bằng abstract ID (các dòng bắt đầu bằng`###`) và các dòng mới (`\\n`).\n",
        "\n",
        "Biết được điều này, có vẻ như chúng ta phải thực hiện một số bước để các mẫu sẵn sàng chuyển dữ liệu huấn luyện cho mô hình học máy tương lai.\n",
        "\n",
        "Hãy viết một hàm thực hiện các bước sau:\n",
        "* Lấy một file đích của các mẫu abstract.\n",
        "* Đọc các dòng trong file đích.\n",
        "* Với mỗi dòng trong file đích:\n",
        "  * Nếu dòng bắt đầu bằng `###` hãy đánh dấu nó là abstract ID và là phần mở đầu của một abstract mới.\n",
        "    * Tiếp tục đếm số dòng trong mẫu.\n",
        "  * Nếu dòng bắt đầu bằng `\\n`, hãy đánh dấu nó là phần cuối của mẫu abstract.\n",
        "    * Tiếp tục đếm tổng số dòng trong mẫu.\n",
        "  * Ghi lại text trước `\\t` làm nhãn của dòng.\n",
        "  * Ghi lại text sau `\\t` làm text của dòng.\n",
        "* Trả về tất cả các dòng trong file đích dưới dạng list các dictionary có chứa các cặp khóa/giá trị:\n",
        "  * `\"line_number\"` - vị trí của dòng trong abstract (ví dụ: `3`).\n",
        "  * `\"target\"` - vai trò của dòng trong abstract (ví dụ: `OBJECTIVE`).\n",
        "  * `\"text\"` - văn bản của dòng trong abstract.\n",
        "  * `\"total_lines\"` - tổng số dòng trong một mẫu abstract (ví dụ: `14`).\n",
        "* Nên loại các dòng mới và abstract ID khỏi dữ liệu tiền xử lý đã trả về.\n",
        "\n",
        "Ví dụ mẫu tiền xử lý đã trả về (một dòng từ abstract):\n",
        "\n",
        "```\n",
        "[{'line_number': 0,\n",
        "  'target': 'OBJECTIVE',\n",
        "  'text': 'to investigate the efficacy of @ weeks of daily low-dose oral prednisolone in improving pain , mobility , and systemic low-grade inflammation in the short term and whether the effect would be sustained at @ weeks in older adults with moderate to severe knee osteoarthritis ( oa ) .',\n",
        "  'total_lines': 11},\n",
        "  ...]\n",
        "```"
      ]
    },
    {
      "cell_type": "code",
      "metadata": {
        "id": "B65Ffn9abJKH"
      },
      "source": [
        "def preprocess_text_with_line_numbers(filename):\n",
        "  \"\"\"Returns a list of dictionaries of abstract line data. Trả về một list các dictionary của dữ liệu dòng abstract.\n",
        "\n",
        "  Sử dụng filename, đọc nội dung của nó và sắp xếp qua từng dòng,\n",
        "  trích xuất những thứ như nhãn mục tiêu, văn bản của câu,\n",
        "  số câu trong abstract hiện tại và dòng mục tiêu ở câu số mấy.\n",
        "\n",
        "  Đối số:\n",
        "      filename: một chuỗi của text file mục tiêu đề đọc và trích xuất dữ liệu dòng.\n",
        "\n",
        "  Trả về:\n",
        "      List các dictionary, mỗi dictionary chứa một dòng từ abstract,\n",
        "      nhãn dòng, vị trí dòng trong abstract và tổng số\n",
        "      dòng trong abstract. Ví dụ:\n",
        "\n",
        "      [{\"target\": 'CONCLUSION',\n",
        "        \"text\": The study couldn't have gone better, turns out people are kinder than you think\",\n",
        "        \"line_number\": 8,\n",
        "        \"total_lines\": 8}]\n",
        "  \"\"\"\n",
        "  input_lines = get_lines(filename) # lấy tất cả các dòng từ filename\n",
        "  abstract_lines = \"\" # tạo abstract rỗng\n",
        "  abstract_samples = [] # tạo một list rỗng, không có abstract\n",
        "\n",
        "  # Lặp qua từng dòng trong file đích\n",
        "  for line in input_lines:\n",
        "    if line.startswith(\"###\"): # kiểm tra xem dòng này có phải dòng ID không\n",
        "      abstract_id = line\n",
        "      abstract_lines = \"\" # cài đặt lại string abstract\n",
        "    elif line.isspace(): # kiểm tra xem dòng này có phải dòng mới không\n",
        "      abstract_line_split = abstract_lines.splitlines() # tách abstract thành các dòng riêng biệt\n",
        "\n",
        "      # Lặp qua từng dòng trong abstract và đếm chúng cùng một lúc\n",
        "      for abstract_line_number, abstract_line in enumerate(abstract_line_split):\n",
        "        line_data = {} # tạo dict rỗng để lưu trữ dữ liệu từ dòng\n",
        "        target_text_split = abstract_line.split(\"\\t\") # tách nhãn mục tiêu từ text\n",
        "        line_data[\"target\"] = target_text_split[0] # lấy nhãn mục tiêu\n",
        "        line_data[\"text\"] = target_text_split[1].lower() # lấy text mục tiêu và lower nó\n",
        "        line_data[\"line_number\"] = abstract_line_number # dòng số mấy xuất hiện trong abstract?\n",
        "        line_data[\"total_lines\"] = len(abstract_line_split) - 1 # có tổng cộng bao nhiêu dòng trong abstract (bắt đầu từ 0)\n",
        "        abstract_samples.append(line_data) # thêm dữ liệu dòng vào list các mẫu abstract\n",
        "\n",
        "    else: # nếu không đáp ứng các điều kiện trên, thì dòng sẽ chứa một câu được gắn nhãn\n",
        "      abstract_lines += line\n",
        "\n",
        "  return abstract_samples"
      ],
      "execution_count": null,
      "outputs": []
    },
    {
      "cell_type": "markdown",
      "metadata": {
        "id": "DwmUXHrigByo"
      },
      "source": [
        "Hàm đó trông khá ổn. Hãy sử dụng nó để tiền xử lý từng tập dữ liệu RCT 20k."
      ]
    },
    {
      "cell_type": "code",
      "metadata": {
        "id": "yDd28-PfgoUP",
        "colab": {
          "base_uri": "https://localhost:8080/"
        },
        "outputId": "9a1f574a-f050-41a7-83e4-6deb7f37c225"
      },
      "source": [
        "# Lấy dữ liệu từ file và tiền xử lý nó\n",
        "%%time\n",
        "train_samples = preprocess_text_with_line_numbers(data_dir + \"train.txt\")\n",
        "val_samples = preprocess_text_with_line_numbers(data_dir + \"dev.txt\") # dev là một tên gọi khác của validation set\n",
        "test_samples = preprocess_text_with_line_numbers(data_dir + \"test.txt\")\n",
        "len(train_samples), len(val_samples), len(test_samples)"
      ],
      "execution_count": null,
      "outputs": [
        {
          "output_type": "stream",
          "text": [
            "CPU times: user 450 ms, sys: 89.4 ms, total: 540 ms\n",
            "Wall time: 540 ms\n"
          ],
          "name": "stdout"
        }
      ]
    },
    {
      "cell_type": "markdown",
      "metadata": {
        "id": "vfFvPjTwgO7b"
      },
      "source": [
        "Các mẫu huấn luyện trông như thế nào?"
      ]
    },
    {
      "cell_type": "code",
      "metadata": {
        "id": "FcYkHrnnh0lf",
        "colab": {
          "base_uri": "https://localhost:8080/"
        },
        "outputId": "b86a45de-d1f7-4172-8c63-e892c679e827"
      },
      "source": [
        "# Kiểm tra abstract đầu tiên của dữ liệu huấn luyện\n",
        "train_samples[:14]"
      ],
      "execution_count": null,
      "outputs": [
        {
          "output_type": "execute_result",
          "data": {
            "text/plain": [
              "[{'line_number': 0,\n",
              "  'target': 'OBJECTIVE',\n",
              "  'text': 'to investigate the efficacy of @ weeks of daily low-dose oral prednisolone in improving pain , mobility , and systemic low-grade inflammation in the short term and whether the effect would be sustained at @ weeks in older adults with moderate to severe knee osteoarthritis ( oa ) .',\n",
              "  'total_lines': 11},\n",
              " {'line_number': 1,\n",
              "  'target': 'METHODS',\n",
              "  'text': 'a total of @ patients with primary knee oa were randomized @:@ ; @ received @ mg/day of prednisolone and @ received placebo for @ weeks .',\n",
              "  'total_lines': 11},\n",
              " {'line_number': 2,\n",
              "  'target': 'METHODS',\n",
              "  'text': 'outcome measures included pain reduction and improvement in function scores and systemic inflammation markers .',\n",
              "  'total_lines': 11},\n",
              " {'line_number': 3,\n",
              "  'target': 'METHODS',\n",
              "  'text': 'pain was assessed using the visual analog pain scale ( @-@ mm ) .',\n",
              "  'total_lines': 11},\n",
              " {'line_number': 4,\n",
              "  'target': 'METHODS',\n",
              "  'text': 'secondary outcome measures included the western ontario and mcmaster universities osteoarthritis index scores , patient global assessment ( pga ) of the severity of knee oa , and @-min walk distance ( @mwd ) .',\n",
              "  'total_lines': 11},\n",
              " {'line_number': 5,\n",
              "  'target': 'METHODS',\n",
              "  'text': 'serum levels of interleukin @ ( il-@ ) , il-@ , tumor necrosis factor ( tnf ) - , and high-sensitivity c-reactive protein ( hscrp ) were measured .',\n",
              "  'total_lines': 11},\n",
              " {'line_number': 6,\n",
              "  'target': 'RESULTS',\n",
              "  'text': 'there was a clinically relevant reduction in the intervention group compared to the placebo group for knee pain , physical function , pga , and @mwd at @ weeks .',\n",
              "  'total_lines': 11},\n",
              " {'line_number': 7,\n",
              "  'target': 'RESULTS',\n",
              "  'text': 'the mean difference between treatment arms ( @ % ci ) was @ ( @-@ @ ) , p < @ ; @ ( @-@ @ ) , p < @ ; @ ( @-@ @ ) , p < @ ; and @ ( @-@ @ ) , p < @ , respectively .',\n",
              "  'total_lines': 11},\n",
              " {'line_number': 8,\n",
              "  'target': 'RESULTS',\n",
              "  'text': 'further , there was a clinically relevant reduction in the serum levels of il-@ , il-@ , tnf - , and hscrp at @ weeks in the intervention group when compared to the placebo group .',\n",
              "  'total_lines': 11},\n",
              " {'line_number': 9,\n",
              "  'target': 'RESULTS',\n",
              "  'text': 'these differences remained significant at @ weeks .',\n",
              "  'total_lines': 11},\n",
              " {'line_number': 10,\n",
              "  'target': 'RESULTS',\n",
              "  'text': 'the outcome measures in rheumatology clinical trials-osteoarthritis research society international responder rate was @ % in the intervention group and @ % in the placebo group ( p < @ ) .',\n",
              "  'total_lines': 11},\n",
              " {'line_number': 11,\n",
              "  'target': 'CONCLUSIONS',\n",
              "  'text': 'low-dose oral prednisolone had both a short-term and a longer sustained effect resulting in less knee pain , better physical function , and attenuation of systemic inflammation in older patients with knee oa ( clinicaltrials.gov identifier nct@ ) .',\n",
              "  'total_lines': 11},\n",
              " {'line_number': 0,\n",
              "  'target': 'BACKGROUND',\n",
              "  'text': 'emotional eating is associated with overeating and the development of obesity .',\n",
              "  'total_lines': 10},\n",
              " {'line_number': 1,\n",
              "  'target': 'BACKGROUND',\n",
              "  'text': 'yet , empirical evidence for individual ( trait ) differences in emotional eating and cognitive mechanisms that contribute to eating during sad mood remain equivocal .',\n",
              "  'total_lines': 10}]"
            ]
          },
          "metadata": {},
          "execution_count": 10
        }
      ]
    },
    {
      "cell_type": "markdown",
      "metadata": {
        "id": "wzFwgxkQhzJS"
      },
      "source": [
        "Tuyệt vời! Có vẻ như hàm `preprocess_text_with_line_numbers()` hoạt động tốt.\n",
        "\n",
        "Chúng ta có nên biến list các dictionary thành pandas DataFrame để hiển thị chúng tốt hơn  không?"
      ]
    },
    {
      "cell_type": "code",
      "metadata": {
        "id": "RRSTUXuth9jJ",
        "colab": {
          "base_uri": "https://localhost:8080/",
          "height": 480
        },
        "outputId": "f23dff4e-7eb8-43fb-b374-b32984eeae1a"
      },
      "source": [
        "import pandas as pd\n",
        "train_df = pd.DataFrame(train_samples)\n",
        "val_df = pd.DataFrame(val_samples)\n",
        "test_df = pd.DataFrame(test_samples)\n",
        "train_df.head(14)"
      ],
      "execution_count": null,
      "outputs": [
        {
          "output_type": "execute_result",
          "data": {
            "text/html": [
              "<div>\n",
              "<style scoped>\n",
              "    .dataframe tbody tr th:only-of-type {\n",
              "        vertical-align: middle;\n",
              "    }\n",
              "\n",
              "    .dataframe tbody tr th {\n",
              "        vertical-align: top;\n",
              "    }\n",
              "\n",
              "    .dataframe thead th {\n",
              "        text-align: right;\n",
              "    }\n",
              "</style>\n",
              "<table border=\"1\" class=\"dataframe\">\n",
              "  <thead>\n",
              "    <tr style=\"text-align: right;\">\n",
              "      <th></th>\n",
              "      <th>target</th>\n",
              "      <th>text</th>\n",
              "      <th>line_number</th>\n",
              "      <th>total_lines</th>\n",
              "    </tr>\n",
              "  </thead>\n",
              "  <tbody>\n",
              "    <tr>\n",
              "      <th>0</th>\n",
              "      <td>OBJECTIVE</td>\n",
              "      <td>to investigate the efficacy of @ weeks of dail...</td>\n",
              "      <td>0</td>\n",
              "      <td>11</td>\n",
              "    </tr>\n",
              "    <tr>\n",
              "      <th>1</th>\n",
              "      <td>METHODS</td>\n",
              "      <td>a total of @ patients with primary knee oa wer...</td>\n",
              "      <td>1</td>\n",
              "      <td>11</td>\n",
              "    </tr>\n",
              "    <tr>\n",
              "      <th>2</th>\n",
              "      <td>METHODS</td>\n",
              "      <td>outcome measures included pain reduction and i...</td>\n",
              "      <td>2</td>\n",
              "      <td>11</td>\n",
              "    </tr>\n",
              "    <tr>\n",
              "      <th>3</th>\n",
              "      <td>METHODS</td>\n",
              "      <td>pain was assessed using the visual analog pain...</td>\n",
              "      <td>3</td>\n",
              "      <td>11</td>\n",
              "    </tr>\n",
              "    <tr>\n",
              "      <th>4</th>\n",
              "      <td>METHODS</td>\n",
              "      <td>secondary outcome measures included the wester...</td>\n",
              "      <td>4</td>\n",
              "      <td>11</td>\n",
              "    </tr>\n",
              "    <tr>\n",
              "      <th>5</th>\n",
              "      <td>METHODS</td>\n",
              "      <td>serum levels of interleukin @ ( il-@ ) , il-@ ...</td>\n",
              "      <td>5</td>\n",
              "      <td>11</td>\n",
              "    </tr>\n",
              "    <tr>\n",
              "      <th>6</th>\n",
              "      <td>RESULTS</td>\n",
              "      <td>there was a clinically relevant reduction in t...</td>\n",
              "      <td>6</td>\n",
              "      <td>11</td>\n",
              "    </tr>\n",
              "    <tr>\n",
              "      <th>7</th>\n",
              "      <td>RESULTS</td>\n",
              "      <td>the mean difference between treatment arms ( @...</td>\n",
              "      <td>7</td>\n",
              "      <td>11</td>\n",
              "    </tr>\n",
              "    <tr>\n",
              "      <th>8</th>\n",
              "      <td>RESULTS</td>\n",
              "      <td>further , there was a clinically relevant redu...</td>\n",
              "      <td>8</td>\n",
              "      <td>11</td>\n",
              "    </tr>\n",
              "    <tr>\n",
              "      <th>9</th>\n",
              "      <td>RESULTS</td>\n",
              "      <td>these differences remained significant at @ we...</td>\n",
              "      <td>9</td>\n",
              "      <td>11</td>\n",
              "    </tr>\n",
              "    <tr>\n",
              "      <th>10</th>\n",
              "      <td>RESULTS</td>\n",
              "      <td>the outcome measures in rheumatology clinical ...</td>\n",
              "      <td>10</td>\n",
              "      <td>11</td>\n",
              "    </tr>\n",
              "    <tr>\n",
              "      <th>11</th>\n",
              "      <td>CONCLUSIONS</td>\n",
              "      <td>low-dose oral prednisolone had both a short-te...</td>\n",
              "      <td>11</td>\n",
              "      <td>11</td>\n",
              "    </tr>\n",
              "    <tr>\n",
              "      <th>12</th>\n",
              "      <td>BACKGROUND</td>\n",
              "      <td>emotional eating is associated with overeating...</td>\n",
              "      <td>0</td>\n",
              "      <td>10</td>\n",
              "    </tr>\n",
              "    <tr>\n",
              "      <th>13</th>\n",
              "      <td>BACKGROUND</td>\n",
              "      <td>yet , empirical evidence for individual ( trai...</td>\n",
              "      <td>1</td>\n",
              "      <td>10</td>\n",
              "    </tr>\n",
              "  </tbody>\n",
              "</table>\n",
              "</div>"
            ],
            "text/plain": [
              "         target  ... total_lines\n",
              "0     OBJECTIVE  ...          11\n",
              "1       METHODS  ...          11\n",
              "2       METHODS  ...          11\n",
              "3       METHODS  ...          11\n",
              "4       METHODS  ...          11\n",
              "5       METHODS  ...          11\n",
              "6       RESULTS  ...          11\n",
              "7       RESULTS  ...          11\n",
              "8       RESULTS  ...          11\n",
              "9       RESULTS  ...          11\n",
              "10      RESULTS  ...          11\n",
              "11  CONCLUSIONS  ...          11\n",
              "12   BACKGROUND  ...          10\n",
              "13   BACKGROUND  ...          10\n",
              "\n",
              "[14 rows x 4 columns]"
            ]
          },
          "metadata": {},
          "execution_count": 11
        }
      ]
    },
    {
      "cell_type": "markdown",
      "metadata": {
        "id": "BaVFf-qQg8xA"
      },
      "source": [
        "Bây giờ dữ liệu của chúng ta đã ở dạng DataFrame, hãy thực hiện một số phân tích dữ liệu trên đó."
      ]
    },
    {
      "cell_type": "code",
      "metadata": {
        "id": "rnQIDiJPg231",
        "colab": {
          "base_uri": "https://localhost:8080/"
        },
        "outputId": "c89c50e3-596e-4b87-a291-3d918959ab6e"
      },
      "source": [
        "# Phân phối của các nhãn trong dữ liệu huấn luyện\n",
        "train_df.target.value_counts()"
      ],
      "execution_count": null,
      "outputs": [
        {
          "output_type": "execute_result",
          "data": {
            "text/plain": [
              "METHODS        59353\n",
              "RESULTS        57953\n",
              "CONCLUSIONS    27168\n",
              "BACKGROUND     21727\n",
              "OBJECTIVE      13839\n",
              "Name: target, dtype: int64"
            ]
          },
          "metadata": {},
          "execution_count": 12
        }
      ]
    },
    {
      "cell_type": "markdown",
      "metadata": {
        "id": "HoZbOMqUhL2l"
      },
      "source": [
        "Có vẻ như những câu có nhãn `OBJECTIVE` ít phổ biến nhất.\n",
        "Sao chúng ta không kiểm tra phân bố của độ dài abstract?"
      ]
    },
    {
      "cell_type": "code",
      "metadata": {
        "id": "tkCRIBWbhUmD",
        "colab": {
          "base_uri": "https://localhost:8080/",
          "height": 267
        },
        "outputId": "df00a85f-94a7-453b-e1c7-678599b1449f"
      },
      "source": [
        "train_df.total_lines.plot.hist();"
      ],
      "execution_count": null,
      "outputs": [
        {
          "output_type": "display_data",
          "data": {
            "image/png": "[encoded data removed]",
            "text/plain": [
              "<Figure size 432x288 with 1 Axes>"
            ]
          },
          "metadata": {
            "needs_background": "light"
          }
        }
      ]
    },
    {
      "cell_type": "markdown",
      "metadata": {
        "id": "qt2kPnlNhy0L"
      },
      "source": [
        "Dường như hầu hết các abstract dài khoảng 7 đến 15 câu.\n",
        "\n",
        "Chúng ta nên kiểm tra những điều này để đảm bảo rằng khi chúng ta huấn luyện hoặc kiểm tra một mô hình trên các mẫu chưa biết, kết quả sẽ không kỳ lạ."
      ]
    },
    {
      "cell_type": "markdown",
      "metadata": {
        "id": "Eqps0Jw0wcQo"
      },
      "source": [
        "### Lấy danh sách các câu\n",
        "\n",
        "Khi xây dựng mô hình học sâu, một trong những đầu vào chính của mô hình sẽ là list các string (các dòng của abstract).\n",
        "\n",
        "Chúng ta có thể dễ dàng lấy những thứ này từ DataFrames của mình bằng cách gọi phương thức `tolist()` trên các cột `\"text\"`."
      ]
    },
    {
      "cell_type": "code",
      "metadata": {
        "id": "ybvBrdPKwmDR",
        "colab": {
          "base_uri": "https://localhost:8080/"
        },
        "outputId": "cdc484a0-774a-49ae-9560-144205ecc3ec"
      },
      "source": [
        "# Chuyển đổi các dòng văn bản abstract thành các list\n",
        "train_sentences = train_df[\"text\"].tolist()\n",
        "val_sentences = val_df[\"text\"].tolist()\n",
        "test_sentences = test_df[\"text\"].tolist()\n",
        "len(train_sentences), len(val_sentences), len(test_sentences)"
      ],
      "execution_count": null,
      "outputs": [
        {
          "output_type": "execute_result",
          "data": {
            "text/plain": [
              "(180040, 30212, 30135)"
            ]
          },
          "metadata": {},
          "execution_count": 14
        }
      ]
    },
    {
      "cell_type": "code",
      "metadata": {
        "id": "M-OPWZPei46_",
        "colab": {
          "base_uri": "https://localhost:8080/"
        },
        "outputId": "8f8c167c-bb1b-4c96-8145-897a78fc6d89"
      },
      "source": [
        "# Xem 10 dòng đầu tiên của câu huấn luyện\n",
        "train_sentences[:10]"
      ],
      "execution_count": null,
      "outputs": [
        {
          "output_type": "execute_result",
          "data": {
            "text/plain": [
              "['to investigate the efficacy of @ weeks of daily low-dose oral prednisolone in improving pain , mobility , and systemic low-grade inflammation in the short term and whether the effect would be sustained at @ weeks in older adults with moderate to severe knee osteoarthritis ( oa ) .',\n",
              " 'a total of @ patients with primary knee oa were randomized @:@ ; @ received @ mg/day of prednisolone and @ received placebo for @ weeks .',\n",
              " 'outcome measures included pain reduction and improvement in function scores and systemic inflammation markers .',\n",
              " 'pain was assessed using the visual analog pain scale ( @-@ mm ) .',\n",
              " 'secondary outcome measures included the western ontario and mcmaster universities osteoarthritis index scores , patient global assessment ( pga ) of the severity of knee oa , and @-min walk distance ( @mwd ) .',\n",
              " 'serum levels of interleukin @ ( il-@ ) , il-@ , tumor necrosis factor ( tnf ) - , and high-sensitivity c-reactive protein ( hscrp ) were measured .',\n",
              " 'there was a clinically relevant reduction in the intervention group compared to the placebo group for knee pain , physical function , pga , and @mwd at @ weeks .',\n",
              " 'the mean difference between treatment arms ( @ % ci ) was @ ( @-@ @ ) , p < @ ; @ ( @-@ @ ) , p < @ ; @ ( @-@ @ ) , p < @ ; and @ ( @-@ @ ) , p < @ , respectively .',\n",
              " 'further , there was a clinically relevant reduction in the serum levels of il-@ , il-@ , tnf - , and hscrp at @ weeks in the intervention group when compared to the placebo group .',\n",
              " 'these differences remained significant at @ weeks .']"
            ]
          },
          "metadata": {},
          "execution_count": 15
        }
      ]
    },
    {
      "cell_type": "markdown",
      "metadata": {
        "id": "r36Ldgy2jDR6"
      },
      "source": [
        "Chúng ta đã tách các mẫu văn bản của mình. Như bạn có thể đã đoán, chúng ta cần viết code để chuyển text thành số trước khi chúng ta có thể sử dụng nó cho các mô hình học máy, chúng ta sẽ sớm thực hiện điều này."
      ]
    },
    {
      "cell_type": "markdown",
      "metadata": {
        "id": "rk1tXXANaxhK"
      },
      "source": [
        "## Tạo nhãn dạng số (mô hình học máy cần các nhãn dạng số)\n",
        "\n",
        "Chúng ta sẽ tạo nhãn one hot và nhãn label encoded.\n",
        "\n",
        "Chúng ta có thể tránh được việc chỉ tạo các nhãn label encoded tuy nhiên, hàm mất mát CategoricalCrossentropy của TensorFlow thích có một nhãn được mã hóa one hot (điều này sẽ cho phép chúng ta làm mịn nhãn sau này).\n",
        "\n",
        "Để mã hóa nhãn bằng số, chúng ta sẽ sử dụng các lớp [`OneHotEncoder`](https://scikit-learn.org/stable/modules/generated/sklearn.preprocessing.OneHotEncoder.html) và [`LabelEncoder`](http://scikit-learn.org/stable/modules/generated/sklearn.preprocessing.LabelEncoder.html) của Scikit-Learn."
      ]
    },
    {
      "cell_type": "code",
      "metadata": {
        "colab": {
          "base_uri": "https://localhost:8080/"
        },
        "id": "riWJb105awwn",
        "outputId": "33b1d264-4ef1-441b-f6f3-4a6013a751dd"
      },
      "source": [
        "# Nhãn One hot encode\n",
        "from sklearn.preprocessing import OneHotEncoder\n",
        "one_hot_encoder = OneHotEncoder(sparse=False)\n",
        "train_labels_one_hot = one_hot_encoder.fit_transform(train_df[\"target\"].to_numpy().reshape(-1, 1))\n",
        "val_labels_one_hot = one_hot_encoder.transform(val_df[\"target\"].to_numpy().reshape(-1, 1))\n",
        "test_labels_one_hot = one_hot_encoder.transform(test_df[\"target\"].to_numpy().reshape(-1, 1))\n",
        "\n",
        "# Kiểm tra xem các nhãn huấn luyện trông như thế nào\n",
        "train_labels_one_hot"
      ],
      "execution_count": null,
      "outputs": [
        {
          "output_type": "execute_result",
          "data": {
            "text/plain": [
              "array([[0., 0., 0., 1., 0.],\n",
              "       [0., 0., 1., 0., 0.],\n",
              "       [0., 0., 1., 0., 0.],\n",
              "       ...,\n",
              "       [0., 0., 0., 0., 1.],\n",
              "       [0., 1., 0., 0., 0.],\n",
              "       [0., 1., 0., 0., 0.]])"
            ]
          },
          "metadata": {},
          "execution_count": 16
        }
      ]
    },
    {
      "cell_type": "markdown",
      "metadata": {
        "id": "bG-iZttkkCjL"
      },
      "source": [
        "### Label encode labels"
      ]
    },
    {
      "cell_type": "code",
      "metadata": {
        "id": "IG8LmKhAozc_",
        "colab": {
          "base_uri": "https://localhost:8080/"
        },
        "outputId": "f8e95d24-6e01-4ded-9048-1b6fe5012428"
      },
      "source": [
        "# Trích xuất nhãn (cột \"target\") và mã hóa chúng thành số nguyên\n",
        "from sklearn.preprocessing import LabelEncoder\n",
        "label_encoder = LabelEncoder()\n",
        "train_labels_encoded = label_encoder.fit_transform(train_df[\"target\"].to_numpy())\n",
        "val_labels_encoded = label_encoder.transform(val_df[\"target\"].to_numpy())\n",
        "test_labels_encoded = label_encoder.transform(test_df[\"target\"].to_numpy())\n",
        "\n",
        "# Kiểm tra xem nhãn huấn luyện trông như thế nào\n",
        "train_labels_encoded"
      ],
      "execution_count": null,
      "outputs": [
        {
          "output_type": "execute_result",
          "data": {
            "text/plain": [
              "array([3, 2, 2, ..., 4, 1, 1])"
            ]
          },
          "metadata": {},
          "execution_count": 17
        }
      ]
    },
    {
      "cell_type": "markdown",
      "metadata": {
        "id": "rd-uax-AkExg"
      },
      "source": [
        "Chúng ta đã huấn luyện một instance của `LabelEncoder`, chúng ta có thể lấy tên lớp và số lớp bằng cách sử dụng thuộc tính `classes_`."
      ]
    },
    {
      "cell_type": "code",
      "metadata": {
        "id": "KeQ1OQ9glVaz",
        "colab": {
          "base_uri": "https://localhost:8080/"
        },
        "outputId": "1560a171-6d14-4630-a9f1-89263b0f0e73"
      },
      "source": [
        "# Lấy tên lớp và số lớp từ instance LabelEncoder\n",
        "num_classes = len(label_encoder.classes_)\n",
        "class_names = label_encoder.classes_\n",
        "num_classes, class_names"
      ],
      "execution_count": null,
      "outputs": [
        {
          "output_type": "execute_result",
          "data": {
            "text/plain": [
              "(5, array(['BACKGROUND', 'CONCLUSIONS', 'METHODS', 'OBJECTIVE', 'RESULTS'],\n",
              "       dtype=object))"
            ]
          },
          "metadata": {},
          "execution_count": 18
        }
      ]
    },
    {
      "cell_type": "markdown",
      "metadata": {
        "id": "gSGeXjbmlJar"
      },
      "source": [
        "## Tạo một loạt các thử nghiệm lập mô hình\n",
        "\n",
        "Chúng ta đã xử lý dữ liệu nên bây giờ, theo quy trình máy học, cần thiết lập một loạt các thử nghiệm lập mô hình.\n",
        "\n",
        "Hãy bắt đầu bằng cách tạo một mô hình cơ sở đơn giản để đạt được hệ số mà chúng ta sẽ cố gắng đánh bại thông qua việc xây dựng các mô hình ngày càng phức tạp hơn khi chúng ta tiến tới tái tạo mô hình chuỗi được nêu trong [*Neural networks for joint sentence\n",
        "classification in medical paper abstracts*](https://arxiv.org/pdf/1612.05251.pdf).\n",
        "\n",
        "Chúng ta sẽ huấn luyện từng mô hình trên dữ liệu huấn luyện và đánh giá chúng trên dữ liệu kiểm định."
      ]
    },
    {
      "cell_type": "markdown",
      "metadata": {
        "id": "dJD7X7atahFC"
      },
      "source": [
        "## Model 0: Tạo mô hình cơ sở\n",
        "\n",
        "Mô hình đầu tiên của chúng ta sẽ là TF-IDF Multinomial Naive Bayes, theo gợi ý từ [machine learning map của Scikit-Learn](https://scikit-learn.org/stable/tutorial/machine_learning_map/index.html).\n",
        "\n",
        "Để xây dựng, chúng ta sẽ tạo `Pipeline` của Scikit-Learn, sử dụng lớp [`TfidfVectorizer`](https://scikit-learn.org/stable/modules/generated/sklearn.feature_extraction.text.TfidfVectorizer.html) để chuyển đổi các câu abstract thành số bằng cách sử dụng thuật toán TF-IDF, sau đó tìm hiểu cách phân loại các câu bằng cách sử dụng thuật toán [`MultinomialNB`](https://scikit-learn.org/stable/modules/generated/sklearn.naive_bayes.MultinomialNB.html)."
      ]
    },
    {
      "cell_type": "code",
      "metadata": {
        "id": "Km5hWlVymnxv"
      },
      "source": [
        "from sklearn.feature_extraction.text import TfidfVectorizer\n",
        "from sklearn.naive_bayes import MultinomialNB\n",
        "from sklearn.pipeline import Pipeline\n",
        "\n",
        "# Tạo pipeline\n",
        "model_0 = Pipeline([\n",
        "  (\"tf-idf\", TfidfVectorizer()),\n",
        "  (\"clf\", MultinomialNB())\n",
        "])\n",
        "\n",
        "# Khớp pipeline với dữ liệu huấn luyện\n",
        "model_0.fit(X=train_sentences,\n",
        "            y=train_labels_encoded);"
      ],
      "execution_count": null,
      "outputs": []
    },
    {
      "cell_type": "markdown",
      "metadata": {
        "id": "GGUtAzKem-dO"
      },
      "source": [
        "Do tốc độ của thuật toán Multinomial Naive Bayes, nên nó huấn luyện rất nhanh.\n",
        "\n",
        "Chúng ta có thể đánh giá độ chính xác của mô hình trên tập dữ liệu kiểm định bằng phương pháp `score()`."
      ]
    },
    {
      "cell_type": "code",
      "metadata": {
        "id": "kq7BAPCmn1bM",
        "colab": {
          "base_uri": "https://localhost:8080/"
        },
        "outputId": "ea36bce3-e906-46f3-ca96-6cee22ae358a"
      },
      "source": [
        "# Đánh giá mô hình cơ sở trên tập dữ liệu kiểm định\n",
        "model_0.score(X=val_sentences,\n",
        "              y=val_labels_encoded)"
      ],
      "execution_count": null,
      "outputs": [
        {
          "output_type": "execute_result",
          "data": {
            "text/plain": [
              "0.7218323844829869"
            ]
          },
          "metadata": {},
          "execution_count": 20
        }
      ]
    },
    {
      "cell_type": "markdown",
      "metadata": {
        "id": "Mp0aq6XpnPCG"
      },
      "source": [
        "Có vẻ như độ chính xác 72.1% sẽ đánh bại với các mô hình sâu hơn của chúng ta.\n",
        "\n",
        "Bây giờ, chúng ta hãy đưa ra một số dự đoán với mô hình cơ sở để đánh giá thêm về nó."
      ]
    },
    {
      "cell_type": "code",
      "metadata": {
        "id": "vuGl9z2NjAl8",
        "colab": {
          "base_uri": "https://localhost:8080/"
        },
        "outputId": "cafb9c0a-5202-4b6c-bb17-5d86b4fc7c4a"
      },
      "source": [
        "# Đưa ra dự đoán\n",
        "baseline_preds = model_0.predict(val_sentences)\n",
        "baseline_preds"
      ],
      "execution_count": null,
      "outputs": [
        {
          "output_type": "execute_result",
          "data": {
            "text/plain": [
              "array([4, 1, 3, ..., 4, 4, 1])"
            ]
          },
          "metadata": {},
          "execution_count": 21
        }
      ]
    },
    {
      "cell_type": "markdown",
      "metadata": {
        "id": "jh2K8p3sndlG"
      },
      "source": [
        "Để đánh giá các dự đoán của mô hình cơ sở, chúng ta sẽ import hàm `calculate_results()` mà chúng ta đã tạo trong [notebook trước](https://github.com/mrdbourke/tensorflow-deep-learning/blob/main/08_introduction_to_nlp_in_tensorflow.ipynb) và thêm nó vào [script `helper_functions.py`](https://github.com/mrdbourke/tensorflow-deep-learning/blob/main/extras/helper_functions.py) để so sánh chúng với các nhãn gốc.\n",
        "\n",
        "Cụ thể hơn, hàm `calculate_results()` sẽ giúp chúng ta có được:\n",
        "* Accuracy\n",
        "* Precision\n",
        "* Recall\n",
        "* F1-score"
      ]
    },
    {
      "cell_type": "markdown",
      "metadata": {
        "id": "V5GaqHjtHWUM"
      },
      "source": [
        "### Download tập lệnh hàm hỗ trợ\n",
        "\n",
        "Hãy lấy script `helper_functions.py` đã dùng để lưu trữ các hàm hỗ trợ mà chúng ta đã tạo trong các notebook trước đây."
      ]
    },
    {
      "cell_type": "code",
      "metadata": {
        "colab": {
          "base_uri": "https://localhost:8080/"
        },
        "id": "a6y-nK2tGwOL",
        "outputId": "c3dbccf5-0234-4f7f-8c64-20f509c70b1d"
      },
      "source": [
        "# Download tập lệnh hàm hỗ trợ\n",
        "!wget https://raw.githubusercontent.com/mrdbourke/tensorflow-deep-learning/main/extras/helper_functions.py"
      ],
      "execution_count": null,
      "outputs": [
        {
          "output_type": "stream",
          "text": [
            "--2021-08-24 23:56:53--  https://raw.githubusercontent.com/mrdbourke/tensorflow-deep-learning/main/extras/helper_functions.py\n",
            "Resolving raw.githubusercontent.com (raw.githubusercontent.com)... 185.199.110.133, 185.199.111.133, 185.199.108.133, ...\n",
            "Connecting to raw.githubusercontent.com (raw.githubusercontent.com)|185.199.110.133|:443... connected.\n",
            "HTTP request sent, awaiting response... 200 OK\n",
            "Length: 10246 (10K) [text/plain]\n",
            "Saving to: ‘helper_functions.py’\n",
            "\n",
            "\rhelper_functions.py   0%[                    ]       0  --.-KB/s               \rhelper_functions.py 100%[===================>]  10.01K  --.-KB/s    in 0s      \n",
            "\n",
            "2021-08-24 23:56:53 (89.8 MB/s) - ‘helper_functions.py’ saved [10246/10246]\n",
            "\n"
          ],
          "name": "stdout"
        }
      ]
    },
    {
      "cell_type": "markdown",
      "metadata": {
        "id": "nmXBYc5SHitH"
      },
      "source": [
        "Chúng ta đã có tập lệnh các hàm trợ giúp, hãy import hàm `caculate_results()` và xem mô hình cơ sở của chúng ta hoạt động như thế nào."
      ]
    },
    {
      "cell_type": "code",
      "metadata": {
        "id": "P44NMOt1GzZL"
      },
      "source": [
        "# Import hàm hỗ trợ calculate_results\n",
        "from helper_functions import calculate_results"
      ],
      "execution_count": null,
      "outputs": []
    },
    {
      "cell_type": "code",
      "metadata": {
        "id": "9WN_TLx2jv7T",
        "colab": {
          "base_uri": "https://localhost:8080/"
        },
        "outputId": "fff443d3-c04f-47ba-a472-5752f47fac67"
      },
      "source": [
        "# Tạo baseline results\n",
        "baseline_results = calculate_results(y_true=val_labels_encoded,\n",
        "                                     y_pred=baseline_preds)\n",
        "baseline_results"
      ],
      "execution_count": null,
      "outputs": [
        {
          "output_type": "execute_result",
          "data": {
            "text/plain": [
              "{'accuracy': 72.1832384482987,\n",
              " 'f1': 0.6989250353450294,\n",
              " 'precision': 0.7186466952323352,\n",
              " 'recall': 0.7218323844829869}"
            ]
          },
          "metadata": {},
          "execution_count": 24
        }
      ]
    },
    {
      "cell_type": "markdown",
      "metadata": {
        "id": "MADIlN1QaiTW"
      },
      "source": [
        "## Chuẩn bị dữ liệu cho các mô hình chuỗi sâu\n",
        "\n",
        "Tuyệt! Chúng ta có một mô hình cơ sở hoạt động để cố gắng cải thiện.\n",
        "\n",
        "Nhưng trước khi bắt đầu xây dựng các mô hình sâu hơn, chúng ta cần tạo layer vectơ hóa và embedding layer.\n",
        "\n",
        "Layer vectơ hóa sẽ chuyển đổi văn bản thành số và embedding layer sẽ nắm bắt mối quan hệ giữa các con số đó.\n",
        "\n",
        "To start creating our vectorization and embedding layers, we'll need to import the appropriate libraries (namely TensorFlow and NumPy). Để bắt đầu tạo vectơ hóa và nhúng các lớp của chúng ta, chúng ta sẽ cần nhập các thư viện thích hợp (cụ thể là TensorFlow và NumPy)."
      ]
    },
    {
      "cell_type": "code",
      "metadata": {
        "id": "vCR0F7Rhptcp"
      },
      "source": [
        "import numpy as np\n",
        "import tensorflow as tf\n",
        "from tensorflow.keras import layers"
      ],
      "execution_count": null,
      "outputs": []
    },
    {
      "cell_type": "markdown",
      "metadata": {
        "id": "JTEPCjOuUNdj"
      },
      "source": [
        "Chúng ta sẽ chuyển các câu của mình thành số, nên hãy tính xem có bao nhiêu từ trong mỗi câu.\n",
        "\n",
        "Khi mô hình đi qua các câu, nó hoạt động tốt nhất khi chúng có cùng độ dài (điều này rất quan trọng để tạo ra các batch có tensor cùng kích thước).\n",
        "\n",
        "Ví dụ: nếu một câu dài tám từ và một câu khác dài 29 từ, chúng ta cần đệm câu tám từ bằng các số 0 để nó có cùng độ dài với câu 29 từ.\n",
        "\n",
        "Hãy viết một ít code để tìm độ dài trung bình của các câu trong tập huấn luyện."
      ]
    },
    {
      "cell_type": "code",
      "metadata": {
        "id": "1Y-V_9-KrH7y",
        "colab": {
          "base_uri": "https://localhost:8080/"
        },
        "outputId": "bbc21452-0f02-48d2-b3f2-944d342e938d"
      },
      "source": [
        "# Trung bình mỗi câu dài bao nhiêu?\n",
        "sent_lens = [len(sentence.split()) for sentence in train_sentences]\n",
        "avg_sent_len = np.mean(sent_lens)\n",
        "avg_sent_len # trả về độ dài trung bình của câu (tính bằng token)"
      ],
      "execution_count": null,
      "outputs": [
        {
          "output_type": "execute_result",
          "data": {
            "text/plain": [
              "26.338269273494777"
            ]
          },
          "metadata": {},
          "execution_count": 26
        }
      ]
    },
    {
      "cell_type": "markdown",
      "metadata": {
        "id": "oToFcpVTU6fU"
      },
      "source": [
        "Vậy còn phân phối của độ dài câu?"
      ]
    },
    {
      "cell_type": "code",
      "metadata": {
        "id": "Y9S27ACkroai",
        "colab": {
          "base_uri": "https://localhost:8080/",
          "height": 265
        },
        "outputId": "dd67efe0-18eb-413f-fccf-ebf83d7701d5"
      },
      "source": [
        "# Phân phối trông như thế nào?\n",
        "import matplotlib.pyplot as plt\n",
        "plt.hist(sent_lens, bins=7);"
      ],
      "execution_count": null,
      "outputs": [
        {
          "output_type": "display_data",
          "data": {
            "image/png": "[encoded data removed]",
            "text/plain": [
              "<Figure size 432x288 with 1 Axes>"
            ]
          },
          "metadata": {
            "needs_background": "light"
          }
        }
      ]
    },
    {
      "cell_type": "markdown",
      "metadata": {
        "id": "BH7_Yaz1U9yJ"
      },
      "source": [
        "Có vẻ như phần lớn các câu có độ dài từ 0 đến 50 token.\n",
        "\n",
        "Chúng ta có thể sử dụng [`percentile`](https://numpy.org/doc/stable/reference/generated/numpy.percentile.html) của NumPy để tìm giá trị chiếm 95% độ dài câu."
      ]
    },
    {
      "cell_type": "code",
      "metadata": {
        "id": "4e5nUagxr4r5",
        "colab": {
          "base_uri": "https://localhost:8080/"
        },
        "outputId": "a989552c-41f7-4dcb-a130-0f684750ad0d"
      },
      "source": [
        "# Độ dài của câu chiếm 95% độ dài là bao nhiêu?\n",
        "output_seq_len = int(np.percentile(sent_lens, 95))\n",
        "output_seq_len"
      ],
      "execution_count": null,
      "outputs": [
        {
          "output_type": "execute_result",
          "data": {
            "text/plain": [
              "55"
            ]
          },
          "metadata": {},
          "execution_count": 28
        }
      ]
    },
    {
      "cell_type": "markdown",
      "metadata": {
        "id": "Nhre7MPBVfK2"
      },
      "source": [
        "Tuyệt vời! Có vẻ như 95% các câu trong tập huấn luyện của chúng ta có độ dài từ 55 token trở xuống.\n",
        "\n",
        "Khi tạo tokenization layer, chúng ta sẽ sử dụng giá trị này để tất cả các câu có cùng một độ dài, tức là các câu có độ dài dưới 55 sẽ được đệm 0 và các câu có độ dài trên 55 bị cắt bớt (các từ sau độ dài thứ 55 bị cắt bỏ).\n",
        "\n",
        "> 🤔 **Câu hỏi:** Tại sao lại là 95%?\n",
        "\n",
        "Chúng ta có thể sử dụng độ dài câu tối đa của các câu trong tập huấn luyện."
      ]
    },
    {
      "cell_type": "code",
      "metadata": {
        "id": "oEZbyvh1WCBw",
        "colab": {
          "base_uri": "https://localhost:8080/"
        },
        "outputId": "cf0a563b-3595-4e59-c35e-36a584841872"
      },
      "source": [
        "# Độ dài câu tối đa trong tập huấn luyện\n",
        "max(sent_lens)"
      ],
      "execution_count": null,
      "outputs": [
        {
          "output_type": "execute_result",
          "data": {
            "text/plain": [
              "296"
            ]
          },
          "metadata": {},
          "execution_count": 29
        }
      ]
    },
    {
      "cell_type": "markdown",
      "metadata": {
        "id": "tIWIlFV4WF8R"
      },
      "source": [
        "Tuy nhiên, vì hầu như không có bất kỳ câu nào dài gần với độ dài tối đa, nghĩa là phần lớn dữ liệu chúng ta chuyển đến mô hình của mình sẽ là số 0 (tất cả các câu dưới độ dài tối đa sẽ được đệm bằng số 0).\n",
        "\n",
        "> 🔑 **Lưu ý:** Chúng ta cần trải qua các bước thực hành khi làm việc với kho ngữ liệu văn bản trong bài toán NLP. Để biết các mẫu của mình dài bao nhiêu và chúng phân bố thế nào, hãy xem phần 4 - Phân tích dữ liệu của [tài liệu PubMed 200k RCT](https://arxiv.org/pdf/1710.06071.pdf) để biết thêm chi tiết."
      ]
    },
    {
      "cell_type": "markdown",
      "metadata": {
        "id": "uvhbRw7-uMwH"
      },
      "source": [
        "### Tạo text vectorizer\n",
        "\n",
        "Bây giờ chúng ta đã có thêm một ít thông tin về văn bản, hãy tìm cách biến nó thành số.\n",
        "\n",
        "Để thực hiện, chúng ta sẽ sử dụng layer [`TextVectorization`](https://www.tensorflow.org/api_docs/python/tf/keras/layers/experimental/preprocessing/TextVectorization) từ TensorFlow.\n",
        "\n",
        "Chúng ta sẽ giữ tất cả các tham số mặc định, ngoại trừ `max_tokens` (số từ duy nhất trong tập dữ liệu) và `output_sequence_length` (độ dài đầu ra mong muốn cho mỗi câu được vectơ hóa).\n",
        "\n",
        "Phần 3.2 của [tài liệu PubMed 200k RCT](https://arxiv.org/pdf/1710.06071.pdf) cho biết kích thước từ vựng của tập dữ liệu PubMed 20k là 68,000. Do đó, chúng ta sẽ sử dụng nó làm tham số `max_tokens`."
      ]
    },
    {
      "cell_type": "code",
      "metadata": {
        "id": "xniPYW60uzby"
      },
      "source": [
        "# Có bao nhiêu từ trong từ vựng? (lấy từ phần 3.2 trong https://arxiv.org/pdf/1710.06071.pdf)\n",
        "max_tokens = 68000"
      ],
      "execution_count": null,
      "outputs": []
    },
    {
      "cell_type": "markdown",
      "metadata": {
        "id": "tu25jIo-YSuW"
      },
      "source": [
        "Do đã phát hiện ra độ dài câu là 55 chiếm 95% các câu huấn luyện, nên chúng ta sẽ sử dụng nó làm tham số `output_sequence_length`."
      ]
    },
    {
      "cell_type": "code",
      "metadata": {
        "id": "gtfQ27MNpy-v"
      },
      "source": [
        "# Tạo text vectorizer\n",
        "from tensorflow.keras.layers.experimental.preprocessing import TextVectorization\n",
        "\n",
        "text_vectorizer = TextVectorization(max_tokens=max_tokens, # số từ trong vocabulary\n",
        "                                    output_sequence_length=55) # độ dài đầu ra mong muốn của chuỗi được vectơ hóa"
      ],
      "execution_count": null,
      "outputs": []
    },
    {
      "cell_type": "markdown",
      "metadata": {
        "id": "y_Y7U8SdY0bO"
      },
      "source": [
        "Tuyệt! Có vẻ như `text_vectorizer` đã sẵn sàng, hãy điều chỉnh nó sao cho phù hợp với dữ liệu huấn luyện (để nó đọc dữ liệu huấn luyện và tìm ra số nào biểu diễn từ nào) rồi kiểm tra."
      ]
    },
    {
      "cell_type": "code",
      "metadata": {
        "id": "AbJtmyd1sWW8"
      },
      "source": [
        "# Điều chỉnh text vectorizer thành các câu huấn luyện\n",
        "text_vectorizer.adapt(train_sentences)"
      ],
      "execution_count": null,
      "outputs": []
    },
    {
      "cell_type": "code",
      "metadata": {
        "id": "gVZDwaymsbLa",
        "colab": {
          "base_uri": "https://localhost:8080/"
        },
        "outputId": "d7847633-85bf-41ef-90cb-b328428f66b3"
      },
      "source": [
        "# Kiểm tra text vectorizer\n",
        "import random\n",
        "target_sentence = random.choice(train_sentences)\n",
        "print(f\"Text:\\n{target_sentence}\")\n",
        "print(f\"\\nLength of text: {len(target_sentence.split())}\")\n",
        "print(f\"\\nVectorized text:\\n{text_vectorizer([target_sentence])}\")"
      ],
      "execution_count": null,
      "outputs": [
        {
          "output_type": "stream",
          "text": [
            "Text:\n",
            "http://www.clinicaltrials.gov .\n",
            "\n",
            "Length of text: 2\n",
            "\n",
            "Vectorized text:\n",
            "[[2243    0    0    0    0    0    0    0    0    0    0    0    0    0\n",
            "     0    0    0    0    0    0    0    0    0    0    0    0    0    0\n",
            "     0    0    0    0    0    0    0    0    0    0    0    0    0    0\n",
            "     0    0    0    0    0    0    0    0    0    0    0    0    0]]\n"
          ],
          "name": "stdout"
        }
      ]
    },
    {
      "cell_type": "markdown",
      "metadata": {
        "id": "wdKJpk-8sjYn"
      },
      "source": [
        "Chúng ta đã tìm được một cách để biến chuỗi thành số.\n",
        "\n",
        "> 🛠 **Luyện tập:** Hãy thử chạy cell trên hàng chục lần. Bạn thấy gì về các chuỗi có độ dài nhỏ hơn 55?\n",
        "\n",
        "Chúng ta có thể sử dụng phương thức [`get_vocabulary()`](https://www.tensorflow.org/api_docs/python/tf/keras/layers/experimental/preprocessing/TextVectorization) của `text_vectorizer` để tìm ra một vài mẩu tin khác nhau về text."
      ]
    },
    {
      "cell_type": "code",
      "metadata": {
        "id": "IS80FGEhsgVe",
        "colab": {
          "base_uri": "https://localhost:8080/"
        },
        "outputId": "5410d298-46f8-4e03-c652-ca2629169d3b"
      },
      "source": [
        "# Có bao nhiêu từ trong training vocabulary?\n",
        "rct_20k_text_vocab = text_vectorizer.get_vocabulary()\n",
        "print(f\"Number of words in vocabulary: {len(rct_20k_text_vocab)}\"),\n",
        "print(f\"Most common words in the vocabulary: {rct_20k_text_vocab[:5]}\")\n",
        "print(f\"Least common words in the vocabulary: {rct_20k_text_vocab[-5:]}\")"
      ],
      "execution_count": null,
      "outputs": [
        {
          "output_type": "stream",
          "text": [
            "Number of words in vocabulary: 64841\n",
            "Most common words in the vocabulary: ['', '[UNK]', 'the', 'and', 'of']\n",
            "Least common words in the vocabulary: ['aainduced', 'aaigroup', 'aachener', 'aachen', 'aaacp']\n"
          ],
          "name": "stdout"
        }
      ]
    },
    {
      "cell_type": "markdown",
      "metadata": {
        "id": "w4F6atcSa26q"
      },
      "source": [
        "Nếu muốn tìm cấu hình của `text_vectorizer`, chúng ta có thể sử dụng phương thức `get_config()`."
      ]
    },
    {
      "cell_type": "code",
      "metadata": {
        "id": "Ly5BSLkGZnPO",
        "colab": {
          "base_uri": "https://localhost:8080/"
        },
        "outputId": "70389114-b78f-48db-8983-4f7d501fd92e"
      },
      "source": [
        "# Tìm cấu hình của text vectorizer\n",
        "text_vectorizer.get_config()"
      ],
      "execution_count": null,
      "outputs": [
        {
          "output_type": "execute_result",
          "data": {
            "text/plain": [
              "{'batch_input_shape': (None,),\n",
              " 'dtype': 'string',\n",
              " 'max_tokens': 68000,\n",
              " 'name': 'text_vectorization',\n",
              " 'ngrams': None,\n",
              " 'output_mode': 'int',\n",
              " 'output_sequence_length': 55,\n",
              " 'pad_to_max_tokens': False,\n",
              " 'split': 'whitespace',\n",
              " 'standardize': 'lower_and_strip_punctuation',\n",
              " 'trainable': True}"
            ]
          },
          "metadata": {},
          "execution_count": 35
        }
      ]
    },
    {
      "cell_type": "markdown",
      "metadata": {
        "id": "GZvDSTrTp1Wy"
      },
      "source": [
        "### Tạo text embedding tùy chỉnh\n",
        "\n",
        "Layer `token_vectorization` ánh xạ các từ trong văn bản trực tiếp thành số. Tuy nhiên, điều này không nhất thiết phải nắm bắt được mối quan hệ giữa những con số đó.\n",
        "\n",
        "Để văn bản biểu diễn số phong phú hơn, chúng ta có thể sử dụng **embedding**.\n",
        "\n",
        "Khi mô hình học (bằng cách xem qua nhiều mẫu abstract và nhãn khác nhau), nó sẽ cập nhật embedding để biểu diễn tốt hơn mối quan hệ giữa các token trong kho ngữ liệu.\n",
        "\n",
        "Chúng ta có thể tạo một embedding layer có thể huấn luyện bằng cách sử dụng layer [`Embedding`](https://www.tensorflow.org/tutorials/text/word_embeddings) của TensorFlow.\n",
        "\n",
        "Một lần nữa, các tham số chính mà chúng ta quan tâm ở đây là các đầu vào và đầu ra của layer `Embedding`.\n",
        "\n",
        "Tham số `input_dim` xác định kích thước từ vựng. Còn tham số `output_dim` xác định kích thước của đầu ra embedding.\n",
        "\n",
        "Sau khi tạo, embedding layer sẽ lấy các đầu ra số nguyên của layer `text_vectorization` làm đầu vào và chuyển đổi chúng thành các vectơ đặc trưng của kích thước `output_dim`.\n",
        "\n",
        "Hãy xem điều này thực hiện ra sao."
      ]
    },
    {
      "cell_type": "code",
      "metadata": {
        "id": "AIKPM2QOuLQv",
        "colab": {
          "base_uri": "https://localhost:8080/"
        },
        "outputId": "33119c36-8c56-46bf-b789-c1d0f90e84ea"
      },
      "source": [
        "# Tạo token embedding layer\n",
        "token_embed = layers.Embedding(input_dim=len(rct_20k_text_vocab), # độ dài của vocabulary\n",
        "                               output_dim=128, # Lưu ý: các kích thước embedding khác nhau dẫn đến số lượng tham số để huấn luyện cũng khác nhau đáng kể\n",
        "                               # Sử dụng mask để xử lý độ dài chuỗi thay đổi (tiết kiệm không gian)\n",
        "                               mask_zero=True,\n",
        "                               name=\"token_embedding\")\n",
        "\n",
        "# Hiển thị embedding mẫu\n",
        "print(f\"Sentence before vectorization:\\n{target_sentence}\\n\")\n",
        "vectorized_sentence = text_vectorizer([target_sentence])\n",
        "print(f\"Sentence after vectorization (before embedding):\\n{vectorized_sentence}\\n\")\n",
        "embedded_sentence = token_embed(vectorized_sentence)\n",
        "print(f\"Sentence after embedding:\\n{embedded_sentence}\\n\")\n",
        "print(f\"Embedded sentence shape: {embedded_sentence.shape}\")"
      ],
      "execution_count": null,
      "outputs": [
        {
          "output_type": "stream",
          "text": [
            "Sentence before vectorization:\n",
            "http://www.clinicaltrials.gov .\n",
            "\n",
            "Sentence after vectorization (before embedding):\n",
            "[[2243    0    0    0    0    0    0    0    0    0    0    0    0    0\n",
            "     0    0    0    0    0    0    0    0    0    0    0    0    0    0\n",
            "     0    0    0    0    0    0    0    0    0    0    0    0    0    0\n",
            "     0    0    0    0    0    0    0    0    0    0    0    0    0]]\n",
            "\n",
            "Sentence after embedding:\n",
            "[[[ 0.0105269   0.04210378  0.04194726 ...  0.0111946   0.02379807\n",
            "   -0.0433928 ]\n",
            "  [-0.02391002  0.04098249 -0.0333933  ...  0.01311035 -0.02968328\n",
            "   -0.04724472]\n",
            "  [-0.02391002  0.04098249 -0.0333933  ...  0.01311035 -0.02968328\n",
            "   -0.04724472]\n",
            "  ...\n",
            "  [-0.02391002  0.04098249 -0.0333933  ...  0.01311035 -0.02968328\n",
            "   -0.04724472]\n",
            "  [-0.02391002  0.04098249 -0.0333933  ...  0.01311035 -0.02968328\n",
            "   -0.04724472]\n",
            "  [-0.02391002  0.04098249 -0.0333933  ...  0.01311035 -0.02968328\n",
            "   -0.04724472]]]\n",
            "\n",
            "Embedded sentence shape: (1, 55, 128)\n"
          ],
          "name": "stdout"
        }
      ]
    },
    {
      "cell_type": "markdown",
      "metadata": {
        "id": "l5tDy1PRfvZ0"
      },
      "source": [
        "## Tạo Datasets (nhanh nhất có thể)\n",
        "\n",
        "Chúng ta đã gặp rất nhiều khó khăn khi tiền xử lý tập dữ liệu của mình để sử dụng với mô hình học máy, tuy nhiên, vẫn có một số bước giúp chúng hoạt động nhanh hơn với mô hình.\n",
        "\n",
        "Cụ thể, `tf.data` API cung cấp các phương pháp cho phép load dữ liệu nhanh hơn.\n",
        "\n",
        "> 📖 **Tài liệu:** Để biết các phương pháp load dữ liệu hay nhất trong TensorFlow, hãy tham khảo:\n",
        "* [tf.data: Xây dựng TensorFlow input pipelines](https://www.tensorflow.org/guide/data)\n",
        "* [Chất lượng tốt hơn với tf.data API](https://www.tensorflow.org/guide/data_performance)\n",
        "\n",
        "Bước chính mà chúng ta sẽ thực hiện với dữ liệu của mình là biến nó thành `PrefetchDataset` gồm các batch.\n",
        "\n",
        "Như vậy, chúng ta sẽ đảm bảo TensorFlow load dữ liệu lên GPU nhanh nhất có thể, do đó thời gian huấn luyện nhanh hơn.\n",
        "\n",
        "Để tạo `PrefetchDataset` theo batch, chúng ta có thể sử dụng các phương thức [`batch()`](https://www.tensorflow.org/api_docs/python/tf/data/Dataset#batch) và [`prefetch()`](https://www.tensorflow.org/api_docs/python/tf/data/Dataset#prefetch), tham số [`tf.data.AUTOTUNE`](https://www.tensorflow.org/api_docs/python/tf/data#AUTOTUNE) cũng cho phép TensorFlow xác định lượng tính toán tối ưu cần sử dụng để chuẩn bị các tập dữ liệu."
      ]
    },
    {
      "cell_type": "code",
      "metadata": {
        "colab": {
          "base_uri": "https://localhost:8080/"
        },
        "id": "tan6Ekiwfza5",
        "outputId": "3f55adbf-9c1e-4670-8692-129732b23b06"
      },
      "source": [
        "# Biến dữ liệu thành TensorFlow Datasets\n",
        "train_dataset = tf.data.Dataset.from_tensor_slices((train_sentences, train_labels_one_hot))\n",
        "valid_dataset = tf.data.Dataset.from_tensor_slices((val_sentences, val_labels_one_hot))\n",
        "test_dataset = tf.data.Dataset.from_tensor_slices((test_sentences, test_labels_one_hot))\n",
        "\n",
        "train_dataset"
      ],
      "execution_count": null,
      "outputs": [
        {
          "output_type": "execute_result",
          "data": {
            "text/plain": [
              "<TensorSliceDataset shapes: ((), (5,)), types: (tf.string, tf.float64)>"
            ]
          },
          "metadata": {},
          "execution_count": 37
        }
      ]
    },
    {
      "cell_type": "code",
      "metadata": {
        "colab": {
          "base_uri": "https://localhost:8080/"
        },
        "id": "dnEJakTxgJWx",
        "outputId": "b585f44d-e736-471c-fa7d-bf572a05f498"
      },
      "source": [
        "# Lấy dữ liệu của TensorSliceDataset và biến chúng thành các prefetched batch\n",
        "train_dataset = train_dataset.batch(32).prefetch(tf.data.AUTOTUNE)\n",
        "valid_dataset = valid_dataset.batch(32).prefetch(tf.data.AUTOTUNE)\n",
        "test_dataset = test_dataset.batch(32).prefetch(tf.data.AUTOTUNE)\n",
        "\n",
        "train_dataset"
      ],
      "execution_count": null,
      "outputs": [
        {
          "output_type": "execute_result",
          "data": {
            "text/plain": [
              "<PrefetchDataset shapes: ((None,), (None, 5)), types: (tf.string, tf.float64)>"
            ]
          },
          "metadata": {},
          "execution_count": 38
        }
      ]
    },
    {
      "cell_type": "markdown",
      "metadata": {
        "id": "HeE3wo4QvOlR"
      },
      "source": [
        "## Model 1: Conv1D với token embedding\n",
        "\n",
        "Chúng ta đã tìm được cách để biểu diễn văn bản và nhãn bằng số, hãy xây dựng một loạt các mô hình sâu để thử cải thiện dựa trên mô hình cơ sở.\n",
        "\n",
        "Tất cả các mô hình sâu của chúng ta đều sẽ tuân theo một cấu trúc giống nhau:\n",
        "\n",
        "```\n",
        "Input (text) -> Tokenize -> Embedding -> Layers -> Output (label probability)\n",
        "```\n",
        "\n",
        "Thành phần chính mà chúng ta sẽ thay đổi xuyên suốt là `Layers`, do bất kỳ mô hình NLP sâu hiện đại nào cũng đều yêu cầu chuyển đổi text thành embedding trước khi tìm thấy các pattern có ý nghĩa trong đó.\n",
        "\n",
        "Mô hình đầu tiên mà chúng ta sẽ xây dựng là Mạng nơ-ron 1 chiều.\n",
        "\n",
        "Chúng ta cũng sẽ tuân theo quy trình học máy tiêu chuẩn gồm:\n",
        "- Xây dựng mô hình\n",
        "- Huấn luyện mô hình\n",
        "- Đánh giá mô hình (đưa ra dự đoán và so sánh với nhãn gốc)\n",
        ""
      ]
    },
    {
      "cell_type": "code",
      "metadata": {
        "id": "oTW5buTKvRR6"
      },
      "source": [
        "# Tạo mô hình Conv1D để xử lý các chuỗi\n",
        "inputs = layers.Input(shape=(1,), dtype=tf.string)\n",
        "text_vectors = text_vectorizer(inputs) # vectơ hóa đầu vào text\n",
        "token_embeddings = token_embed(text_vectors) # tạo embedding\n",
        "x = layers.Conv1D(64, kernel_size=5, padding=\"same\", activation=\"relu\")(token_embeddings)\n",
        "x = layers.GlobalAveragePooling1D()(x) # cô đọng đầu ra của vectơ đặc trưng\n",
        "outputs = layers.Dense(num_classes, activation=\"softmax\")(x)\n",
        "model_1 = tf.keras.Model(inputs, outputs)\n",
        "\n",
        "# Compile\n",
        "model_1.compile(loss=\"categorical_crossentropy\", # nếu nhãn ở dạng số nguyên (không phải one hot), hãy sử dụng sparse_categorical_crossentropy\n",
        "                optimizer=tf.keras.optimizers.Adam(),\n",
        "                metrics=[\"accuracy\"])"
      ],
      "execution_count": null,
      "outputs": []
    },
    {
      "cell_type": "code",
      "metadata": {
        "id": "aOaXSsZjnKmy",
        "colab": {
          "base_uri": "https://localhost:8080/"
        },
        "outputId": "7c62d30e-67b1-4da2-8de0-9acb4a3ef8c4"
      },
      "source": [
        "# Lấy summary của mô hình Conv1D\n",
        "model_1.summary()"
      ],
      "execution_count": null,
      "outputs": [
        {
          "output_type": "stream",
          "text": [
            "Model: \"model\"\n",
            "_________________________________________________________________\n",
            "Layer (type)                 Output Shape              Param #   \n",
            "=================================================================\n",
            "input_1 (InputLayer)         [(None, 1)]               0         \n",
            "_________________________________________________________________\n",
            "text_vectorization (TextVect (None, 55)                0         \n",
            "_________________________________________________________________\n",
            "token_embedding (Embedding)  (None, 55, 128)           8299648   \n",
            "_________________________________________________________________\n",
            "conv1d (Conv1D)              (None, 55, 64)            41024     \n",
            "_________________________________________________________________\n",
            "global_average_pooling1d (Gl (None, 64)                0         \n",
            "_________________________________________________________________\n",
            "dense (Dense)                (None, 5)                 325       \n",
            "=================================================================\n",
            "Total params: 8,340,997\n",
            "Trainable params: 8,340,997\n",
            "Non-trainable params: 0\n",
            "_________________________________________________________________\n"
          ],
          "name": "stdout"
        }
      ]
    },
    {
      "cell_type": "markdown",
      "metadata": {
        "id": "-gZdAVJJ3vc2"
      },
      "source": [
        "Tuyệt vời! Chúng ta đã xây dựng mô hình chuỗi sâu đầu tiên và nó đã sẵn sàng hoạt động.\n",
        "\n",
        "Kiểm tra summary của mô hình, bạn sẽ nhận thấy phần lớn các tham số có thể huấn luyện nằm trong embedding layer. Nếu chúng ta tăng kích thước của embedding (bằng cách tăng tham số `output_dim` của layer `Embedding`), thì số lượng các tham số có thể huấn luyện sẽ tăng lên đáng kể.\n",
        "\n",
        "Đã đến lúc khớp với dữ liệu huấn luyện, nhưng chúng ta sẽ thực hiện một sự thay cẩn trọng.\n",
        "\n",
        "Vì dữ liệu huấn luyện chứa gần 200,000 câu, nên việc khớp một mô hình sâu có thể tốn một chút thời gian, ngay cả với GPU. Vì vậy, để các thử nghiệm diễn ra nhanh chóng, chúng ta sẽ chạy chúng trên một tập hợp con của tập dữ liệu huấn luyện.\n",
        "\n",
        "Cụ thể hơn, chúng ta sẽ chỉ sử dụng 10% batch đầu tiên (khoảng 18,000 mẫu) của tập huấn luyện để huấn luyện và 10% batch đầu tiên từ tập kiểm định để kiểm định.\n",
        "\n",
        "> 🔑 **Lưu ý:** Phương pháp tiêu chuẩn trong học máy là kiểm tra mô hình trên các tập dữ liệu con nhỏ hơn trước để đảm bảo chúng hoạt động trước khi co giãn chúng thành lượng dữ liệu lớn hơn. Bạn nên đặt mục tiêu chạy nhiều thử nghiệm nhỏ hơn thay vì chỉ chạy một ít các thử nghiệm lớn. Và vì thời gian có hạn, nên một trong những cách tốt nhất để chạy các thử nghiệm nhỏ hơn là giảm lượng dữ liệu bạn đang làm việc (10% tập dữ liệu đầy đủ thường là một số lượng tốt, miễn là nó gồm phân phối tương tự) ."
      ]
    },
    {
      "cell_type": "code",
      "metadata": {
        "colab": {
          "base_uri": "https://localhost:8080/"
        },
        "id": "IKpHoDysgvdC",
        "outputId": "153063a7-83e7-449b-f24e-772b6ea526bd"
      },
      "source": [
        "# Khớp mô hình\n",
        "model_1_history = model_1.fit(train_dataset,\n",
        "                              steps_per_epoch=int(0.1 * len(train_dataset)), # chỉ khớp trên 10% của batch để thời gian huấn luyện nhanh hơn\n",
        "                              epochs=3,\n",
        "                              validation_data=valid_dataset,\n",
        "                              validation_steps=int(0.1 * len(valid_dataset))) # chỉ kiểm định trên 10% của batch"
      ],
      "execution_count": null,
      "outputs": [
        {
          "output_type": "stream",
          "text": [
            "Epoch 1/3\n",
            "562/562 [==============================] - 36s 8ms/step - loss: 0.9290 - accuracy: 0.6280 - val_loss: 0.6956 - val_accuracy: 0.7350\n",
            "Epoch 2/3\n",
            "562/562 [==============================] - 5s 8ms/step - loss: 0.6647 - accuracy: 0.7528 - val_loss: 0.6353 - val_accuracy: 0.7666\n",
            "Epoch 3/3\n",
            "562/562 [==============================] - 5s 8ms/step - loss: 0.6231 - accuracy: 0.7742 - val_loss: 0.6017 - val_accuracy: 0.7839\n"
          ],
          "name": "stdout"
        }
      ]
    },
    {
      "cell_type": "markdown",
      "metadata": {
        "id": "RQrRp3ar8GQV"
      },
      "source": [
        "Chúng ta đã huấn luyện mô hình chuỗi sâu đầu tiên và không mất quá nhiều thời gian (và nếu chúng ta không nạp sớm dữ liệu theo batch, thì sẽ tốn nhiều thời gian hơn).\n",
        "\n",
        "Đã đến lúc đưa ra một số dự đoán với mô hình, sau đó đánh giá chúng."
      ]
    },
    {
      "cell_type": "code",
      "metadata": {
        "colab": {
          "base_uri": "https://localhost:8080/"
        },
        "id": "WYvFOIBvhjpX",
        "outputId": "c026604f-d8cd-4e45-81ee-9aba8112368a"
      },
      "source": [
        "# Đánh giá trên toàn bộ tập dữ liệu kiểm định (chúng ta chỉ kiểm định trên 10% của batch trong quá trình huấn luyện)\n",
        "model_1.evaluate(valid_dataset)"
      ],
      "execution_count": null,
      "outputs": [
        {
          "output_type": "stream",
          "text": [
            "945/945 [==============================] - 3s 3ms/step - loss: 0.6040 - accuracy: 0.7845\n"
          ],
          "name": "stdout"
        },
        {
          "output_type": "execute_result",
          "data": {
            "text/plain": [
              "[0.6039669513702393, 0.784489631652832]"
            ]
          },
          "metadata": {},
          "execution_count": 42
        }
      ]
    },
    {
      "cell_type": "code",
      "metadata": {
        "colab": {
          "base_uri": "https://localhost:8080/"
        },
        "id": "jAAtBWO2iRft",
        "outputId": "7b9f7b17-67c2-4b92-ec3e-a5686bfc1c6e"
      },
      "source": [
        "# Đưa ra dự đoán (mô hình đưa ra xác suất dự đoán cho từng lớp)\n",
        "model_1_pred_probs = model_1.predict(valid_dataset)\n",
        "model_1_pred_probs"
      ],
      "execution_count": null,
      "outputs": [
        {
          "output_type": "execute_result",
          "data": {
            "text/plain": [
              "array([[4.65810180e-01, 1.68030873e-01, 9.11973268e-02, 2.48495579e-01,\n",
              "        2.64659580e-02],\n",
              "       [3.85841161e-01, 3.26967925e-01, 1.09655075e-02, 2.69699097e-01,\n",
              "        6.52625971e-03],\n",
              "       [1.50063470e-01, 1.18270982e-02, 1.80714345e-03, 8.36278021e-01,\n",
              "        2.42987626e-05],\n",
              "       ...,\n",
              "       [5.72754607e-06, 8.22585251e-04, 5.39675879e-04, 1.08408301e-06,\n",
              "        9.98630941e-01],\n",
              "       [5.39277196e-02, 4.82838809e-01, 9.59893093e-02, 5.87528460e-02,\n",
              "        3.08491379e-01],\n",
              "       [2.05477521e-01, 5.33861935e-01, 5.17199412e-02, 8.40113238e-02,\n",
              "        1.24929301e-01]], dtype=float32)"
            ]
          },
          "metadata": {},
          "execution_count": 43
        }
      ]
    },
    {
      "cell_type": "code",
      "metadata": {
        "id": "9ydUpF6cqMll",
        "colab": {
          "base_uri": "https://localhost:8080/"
        },
        "outputId": "56f60716-4861-44bb-ee89-350f676243e3"
      },
      "source": [
        "# Chuyển đổi pred probs thành các lớp\n",
        "model_1_preds = tf.argmax(model_1_pred_probs, axis=1)\n",
        "model_1_preds"
      ],
      "execution_count": null,
      "outputs": [
        {
          "output_type": "execute_result",
          "data": {
            "text/plain": [
              "<tf.Tensor: shape=(30212,), dtype=int64, numpy=array([0, 0, 3, ..., 4, 1, 1])>"
            ]
          },
          "metadata": {},
          "execution_count": 44
        }
      ]
    },
    {
      "cell_type": "code",
      "metadata": {
        "id": "KMfRLv0omdY4",
        "colab": {
          "base_uri": "https://localhost:8080/"
        },
        "outputId": "044c15b8-3581-4603-b40d-c52c10ceec05"
      },
      "source": [
        "# Tính model_1 results\n",
        "model_1_results = calculate_results(y_true=val_labels_encoded,\n",
        "                                    y_pred=model_1_preds)\n",
        "model_1_results"
      ],
      "execution_count": null,
      "outputs": [
        {
          "output_type": "execute_result",
          "data": {
            "text/plain": [
              "{'accuracy': 78.44896067787634,\n",
              " 'f1': 0.7822985872046467,\n",
              " 'precision': 0.7814941086130403,\n",
              " 'recall': 0.7844896067787634}"
            ]
          },
          "metadata": {},
          "execution_count": 45
        }
      ]
    },
    {
      "cell_type": "markdown",
      "metadata": {
        "id": "qU1u4KlWvAQa"
      },
      "source": [
        "## Model 2: Feature extraction với pretrained token embeddings\n",
        "\n",
        "Quá trình huấn luyện embedding tốn một chút thời gian, làm chậm quá trình thử nghiệm.\n",
        "\n",
        "Vì chúng ta đang hướng tới việc tái tạo kiến ​​trúc mô hình trong [*Neural Networks for Joint Sentence Classification\n",
        "in Medical Paper Abstracts*](https://arxiv.org/pdf/1612.05251.pdf), nó đề cập đến việc họ đã sử dụng [pretrained GloVe embedding](https://nlp.stanford.edu/projects/glove/) là cách để khởi tạo token embedding.\n",
        "\n",
        "Để mô phỏng điều này, hãy xem chúng ta có thể nhận được kết quả gì với [pretrained Universal Sentence Encoder embeddings từ TensorFlow Hub](https://tfhub.dev/google/universal-sentence-encoder/4).\n",
        "\n",
        "> 🔑 **Lưu ý:** Chúng ta có thể sử dụng GloVe embeddings nhưng vì chúng ta đang làm việc với TensorFlow nên hãy sử dụng những gì có sẵn từ TensorFlow Hub (không sử dụng GloVe embeddings). Chúng ta sẽ sử dụng [pretrained GloVe embeddings](https://keras.io/examples/nlp/pretrained_word_embeddings/) làm tiện ích mở rộng.\n",
        "\n",
        "Cấu trúc mô hình như sau:\n",
        "\n",
        "```\n",
        "Inputs (string) -> Pretrained embeddings from TensorFlow Hub (Universal Sentence Encoder) -> Layers -> Output (prediction probabilities)\n",
        "```\n",
        "\n",
        "Bạn sẽ nhận thấy thiếu tokenization layer mà chúng ta đã sử dụng trong mô hình trước đó. Đó là do Universal Sentence Encoder (USE) (USE) để ý tokenization giúp chúng ta.\n",
        "\n",
        "Loại mô hình này được gọi là transfer learning, hay cụ thể hơn là **feature extraction transfer learning**. Nói cách khác là lấy các pattern mà mô hình đã học ở nơi khác và áp dụng nó vào bài toán của chúng ta.\n",
        "\n",
        "![TensorFlow Hub Universal Feature Encoder feature extractor model we're building](https://raw.githubusercontent.com/mrdbourke/tensorflow-deep-learning/main/images/09-model-tf-hub-USE-to-dense-layer.png)\n",
        "*Mô hình feature extractor mà chúng ta đang xây dựng bằng cách sử dụng pretrained embedding từ TensorFlow Hub.*\n",
        "\n",
        "Để download pretrained USE vào một layer mà chúng ta có thể sử dụng trong mô hình của mình, hãy sử dụng lớp [`hub.KerasLayer`](https://www.tensorflow.org/hub/api_docs/python/hub/KerasLayer).\n",
        "\n",
        "Chúng ta sẽ đóng băng các pretrained embedding (bằng cách đặt `trainable=False`) và thêm một vài layer có thể huấn luyện ở trên cùng để điều chỉnh kết quả đầu ra của mô hình cho phù hợp với dữ liệu.\n",
        "\n",
        "> 🔑 **Lưu ý:** Do phải download một mô hình tương đối lớn (~916MB), cell bên dưới sẽ tốn một chút thời gian để chạy."
      ]
    },
    {
      "cell_type": "code",
      "metadata": {
        "id": "hk8mJUNy0xOO"
      },
      "source": [
        "# Download pretrained TensorFlow Hub USE\n",
        "import tensorflow_hub as hub\n",
        "tf_hub_embedding_layer = hub.KerasLayer(\"https://tfhub.dev/google/universal-sentence-encoder/4\",\n",
        "                                        trainable=False,\n",
        "                                        name=\"universal_sentence_encoder\")"
      ],
      "execution_count": null,
      "outputs": []
    },
    {
      "cell_type": "markdown",
      "metadata": {
        "id": "qOv1JQh1JdW0"
      },
      "source": [
        "Tuyệt, giờ thì pretrained USE đã được download và khởi tạo thành `hub.KerasLayer` instance, hãy thử nghiệm nó với một câu ngẫu nhiên."
      ]
    },
    {
      "cell_type": "code",
      "metadata": {
        "id": "f5gCkZgYJYSi",
        "colab": {
          "base_uri": "https://localhost:8080/"
        },
        "outputId": "a78489bb-e747-4dab-f3ef-800c3df1a503"
      },
      "source": [
        "# Thử embedding trong một câu ngẫu nhiên\n",
        "random_training_sentence = random.choice(train_sentences)\n",
        "print(f\"Random training sentence:\\n{random_training_sentence}\\n\")\n",
        "use_embedded_sentence = tf_hub_embedding_layer([random_training_sentence])\n",
        "print(f\"Sentence after embedding:\\n{use_embedded_sentence[0][:30]} (truncated output)...\\n\")\n",
        "print(f\"Length of sentence embedding:\\n{len(use_embedded_sentence[0])}\")"
      ],
      "execution_count": null,
      "outputs": [
        {
          "output_type": "stream",
          "text": [
            "Random training sentence:\n",
            "data were collected from @,@ @th - and @th-grade students in these communities using anonymous cross-sectional surveys in @ and @ and analyzed in @ .\n",
            "\n",
            "Sentence after embedding:\n",
            "[-0.03330918  0.06432742 -0.04426299 -0.03340627  0.01580565  0.04260787\n",
            "  0.05223562  0.02998829 -0.09009711  0.01004721 -0.01640431 -0.02970598\n",
            "  0.06300306  0.0500071  -0.02137795  0.01532154  0.00676913  0.04174187\n",
            "  0.00070422 -0.08601078  0.02839869  0.07599191 -0.05524107 -0.00862489\n",
            " -0.04704431  0.05998407 -0.00028414 -0.01645767  0.05340267 -0.06473802] (truncated output)...\n",
            "\n",
            "Length of sentence embedding:\n",
            "512\n"
          ],
          "name": "stdout"
        }
      ]
    },
    {
      "cell_type": "markdown",
      "metadata": {
        "id": "rB98xmH4KO-0"
      },
      "source": [
        "Như chúng ta đã đề cập trước đây, mô-đun pretrained USE từ TensorFlow Hub sẽ đảm nhận việc tokenize text cho chúng ta và xuất ra một vectơ embedding 512 chiều.\n",
        "\n",
        "Hãy tập hợp lại và biên dịch mô hình bằng cách sử dụng `tf_hub_embedding_layer`."
      ]
    },
    {
      "cell_type": "markdown",
      "metadata": {
        "id": "uJue6QIthOZD"
      },
      "source": [
        "### Xây dựng và khớp mô hình NLP feature extraction từ TensorFlow Hub"
      ]
    },
    {
      "cell_type": "code",
      "metadata": {
        "id": "So4lSnW_2F1i"
      },
      "source": [
        "# Định nghĩa mô hình feature extractor sử dụng TF Hub layer\n",
        "inputs = layers.Input(shape=[], dtype=tf.string)\n",
        "pretrained_embedding = tf_hub_embedding_layer(inputs) # tokenize text và tạo embedding\n",
        "x = layers.Dense(128, activation=\"relu\")(pretrained_embedding) # thêm một layer được kết nối đầy đủ lên đầu của embedding\n",
        "# Lưu ý: chúng ta có thể thêm nhiều layer ở đây nếu muốn\n",
        "outputs = layers.Dense(5, activation=\"softmax\")(x) # tạo layer đầu ra\n",
        "model_2 = tf.keras.Model(inputs=inputs,\n",
        "                        outputs=outputs)\n",
        "\n",
        "# Biên dịch mô hình\n",
        "model_2.compile(loss=\"categorical_crossentropy\",\n",
        "                optimizer=tf.keras.optimizers.Adam(),\n",
        "                metrics=[\"accuracy\"])"
      ],
      "execution_count": null,
      "outputs": []
    },
    {
      "cell_type": "code",
      "metadata": {
        "id": "39r3jhefoKWG",
        "colab": {
          "base_uri": "https://localhost:8080/"
        },
        "outputId": "203a3d15-20e6-443b-868c-52f192f9e1c1"
      },
      "source": [
        "# Lấy summary của mô hình\n",
        "model_2.summary()"
      ],
      "execution_count": null,
      "outputs": [
        {
          "output_type": "stream",
          "text": [
            "Model: \"model_1\"\n",
            "_________________________________________________________________\n",
            "Layer (type)                 Output Shape              Param #   \n",
            "=================================================================\n",
            "input_2 (InputLayer)         [(None,)]                 0         \n",
            "_________________________________________________________________\n",
            "universal_sentence_encoder ( (None, 512)               256797824 \n",
            "_________________________________________________________________\n",
            "dense_1 (Dense)              (None, 128)               65664     \n",
            "_________________________________________________________________\n",
            "dense_2 (Dense)              (None, 5)                 645       \n",
            "=================================================================\n",
            "Total params: 256,864,133\n",
            "Trainable params: 66,309\n",
            "Non-trainable params: 256,797,824\n",
            "_________________________________________________________________\n"
          ],
          "name": "stdout"
        }
      ]
    },
    {
      "cell_type": "markdown",
      "metadata": {
        "id": "5Exs-vDmLIs6"
      },
      "source": [
        "Kiểm tra summary của mô hình, chúng ta có thể thấy có rất nhiều tham số, tuy nhiên, phần lớn tham số trong số này không thể huấn luyện. Đó là do chúng ta đặt `training=False` khi khởi tạo layer USE feature extractor.\n",
        "\n",
        "Vì vậy, khi huấn luyện mô hình, chỉ có hai layer đầu ra trên cùng được huấn luyện."
      ]
    },
    {
      "cell_type": "code",
      "metadata": {
        "colab": {
          "base_uri": "https://localhost:8080/"
        },
        "id": "ttJKg6cDihGd",
        "outputId": "fa4dac4a-a201-4b87-901c-d179927cdec4"
      },
      "source": [
        "# Khớp mô hình feature extractor cho 3 epoch\n",
        "model_2.fit(train_dataset,\n",
        "            steps_per_epoch=int(0.1 * len(train_dataset)),\n",
        "            epochs=3,\n",
        "            validation_data=valid_dataset,\n",
        "            validation_steps=int(0.1 * len(valid_dataset)))"
      ],
      "execution_count": null,
      "outputs": [
        {
          "output_type": "stream",
          "text": [
            "Epoch 1/3\n",
            "562/562 [==============================] - 9s 12ms/step - loss: 0.9150 - accuracy: 0.6498 - val_loss: 0.7939 - val_accuracy: 0.6895\n",
            "Epoch 2/3\n",
            "562/562 [==============================] - 7s 12ms/step - loss: 0.7681 - accuracy: 0.7022 - val_loss: 0.7523 - val_accuracy: 0.7058\n",
            "Epoch 3/3\n",
            "562/562 [==============================] - 7s 12ms/step - loss: 0.7509 - accuracy: 0.7127 - val_loss: 0.7367 - val_accuracy: 0.7138\n"
          ],
          "name": "stdout"
        },
        {
          "output_type": "execute_result",
          "data": {
            "text/plain": [
              "<keras.callbacks.History at 0x7f1f82200850>"
            ]
          },
          "metadata": {},
          "execution_count": 50
        }
      ]
    },
    {
      "cell_type": "code",
      "metadata": {
        "colab": {
          "base_uri": "https://localhost:8080/"
        },
        "id": "tz8TMzLrjJYm",
        "outputId": "1983347a-fe5a-4a45-d5a9-7dbbb0b293f9"
      },
      "source": [
        "# Đánh giá trên toàn bộ tập dữ liệu kiểm định\n",
        "model_2.evaluate(valid_dataset)"
      ],
      "execution_count": null,
      "outputs": [
        {
          "output_type": "stream",
          "text": [
            "945/945 [==============================] - 10s 10ms/step - loss: 0.7403 - accuracy: 0.7143\n"
          ],
          "name": "stdout"
        },
        {
          "output_type": "execute_result",
          "data": {
            "text/plain": [
              "[0.7403141856193542, 0.7142525911331177]"
            ]
          },
          "metadata": {},
          "execution_count": 51
        }
      ]
    },
    {
      "cell_type": "markdown",
      "metadata": {
        "id": "YmLdj-1tLk3X"
      },
      "source": [
        "Vì chúng ta không huấn luyện embedding layer tùy chỉnh của riêng mình nên việc huấn luyện diễn ra nhanh hơn nhiều.\n",
        "\n",
        "Hãy đưa ra một số dự đoán và đánh giá mô hình feature extraction."
      ]
    },
    {
      "cell_type": "code",
      "metadata": {
        "id": "2oe5UxcgqvA2",
        "colab": {
          "base_uri": "https://localhost:8080/"
        },
        "outputId": "da030c86-f6b6-4f7a-fe8c-6d675871dade"
      },
      "source": [
        "# Đưa ra dự đoán với mô hình feature extraction\n",
        "model_2_pred_probs = model_2.predict(valid_dataset)\n",
        "model_2_pred_probs"
      ],
      "execution_count": null,
      "outputs": [
        {
          "output_type": "execute_result",
          "data": {
            "text/plain": [
              "array([[4.3034002e-01, 3.5648319e-01, 2.3842952e-03, 2.0301045e-01,\n",
              "        7.7820425e-03],\n",
              "       [3.5814181e-01, 4.8381555e-01, 3.4082821e-03, 1.5132000e-01,\n",
              "        3.3143654e-03],\n",
              "       [2.2659931e-01, 1.5397042e-01, 2.1248475e-02, 5.6063354e-01,\n",
              "        3.7548285e-02],\n",
              "       ...,\n",
              "       [1.7298853e-03, 5.6997794e-03, 5.2002735e-02, 8.3732005e-04,\n",
              "        9.3973035e-01],\n",
              "       [3.5631014e-03, 4.8854645e-02, 1.8445115e-01, 1.2047966e-03,\n",
              "        7.6192635e-01],\n",
              "       [1.7391451e-01, 3.0626863e-01, 4.5657125e-01, 5.7948320e-03,\n",
              "        5.7450745e-02]], dtype=float32)"
            ]
          },
          "metadata": {},
          "execution_count": 52
        }
      ]
    },
    {
      "cell_type": "code",
      "metadata": {
        "id": "u8RIEnvVq7Ri",
        "colab": {
          "base_uri": "https://localhost:8080/"
        },
        "outputId": "761018f5-8901-49b2-cac7-0a163af4c0a4"
      },
      "source": [
        "# Chuyển đổi dự đoán với mô hình feature extraction thành các lớp\n",
        "model_2_preds = tf.argmax(model_2_pred_probs, axis=1)\n",
        "model_2_preds"
      ],
      "execution_count": null,
      "outputs": [
        {
          "output_type": "execute_result",
          "data": {
            "text/plain": [
              "<tf.Tensor: shape=(30212,), dtype=int64, numpy=array([0, 1, 3, ..., 4, 4, 2])>"
            ]
          },
          "metadata": {},
          "execution_count": 53
        }
      ]
    },
    {
      "cell_type": "code",
      "metadata": {
        "id": "hD5yvw9brOCp",
        "colab": {
          "base_uri": "https://localhost:8080/"
        },
        "outputId": "da15f978-d7a7-4388-bcce-27443462d81a"
      },
      "source": [
        "# Tính kết quả từ TF Hub pretrained embeddings results trên tập kiểm định\n",
        "model_2_results = calculate_results(y_true=val_labels_encoded,\n",
        "                                    y_pred=model_2_preds)\n",
        "model_2_results"
      ],
      "execution_count": null,
      "outputs": [
        {
          "output_type": "execute_result",
          "data": {
            "text/plain": [
              "{'accuracy': 71.42526148550245,\n",
              " 'f1': 0.7114550329161863,\n",
              " 'precision': 0.7148806814011546,\n",
              " 'recall': 0.7142526148550244}"
            ]
          },
          "metadata": {},
          "execution_count": 54
        }
      ]
    },
    {
      "cell_type": "markdown",
      "metadata": {
        "id": "EL6wApSH0ltW"
      },
      "source": [
        "## Model 3: Conv1D với character embeddings\n",
        "\n"
      ]
    },
    {
      "cell_type": "markdown",
      "metadata": {
        "id": "-q-BYLq6d1me"
      },
      "source": [
        "### Tạo tokenizer ở cấp ký tự\n",
        "\n",
        "Tài liệu  [*Neural Networks for Joint Sentence Classification\n",
        "in Medical Paper Abstracts*](https://arxiv.org/pdf/1612.05251.pdf) đã đề cập rằng mô hình của họ sử dụng kết hợp token và character embedding.\n",
        "\n",
        "Chúng ta đã xây dựng mô hình với token embedding tùy chỉnh và pretrained token embedding, sao chúng ta tạo mô hình bằng character embedding?\n",
        "\n",
        "Sự khác biệt giữa character embedding và token embedding là **character embedding** được tạo bằng cách sử dụng các chuỗi được chia ra thành các ký tự (ví dụ: `hello` -> [`h`, `e`, `l`, `l`, `o`]) trong khi đó, **token embedding** được tạo ra dựa trên các chuỗi được chia thành các token.\n",
        "\n",
        "![example of difference between token level and character level embeddings](https://raw.githubusercontent.com/mrdbourke/tensorflow-deep-learning/main/images/09-token-vs-character-embeddings.png)\n",
        "*Token level embedding phân tách chuỗi thành các token (từ) và nhúng từng chuỗi trong số đó, character embedding tách chuỗi thành các ký tự và tạo một vectơ đặc trưng cho mỗi ký tự.*\n",
        "\n",
        "Chúng ta có thể tạo embedding ở cấp độ ký tự bằng cách vectơ hóa các chuỗi trước tiên (sau khi chúng đã được chia thành các ký tự) bằng cách sử dụng lớp [`TextVectorization`](https://www.tensorflow.org/api_docs/python/tf/keras/layers/experimental/preprocessing/TextVectorization), sau đó truyền các chuỗi được vectơ hóa đó qua layer [`Embedding`](https://www.tensorflow.org/api_docs/python/tf/keras/layers/Embedding).\n",
        "\n",
        "Trước khi vectơ hóa các chuỗi ở cấp độ ký tự, chúng ta cần chia chúng thành các ký tự. Hãy viết một hàm để thực hiện như vậy."
      ]
    },
    {
      "cell_type": "code",
      "metadata": {
        "id": "nkoTYNvu36Bq",
        "colab": {
          "base_uri": "https://localhost:8080/",
          "height": 69
        },
        "outputId": "20031e5f-05ee-40a8-b2de-977591afe836"
      },
      "source": [
        "# Tạo hàm để tách câu thành các ký tự\n",
        "def split_chars(text):\n",
        "  return \" \".join(list(text))\n",
        "\n",
        "# Thử nghiệm tách chuỗi không ở cấp độ ký tự thành các ký tự\n",
        "split_chars(random_training_sentence)"
      ],
      "execution_count": null,
      "outputs": [
        {
          "output_type": "execute_result",
          "data": {
            "application/vnd.google.colaboratory.intrinsic+json": {
              "type": "string"
            },
            "text/plain": [
              "'d a t a   w e r e   c o l l e c t e d   f r o m   @ , @   @ t h   -   a n d   @ t h - g r a d e   s t u d e n t s   i n   t h e s e   c o m m u n i t i e s   u s i n g   a n o n y m o u s   c r o s s - s e c t i o n a l   s u r v e y s   i n   @   a n d   @   a n d   a n a l y z e d   i n   @   .'"
            ]
          },
          "metadata": {},
          "execution_count": 55
        }
      ]
    },
    {
      "cell_type": "markdown",
      "metadata": {
        "id": "NyfYyWOvx2BB"
      },
      "source": [
        "Tuyệt vời! Có vẻ như hàm tách ký tự của chúng ta đã hoạt động. Hãy tạo tập dữ liệu cấp độ ký tự bằng cách tách tập dữ liệu chuỗi của chúng ta thành các ký tự."
      ]
    },
    {
      "cell_type": "code",
      "metadata": {
        "id": "qLmU_GS64S2J",
        "colab": {
          "base_uri": "https://localhost:8080/"
        },
        "outputId": "a0f7b0d9-e837-4748-d35e-191066b9486d"
      },
      "source": [
        "# Phân tách dữ liệu ở cấp độ chuỗi thành phân tách dữ liệu ở cấp độ ký tự\n",
        "train_chars = [split_chars(sentence) for sentence in train_sentences]\n",
        "val_chars = [split_chars(sentence) for sentence in val_sentences]\n",
        "test_chars = [split_chars(sentence) for sentence in test_sentences]\n",
        "print(train_chars[0])"
      ],
      "execution_count": null,
      "outputs": [
        {
          "output_type": "stream",
          "text": [
            "t o   i n v e s t i g a t e   t h e   e f f i c a c y   o f   @   w e e k s   o f   d a i l y   l o w - d o s e   o r a l   p r e d n i s o l o n e   i n   i m p r o v i n g   p a i n   ,   m o b i l i t y   ,   a n d   s y s t e m i c   l o w - g r a d e   i n f l a m m a t i o n   i n   t h e   s h o r t   t e r m   a n d   w h e t h e r   t h e   e f f e c t   w o u l d   b e   s u s t a i n e d   a t   @   w e e k s   i n   o l d e r   a d u l t s   w i t h   m o d e r a t e   t o   s e v e r e   k n e e   o s t e o a r t h r i t i s   (   o a   )   .\n"
          ],
          "name": "stdout"
        }
      ]
    },
    {
      "cell_type": "markdown",
      "metadata": {
        "id": "vkLTb7FkyFPh"
      },
      "source": [
        "Để tìm độ dài của chuỗi ký tự được vectơ hóa, hãy kiểm tra phân phối độ dài chuỗi ký tự."
      ]
    },
    {
      "cell_type": "code",
      "metadata": {
        "id": "4CjyFW5g47Ps",
        "colab": {
          "base_uri": "https://localhost:8080/"
        },
        "outputId": "cc4abcee-bffe-4c98-9095-b04a9a0b2337"
      },
      "source": [
        "# Độ dài ký tự trung bình là bao nhiêu?\n",
        "char_lens = [len(sentence) for sentence in train_sentences]\n",
        "mean_char_len = np.mean(char_lens)\n",
        "mean_char_len"
      ],
      "execution_count": null,
      "outputs": [
        {
          "output_type": "execute_result",
          "data": {
            "text/plain": [
              "149.3662574983337"
            ]
          },
          "metadata": {},
          "execution_count": 57
        }
      ]
    },
    {
      "cell_type": "code",
      "metadata": {
        "id": "uPTgrtVJ2DSK",
        "colab": {
          "base_uri": "https://localhost:8080/",
          "height": 265
        },
        "outputId": "43355b07-51b9-41e9-c007-620b7dff7559"
      },
      "source": [
        "# Kiểm tra phân phối của các chuỗi ở cấp độ ký tự\n",
        "import matplotlib.pyplot as plt\n",
        "plt.hist(char_lens, bins=7);"
      ],
      "execution_count": null,
      "outputs": [
        {
          "output_type": "display_data",
          "data": {
            "image/png": "[encoded data removed]",
            "text/plain": [
              "<Figure size 432x288 with 1 Axes>"
            ]
          },
          "metadata": {
            "needs_background": "light"
          }
        }
      ]
    },
    {
      "cell_type": "markdown",
      "metadata": {
        "id": "pV8yNV6l1hO4"
      },
      "source": [
        "Có vẻ hầu hết các chuỗi của chúng ta dài từ 0 đến 200 ký tự.\n",
        "\n",
        "Hãy sử dụng percentile của NumPy để tìm ra độ dài chiếm 95% chuỗi."
      ]
    },
    {
      "cell_type": "code",
      "metadata": {
        "id": "P_k46x0Wy2n9",
        "colab": {
          "base_uri": "https://localhost:8080/"
        },
        "outputId": "fe425b19-12c7-4ab4-eada-dc0f0c1f4ece"
      },
      "source": [
        "# Tìm độ dài ký tự chiếm 95% chuỗi\n",
        "output_seq_char_len = int(np.percentile(char_lens, 95))\n",
        "output_seq_char_len"
      ],
      "execution_count": null,
      "outputs": [
        {
          "output_type": "execute_result",
          "data": {
            "text/plain": [
              "290"
            ]
          },
          "metadata": {},
          "execution_count": 59
        }
      ]
    },
    {
      "cell_type": "markdown",
      "metadata": {
        "id": "4dDBUHMT3QwS"
      },
      "source": [
        "Chúng ta đã biết độ dài chuỗi chiếm 95% chuỗi, hãy sử dụng độ dài đó trong layer `TextVectorization` làm tham số `output_sequence_length`.\n",
        "\n",
        "> 🔑 **Lưu ý:** Chúng ta có thể thử nghiệm ở đây để tìm `output_sequence_length` tối ưu là bao nhiêu, có lẽ sử dụng giá trị trung bình sẽ cho kết quả tốt như sử dụng percentile 95%.\n",
        "\n",
        "Chúng ta sẽ đặt `max_tokens` (tổng số ký tự khác nhau trong chuỗi) thành 28, hay nói cách khác là 26 chữ cái trong bảng chữ cái + dấu cách + token OOV (hết từ vựng hoặc từ không xác định)."
      ]
    },
    {
      "cell_type": "code",
      "metadata": {
        "colab": {
          "base_uri": "https://localhost:8080/",
          "height": 35
        },
        "id": "a7uKkbP_irFg",
        "outputId": "3858b78a-bc26-4d33-b55a-5fb3c3c6486e"
      },
      "source": [
        "# Lấy tất cả các ký tự từ bàn phím cho char-level embedding\n",
        "import string\n",
        "alphabet = string.ascii_lowercase + string.digits + string.punctuation\n",
        "alphabet"
      ],
      "execution_count": null,
      "outputs": [
        {
          "output_type": "execute_result",
          "data": {
            "application/vnd.google.colaboratory.intrinsic+json": {
              "type": "string"
            },
            "text/plain": [
              "'abcdefghijklmnopqrstuvwxyz0123456789!\"#$%&\\'()*+,-./:;<=>?@[\\\\]^_`{|}~'"
            ]
          },
          "metadata": {},
          "execution_count": 60
        }
      ]
    },
    {
      "cell_type": "code",
      "metadata": {
        "id": "PTMInkbv4Jxi"
      },
      "source": [
        "# Tạo char-level token vectorizer instance\n",
        "NUM_CHAR_TOKENS = len(alphabet) + 2 # số ký tự trong bảng chữ cái + dấu cách + OOV token\n",
        "char_vectorizer = TextVectorization(max_tokens=NUM_CHAR_TOKENS,\n",
        "                                    output_sequence_length=output_seq_char_len,\n",
        "                                    standardize=\"lower_and_strip_punctuation\",\n",
        "                                    name=\"char_vectorizer\")\n",
        "\n",
        "# Điều chỉnh character vectorizer để huấn luyện ký tự\n",
        "char_vectorizer.adapt(train_chars)"
      ],
      "execution_count": null,
      "outputs": []
    },
    {
      "cell_type": "markdown",
      "metadata": {
        "id": "u5YsVAJ25JKI"
      },
      "source": [
        "Chúng ta đã điều chỉnh `char_vectorizer` với các chuỗi cấp độ ký tự, hãy kiểm tra một số đặc điểm về nó bằng phương thức [`get_vocabulary()`](https://www.tensorflow.org/api_docs/python/tf/keras/layers/experimental/preprocessing/TextVectorization#get_vocabulary)."
      ]
    },
    {
      "cell_type": "code",
      "metadata": {
        "id": "uxdh7gxv5R4i",
        "colab": {
          "base_uri": "https://localhost:8080/"
        },
        "outputId": "d29d023f-3967-4514-ef61-f37ac4673b62"
      },
      "source": [
        "# Kiểm tra đặc điểm của character vocabulary\n",
        "char_vocab = char_vectorizer.get_vocabulary()\n",
        "print(f\"Number of different characters in character vocab: {len(char_vocab)}\")\n",
        "print(f\"5 most common characters: {char_vocab[:5]}\")\n",
        "print(f\"5 least common characters: {char_vocab[-5:]}\")"
      ],
      "execution_count": null,
      "outputs": [
        {
          "output_type": "stream",
          "text": [
            "Number of different characters in character vocab: 28\n",
            "5 most common characters: ['', '[UNK]', 'e', 't', 'i']\n",
            "5 least common characters: ['k', 'x', 'z', 'q', 'j']\n"
          ],
          "name": "stdout"
        }
      ]
    },
    {
      "cell_type": "markdown",
      "metadata": {
        "id": "sFYO0vav51zl"
      },
      "source": [
        "Chúng ta cũng có thể kiểm tra nó trên các chuỗi ký tự ngẫu nhiên để đảm bảo nó đang hoạt động."
      ]
    },
    {
      "cell_type": "code",
      "metadata": {
        "id": "AAcasGEh5d2O",
        "colab": {
          "base_uri": "https://localhost:8080/"
        },
        "outputId": "860edae7-52e0-4d6c-f6db-f615ddda9fe7"
      },
      "source": [
        "# Kiểm tra character vectorizer\n",
        "random_train_chars = random.choice(train_chars)\n",
        "print(f\"Charified text:\\n{random_train_chars}\")\n",
        "print(f\"\\nLength of chars: {len(random_train_chars.split())}\")\n",
        "vectorized_chars = char_vectorizer([random_train_chars])\n",
        "print(f\"\\nVectorized chars:\\n{vectorized_chars}\")\n",
        "print(f\"\\nLength of vectorized chars: {len(vectorized_chars[0])}\")"
      ],
      "execution_count": null,
      "outputs": [
        {
          "output_type": "stream",
          "text": [
            "Charified text:\n",
            "a   p e r s i s t e n t   q u e s t i o n   i s   w h e t h e r   p a r a p r o f e s s i o n a l   h o m e   v i s i t o r s   m i g h t   p r o d u c e   c o m p a r a b l e   e f f e c t s   .\n",
            "\n",
            "Length of chars: 86\n",
            "\n",
            "Vectorized chars:\n",
            "[[ 5 14  2  8  9  4  9  3  2  6  3 26 16  2  9  3  4  7  6  4  9 20 13  2\n",
            "   3 13  2  8 14  5  8  5 14  8  7 17  2  9  9  4  7  6  5 12 13  7 15  2\n",
            "  21  4  9  4  3  7  8  9 15  4 18 13  3 14  8  7 10 16 11  2 11  7 15 14\n",
            "   5  8  5 22 12  2  2 17 17  2 11  3  9  0  0  0  0  0  0  0  0  0  0  0\n",
            "   0  0  0  0  0  0  0  0  0  0  0  0  0  0  0  0  0  0  0  0  0  0  0  0\n",
            "   0  0  0  0  0  0  0  0  0  0  0  0  0  0  0  0  0  0  0  0  0  0  0  0\n",
            "   0  0  0  0  0  0  0  0  0  0  0  0  0  0  0  0  0  0  0  0  0  0  0  0\n",
            "   0  0  0  0  0  0  0  0  0  0  0  0  0  0  0  0  0  0  0  0  0  0  0  0\n",
            "   0  0  0  0  0  0  0  0  0  0  0  0  0  0  0  0  0  0  0  0  0  0  0  0\n",
            "   0  0  0  0  0  0  0  0  0  0  0  0  0  0  0  0  0  0  0  0  0  0  0  0\n",
            "   0  0  0  0  0  0  0  0  0  0  0  0  0  0  0  0  0  0  0  0  0  0  0  0\n",
            "   0  0  0  0  0  0  0  0  0  0  0  0  0  0  0  0  0  0  0  0  0  0  0  0\n",
            "   0  0]]\n",
            "\n",
            "Length of vectorized chars: 290\n"
          ],
          "name": "stdout"
        }
      ]
    },
    {
      "cell_type": "markdown",
      "metadata": {
        "id": "aT_OiBd_6j8W"
      },
      "source": [
        "Bạn sẽ nhận thấy các chuỗi có độ dài ngắn hơn 290 (`output_seq_char_length`) được đệm bằng các số không ở cuối, điều này đảm bảo tất cả các chuỗi được chuyển đến mô hình của chúng ta đều có cùng độ dài.\n",
        "\n",
        "Ngoài ra, do tham số `standardize` của `TextVectorization` là `\"lower_and_strip_punctuation\"` và tham số `split` là `\"whitespace\"` theo mặc định, nên các ký hiệu (chẳng hạn như `@`) và dấu cách sẽ bị xóa.\n",
        "\n",
        "> 🔑 **Lưu ý:** Nếu không muốn xóa dấu chấm câu (giữ nguyên `@`, `%`,...), chúng ta có thể tạo một hàm chuẩn hóa tùy chỉnh và truyền nó làm tham số `standardize`. Xem tài liệu về lớp [`TextVectorization`](https://www.tensorflow.org/api_docs/python/tf/keras/layers/experimental/preprocessing/TextVectorization) để tìm hiểu thêm.\n"
      ]
    },
    {
      "cell_type": "markdown",
      "metadata": {
        "id": "m8WEfkrDeNIm"
      },
      "source": [
        "### Tạo embedding ở cấp độ ký tự\n",
        "Chúng ta đã có một cách để vectơ hóa chuỗi cấp độ ký tự, bây giờ hãy tạo embedding ở cấp độ ký tự.\n",
        "\n",
        "Cũng giống như token embedding tùy chỉnh, chúng ta có thể thực hiện như vậy bằng cách sử dụng lớp [`tensorflow.keras.layers.Embedding`](https://www.tensorflow.org/api_docs/python/tf/keras/layers/Embedding).\n",
        "\n",
        "Layer embedding ở cấp độ ký tự yêu cầu chiều đầu vào và chiều đầu ra.\n",
        "\n",
        "Chiều đầu vào (`input_dim`) bằng số ký tự khác nhau trong `char_vocab` (28). Và vì chúng ta đang theo cấu trúc mô hình trong Hình 1 của [*Neural Networks for Joint Sentence Classification\n",
        "in Medical Paper Abstracts*](https://arxiv.org/pdf/1612.05251.pdf), nên chiều đầu ra của character embedding (`output_dim`) sẽ là 25."
      ]
    },
    {
      "cell_type": "code",
      "metadata": {
        "id": "YQHt1hSy57cu",
        "colab": {
          "base_uri": "https://localhost:8080/"
        },
        "outputId": "d1dcb96e-5f66-4e4e-ae33-8b3eee665962"
      },
      "source": [
        "# Tạo char embedding layer\n",
        "char_embed = layers.Embedding(input_dim=NUM_CHAR_TOKENS, # số lượng ký tự khác nhau\n",
        "                              output_dim=25, # kích thước embedding của mỗi ký tự (giống như Hình 1 trong https://arxiv.org/pdf/1612.05251.pdf)\n",
        "                              mask_zero=False, # không sử dụng mask (điều này sẽ làm rối tung model_5 nếu được đặt thành True)\n",
        "                              name=\"char_embed\")\n",
        "\n",
        "# Kiểm tra character embedding layer\n",
        "print(f\"Charified text (before vectorization and embedding):\\n{random_train_chars}\\n\")\n",
        "char_embed_example = char_embed(char_vectorizer([random_train_chars]))\n",
        "print(f\"Embedded chars (after vectorization and embedding):\\n{char_embed_example}\\n\")\n",
        "print(f\"Character embedding shape: {char_embed_example.shape}\")"
      ],
      "execution_count": null,
      "outputs": [
        {
          "output_type": "stream",
          "text": [
            "Charified text (before vectorization and embedding):\n",
            "a   p e r s i s t e n t   q u e s t i o n   i s   w h e t h e r   p a r a p r o f e s s i o n a l   h o m e   v i s i t o r s   m i g h t   p r o d u c e   c o m p a r a b l e   e f f e c t s   .\n",
            "\n",
            "Embedded chars (after vectorization and embedding):\n",
            "[[[-0.01923175 -0.01720572  0.04752548 ... -0.00952251 -0.03900822\n",
            "   -0.01606651]\n",
            "  [ 0.02746468 -0.0157405  -0.03408597 ...  0.00957409 -0.04426242\n",
            "    0.02547267]\n",
            "  [-0.00342412  0.04883511 -0.02929975 ... -0.04722989  0.04408958\n",
            "    0.02328778]\n",
            "  ...\n",
            "  [-0.02053725  0.04947415 -0.03963646 ...  0.04780323  0.00831659\n",
            "   -0.00033282]\n",
            "  [-0.02053725  0.04947415 -0.03963646 ...  0.04780323  0.00831659\n",
            "   -0.00033282]\n",
            "  [-0.02053725  0.04947415 -0.03963646 ...  0.04780323  0.00831659\n",
            "   -0.00033282]]]\n",
            "\n",
            "Character embedding shape: (1, 290, 25)\n"
          ],
          "name": "stdout"
        }
      ]
    },
    {
      "cell_type": "markdown",
      "metadata": {
        "id": "bXuuUjDHPG-J"
      },
      "source": [
        "Tuyệt vời! Mỗi ký tự trong chuỗi biến thành một embedding 25 chiều.\n",
        ""
      ]
    },
    {
      "cell_type": "markdown",
      "metadata": {
        "id": "1bzv_FmFd9bN"
      },
      "source": [
        "### Xây dựng mô hình Conv1D để khớp với character embeddings\n",
        "Chúng ta đã tìm ra cách để biến các chuỗi ở cấp độ độ ký tự thành số (`char_vectorizer`) cũng như biểu diễn chúng bằng số dưới dạng embedding (`char_embed`), hãy kiểm tra mức độ hiệu quả của chúng trong việc mã hóa thông tin trong chuỗi bằng cách tạo mô hình chuỗi ở cấp độ ký tự.\n",
        "\n",
        "Mô hình có cấu trúc giống như mô hình token embedding tùy chỉnh (`model_1`), trừ việc nó sẽ lấy chuỗi ở cấp độ ký tự làm đầu vào thay vì chuỗi ở cấp độ token.\n",
        "\n",
        "```\n",
        "Input (character-level text) -> Tokenize -> Embedding -> Layers (Conv1D, GlobalMaxPool1D) -> Output (label probability)\n",
        "```\n"
      ]
    },
    {
      "cell_type": "code",
      "metadata": {
        "id": "vVwC0xadtb5r"
      },
      "source": [
        "# Tạo Conv1D chỉ ở cấp độ ký tự\n",
        "inputs = layers.Input(shape=(1,), dtype=\"string\")\n",
        "char_vectors = char_vectorizer(inputs)\n",
        "char_embeddings = char_embed(char_vectors)\n",
        "x = layers.Conv1D(64, kernel_size=5, padding=\"same\", activation=\"relu\")(char_embeddings)\n",
        "x = layers.GlobalMaxPool1D()(x)\n",
        "outputs = layers.Dense(num_classes, activation=\"softmax\")(x)\n",
        "model_3 = tf.keras.Model(inputs=inputs,\n",
        "                         outputs=outputs,\n",
        "                         name=\"model_3_conv1D_char_embedding\")\n",
        "\n",
        "# Biên dịch mô hình\n",
        "model_3.compile(loss=\"categorical_crossentropy\",\n",
        "                optimizer=tf.keras.optimizers.Adam(),\n",
        "                metrics=[\"accuracy\"])"
      ],
      "execution_count": null,
      "outputs": []
    },
    {
      "cell_type": "code",
      "metadata": {
        "id": "jwdxy2gQu7Wm",
        "colab": {
          "base_uri": "https://localhost:8080/"
        },
        "outputId": "a632e6a9-f72f-4355-d9f9-0f2b887dc272"
      },
      "source": [
        "# Kiểm tra summary của conv1d_char_model\n",
        "model_3.summary()"
      ],
      "execution_count": null,
      "outputs": [
        {
          "output_type": "stream",
          "text": [
            "Model: \"model_3_conv1D_char_embedding\"\n",
            "_________________________________________________________________\n",
            "Layer (type)                 Output Shape              Param #   \n",
            "=================================================================\n",
            "input_3 (InputLayer)         [(None, 1)]               0         \n",
            "_________________________________________________________________\n",
            "char_vectorizer (TextVectori (None, 290)               0         \n",
            "_________________________________________________________________\n",
            "char_embed (Embedding)       (None, 290, 25)           1750      \n",
            "_________________________________________________________________\n",
            "conv1d_1 (Conv1D)            (None, 290, 64)           8064      \n",
            "_________________________________________________________________\n",
            "global_max_pooling1d (Global (None, 64)                0         \n",
            "_________________________________________________________________\n",
            "dense_3 (Dense)              (None, 5)                 325       \n",
            "=================================================================\n",
            "Total params: 10,139\n",
            "Trainable params: 10,139\n",
            "Non-trainable params: 0\n",
            "_________________________________________________________________\n"
          ],
          "name": "stdout"
        }
      ]
    },
    {
      "cell_type": "markdown",
      "metadata": {
        "id": "Sr9rNkxAkURZ"
      },
      "source": [
        "Trước khi khớp mô hình trên dữ liệu, hãy tạo `PrefetchedDataset` theo batch ở cấp độ kí tự."
      ]
    },
    {
      "cell_type": "code",
      "metadata": {
        "colab": {
          "base_uri": "https://localhost:8080/"
        },
        "id": "ixTsGYBbnXn9",
        "outputId": "f643ca7b-96b2-479d-a31b-f2a17cb3f658"
      },
      "source": [
        "# Tạo char datasets\n",
        "train_char_dataset = tf.data.Dataset.from_tensor_slices((train_chars, train_labels_one_hot)).batch(32).prefetch(tf.data.AUTOTUNE)\n",
        "val_char_dataset = tf.data.Dataset.from_tensor_slices((val_chars, val_labels_one_hot)).batch(32).prefetch(tf.data.AUTOTUNE)\n",
        "\n",
        "train_char_dataset"
      ],
      "execution_count": null,
      "outputs": [
        {
          "output_type": "execute_result",
          "data": {
            "text/plain": [
              "<PrefetchDataset shapes: ((None,), (None, 5)), types: (tf.string, tf.float64)>"
            ]
          },
          "metadata": {},
          "execution_count": 67
        }
      ]
    },
    {
      "cell_type": "markdown",
      "metadata": {
        "id": "8qpv1NR_cC1h"
      },
      "source": [
        "Cũng giống như mô hình chuỗi ở cấp độ token, để tiết kiệm thời gian cho các thử nghiệm, chúng ta sẽ khớp mô hình ở cấp độ ký tự trên 10% batch."
      ]
    },
    {
      "cell_type": "code",
      "metadata": {
        "colab": {
          "base_uri": "https://localhost:8080/"
        },
        "id": "UGokmMdGn91w",
        "outputId": "64ca51e6-bd05-4d73-f267-9f031025595b"
      },
      "source": [
        "# Khớp mô hình chỉ ở cấp độ ký tự\n",
        "model_3_history = model_3.fit(train_char_dataset,\n",
        "                              steps_per_epoch=int(0.1 * len(train_char_dataset)),\n",
        "                              epochs=3,\n",
        "                              validation_data=val_char_dataset,\n",
        "                              validation_steps=int(0.1 * len(val_char_dataset)))"
      ],
      "execution_count": null,
      "outputs": [
        {
          "output_type": "stream",
          "text": [
            "Epoch 1/3\n",
            "562/562 [==============================] - 4s 5ms/step - loss: 1.2697 - accuracy: 0.4940 - val_loss: 1.0555 - val_accuracy: 0.5864\n",
            "Epoch 2/3\n",
            "562/562 [==============================] - 3s 5ms/step - loss: 1.0124 - accuracy: 0.5996 - val_loss: 0.9542 - val_accuracy: 0.6267\n",
            "Epoch 3/3\n",
            "562/562 [==============================] - 3s 5ms/step - loss: 0.9228 - accuracy: 0.6410 - val_loss: 0.8712 - val_accuracy: 0.6722\n"
          ],
          "name": "stdout"
        }
      ]
    },
    {
      "cell_type": "code",
      "metadata": {
        "colab": {
          "base_uri": "https://localhost:8080/"
        },
        "id": "9OHO-fl9oA5V",
        "outputId": "252ccc5f-a41a-411a-b92e-f815a0448dc9"
      },
      "source": [
        "# Đánh giá model_3 trên toàn bộ validation char dataset\n",
        "model_3.evaluate(val_char_dataset)"
      ],
      "execution_count": null,
      "outputs": [
        {
          "output_type": "stream",
          "text": [
            "945/945 [==============================] - 3s 4ms/step - loss: 0.8873 - accuracy: 0.6588\n"
          ],
          "name": "stdout"
        },
        {
          "output_type": "execute_result",
          "data": {
            "text/plain": [
              "[0.8873457908630371, 0.6587779521942139]"
            ]
          },
          "metadata": {},
          "execution_count": 69
        }
      ]
    },
    {
      "cell_type": "markdown",
      "metadata": {
        "id": "8sMIB_nXJd-M"
      },
      "source": [
        "Có vẻ mô hình ở cấp độ ký tự đang hoạt động, hãy đưa ra một số dự đoán và đánh giá chúng."
      ]
    },
    {
      "cell_type": "code",
      "metadata": {
        "id": "o0u4QzT2xMgF",
        "colab": {
          "base_uri": "https://localhost:8080/"
        },
        "outputId": "4d417acb-0ff7-49bf-c408-b2f76b980722"
      },
      "source": [
        "# Đưa ra dự đoán chỉ với mô hình ở cấp độ ký tự\n",
        "model_3_pred_probs = model_3.predict(val_char_dataset)\n",
        "model_3_pred_probs"
      ],
      "execution_count": null,
      "outputs": [
        {
          "output_type": "execute_result",
          "data": {
            "text/plain": [
              "array([[0.14757556, 0.40572175, 0.06463172, 0.33147973, 0.05059117],\n",
              "       [0.33927342, 0.25103244, 0.01815611, 0.35482603, 0.03671199],\n",
              "       [0.15584646, 0.11993653, 0.10841523, 0.5846738 , 0.03112798],\n",
              "       ...,\n",
              "       [0.02389161, 0.04591153, 0.07370146, 0.01870138, 0.83779407],\n",
              "       [0.01393123, 0.10044182, 0.55801105, 0.05441127, 0.2732046 ],\n",
              "       [0.28039306, 0.582124  , 0.04549843, 0.04313584, 0.04884864]],\n",
              "      dtype=float32)"
            ]
          },
          "metadata": {},
          "execution_count": 70
        }
      ]
    },
    {
      "cell_type": "code",
      "metadata": {
        "id": "qdPUXiZux68-",
        "colab": {
          "base_uri": "https://localhost:8080/"
        },
        "outputId": "a0fdbe69-980a-4bb3-a579-f499bc22b3b4"
      },
      "source": [
        "# Chuyển đổi dự đoán thành lớp\n",
        "model_3_preds = tf.argmax(model_3_pred_probs, axis=1)\n",
        "model_3_preds"
      ],
      "execution_count": null,
      "outputs": [
        {
          "output_type": "execute_result",
          "data": {
            "text/plain": [
              "<tf.Tensor: shape=(30212,), dtype=int64, numpy=array([1, 3, 3, ..., 4, 2, 1])>"
            ]
          },
          "metadata": {},
          "execution_count": 71
        }
      ]
    },
    {
      "cell_type": "code",
      "metadata": {
        "id": "4NCDZD7cyoj7",
        "colab": {
          "base_uri": "https://localhost:8080/"
        },
        "outputId": "972eccb5-fe98-4b96-e4b2-6df64da2d86f"
      },
      "source": [
        "# Tính kết quả chỉ của của mô hình Conv1D ký tự\n",
        "model_3_results = calculate_results(y_true=val_labels_encoded,\n",
        "                                        y_pred=model_3_preds)\n",
        "model_3_results"
      ],
      "execution_count": null,
      "outputs": [
        {
          "output_type": "execute_result",
          "data": {
            "text/plain": [
              "{'accuracy': 65.87779690189329,\n",
              " 'f1': 0.6516863332082763,\n",
              " 'precision': 0.6545009464773592,\n",
              " 'recall': 0.6587779690189329}"
            ]
          },
          "metadata": {},
          "execution_count": 72
        }
      ]
    },
    {
      "cell_type": "markdown",
      "metadata": {
        "id": "1krE-3csz3N-"
      },
      "source": [
        "## Model 4: Kết hợp pretrained token embeddings + character embeddings (hybrid embedding layer)\n",
        "\n",
        "Bây giờ mọi thứ đang trở nên thú vị.\n",
        "\n",
        "Khi tiến gần hơn đến việc xây dựng một mô hình tương tự như mô hình trong Hình 1 của [*Neural Networks for Joint Sentence Classification\n",
        "in Medical Paper Abstracts*](https://arxiv.org/pdf/1612.05251.pdf), đã đến lúc chúng ta xử lý hybrid token embedding layer mà họ nói tới.\n",
        "\n",
        "Hybrid token embedding layer này là sự kết hợp giữa token embedding và character embedding. Nói cách khác, chúng tạo ra một embedding xếp chồng lên nhau để biểu diễn chuỗi trước khi truyền chúng tới sequence label prediction layer.\n",
        "\n",
        "Cho tới giờ, chúng ta đã xây dựng hai mô hình sử dụng token ở cấp độ token và cấp độ ký tự; tuy nhiên, hai mô hình này sử dụng riêng từng embedding.\n",
        "\n",
        "Để bắt đầu tái tạo (hoặc sắp tái tạo) mô hình trong Hình 1, chúng ta sẽ thực hiện các bước sau:\n",
        "1. Tạo mô hình ở cấp độ token (tương tự embedding)\n",
        "2. Tạo mô hình ở cấp độ ký tự (tương tự `model_3` với một chút sửa đổi để so sánh với tài liệu)\n",
        "3. Kết hợp (sử dụng [`layers.Concatenate`](https://www.tensorflow.org/api_docs/python/tf/keras/layers/Concatenate)) các  đầu ra của 1 và 2\n",
        "4. Xây dựng một loạt các layer đầu ra trên cùng của 3 layer tương tự như Hình 1 và phần 4.2 của [*Neural Networks for Joint Sentence Classification\n",
        "in Medical Paper Abstracts*](https://arxiv.org/pdf/1612.05251.pdf)\n",
        "5. Xây dựng một mô hình lấy chuỗi ở cấp độ ký tự và token làm đầu vào và tạo ra xác suất nhãn chuỗi làm đầu ra"
      ]
    },
    {
      "cell_type": "code",
      "metadata": {
        "id": "5DI2KQf7z-yo"
      },
      "source": [
        "# 1. Thiết lập token inputs/model\n",
        "token_inputs = layers.Input(shape=[], dtype=tf.string, name=\"token_input\")\n",
        "token_embeddings = tf_hub_embedding_layer(token_inputs)\n",
        "token_output = layers.Dense(128, activation=\"relu\")(token_embeddings)\n",
        "token_model = tf.keras.Model(inputs=token_inputs,\n",
        "                             outputs=token_output)\n",
        "\n",
        "# 2. Thiết lập char inputs/model\n",
        "char_inputs = layers.Input(shape=(1,), dtype=tf.string, name=\"char_input\")\n",
        "char_vectors = char_vectorizer(char_inputs)\n",
        "char_embeddings = char_embed(char_vectors)\n",
        "char_bi_lstm = layers.Bidirectional(layers.LSTM(25))(char_embeddings) # bi-LSTM hiển thị trong Hình 1 của https://arxiv.org/pdf/1612.05251.pdf\n",
        "char_model = tf.keras.Model(inputs=char_inputs,\n",
        "                            outputs=char_bi_lstm)\n",
        "\n",
        "# 3. Nối token và char inputs (tạo hybrid token embedding)\n",
        "token_char_concat = layers.Concatenate(name=\"token_char_hybrid\")([token_model.output,\n",
        "                                                                  char_model.output])\n",
        "\n",
        "# 4. Tạo layer đầu ra - thêm vào dropout đã bàn trong 4.2 của https://arxiv.org/pdf/1612.05251.pdf\n",
        "combined_dropout = layers.Dropout(0.5)(token_char_concat)\n",
        "combined_dense = layers.Dense(200, activation=\"relu\")(combined_dropout) # hơi khác so với Hình 1 do shape khác nhau của các token/char embedding layer\n",
        "final_dropout = layers.Dropout(0.5)(combined_dense)\n",
        "output_layer = layers.Dense(num_classes, activation=\"softmax\")(final_dropout)\n",
        "\n",
        "# 5. Xây dựng mô hình với char và token inputs\n",
        "model_4 = tf.keras.Model(inputs=[token_model.input, char_model.input],\n",
        "                         outputs=output_layer,\n",
        "                         name=\"model_4_token_and_char_embeddings\")"
      ],
      "execution_count": null,
      "outputs": []
    },
    {
      "cell_type": "markdown",
      "metadata": {
        "id": "ODM7t4aaVhcO"
      },
      "source": [
        "Có rất nhiều thứ đang diễn ra ở đây, hãy lấy summary và vẽ sơ đồ mô hình của chúng ta để hình dung những gì đang xảy ra."
      ]
    },
    {
      "cell_type": "code",
      "metadata": {
        "id": "21PRnEmK2a0Y",
        "colab": {
          "base_uri": "https://localhost:8080/"
        },
        "outputId": "9f3e26bf-0443-4781-8c09-1b5571b51538"
      },
      "source": [
        "# Lấy summary của mô hình token và character\n",
        "model_4.summary()"
      ],
      "execution_count": null,
      "outputs": [
        {
          "output_type": "stream",
          "text": [
            "Model: \"model_4_token_and_char_embeddings\"\n",
            "__________________________________________________________________________________________________\n",
            "Layer (type)                    Output Shape         Param #     Connected to                     \n",
            "==================================================================================================\n",
            "char_input (InputLayer)         [(None, 1)]          0                                            \n",
            "__________________________________________________________________________________________________\n",
            "token_input (InputLayer)        [(None,)]            0                                            \n",
            "__________________________________________________________________________________________________\n",
            "char_vectorizer (TextVectorizat (None, 290)          0           char_input[0][0]                 \n",
            "__________________________________________________________________________________________________\n",
            "universal_sentence_encoder (Ker (None, 512)          256797824   token_input[0][0]                \n",
            "__________________________________________________________________________________________________\n",
            "char_embed (Embedding)          (None, 290, 25)      1750        char_vectorizer[1][0]            \n",
            "__________________________________________________________________________________________________\n",
            "dense_4 (Dense)                 (None, 128)          65664       universal_sentence_encoder[1][0] \n",
            "__________________________________________________________________________________________________\n",
            "bidirectional (Bidirectional)   (None, 50)           10200       char_embed[1][0]                 \n",
            "__________________________________________________________________________________________________\n",
            "token_char_hybrid (Concatenate) (None, 178)          0           dense_4[0][0]                    \n",
            "                                                                 bidirectional[0][0]              \n",
            "__________________________________________________________________________________________________\n",
            "dropout (Dropout)               (None, 178)          0           token_char_hybrid[0][0]          \n",
            "__________________________________________________________________________________________________\n",
            "dense_5 (Dense)                 (None, 200)          35800       dropout[0][0]                    \n",
            "__________________________________________________________________________________________________\n",
            "dropout_1 (Dropout)             (None, 200)          0           dense_5[0][0]                    \n",
            "__________________________________________________________________________________________________\n",
            "dense_6 (Dense)                 (None, 5)            1005        dropout_1[0][0]                  \n",
            "==================================================================================================\n",
            "Total params: 256,912,243\n",
            "Trainable params: 114,419\n",
            "Non-trainable params: 256,797,824\n",
            "__________________________________________________________________________________________________\n"
          ],
          "name": "stdout"
        }
      ]
    },
    {
      "cell_type": "code",
      "metadata": {
        "id": "EF5-v5cRSmuk",
        "colab": {
          "base_uri": "https://localhost:8080/",
          "height": 856
        },
        "outputId": "9c781d3c-e8de-43ed-e3c1-aed99fac45d0"
      },
      "source": [
        "# Vẽ mô hình hybrid token và character\n",
        "from tensorflow.keras.utils import plot_model\n",
        "plot_model(model_4)"
      ],
      "execution_count": null,
      "outputs": [
        {
          "output_type": "execute_result",
          "data": {
            "image/png": "[encoded data removed]",
            "text/plain": [
              "<IPython.core.display.Image object>"
            ]
          },
          "metadata": {},
          "execution_count": 75
        }
      ]
    },
    {
      "cell_type": "markdown",
      "metadata": {
        "id": "oPPfr_cTWmEH"
      },
      "source": [
        "Bây giờ mô hình đó trông khá tốt. Hãy biên dịch nó cũng như các mô hình còn lại.\n",
        "\n",
        "> 🔑 **Lưu ý:** Phần 4.2 của [*Neural Networks for Joint Sentence Classification\n",
        "in Medical Paper Abstracts*](https://arxiv.org/pdf/1612.05251.pdf) đề cập đến việc sử dụng SGD (stochastic gradient descent) optimizer, tuy nhiên, để nhất quán với các mô hình khác, chúng ta sẽ sử dụng Adam optimizer. Chúng ta có thể thử sử dụng [`tf.keras.optimizers.SGD`](https://www.tensorflow.org/api_docs/python/tf/keras/optimizers/SGD) thay vì [`tf.keras.optimizers.Adam`](https://www.tensorflow.org/api_docs/python/tf/keras/optimizers/Adam) và so sánh các kết quả với nhau."
      ]
    },
    {
      "cell_type": "code",
      "metadata": {
        "id": "4Yx8PFSc2hqE"
      },
      "source": [
        "# Biên dịch mô hình token char\n",
        "model_4.compile(loss=\"categorical_crossentropy\",\n",
        "                optimizer=tf.keras.optimizers.Adam(), # phần 4.2 của https://arxiv.org/pdf/1612.05251.pdf đề cập tới việc sử dụng SGD nhưng chúng ta vẫn sẽ dùng Adam\n",
        "                metrics=[\"accuracy\"])"
      ],
      "execution_count": null,
      "outputs": []
    },
    {
      "cell_type": "markdown",
      "metadata": {
        "id": "f-bD7bL-UIn3"
      },
      "source": [
        "Một lần nữa, để các thử nghiệm diễn ra nhanh chóng, chúng ta sẽ khớp mô hình token-character-hybrid trên 10% huấn luyện và kiểm định trên 10% batch kiểm định. Tuy nhiên, khác biệt ở mô hình này là nó yêu cầu hai đầu vào, chuỗi ở cấp độ token và chuỗi ở cấp độ ký tự.\n",
        "\n",
        "Chúng ta có thể thực hiện điều này bằng cách tạo `tf.data.Dataset` với một tuple vì nó là đầu vào đầu tiên, chẳng hạn:\n",
        "* `((token_data, char_data), (label))`\n",
        "\n",
        "Hãy xem điều này hoạt động thế nào.\n",
        "\n",
        "### Kết hợp dữ liệu token và dữ liệu ký tự thành `tf.data` dataset"
      ]
    },
    {
      "cell_type": "code",
      "metadata": {
        "id": "pYU0fX6rpbgI"
      },
      "source": [
        "# Kết hợp chars và tokens thành một dataset\n",
        "train_char_token_data = tf.data.Dataset.from_tensor_slices((train_sentences, train_chars)) # tạo dữ liệu\n",
        "train_char_token_labels = tf.data.Dataset.from_tensor_slices(train_labels_one_hot) # tạo nhãn\n",
        "train_char_token_dataset = tf.data.Dataset.zip((train_char_token_data, train_char_token_labels)) # kết hợp dữ liệu và nhãn\n",
        "\n",
        "# Dữ liệu prefetch và batch train\n",
        "train_char_token_dataset = train_char_token_dataset.batch(32).prefetch(tf.data.AUTOTUNE)\n",
        "\n",
        "# Lặp lại các bước tương tự với dữ liệu kiểm định\n",
        "val_char_token_data = tf.data.Dataset.from_tensor_slices((val_sentences, val_chars))\n",
        "val_char_token_labels = tf.data.Dataset.from_tensor_slices(val_labels_one_hot)\n",
        "val_char_token_dataset = tf.data.Dataset.zip((val_char_token_data, val_char_token_labels))\n",
        "val_char_token_dataset = val_char_token_dataset.batch(32).prefetch(tf.data.AUTOTUNE)"
      ],
      "execution_count": null,
      "outputs": []
    },
    {
      "cell_type": "code",
      "metadata": {
        "colab": {
          "base_uri": "https://localhost:8080/"
        },
        "id": "UlOs99Emp52r",
        "outputId": "79caaf4f-5f8b-4ec1-8d19-e98cae3542f9"
      },
      "source": [
        "# Kiểm tra training char và token embedding dataset\n",
        "train_char_token_dataset, val_char_token_dataset"
      ],
      "execution_count": null,
      "outputs": [
        {
          "output_type": "execute_result",
          "data": {
            "text/plain": [
              "(<PrefetchDataset shapes: (((None,), (None,)), (None, 5)), types: ((tf.string, tf.string), tf.float64)>,\n",
              " <PrefetchDataset shapes: (((None,), (None,)), (None, 5)), types: ((tf.string, tf.string), tf.float64)>)"
            ]
          },
          "metadata": {},
          "execution_count": 78
        }
      ]
    },
    {
      "cell_type": "markdown",
      "metadata": {
        "id": "ANLBMpRlfA73"
      },
      "source": [
        "### Khớp mô hình trên chuỗi ở cấp độ token và cấp độ kí tự"
      ]
    },
    {
      "cell_type": "code",
      "metadata": {
        "colab": {
          "base_uri": "https://localhost:8080/"
        },
        "id": "yp0c25coprwp",
        "outputId": "ff296f4a-6480-40e9-c989-b0118d34402a"
      },
      "source": [
        "# Khớp mô hình trên tokens và chars\n",
        "model_4_history = model_4.fit(train_char_token_dataset, # huấn luyện trên dataset của token và kí tự\n",
        "                              steps_per_epoch=int(0.1 * len(train_char_token_dataset)),\n",
        "                              epochs=3,\n",
        "                              validation_data=val_char_token_dataset,\n",
        "                              validation_steps=int(0.1 * len(val_char_token_dataset)))"
      ],
      "execution_count": null,
      "outputs": [
        {
          "output_type": "stream",
          "text": [
            "Epoch 1/3\n",
            "562/562 [==============================] - 24s 36ms/step - loss: 0.9654 - accuracy: 0.6159 - val_loss: 0.7859 - val_accuracy: 0.6898\n",
            "Epoch 2/3\n",
            "562/562 [==============================] - 19s 34ms/step - loss: 0.7914 - accuracy: 0.6958 - val_loss: 0.7139 - val_accuracy: 0.7301\n",
            "Epoch 3/3\n",
            "562/562 [==============================] - 19s 34ms/step - loss: 0.7649 - accuracy: 0.7057 - val_loss: 0.6826 - val_accuracy: 0.7410\n"
          ],
          "name": "stdout"
        }
      ]
    },
    {
      "cell_type": "code",
      "metadata": {
        "colab": {
          "base_uri": "https://localhost:8080/"
        },
        "id": "BfAMuoJett_t",
        "outputId": "6e9658da-2aa3-41f3-a41a-488d51df2885"
      },
      "source": [
        "# Đánh giá trên toàn bộ tập kiểm định\n",
        "model_4.evaluate(val_char_token_dataset)"
      ],
      "execution_count": null,
      "outputs": [
        {
          "output_type": "stream",
          "text": [
            "945/945 [==============================] - 20s 21ms/step - loss: 0.6899 - accuracy: 0.7362\n"
          ],
          "name": "stdout"
        },
        {
          "output_type": "execute_result",
          "data": {
            "text/plain": [
              "[0.6899493336677551, 0.7362306118011475]"
            ]
          },
          "metadata": {},
          "execution_count": 80
        }
      ]
    },
    {
      "cell_type": "markdown",
      "metadata": {
        "id": "uSimi5vYY2xF"
      },
      "source": [
        "Mô hình token-character hybrid đã đi vào hoạt động!\n",
        "\n",
        "Để đưa ra dự đoán với nó, do nó cần nhiều đầu vào, chúng ta có thể truyền cho phương thức `predict()` một tuple có các chuỗi ở cấp độ token và cấp độ ký tự.\n",
        "\n",
        "Sau đó, chúng ta có thể đánh giá các dự đoán như đã thực hiện trước đây."
      ]
    },
    {
      "cell_type": "code",
      "metadata": {
        "id": "1z_zbrXTYN7G",
        "colab": {
          "base_uri": "https://localhost:8080/"
        },
        "outputId": "2646ffbf-cc24-490a-b88f-4a139972a8b3"
      },
      "source": [
        "# Đưa ra dự đoán với mô hình token-character hybrid\n",
        "model_4_pred_probs = model_4.predict(val_char_token_dataset)\n",
        "model_4_pred_probs"
      ],
      "execution_count": null,
      "outputs": [
        {
          "output_type": "execute_result",
          "data": {
            "text/plain": [
              "array([[4.5224771e-01, 3.3035564e-01, 2.7360097e-03, 2.0863818e-01,\n",
              "        6.0224836e-03],\n",
              "       [2.7638477e-01, 5.4655772e-01, 3.0270391e-03, 1.7166287e-01,\n",
              "        2.3676162e-03],\n",
              "       [3.1192392e-01, 1.4092967e-01, 4.3908428e-02, 4.5166326e-01,\n",
              "        5.1574774e-02],\n",
              "       ...,\n",
              "       [6.1459269e-04, 5.8821058e-03, 4.2544805e-02, 1.3780949e-04,\n",
              "        9.5082068e-01],\n",
              "       [9.3976045e-03, 7.2958224e-02, 1.8798770e-01, 4.0314477e-03,\n",
              "        7.2562498e-01],\n",
              "       [2.6598454e-01, 3.5141158e-01, 2.8458366e-01, 3.5951469e-02,\n",
              "        6.2068779e-02]], dtype=float32)"
            ]
          },
          "metadata": {},
          "execution_count": 81
        }
      ]
    },
    {
      "cell_type": "code",
      "metadata": {
        "id": "Ic5MCrFxYgsB",
        "colab": {
          "base_uri": "https://localhost:8080/"
        },
        "outputId": "deef25ca-06bc-4352-c249-3694af01d247"
      },
      "source": [
        "# Biến xác suất dự đoán thành lớp dự đoán\n",
        "model_4_preds = tf.argmax(model_4_pred_probs, axis=1)\n",
        "model_4_preds"
      ],
      "execution_count": null,
      "outputs": [
        {
          "output_type": "execute_result",
          "data": {
            "text/plain": [
              "<tf.Tensor: shape=(30212,), dtype=int64, numpy=array([0, 1, 3, ..., 4, 4, 1])>"
            ]
          },
          "metadata": {},
          "execution_count": 82
        }
      ]
    },
    {
      "cell_type": "code",
      "metadata": {
        "id": "CBNPIRIC7EsE",
        "colab": {
          "base_uri": "https://localhost:8080/"
        },
        "outputId": "a1427c17-a892-449a-f270-a273e336baf1"
      },
      "source": [
        "# Nhận kết quả của mô hình token-char-hybrid\n",
        "model_4_results = calculate_results(y_true=val_labels_encoded,\n",
        "                                    y_pred=model_4_preds)\n",
        "model_4_results"
      ],
      "execution_count": null,
      "outputs": [
        {
          "output_type": "execute_result",
          "data": {
            "text/plain": [
              "{'accuracy': 73.62306368330465,\n",
              " 'f1': 0.7335613153664351,\n",
              " 'precision': 0.7370751903809197,\n",
              " 'recall': 0.7362306368330465}"
            ]
          },
          "metadata": {},
          "execution_count": 83
        }
      ]
    },
    {
      "cell_type": "markdown",
      "metadata": {
        "id": "wU5ctbxCih6Z"
      },
      "source": [
        "## Model 5: Transfer Learning với pretrained token embeddings + character embeddings + positional embeddings\n",
        "\n",
        "Có vẻ như việc kết hợp token embedding và character embedding giúp mô hình tăng một chút chất lượng.\n",
        "\n",
        "Nhưng còn một thứ nữa mà chúng ta có thể thêm vào.\n",
        "\n",
        "Điều gì sẽ xảy ra nếu chúng ta thiết kế các đặc trưng của riêng mình vào mô hình?\n",
        "\n",
        "Tức là, điều gì sẽ xảy ra nếu chúng ta lấy kiến ​​thức về dữ liệu và mã hóa nó theo cách số học để cung cấp thêm thông tin về các mẫu cho mô hình?\n",
        "\n",
        "Quá trình vận dụng kiến ​​thức để xây dựng các đặc trưng làm đầu vào cho một mô hình được gọi là **feature engineering (thiết ké đặc trưng)**.\n",
        "\n",
        "Bạn có thể nghĩ ra điều gì quan trọng về các chuỗi mà chúng ta đang cố phân loại không?\n",
        "\n",
        "Nếu chúng ta xem một abstract, bạn có mong các câu xuất hiện theo thứ tự không? Hay sẽ hợp lý nếu chúng xuất hiện một cách tuần tự? Ví dụ: các chuỗi có nhãn `CONCLUSIONS` ở đầu và các chuỗi có nhãn `OBJECTIVE` ở cuối?\n",
        "\n",
        "Các abstract thường theo thứ tự tuần tự, chẳng hạn như:\n",
        "* `OBJECTIVE` ...\n",
        "* `METHODS` ...\n",
        "* `METHODS` ...\n",
        "* `METHODS` ...\n",
        "* `RESULTS` ...\n",
        "* `CONCLUSIONS` ...\n",
        "\n",
        "Hoặc\n",
        "\n",
        "* `BACKGROUND` ...\n",
        "* `OBJECTIVE` ...\n",
        "* `METHODS` ...\n",
        "* `METHODS` ...\n",
        "* `RESULTS` ...\n",
        "* `RESULTS` ...\n",
        "* `CONCLUSIONS` ...\n",
        "* `CONCLUSIONS` ...\n",
        "\n",
        "Tất nhiên, chúng ta không thể tự thiết kế sequence label thành dữ liệu huấn luyện (chúng ta không có những nhãn này tại thời điểm thử nghiệm), tuy nhiên, chúng ta có thể mã hóa thứ tự của một tập hợp các chuỗi trong abstract.\n",
        "\n",
        "Ví dụ:\n",
        "* `Sentence 1 of 10` ...\n",
        "* `Sentence 2 of 10` ...\n",
        "* `Sentence 3 of 10` ...\n",
        "* `Sentence 4 of 10` ...\n",
        "* ...\n",
        "\n",
        "\n",
        "Chúng ta có thể nhận thấy điều này khi tạo hàm `preprocess_text_with_line_numbers()`. Khi chúng ta đọc trong một file văn bản tóm tắt, chúng ta đếm số dòng trong abstract cũng như số lượng từng dòng.\n",
        "\n",
        "Thực hiện như vậy sẽ dẫn đến các cột `\"line_number\"` và `\"total_lines\"` trong DataFrames."
      ]
    },
    {
      "cell_type": "code",
      "metadata": {
        "id": "Htf-tnFcEcAn",
        "colab": {
          "base_uri": "https://localhost:8080/",
          "height": 203
        },
        "outputId": "41e2420b-a87d-438b-f4aa-4a8f84329b48"
      },
      "source": [
        "# Kiểm tra training dataframe\n",
        "train_df.head()"
      ],
      "execution_count": null,
      "outputs": [
        {
          "output_type": "execute_result",
          "data": {
            "text/html": [
              "<div>\n",
              "<style scoped>\n",
              "    .dataframe tbody tr th:only-of-type {\n",
              "        vertical-align: middle;\n",
              "    }\n",
              "\n",
              "    .dataframe tbody tr th {\n",
              "        vertical-align: top;\n",
              "    }\n",
              "\n",
              "    .dataframe thead th {\n",
              "        text-align: right;\n",
              "    }\n",
              "</style>\n",
              "<table border=\"1\" class=\"dataframe\">\n",
              "  <thead>\n",
              "    <tr style=\"text-align: right;\">\n",
              "      <th></th>\n",
              "      <th>target</th>\n",
              "      <th>text</th>\n",
              "      <th>line_number</th>\n",
              "      <th>total_lines</th>\n",
              "    </tr>\n",
              "  </thead>\n",
              "  <tbody>\n",
              "    <tr>\n",
              "      <th>0</th>\n",
              "      <td>OBJECTIVE</td>\n",
              "      <td>to investigate the efficacy of @ weeks of dail...</td>\n",
              "      <td>0</td>\n",
              "      <td>11</td>\n",
              "    </tr>\n",
              "    <tr>\n",
              "      <th>1</th>\n",
              "      <td>METHODS</td>\n",
              "      <td>a total of @ patients with primary knee oa wer...</td>\n",
              "      <td>1</td>\n",
              "      <td>11</td>\n",
              "    </tr>\n",
              "    <tr>\n",
              "      <th>2</th>\n",
              "      <td>METHODS</td>\n",
              "      <td>outcome measures included pain reduction and i...</td>\n",
              "      <td>2</td>\n",
              "      <td>11</td>\n",
              "    </tr>\n",
              "    <tr>\n",
              "      <th>3</th>\n",
              "      <td>METHODS</td>\n",
              "      <td>pain was assessed using the visual analog pain...</td>\n",
              "      <td>3</td>\n",
              "      <td>11</td>\n",
              "    </tr>\n",
              "    <tr>\n",
              "      <th>4</th>\n",
              "      <td>METHODS</td>\n",
              "      <td>secondary outcome measures included the wester...</td>\n",
              "      <td>4</td>\n",
              "      <td>11</td>\n",
              "    </tr>\n",
              "  </tbody>\n",
              "</table>\n",
              "</div>"
            ],
            "text/plain": [
              "      target  ... total_lines\n",
              "0  OBJECTIVE  ...          11\n",
              "1    METHODS  ...          11\n",
              "2    METHODS  ...          11\n",
              "3    METHODS  ...          11\n",
              "4    METHODS  ...          11\n",
              "\n",
              "[5 rows x 4 columns]"
            ]
          },
          "metadata": {},
          "execution_count": 84
        }
      ]
    },
    {
      "cell_type": "markdown",
      "metadata": {
        "id": "IZ5HvKoiGU6m"
      },
      "source": [
        "Các cột `\"line_number\"` và `\"total_lines\"` là những đặc trưng không nhất thiết phải đi kèm với dữ liệu huấn luyện nhưng có thể truyền tới mô hình ở dạng **positional embedding**. Nói cách khác, positional embedding là nơi mà câu xuất hiện trong abstract.\n",
        "\n",
        "Chúng ta có thể sử dụng các đặc trưng này vì chúng sẽ khả dụng vào thời điểm thử nghiệm.\n",
        "\n",
        "![example of engineering features into our dataset to help our model](https://raw.githubusercontent.com/mrdbourke/tensorflow-deep-learning/main/images/09-engineered-features-at-test-time.png)\n",
        "*Vì các abstract thường có thứ tự tuần tự (chẳng hạn: bối cảnh, mục tiêu, phương pháp, kết quả, kết luận), nên cần thêm số dòng của câu cụ thể vào mô hình. Điều tuyệt vời là, các đặc trưng này sẽ khả dụng vào thời điểm kiểm tra (chúng ta chỉ có thể đếm số câu trong abstract và số lượng từng câu).*\n",
        "\n",
        "Có nghĩa là, nếu chúng ta dự đoán nhãn của các chuỗi trong một abstract mà mô hình chưa từng thấy, chúng ta có thể đếm số dòng, theo dõi vị trí của từng dòng riêng lẻ và chuyển nó vào mô hình của chúng ta.\n",
        "\n",
        "> 🛠 **Luyện tập:** Một cách khác để tạo đặc trưng positional embedding là kết hợp các cột `\"line_number\"` và `\"total_lines\"` thành một cột, ví dụ: cột `\"line_position\"` có thể chứa các giá trị như `1_of_11`, `2_of_11`,... Trong đó `1_of_11` là dòng đầu tiên trong abstract dài 11 câu. Sau khi thực hiện các bước sau, chúng ta có thể sẽ truy cập lại giai đoạn positional embedding này và xem cách cột kết hợp của `\"line_position\"` với hai cột riêng biệt khác nhau thế nào."
      ]
    },
    {
      "cell_type": "markdown",
      "metadata": {
        "id": "ABuz5baDJwY-"
      },
      "source": [
        "### Tạo positional embedding\n",
        "\n",
        "Chúng ta đã nói khá nhiều về positional embedding, hãy tạo chúng thôi.\n",
        "\n",
        "Vì các cột `\"line_number\"` và `\"total_line\"` ở dạng số, nên chúng ta có thể truyền chúng vào mô hình\n",
        "\n",
        "Nhưng để tránh mô hình nghĩ rằng dòng có `\"line_number\"=5` lớn hơn năm lần so với dòng có `\"line_number\"=1`, nên chúng ta sẽ sử dụng mã hóa one-hot để mã hóa các đặc trưng `\"line_number\"` và `\"total_lines\"`.\n",
        "\n",
        "Để thực hiện điều này, chúng ta có thể sử dụng hàm ích lợi [`tf.one_hot`](https://www.tensorflow.org/api_docs/python/tf/one_hot).\n",
        "\n",
        "`tf.one_hot` trả về tensor được mã hóa one-hot. Nó chấp nhận một mảng (hoặc tensor) làm đầu vào và tham số `depth` xác định chiều của tensor được trả về.\n",
        "\n",
        "Để biết nên thiết lập tham số `depth` như thế nào, hãy kiểm tra phân phối của cột `\"line_number\"`.\n",
        "\n",
        "> 🔑 **Lưu ý:** Khi đề cập đến mã hóa one hot các đặc trưng, lớp [`OneHotEncoder`](https://scikit-learn.org/stable/modules/generated/sklearn.preprocessing.OneHotEncoder.html) của Scikit-Learn là một lựa chọn khả thi khác ở đây."
      ]
    },
    {
      "cell_type": "code",
      "metadata": {
        "id": "LJVhuU7cMd0-",
        "colab": {
          "base_uri": "https://localhost:8080/"
        },
        "outputId": "bfde78db-7693-4789-ceb6-baa043426f27"
      },
      "source": [
        "# Có bao nhiêu dòng khác nhau?\n",
        "train_df[\"line_number\"].value_counts()"
      ],
      "execution_count": null,
      "outputs": [
        {
          "output_type": "execute_result",
          "data": {
            "text/plain": [
              "0     15000\n",
              "1     15000\n",
              "2     15000\n",
              "3     15000\n",
              "4     14992\n",
              "5     14949\n",
              "6     14758\n",
              "7     14279\n",
              "8     13346\n",
              "9     11981\n",
              "10    10041\n",
              "11     7892\n",
              "12     5853\n",
              "13     4152\n",
              "14     2835\n",
              "15     1861\n",
              "16     1188\n",
              "17      751\n",
              "18      462\n",
              "19      286\n",
              "20      162\n",
              "21      101\n",
              "22       66\n",
              "23       33\n",
              "24       22\n",
              "25       14\n",
              "26        7\n",
              "27        4\n",
              "28        3\n",
              "29        1\n",
              "30        1\n",
              "Name: line_number, dtype: int64"
            ]
          },
          "metadata": {},
          "execution_count": 85
        }
      ]
    },
    {
      "cell_type": "code",
      "metadata": {
        "id": "rKoNMSBNImLG",
        "colab": {
          "base_uri": "https://localhost:8080/",
          "height": 282
        },
        "outputId": "9f5a97b4-5fe1-49a9-cb31-a6e887a011c5"
      },
      "source": [
        "# Kiểm tra phân phối của cột \"line_number\"\n",
        "train_df.line_number.plot.hist()"
      ],
      "execution_count": null,
      "outputs": [
        {
          "output_type": "execute_result",
          "data": {
            "text/plain": [
              "<matplotlib.axes._subplots.AxesSubplot at 0x7f1f82197e50>"
            ]
          },
          "metadata": {},
          "execution_count": 86
        },
        {
          "output_type": "display_data",
          "data": {
            "image/png": "[encoded data removed]",
            "text/plain": [
              "<Figure size 432x288 with 1 Axes>"
            ]
          },
          "metadata": {
            "needs_background": "light"
          }
        }
      ]
    },
    {
      "cell_type": "markdown",
      "metadata": {
        "id": "pPnEkJvXKuf9"
      },
      "source": [
        "Quan sát phân phối của cột `\"line_number\"`, có vẻ như phần lớn các dòng có vị trí từ 15 trở xuống.\n",
        "\n",
        "Như vậy, hãy đặt tham số `depth` của `tf.one_hot` thành 15."
      ]
    },
    {
      "cell_type": "code",
      "metadata": {
        "id": "LsjdKcXUMkgE"
      },
      "source": [
        "# Sử dụng TensorFlow để tạo các tensor được mã hóa one-hot cho cột \"line_number\"\n",
        "train_line_numbers_one_hot = tf.one_hot(train_df[\"line_number\"].to_numpy(), depth=15)\n",
        "val_line_numbers_one_hot = tf.one_hot(val_df[\"line_number\"].to_numpy(), depth=15)\n",
        "test_line_numbers_one_hot = tf.one_hot(test_df[\"line_number\"].to_numpy(), depth=15)"
      ],
      "execution_count": null,
      "outputs": []
    },
    {
      "cell_type": "markdown",
      "metadata": {
        "id": "7MTRSo_OLWGS"
      },
      "source": [
        "Đặt tham số `depth` của `tf.one_hot` thành 15, có nghĩa là bất kỳ mẫu nào có giá trị `\"line_number\"` trên 15 sẽ được đặt thành tensor có giá trị 0, trong đó bất kỳ mẫu nào có `\"line_number\"` dưới 15 sẽ trở thành tensor có giá trị 0 nhưng với 1 ở chỉ mục bằng giá trị `\"line_number\"`.\n",
        "\n",
        "> 🔑 **Lưu ý:** Chúng ta có thể tạo một one-hot tensor có chỗ cho tất cả các giá trị tiềm năng của `\"line_number\"` (`depth=30`); tuy nhiên, điều này sẽ khiến tensor tăng gấp đôi kích thước hiện tại (`depth=15`), trong đó phần lớn giá trị là 0. Ngoài ra, chỉ có ~2,000/180,000 mẫu có giá trị `\"line_number\"` trên 15. Do vậy, chúng ta sẽ không thu được nhiều thông tin về dữ liệu để tăng gấp đôi không gian đặc trưng. Kiểu bài toán này được gọi là **curse of dimensionality**. Tuy nhiên, vì chúng ta đang làm việc với các mô hình sâu, hãy cố gắng cung cấp càng nhiều thông tin cho mô hình càng tốt và xem điều gì sẽ xảy ra. Chúng ta sẽ khám phá các giá trị của tham số `depth` ở phần mở rộng."
      ]
    },
    {
      "cell_type": "code",
      "metadata": {
        "id": "R7BERNOQK723",
        "colab": {
          "base_uri": "https://localhost:8080/"
        },
        "outputId": "b74387c2-1f01-4c5a-8cff-92a528410fc7"
      },
      "source": [
        "# Kiểm  tra các mẫu đặc trưng \"line_number\" được mã hóa one-hot\n",
        "train_line_numbers_one_hot.shape, train_line_numbers_one_hot[:20]"
      ],
      "execution_count": null,
      "outputs": [
        {
          "output_type": "execute_result",
          "data": {
            "text/plain": [
              "(TensorShape([180040, 15]), <tf.Tensor: shape=(20, 15), dtype=float32, numpy=\n",
              " array([[1., 0., 0., 0., 0., 0., 0., 0., 0., 0., 0., 0., 0., 0., 0.],\n",
              "        [0., 1., 0., 0., 0., 0., 0., 0., 0., 0., 0., 0., 0., 0., 0.],\n",
              "        [0., 0., 1., 0., 0., 0., 0., 0., 0., 0., 0., 0., 0., 0., 0.],\n",
              "        [0., 0., 0., 1., 0., 0., 0., 0., 0., 0., 0., 0., 0., 0., 0.],\n",
              "        [0., 0., 0., 0., 1., 0., 0., 0., 0., 0., 0., 0., 0., 0., 0.],\n",
              "        [0., 0., 0., 0., 0., 1., 0., 0., 0., 0., 0., 0., 0., 0., 0.],\n",
              "        [0., 0., 0., 0., 0., 0., 1., 0., 0., 0., 0., 0., 0., 0., 0.],\n",
              "        [0., 0., 0., 0., 0., 0., 0., 1., 0., 0., 0., 0., 0., 0., 0.],\n",
              "        [0., 0., 0., 0., 0., 0., 0., 0., 1., 0., 0., 0., 0., 0., 0.],\n",
              "        [0., 0., 0., 0., 0., 0., 0., 0., 0., 1., 0., 0., 0., 0., 0.],\n",
              "        [0., 0., 0., 0., 0., 0., 0., 0., 0., 0., 1., 0., 0., 0., 0.],\n",
              "        [0., 0., 0., 0., 0., 0., 0., 0., 0., 0., 0., 1., 0., 0., 0.],\n",
              "        [1., 0., 0., 0., 0., 0., 0., 0., 0., 0., 0., 0., 0., 0., 0.],\n",
              "        [0., 1., 0., 0., 0., 0., 0., 0., 0., 0., 0., 0., 0., 0., 0.],\n",
              "        [0., 0., 1., 0., 0., 0., 0., 0., 0., 0., 0., 0., 0., 0., 0.],\n",
              "        [0., 0., 0., 1., 0., 0., 0., 0., 0., 0., 0., 0., 0., 0., 0.],\n",
              "        [0., 0., 0., 0., 1., 0., 0., 0., 0., 0., 0., 0., 0., 0., 0.],\n",
              "        [0., 0., 0., 0., 0., 1., 0., 0., 0., 0., 0., 0., 0., 0., 0.],\n",
              "        [0., 0., 0., 0., 0., 0., 1., 0., 0., 0., 0., 0., 0., 0., 0.],\n",
              "        [0., 0., 0., 0., 0., 0., 0., 1., 0., 0., 0., 0., 0., 0., 0.]],\n",
              "       dtype=float32)>)"
            ]
          },
          "metadata": {},
          "execution_count": 88
        }
      ]
    },
    {
      "cell_type": "markdown",
      "metadata": {
        "id": "CxYgKu6tMBbg"
      },
      "source": [
        "Chúng ta có thể thực hiện tương tự cho cột `\"line_number\"` với cột `\"total_lines\"`. Đầu tiên, hãy tìm một giá trị thích hợp cho tham số `depth` của `tf.one_hot`."
      ]
    },
    {
      "cell_type": "code",
      "metadata": {
        "id": "S3bLbdWzOBmY",
        "colab": {
          "base_uri": "https://localhost:8080/"
        },
        "outputId": "6d7da296-7f65-47dc-8649-b05fe12a56bd"
      },
      "source": [
        "# Có bao nhiêu dòng khác nhau ở đây?\n",
        "train_df[\"total_lines\"].value_counts()"
      ],
      "execution_count": null,
      "outputs": [
        {
          "output_type": "execute_result",
          "data": {
            "text/plain": [
              "11    24468\n",
              "10    23639\n",
              "12    22113\n",
              "9     19400\n",
              "13    18438\n",
              "14    14610\n",
              "8     12285\n",
              "15    10768\n",
              "7      7464\n",
              "16     7429\n",
              "17     5202\n",
              "6      3353\n",
              "18     3344\n",
              "19     2480\n",
              "20     1281\n",
              "5      1146\n",
              "21      770\n",
              "22      759\n",
              "23      264\n",
              "4       215\n",
              "24      200\n",
              "25      182\n",
              "26       81\n",
              "28       58\n",
              "3        32\n",
              "30       31\n",
              "27       28\n",
              "Name: total_lines, dtype: int64"
            ]
          },
          "metadata": {},
          "execution_count": 89
        }
      ]
    },
    {
      "cell_type": "code",
      "metadata": {
        "id": "oxDN9ASLL9uY",
        "colab": {
          "base_uri": "https://localhost:8080/",
          "height": 267
        },
        "outputId": "c484eba7-4242-478c-df2d-76b887d94436"
      },
      "source": [
        "# Kiểm tra phân phối của total lines\n",
        "train_df.total_lines.plot.hist();"
      ],
      "execution_count": null,
      "outputs": [
        {
          "output_type": "display_data",
          "data": {
            "image/png": "[encoded data removed]",
            "text/plain": [
              "<Figure size 432x288 with 1 Axes>"
            ]
          },
          "metadata": {
            "needs_background": "light"
          }
        }
      ]
    },
    {
      "cell_type": "markdown",
      "metadata": {
        "id": "iBWX2cIHN_1J"
      },
      "source": [
        "Quan sát phân phối của cột `\"total_lines\"`, có vẻ giá trị 20 chiếm phần lớn các mẫu.\n",
        "\n",
        "Chúng ta có thể xác nhận điều này với [`np.percentile()`](https://numpy.org/doc/stable/reference/generated/numpy.percentile.html)."
      ]
    },
    {
      "cell_type": "code",
      "metadata": {
        "id": "or736pZLNwWn",
        "colab": {
          "base_uri": "https://localhost:8080/"
        },
        "outputId": "fdf309c3-190d-4861-e3e4-f80e30b3b73c"
      },
      "source": [
        " # Kiểm tra độ bao phủ của giá trị \"total_lines\" 20\n",
        "np.percentile(train_df.total_lines, 98) # giá trị 20 chiếm 98% mẫu"
      ],
      "execution_count": null,
      "outputs": [
        {
          "output_type": "execute_result",
          "data": {
            "text/plain": [
              "20.0"
            ]
          },
          "metadata": {},
          "execution_count": 91
        }
      ]
    },
    {
      "cell_type": "markdown",
      "metadata": {
        "id": "dy8Ds74HOLXQ"
      },
      "source": [
        "Nó chiếm khá nhiều mẫu. Hãy mã hóa one-hot cột `\"total_lines\"` như chúng ta đã làm với cột `\"line_number\"`."
      ]
    },
    {
      "cell_type": "code",
      "metadata": {
        "id": "Egqq3LnnN0Z6",
        "colab": {
          "base_uri": "https://localhost:8080/"
        },
        "outputId": "5a245b1f-0141-4548-bf43-3d2c754c3a80"
      },
      "source": [
        "# Sử dụng TensorFlow để tạo các tensor được mã hóa one-hot cho cột \"total_lines\"\n",
        "train_total_lines_one_hot = tf.one_hot(train_df[\"total_lines\"].to_numpy(), depth=20)\n",
        "val_total_lines_one_hot = tf.one_hot(val_df[\"total_lines\"].to_numpy(), depth=20)\n",
        "test_total_lines_one_hot = tf.one_hot(test_df[\"total_lines\"].to_numpy(), depth=20)\n",
        "\n",
        "# Kiểm tra shape và các mẫu của total lines one-hot tensor\n",
        "train_total_lines_one_hot.shape, train_total_lines_one_hot[:10]"
      ],
      "execution_count": null,
      "outputs": [
        {
          "output_type": "execute_result",
          "data": {
            "text/plain": [
              "(TensorShape([180040, 20]), <tf.Tensor: shape=(10, 20), dtype=float32, numpy=\n",
              " array([[0., 0., 0., 0., 0., 0., 0., 0., 0., 0., 0., 1., 0., 0., 0., 0.,\n",
              "         0., 0., 0., 0.],\n",
              "        [0., 0., 0., 0., 0., 0., 0., 0., 0., 0., 0., 1., 0., 0., 0., 0.,\n",
              "         0., 0., 0., 0.],\n",
              "        [0., 0., 0., 0., 0., 0., 0., 0., 0., 0., 0., 1., 0., 0., 0., 0.,\n",
              "         0., 0., 0., 0.],\n",
              "        [0., 0., 0., 0., 0., 0., 0., 0., 0., 0., 0., 1., 0., 0., 0., 0.,\n",
              "         0., 0., 0., 0.],\n",
              "        [0., 0., 0., 0., 0., 0., 0., 0., 0., 0., 0., 1., 0., 0., 0., 0.,\n",
              "         0., 0., 0., 0.],\n",
              "        [0., 0., 0., 0., 0., 0., 0., 0., 0., 0., 0., 1., 0., 0., 0., 0.,\n",
              "         0., 0., 0., 0.],\n",
              "        [0., 0., 0., 0., 0., 0., 0., 0., 0., 0., 0., 1., 0., 0., 0., 0.,\n",
              "         0., 0., 0., 0.],\n",
              "        [0., 0., 0., 0., 0., 0., 0., 0., 0., 0., 0., 1., 0., 0., 0., 0.,\n",
              "         0., 0., 0., 0.],\n",
              "        [0., 0., 0., 0., 0., 0., 0., 0., 0., 0., 0., 1., 0., 0., 0., 0.,\n",
              "         0., 0., 0., 0.],\n",
              "        [0., 0., 0., 0., 0., 0., 0., 0., 0., 0., 0., 1., 0., 0., 0., 0.,\n",
              "         0., 0., 0., 0.]], dtype=float32)>)"
            ]
          },
          "metadata": {},
          "execution_count": 92
        }
      ]
    },
    {
      "cell_type": "markdown",
      "metadata": {
        "id": "JVJWCANtQMiJ"
      },
      "source": [
        "### Xây dựng mô hình tribrid embedding\n",
        "\n",
        "Tuyệt vời! Các Positional embedding tensor đã sẵn sàng.\n",
        "\n",
        "ã đến lúc xây dựng mô hình lớn nhất mà chúng ta từng xây dựng, kết hợp token embedding, character embedding và positional embedding mới được tạo.\n",
        "\n",
        "Chúng ta sẽ xây dựng một mô hình chưa từng khám phá nhưng chúng ta đều nắm được mọi thứ cần thiết.\n",
        "\n",
        "Cụ thể, chúng ta sẽ thực hiện các bước sau:\n",
        "\n",
        "1. Tạo mô hình ở cấp độ token (tương tự `model_1`)\n",
        "2. Tạo mô hình ở cấp độ ký tự (tương tự `model_3` với một chút sửa đổi để so sánh với tài liệu)\n",
        "3. Tạo mô hình `\"line_number\"`(lấy tensor `\"line_number\"` được mã hóa one-hot và truyền nó qua một layer phi tuyến tính)\n",
        "4. Tạo mô hình `\"total_lines\"` (lấy tensor `\"total_lines\"` được mã hóa one-hot và truyền nó qua một layer phi tuyến tính)\n",
        "5. Kết hợp (sử dụng [`layers.Concatenate`](https://www.tensorflow.org/api_docs/python/tf/keras/layers/Concatenate)) đầu ra của 1 và 2  thành một token-character-hybrid embedding và truyền chuỗi đầu ra của nó cho Hình 1 và phần  4.2 của [*Neural Networks for Joint Sentence Classification\n",
        "in Medical Paper Abstracts*](https://arxiv.org/pdf/1612.05251.pdf)\n",
        "6. Kết hợp (sử dụng [`layers.Concatenate`](https://www.tensorflow.org/api_docs/python/tf/keras/layers/Concatenate)) đầu ra của 3, 4 và 5 thành một token-character-positional tribrid embedding\n",
        "7. Tạo một layer đầu ra để chấp nhận tribrid embedding và xuất ra các xác suất nhãn đã dự đoán\n",
        "8. Kết hợp các đầu vào của 1, 2, 3, 4 và đầu ra của 7 thành [`tf.keras.Model`](https://www.tensorflow.org/api_docs/python/tf/keras/Model).\n",
        "\n",
        "Rất nhiều thứ cần thực hiện ... không có gì mà chúng ta không thực hiện được. Hãy mã hóa nó."
      ]
    },
    {
      "cell_type": "code",
      "metadata": {
        "id": "aPiFnY8E0oPS"
      },
      "source": [
        "# 1. Token inputs\n",
        "token_inputs = layers.Input(shape=[], dtype=\"string\", name=\"token_inputs\")\n",
        "token_embeddings = tf_hub_embedding_layer(token_inputs)\n",
        "token_outputs = layers.Dense(128, activation=\"relu\")(token_embeddings)\n",
        "token_model = tf.keras.Model(inputs=token_inputs,\n",
        "                             outputs=token_embeddings)\n",
        "\n",
        "# 2. Char inputs\n",
        "char_inputs = layers.Input(shape=(1,), dtype=\"string\", name=\"char_inputs\")\n",
        "char_vectors = char_vectorizer(char_inputs)\n",
        "char_embeddings = char_embed(char_vectors)\n",
        "char_bi_lstm = layers.Bidirectional(layers.LSTM(32))(char_embeddings)\n",
        "char_model = tf.keras.Model(inputs=char_inputs,\n",
        "                            outputs=char_bi_lstm)\n",
        "\n",
        "# 3. Line numbers inputs\n",
        "line_number_inputs = layers.Input(shape=(15,), dtype=tf.int32, name=\"line_number_input\")\n",
        "x = layers.Dense(32, activation=\"relu\")(line_number_inputs)\n",
        "line_number_model = tf.keras.Model(inputs=line_number_inputs,\n",
        "                                   outputs=x)\n",
        "\n",
        "# 4. Total lines inputs\n",
        "total_lines_inputs = layers.Input(shape=(20,), dtype=tf.int32, name=\"total_lines_input\")\n",
        "y = layers.Dense(32, activation=\"relu\")(total_lines_inputs)\n",
        "total_line_model = tf.keras.Model(inputs=total_lines_inputs,\n",
        "                                  outputs=y)\n",
        "\n",
        "# 5. Kết hợp token embeddings và char embeddings thành hybrid embedding\n",
        "combined_embeddings = layers.Concatenate(name=\"token_char_hybrid_embedding\")([token_model.output,\n",
        "                                                                              char_model.output])\n",
        "z = layers.Dense(256, activation=\"relu\")(combined_embeddings)\n",
        "z = layers.Dropout(0.5)(z)\n",
        "\n",
        "# 6. Kết hợp positional embeddings với token và char embeddings đã kết hợp thành tribrid embedding\n",
        "z = layers.Concatenate(name=\"token_char_positional_embedding\")([line_number_model.output,\n",
        "                                                                total_line_model.output,\n",
        "                                                                z])\n",
        "\n",
        "# 7. Tạo output layer\n",
        "output_layer = layers.Dense(5, activation=\"softmax\", name=\"output_layer\")(z)\n",
        "\n",
        "# 8. Kết hợp thành một mô hình\n",
        "model_5 = tf.keras.Model(inputs=[line_number_model.input,\n",
        "                                 total_line_model.input,\n",
        "                                 token_model.input,\n",
        "                                 char_model.input],\n",
        "                         outputs=output_layer)"
      ],
      "execution_count": null,
      "outputs": []
    },
    {
      "cell_type": "markdown",
      "metadata": {
        "id": "KVhTeiveWf4X"
      },
      "source": [
        "Có rất nhiều thứ đang diễn ra ở đây ... hãy hình dung những gì đang xảy ra với summary bằng cách vẽ sơ đồ mô hình."
      ]
    },
    {
      "cell_type": "code",
      "metadata": {
        "id": "n7eJOhlKfVQJ",
        "colab": {
          "base_uri": "https://localhost:8080/"
        },
        "outputId": "672d44c0-7f90-470c-fe02-e161db7fb478"
      },
      "source": [
        "# Lấy summary của mô hình token, char và positional embedding\n",
        "model_5.summary()"
      ],
      "execution_count": null,
      "outputs": [
        {
          "output_type": "stream",
          "text": [
            "Model: \"model_8\"\n",
            "__________________________________________________________________________________________________\n",
            "Layer (type)                    Output Shape         Param #     Connected to                     \n",
            "==================================================================================================\n",
            "char_inputs (InputLayer)        [(None, 1)]          0                                            \n",
            "__________________________________________________________________________________________________\n",
            "char_vectorizer (TextVectorizat (None, 290)          0           char_inputs[0][0]                \n",
            "__________________________________________________________________________________________________\n",
            "token_inputs (InputLayer)       [(None,)]            0                                            \n",
            "__________________________________________________________________________________________________\n",
            "char_embed (Embedding)          (None, 290, 25)      1750        char_vectorizer[2][0]            \n",
            "__________________________________________________________________________________________________\n",
            "universal_sentence_encoder (Ker (None, 512)          256797824   token_inputs[0][0]               \n",
            "__________________________________________________________________________________________________\n",
            "bidirectional_1 (Bidirectional) (None, 64)           14848       char_embed[2][0]                 \n",
            "__________________________________________________________________________________________________\n",
            "token_char_hybrid_embedding (Co (None, 576)          0           universal_sentence_encoder[2][0] \n",
            "                                                                 bidirectional_1[0][0]            \n",
            "__________________________________________________________________________________________________\n",
            "line_number_input (InputLayer)  [(None, 15)]         0                                            \n",
            "__________________________________________________________________________________________________\n",
            "total_lines_input (InputLayer)  [(None, 20)]         0                                            \n",
            "__________________________________________________________________________________________________\n",
            "dense_10 (Dense)                (None, 256)          147712      token_char_hybrid_embedding[0][0]\n",
            "__________________________________________________________________________________________________\n",
            "dense_8 (Dense)                 (None, 32)           512         line_number_input[0][0]          \n",
            "__________________________________________________________________________________________________\n",
            "dense_9 (Dense)                 (None, 32)           672         total_lines_input[0][0]          \n",
            "__________________________________________________________________________________________________\n",
            "dropout_2 (Dropout)             (None, 256)          0           dense_10[0][0]                   \n",
            "__________________________________________________________________________________________________\n",
            "token_char_positional_embedding (None, 320)          0           dense_8[0][0]                    \n",
            "                                                                 dense_9[0][0]                    \n",
            "                                                                 dropout_2[0][0]                  \n",
            "__________________________________________________________________________________________________\n",
            "output_layer (Dense)            (None, 5)            1605        token_char_positional_embedding[0\n",
            "==================================================================================================\n",
            "Total params: 256,964,923\n",
            "Trainable params: 167,099\n",
            "Non-trainable params: 256,797,824\n",
            "__________________________________________________________________________________________________\n"
          ],
          "name": "stdout"
        }
      ]
    },
    {
      "cell_type": "code",
      "metadata": {
        "id": "uM0dohpZ_v5U",
        "colab": {
          "base_uri": "https://localhost:8080/",
          "height": 856
        },
        "outputId": "685bed33-43be-49d1-9770-5e2a9f8f5d51"
      },
      "source": [
        "# Vẽ mô hình token, char, positional embedding\n",
        "from tensorflow.keras.utils import plot_model\n",
        "plot_model(model_5)"
      ],
      "execution_count": null,
      "outputs": [
        {
          "output_type": "execute_result",
          "data": {
            "image/png": "[encoded data removed]",
            "text/plain": [
              "<IPython.core.display.Image object>"
            ]
          },
          "metadata": {},
          "execution_count": 95
        }
      ]
    },
    {
      "cell_type": "markdown",
      "metadata": {
        "id": "G8B73w06Wxxm"
      },
      "source": [
        "Việc trực quan hóa mô hình sẽ giúp nó trông dễ hiểu hơn nhiều.\n",
        "\n",
        "Nhìn chung, chúng ta đang cố gắng mã hóa nhiều thông tin về chuỗi nhất có thể thành các embedding khác nhau (đầu vào cho mô hình) để mô hình có cơ hội tìm ra nhãn nào thuộc về chuỗi (đầu ra của mô hình).\n",
        "\n",
        "Bạn sẽ nhận thấy mô hình của chúng ta trông rất giống với mô hình được hiển thị trong Hình 1 của [*Neural Networks for Joint Sentence Classification\n",
        "in Medical Paper Abstracts*](https://arxiv.org/pdf/1612.05251.pdf). Tuy nhiên, vẫn có một số điểm khác biệt:\n",
        "* Chúng ta đang sử dụng pretrained TensorFlow Hub token embedding thay vì GloVe emebdding.\n",
        "* Chúng ta đang sử dụng Dense layer trên đầu token-character hybrid embedding thay vì bi-LSTM layer.\n",
        "* Phần 3.1.3 của tài liệu đề cập đến layer tối ưu label sequence (giúp đảm bảo các sequence label xuất hiện theo thứ tự phù hợp) nhưng nó không được hiển thị trong Hình 1. Để bù vào phần thiếu của layer này trong mô hình, chúng ta tạo các layer positional embedding.\n",
        "* Phần 4.2 của tài liệu đề cập đến việc token embedding và character embedding được cập nhật trong quá trình huấn luyện, pretrained TensorFlow Hub embedding thì vẫn bị đóng băng.\n",
        "* Tài liệu sử dụng [`SGD`](https://www.tensorflow.org/api_docs/python/tf/keras/optimizers/SGD) optimizer, nhưng chúng ta sẽ sử dụng [`Adam`](https://www.tensorflow.org/api_docs/python/tf/keras/optimizers/Adam).\n",
        "\n",
        "Tất cả những điểm khác biệt trên đều là những phần mở rộng tiềm năng của dự án này."
      ]
    },
    {
      "cell_type": "code",
      "metadata": {
        "id": "Ud8arQOTUtRl",
        "colab": {
          "base_uri": "https://localhost:8080/"
        },
        "outputId": "ba427037-8be1-4a34-e3bf-fe8746497384"
      },
      "source": [
        "# Kiểm tra những layer nào của mô hình có thể huấn luyện\n",
        "for layer in model_5.layers:\n",
        "  print(layer, layer.trainable)"
      ],
      "execution_count": null,
      "outputs": [
        {
          "output_type": "stream",
          "text": [
            "<keras.engine.input_layer.InputLayer object at 0x7f1fa3d725d0> True\n",
            "<keras.layers.preprocessing.text_vectorization.TextVectorization object at 0x7f1ecec2d0d0> True\n",
            "<keras.engine.input_layer.InputLayer object at 0x7f1fa3d22210> True\n",
            "<keras.layers.embeddings.Embedding object at 0x7f1ececbc8d0> True\n",
            "<tensorflow_hub.keras_layer.KerasLayer object at 0x7f1fa586e5d0> False\n",
            "<keras.layers.wrappers.Bidirectional object at 0x7f1fa3dff090> True\n",
            "<keras.layers.merge.Concatenate object at 0x7f1fb14effd0> True\n",
            "<keras.engine.input_layer.InputLayer object at 0x7f1fa3ec1890> True\n",
            "<keras.engine.input_layer.InputLayer object at 0x7f1fa3ef9610> True\n",
            "<keras.layers.core.Dense object at 0x7f1fb14efbd0> True\n",
            "<keras.layers.core.Dense object at 0x7f1fa3d9b110> True\n",
            "<keras.layers.core.Dense object at 0x7f1fb14e4f10> True\n",
            "<keras.layers.core.Dropout object at 0x7f1fb14efed0> True\n",
            "<keras.layers.merge.Concatenate object at 0x7f1fb14e49d0> True\n",
            "<keras.layers.core.Dense object at 0x7f1fb14f3790> True\n"
          ],
          "name": "stdout"
        }
      ]
    },
    {
      "cell_type": "markdown",
      "metadata": {
        "id": "RqUCaJPKY9o_"
      },
      "source": [
        "Mô hình đã được tạo, hãy biên dịch nó.\n",
        "\n",
        "Lần này, chúng ta sẽ giới thiệu một tham số mới cho hàm mất mát là `label_smoothing`. `label_smoothing` giúp điều chỉnh mô hình (ngăn chặn overfitting) bằng cách đảm bảo nó không quá tập trung vào việc áp dụng một nhãn cụ thể cho một mẫu.\n",
        "\n",
        "Ví dụ: thay vì có dự đoán đầu ra là:\n",
        "* `[0.0, 0.0, 1.0, 0.0, 0.0]` cho một mẫu (mô hình rất tự tin rằng nhãn đúng là chỉ số 2).\n",
        "\n",
        "Các dự đoán của nó sẽ trở nên mượt mà giống như:\n",
        "* `[0.01, 0.01, 0.096, 0.01, 0.01]` tạo ra một kích hoạt nhỏ cho từng nhãn khác, có hy vọng cải thiện khả năng khái quát.\n",
        "\n",
        "> 📖 **Tài liệu:** Để biết thêm về label smoothing, hãy xem bài đăng trên blog của PyImageSearch: [*Label smoothing with Keras, TensorFlow, and Deep Learning*](https://www.pyimagesearch.com/2019/12/30/label-smoothing-with-keras-tensorflow-and-deep-learning/)."
      ]
    },
    {
      "cell_type": "code",
      "metadata": {
        "id": "nwYd_dWPS8EB"
      },
      "source": [
        "# Biên dịch mô hình token, char, positional embedding\n",
        "model_5.compile(loss=tf.keras.losses.CategoricalCrossentropy(label_smoothing=0.2), # thêm label smoothing (các mẫu thực sự tự tin sẽ làm mịn một chút)\n",
        "                optimizer=tf.keras.optimizers.Adam(),\n",
        "                metrics=[\"accuracy\"])"
      ],
      "execution_count": null,
      "outputs": []
    },
    {
      "cell_type": "markdown",
      "metadata": {
        "id": "vrXEGlcUZXAE"
      },
      "source": [
        "### Tạo tribrid embedding datasets và khớp mô hình fit tribrid\n",
        "\n",
        "Mô hình đã biên dịch!\n",
        "\n",
        "Một lần nữa, để các thử nghiệm diễn ra nhanh chóng, hãy lấy 20,000 mẫu cho 3 epoch.\n",
        "\n",
        "Lần này mô hình của chúng ta yêu cầu bốn đầu vào đặc trưng:\n",
        "1. Train line numbers one-hot tensor (`train_line_numbers_one_hot`)\n",
        "2. Train total lines one-hot tensor (`train_total_lines_one_hot`)\n",
        "3. Token-level sequences tensor (`train_sentences`)\n",
        "4. Char-level sequences tensor (`train_chars`)\n",
        "\n",
        "Chúng ta có thể truyền chúng dưới dạng tuple vào phương thức `tf.data.Dataset.from_tensor_slices()` để tạo các `PrefetchedDataset` theo batch có shape thích hợp."
      ]
    },
    {
      "cell_type": "code",
      "metadata": {
        "colab": {
          "base_uri": "https://localhost:8080/"
        },
        "id": "8FDNHSIRyEE2",
        "outputId": "64f4b15b-c34b-43cf-8591-2ffe8dd9d9f5"
      },
      "source": [
        "# Tạo training và validation datasets (tất cả 4 loại đầu vào)\n",
        "train_pos_char_token_data = tf.data.Dataset.from_tensor_slices((train_line_numbers_one_hot, # số dòng\n",
        "                                                                train_total_lines_one_hot, # tổng số dòng\n",
        "                                                                train_sentences, # huấn luyện token\n",
        "                                                                train_chars)) # huấn luyện char\n",
        "train_pos_char_token_labels = tf.data.Dataset.from_tensor_slices(train_labels_one_hot) # huấn luyện nhãn\n",
        "train_pos_char_token_dataset = tf.data.Dataset.zip((train_pos_char_token_data, train_pos_char_token_labels)) # kết hợp dữ liệu và nhãn\n",
        "train_pos_char_token_dataset = train_pos_char_token_dataset.batch(32).prefetch(tf.data.AUTOTUNE) # biến thành các batch và prefetch một cách hợp lý\n",
        "\n",
        "# Validation dataset\n",
        "val_pos_char_token_data = tf.data.Dataset.from_tensor_slices((val_line_numbers_one_hot,\n",
        "                                                              val_total_lines_one_hot,\n",
        "                                                              val_sentences,\n",
        "                                                              val_chars))\n",
        "val_pos_char_token_labels = tf.data.Dataset.from_tensor_slices(val_labels_one_hot)\n",
        "val_pos_char_token_dataset = tf.data.Dataset.zip((val_pos_char_token_data, val_pos_char_token_labels))\n",
        "val_pos_char_token_dataset = val_pos_char_token_dataset.batch(32).prefetch(tf.data.AUTOTUNE) # biến thành các batch và prefetch một cách hợp lý\n",
        "\n",
        "# Kiểm tra shape đầu vào\n",
        "train_pos_char_token_dataset, val_pos_char_token_dataset"
      ],
      "execution_count": null,
      "outputs": [
        {
          "output_type": "execute_result",
          "data": {
            "text/plain": [
              "(<PrefetchDataset shapes: (((None, 15), (None, 20), (None,), (None,)), (None, 5)), types: ((tf.float32, tf.float32, tf.string, tf.string), tf.float64)>,\n",
              " <PrefetchDataset shapes: (((None, 15), (None, 20), (None,), (None,)), (None, 5)), types: ((tf.float32, tf.float32, tf.string, tf.string), tf.float64)>)"
            ]
          },
          "metadata": {},
          "execution_count": 98
        }
      ]
    },
    {
      "cell_type": "code",
      "metadata": {
        "colab": {
          "base_uri": "https://localhost:8080/"
        },
        "id": "LiAjolB7yLxw",
        "outputId": "05a27fed-63b9-4451-d854-57608b674527"
      },
      "source": [
        "# Khớp mô hình token, char và positional embedding\n",
        "history_model_5 = model_5.fit(train_pos_char_token_dataset,\n",
        "                              steps_per_epoch=int(0.1 * len(train_pos_char_token_dataset)),\n",
        "                              epochs=3,\n",
        "                              validation_data=val_pos_char_token_dataset,\n",
        "                              validation_steps=int(0.1 * len(val_pos_char_token_dataset)))"
      ],
      "execution_count": null,
      "outputs": [
        {
          "output_type": "stream",
          "text": [
            "Epoch 1/3\n",
            "562/562 [==============================] - 24s 36ms/step - loss: 1.1013 - accuracy: 0.7260 - val_loss: 0.9930 - val_accuracy: 0.8002\n",
            "Epoch 2/3\n",
            "562/562 [==============================] - 19s 34ms/step - loss: 0.9771 - accuracy: 0.8114 - val_loss: 0.9606 - val_accuracy: 0.8268\n",
            "Epoch 3/3\n",
            "562/562 [==============================] - 19s 34ms/step - loss: 0.9627 - accuracy: 0.8180 - val_loss: 0.9493 - val_accuracy: 0.8271\n"
          ],
          "name": "stdout"
        }
      ]
    },
    {
      "cell_type": "markdown",
      "metadata": {
        "id": "fS88IaN_auu8"
      },
      "source": [
        "Mô hình Tribrid được huấn luyện! Hãy đưa ra một số dự đoán với nó và đánh giá chúng giống như chúng ta đã làm trước đây."
      ]
    },
    {
      "cell_type": "code",
      "metadata": {
        "id": "V6AtA9ffcC8Y",
        "colab": {
          "base_uri": "https://localhost:8080/"
        },
        "outputId": "0862fd0f-11d6-4e49-871d-5af372c1c7b7"
      },
      "source": [
        "# Đưa ra dự đoán với mô hình token-char-positional hybrid\n",
        "model_5_pred_probs = model_5.predict(val_pos_char_token_dataset, verbose=1)\n",
        "model_5_pred_probs"
      ],
      "execution_count": null,
      "outputs": [
        {
          "output_type": "stream",
          "text": [
            "945/945 [==============================] - 20s 20ms/step\n"
          ],
          "name": "stdout"
        },
        {
          "output_type": "execute_result",
          "data": {
            "text/plain": [
              "array([[0.51536554, 0.10340027, 0.01223736, 0.34324795, 0.02574881],\n",
              "       [0.5037048 , 0.1263607 , 0.0476622 , 0.3120701 , 0.01020223],\n",
              "       [0.31137902, 0.10944027, 0.11880615, 0.3917513 , 0.06862326],\n",
              "       ...,\n",
              "       [0.04232275, 0.09047632, 0.04658423, 0.02905692, 0.7915597 ],\n",
              "       [0.03812133, 0.3116883 , 0.10215054, 0.02388792, 0.5241519 ],\n",
              "       [0.18210074, 0.5038779 , 0.18253621, 0.03620264, 0.0952825 ]],\n",
              "      dtype=float32)"
            ]
          },
          "metadata": {},
          "execution_count": 100
        }
      ]
    },
    {
      "cell_type": "code",
      "metadata": {
        "id": "l7x2LKrFc6CN",
        "colab": {
          "base_uri": "https://localhost:8080/"
        },
        "outputId": "dc3d192d-d2a0-4581-8e68-2239366deadd"
      },
      "source": [
        "# Biến xác suất dự đoán thành lớp dự đoán\n",
        "model_5_preds = tf.argmax(model_5_pred_probs, axis=1)\n",
        "model_5_preds"
      ],
      "execution_count": null,
      "outputs": [
        {
          "output_type": "execute_result",
          "data": {
            "text/plain": [
              "<tf.Tensor: shape=(30212,), dtype=int64, numpy=array([0, 0, 3, ..., 4, 4, 1])>"
            ]
          },
          "metadata": {},
          "execution_count": 101
        }
      ]
    },
    {
      "cell_type": "code",
      "metadata": {
        "id": "dogdVk02dO62",
        "colab": {
          "base_uri": "https://localhost:8080/"
        },
        "outputId": "23379661-1890-4a75-972c-0d27de68b439"
      },
      "source": [
        "# Tính toán các kết quả của mô hình token-char-positional hybrid\n",
        "model_5_results = calculate_results(y_true=val_labels_encoded,\n",
        "                                    y_pred=model_5_preds)\n",
        "model_5_results"
      ],
      "execution_count": null,
      "outputs": [
        {
          "output_type": "execute_result",
          "data": {
            "text/plain": [
              "{'accuracy': 82.6128690586522,\n",
              " 'f1': 0.8250369638872138,\n",
              " 'precision': 0.8244488224211757,\n",
              " 'recall': 0.8261286905865219}"
            ]
          },
          "metadata": {},
          "execution_count": 102
        }
      ]
    },
    {
      "cell_type": "markdown",
      "metadata": {
        "id": "yranVE5soBdf"
      },
      "source": [
        "## So sánh các kết quả mô hình\n",
        "\n",
        "Chúng ta đã đi được một chặng đường dài, từ mô hình cơ sở đến huấn luyện một mô hình chứa ba loại embedding khác nhau.\n",
        "\n",
        "Bây giờ, hãy so sánh chất lượng của từng mô hình với nhau.\n",
        "\n",
        "Chúng ta cũng có thể so sánh mô hình của chúng ta với tài liệu [*PubMed 200k RCT:\n",
        "a Dataset for Sequential Sentence Classification in Medical Abstracts*](https://arxiv.org/pdf/1710.06071.pdf).\n",
        "\n",
        "Vì tất cả các kết quả mô hình của chúng ta đều nằm trong dictionary, nên hãy kết hợp chúng thành một pandas DataFrame để trực quan hóa chúng."
      ]
    },
    {
      "cell_type": "code",
      "metadata": {
        "id": "uJtoRSYGb2VP",
        "colab": {
          "base_uri": "https://localhost:8080/",
          "height": 234
        },
        "outputId": "0f8db6d0-bc57-4db6-cb81-02233b550c76"
      },
      "source": [
        "# Kết hợp các kết quả của mô hình thành một DataFrame\n",
        "all_model_results = pd.DataFrame({\"baseline\": baseline_results,\n",
        "                                  \"custom_token_embed_conv1d\": model_1_results,\n",
        "                                  \"pretrained_token_embed\": model_2_results,\n",
        "                                  \"custom_char_embed_conv1d\": model_3_results,\n",
        "                                  \"hybrid_char_token_embed\": model_4_results,\n",
        "                                  \"tribrid_pos_char_token_embed\": model_5_results})\n",
        "all_model_results = all_model_results.transpose()\n",
        "all_model_results"
      ],
      "execution_count": null,
      "outputs": [
        {
          "output_type": "execute_result",
          "data": {
            "text/html": [
              "<div>\n",
              "<style scoped>\n",
              "    .dataframe tbody tr th:only-of-type {\n",
              "        vertical-align: middle;\n",
              "    }\n",
              "\n",
              "    .dataframe tbody tr th {\n",
              "        vertical-align: top;\n",
              "    }\n",
              "\n",
              "    .dataframe thead th {\n",
              "        text-align: right;\n",
              "    }\n",
              "</style>\n",
              "<table border=\"1\" class=\"dataframe\">\n",
              "  <thead>\n",
              "    <tr style=\"text-align: right;\">\n",
              "      <th></th>\n",
              "      <th>accuracy</th>\n",
              "      <th>precision</th>\n",
              "      <th>recall</th>\n",
              "      <th>f1</th>\n",
              "    </tr>\n",
              "  </thead>\n",
              "  <tbody>\n",
              "    <tr>\n",
              "      <th>baseline</th>\n",
              "      <td>72.183238</td>\n",
              "      <td>0.718647</td>\n",
              "      <td>0.721832</td>\n",
              "      <td>0.698925</td>\n",
              "    </tr>\n",
              "    <tr>\n",
              "      <th>custom_token_embed_conv1d</th>\n",
              "      <td>78.448961</td>\n",
              "      <td>0.781494</td>\n",
              "      <td>0.784490</td>\n",
              "      <td>0.782299</td>\n",
              "    </tr>\n",
              "    <tr>\n",
              "      <th>pretrained_token_embed</th>\n",
              "      <td>71.425261</td>\n",
              "      <td>0.714881</td>\n",
              "      <td>0.714253</td>\n",
              "      <td>0.711455</td>\n",
              "    </tr>\n",
              "    <tr>\n",
              "      <th>custom_char_embed_conv1d</th>\n",
              "      <td>65.877797</td>\n",
              "      <td>0.654501</td>\n",
              "      <td>0.658778</td>\n",
              "      <td>0.651686</td>\n",
              "    </tr>\n",
              "    <tr>\n",
              "      <th>hybrid_char_token_embed</th>\n",
              "      <td>73.623064</td>\n",
              "      <td>0.737075</td>\n",
              "      <td>0.736231</td>\n",
              "      <td>0.733561</td>\n",
              "    </tr>\n",
              "    <tr>\n",
              "      <th>tribrid_pos_char_token_embed</th>\n",
              "      <td>82.612869</td>\n",
              "      <td>0.824449</td>\n",
              "      <td>0.826129</td>\n",
              "      <td>0.825037</td>\n",
              "    </tr>\n",
              "  </tbody>\n",
              "</table>\n",
              "</div>"
            ],
            "text/plain": [
              "                               accuracy  precision    recall        f1\n",
              "baseline                      72.183238   0.718647  0.721832  0.698925\n",
              "custom_token_embed_conv1d     78.448961   0.781494  0.784490  0.782299\n",
              "pretrained_token_embed        71.425261   0.714881  0.714253  0.711455\n",
              "custom_char_embed_conv1d      65.877797   0.654501  0.658778  0.651686\n",
              "hybrid_char_token_embed       73.623064   0.737075  0.736231  0.733561\n",
              "tribrid_pos_char_token_embed  82.612869   0.824449  0.826129  0.825037"
            ]
          },
          "metadata": {},
          "execution_count": 103
        }
      ]
    },
    {
      "cell_type": "code",
      "metadata": {
        "id": "9G--0tQkb5tq"
      },
      "source": [
        "# Giảm accuracy xuống cùng thang đo như các phép đo khác\n",
        "all_model_results[\"accuracy\"] = all_model_results[\"accuracy\"]/100"
      ],
      "execution_count": null,
      "outputs": []
    },
    {
      "cell_type": "code",
      "metadata": {
        "id": "JHtN7qJ3cAA3",
        "colab": {
          "base_uri": "https://localhost:8080/",
          "height": 571
        },
        "outputId": "f59b1872-129e-4b6b-ef66-4678fd6f0cf3"
      },
      "source": [
        "# Vẽ và so sánh các kết quả của mô hình\n",
        "all_model_results.plot(kind=\"bar\", figsize=(10, 7)).legend(bbox_to_anchor=(1.0, 1.0));"
      ],
      "execution_count": null,
      "outputs": [
        {
          "output_type": "display_data",
          "data": {
            "image/png": "[encoded data removed]",
            "text/plain": [
              "<Figure size 720x504 with 1 Axes>"
            ]
          },
          "metadata": {
            "needs_background": "light"
          }
        }
      ]
    },
    {
      "cell_type": "markdown",
      "metadata": {
        "id": "PI36lZHpcE53"
      },
      "source": [
        "Vì tài liệu [*PubMed 200k RCT:\n",
        "a Dataset for Sequential Sentence Classification in Medical Abstracts*](https://arxiv.org/pdf/1710.06071.pdf) so sánh F1-score của mô hình được thử nghiệm trên tập dữ liệu kiểm tra, chúng ta hãy xem xét F1-score cho mô hình của chúng ta.\n",
        "\n",
        "> 🔑 **Lưu ý:** Chúng ta cũng có thể thực hiện những so sánh này trong TensorBoard bằng cách sử dụng [`TensorBoard`](https://www.tensorflow.org/api_docs/python/tf/keras/callbacks/TensorBoard) callback trong quá trình huấn luyện."
      ]
    },
    {
      "cell_type": "code",
      "metadata": {
        "id": "PtDMFKsCcD1j",
        "colab": {
          "base_uri": "https://localhost:8080/",
          "height": 571
        },
        "outputId": "be94dea6-0dfd-405c-a986-4d8478c46bc6"
      },
      "source": [
        "# Sắp xếp kết quả mô hình theo f1-score\n",
        "all_model_results.sort_values(\"f1\", ascending=False)[\"f1\"].plot(kind=\"bar\", figsize=(10, 7));"
      ],
      "execution_count": null,
      "outputs": [
        {
          "output_type": "display_data",
          "data": {
            "image/png": "[encoded data removed]",
            "text/plain": [
              "<Figure size 720x504 with 1 Axes>"
            ]
          },
          "metadata": {
            "needs_background": "light"
          }
        }
      ]
    },
    {
      "cell_type": "markdown",
      "metadata": {
        "id": "iEoLsCNbwNRA"
      },
      "source": [
        "Tuyệt! Dựa trên F1-score, có vẻ như mô hình tribrid embedding hoạt động tốt nhất với biên hợp lý.\n",
        "\n",
        "Mặc dù vậy, so với kết quả được báo cáo trong Bảng 3 của tài liệu [*PubMed 200k RCT:\n",
        "a Dataset for Sequential Sentence Classification in Medical Abstracts*](https://arxiv.org/pdf/1710.06071.pdf), F1-score của mô hình chúng ta vẫn hoạt động kém hơn (mô hình của tác giả đạt được F1-score là 90.0 trên Tập dữ liệu 20k RCT so với F1-score của chúng ta là ~82.6).\n",
        "\n",
        "Cần lưu ý một số điều về sự khác biệt này:\n",
        "* Các mô hình của chúng ta (ngoại trừ mô hình cơ sở) đã huấn luyện trên ~18,000 (10% số batch) mẫu gồm các chuỗi và nhãn thay vì đầy đủ ~180,000 mẫu trong tập dữ liệu 20k RCT.\n",
        "  * Tuy nhiên, điều này thường xảy ra trong các thử nghiệm học máy, hãy đảm bảo huấn luyện trên ít mẫu hơn, sau đó nâng cấp lên khi cần thiết (phần mở rộng cho dự án này sẽ huấn luyện mô hình trên tập dữ liệu đầy đủ).\n",
        "* Các mức độ chất lượng dự đoán của mô hình được đánh giá trên tập dữ liệu kiểm định chứ không phải tập dữ liệu kiểm tra (chúng ta sẽ sớm đánh giá mô hình tốt nhất trên tập dữ liệu kiểm tra)."
      ]
    },
    {
      "cell_type": "markdown",
      "metadata": {
        "id": "pk5rMP0rarWG"
      },
      "source": [
        "## Lưu và load mô hình hoạt động tốt nhất\n",
        "\n",
        "Do chúng ta đã thực hiện một số thử nghiệm hợp lý, nên hãy lưu mô hình hoạt động tốt nhất để chúng ta có thể sử dụng mà không cần huấn luyện lại.\n",
        "\n",
        "Chúng ta có thể lưu mô hình hoạt động tốt nhất của mình bằng cách gọi phương thức [`save()`](https://www.tensorflow.org/guide/keras/save_and_serialize#the_short_answer_to_saving_loading)."
      ]
    },
    {
      "cell_type": "code",
      "metadata": {
        "id": "HRalPoXEi0Es",
        "colab": {
          "base_uri": "https://localhost:8080/"
        },
        "outputId": "5733b2a9-8ce6-4144-b35b-c88183ad05b8"
      },
      "source": [
        "# Lưu mô hình hoạt động tốt nhất thành định dạng SavedModel (mặc định)\n",
        "model_5.save(\"skimlit_tribrid_model\") # mô hình sẽ được lưu vào đường dẫn do string chỉ định"
      ],
      "execution_count": null,
      "outputs": [
        {
          "output_type": "stream",
          "text": [
            "WARNING:absl:Found untraced functions such as lstm_cell_4_layer_call_and_return_conditional_losses, lstm_cell_4_layer_call_fn, lstm_cell_5_layer_call_and_return_conditional_losses, lstm_cell_5_layer_call_fn, lstm_cell_4_layer_call_fn while saving (showing 5 of 10). These functions will not be directly callable after loading.\n"
          ],
          "name": "stderr"
        },
        {
          "output_type": "stream",
          "text": [
            "INFO:tensorflow:Assets written to: skimlit_tribrid_model/assets\n"
          ],
          "name": "stdout"
        },
        {
          "output_type": "stream",
          "text": [
            "INFO:tensorflow:Assets written to: skimlit_tribrid_model/assets\n"
          ],
          "name": "stderr"
        }
      ]
    },
    {
      "cell_type": "markdown",
      "metadata": {
        "id": "RMzS3dWPx9xu"
      },
      "source": [
        "Tùy chọn: Nếu đang sử dụng Google Colab, bạn có thể sao chép mô hình đã lưu của mình vào Google Drive (hoặc [download nó](https://colab.research.google.com/notebooks/io.ipynb#scrollTo=hauvGV4hV-Mh)) để có thêm bộ nhớ cố định (các file Google Colab sẽ biến mất sau khi ngắt kết nối)."
      ]
    },
    {
      "cell_type": "code",
      "metadata": {
        "id": "Mgsma17oUtAE"
      },
      "source": [
        "# Ví dụ về việc sao chép mô hình đã lưu từ Google Colab sang Drive (yêu cầu Google Drive)\n",
        "# !cp skim_lit_best_model -r /content/drive/MyDrive/tensorflow_course/skim_lit"
      ],
      "execution_count": null,
      "outputs": []
    },
    {
      "cell_type": "markdown",
      "metadata": {
        "id": "5Go3DCssvA1o"
      },
      "source": [
        "\n",
        "Giống như tất cả các chương trình nấu ăn, chúng ta có một mô hình đã huấn luyện trước (giống hệt kiểu mô hình mà chúng ta đã tạo cho `model_5` [được lưu trữ trên Google Storage](https://storage.googleapis.com/ztm_tf_course/skimlit/skimlit_best_model.zip)).\n",
        "\n",
        "Vì vậy, để đảm bảo rằng chúng ta đều đang sử dụng cùng một mô hình để đánh giá, hãy download và load nó vào.\n",
        "\n",
        "Khi load vào mô hình, vì nó sử dụng một vài [custom objects](https://www.tensorflow.org/guide/keras/save_and_serialize#custom_objects) ( TensorFlow Hub layer và layer `TextVectorization`), chúng ta cần load nó bằng cách chỉ định chúng trong tham số `custom_objects` của [`tf.keras.models.load_model()`](https://www.tensorflow.org/api_docs/python/tf/keras/models/load_model).\n",
        "\n"
      ]
    },
    {
      "cell_type": "code",
      "metadata": {
        "colab": {
          "base_uri": "https://localhost:8080/"
        },
        "id": "7dQESoCSuUnK",
        "outputId": "e3b33414-871c-4167-b7b6-c1b7d7f0aeb0"
      },
      "source": [
        "# Download pretrained model từ Google Storage\n",
        "!wget https://storage.googleapis.com/ztm_tf_course/skimlit/skimlit_tribrid_model.zip\n",
        "!mkdir skimlit_gs_model\n",
        "!unzip skimlit_tribrid_model.zip -d skimlit_gs_model"
      ],
      "execution_count": null,
      "outputs": [
        {
          "output_type": "stream",
          "text": [
            "--2021-08-25 00:03:10--  https://storage.googleapis.com/ztm_tf_course/skimlit/skimlit_tribrid_model.zip\n",
            "Resolving storage.googleapis.com (storage.googleapis.com)... 142.250.141.128, 142.251.2.128, 74.125.137.128, ...\n",
            "Connecting to storage.googleapis.com (storage.googleapis.com)|142.250.141.128|:443... connected.\n",
            "HTTP request sent, awaiting response... 200 OK\n",
            "Length: 962561955 (918M) [application/zip]\n",
            "Saving to: ‘skimlit_tribrid_model.zip’\n",
            "\n",
            "skimlit_tribrid_mod 100%[===================>] 917.97M  40.9MB/s    in 12s     \n",
            "\n",
            "2021-08-25 00:03:23 (74.5 MB/s) - ‘skimlit_tribrid_model.zip’ saved [962561955/962561955]\n",
            "\n",
            "Archive:  skimlit_tribrid_model.zip\n",
            "   creating: skimlit_gs_model/skimlit_tribrid_model/\n",
            "   creating: skimlit_gs_model/skimlit_tribrid_model/variables/\n",
            "  inflating: skimlit_gs_model/skimlit_tribrid_model/variables/variables.index  \n",
            "  inflating: skimlit_gs_model/skimlit_tribrid_model/variables/variables.data-00000-of-00001  \n",
            "  inflating: skimlit_gs_model/skimlit_tribrid_model/keras_metadata.pb  \n",
            "  inflating: skimlit_gs_model/skimlit_tribrid_model/saved_model.pb  \n",
            "   creating: skimlit_gs_model/skimlit_tribrid_model/assets/\n"
          ],
          "name": "stdout"
        }
      ]
    },
    {
      "cell_type": "code",
      "metadata": {
        "id": "mDRneseeZSRY"
      },
      "source": [
        "# Import TensorFlow model dependencies (nếu cần) - https://github.com/tensorflow/tensorflow/issues/38250\n",
        "import tensorflow_hub as hub\n",
        "import tensorflow as tf\n",
        "from tensorflow.keras.layers import TextVectorization\n",
        "\n",
        "model_path = \"skimlit_gs_model/skimlit_tribrid_model\"\n",
        "\n",
        "# Load downloaded model from Google Storage\n",
        "loaded_model = tf.keras.models.load_model(model_path)#,\n",
        "                                          # Lưu ý: với TensorFlow từ bản 2.5 trở lên, nếu SavedModel có file keras_metadata.pb\n",
        "                                          # (được tạo ra khi dùng model.save()), chúng ta không cần tham số custom_objects\n",
        "                                          # Tôi để code bên dưới trong trường hợp bạn thực hiện.\n",
        "                                          # custom_objects={\"TextVectorization\": TextVectorization, # cần thiết cho char vectorization\n",
        "                                          #                 \"KerasLayer\": hub.KerasLayer}) # cần thiết cho token embedding"
      ],
      "execution_count": null,
      "outputs": []
    },
    {
      "cell_type": "markdown",
      "metadata": {
        "id": "GOY7As4Dxdn_"
      },
      "source": [
        "### Đưa ra dự đoán và đánh giá với truth label\n",
        "\n",
        "Để đảm bảo mô hình được lưu và load chính xác, hãy đưa ra dự đoán với mô hình đó, đánh giá chúng rồi so sánh chúng với kết quả dự đoán mà chúng ta đã tính trước đó."
      ]
    },
    {
      "cell_type": "code",
      "metadata": {
        "id": "WmLdyobSv95I",
        "colab": {
          "base_uri": "https://localhost:8080/"
        },
        "outputId": "05aed0cb-be52-40c9-f46d-915ee0cf6b41"
      },
      "source": [
        "# Đưa ra dự đoán với mô hình đã load trên tập kiểm định\n",
        "loaded_pred_probs = loaded_model.predict(val_pos_char_token_dataset, verbose=1)\n",
        "loaded_preds = tf.argmax(loaded_pred_probs, axis=1)\n",
        "loaded_preds[:10]"
      ],
      "execution_count": null,
      "outputs": [
        {
          "output_type": "stream",
          "text": [
            "945/945 [==============================] - 132s 139ms/step\n"
          ],
          "name": "stdout"
        },
        {
          "output_type": "execute_result",
          "data": {
            "text/plain": [
              "<tf.Tensor: shape=(10,), dtype=int64, numpy=array([0, 0, 3, 2, 2, 4, 4, 4, 4, 1])>"
            ]
          },
          "metadata": {},
          "execution_count": 111
        }
      ]
    },
    {
      "cell_type": "code",
      "metadata": {
        "id": "jS4XMK6yxEn0",
        "colab": {
          "base_uri": "https://localhost:8080/"
        },
        "outputId": "bc87355f-fc85-42ab-b3cf-f7acc220edfa"
      },
      "source": [
        "# Đánh giá các dự đoán của mô hình đã load\n",
        "loaded_model_results = calculate_results(val_labels_encoded,\n",
        "                                         loaded_preds)\n",
        "loaded_model_results"
      ],
      "execution_count": null,
      "outputs": [
        {
          "output_type": "execute_result",
          "data": {
            "text/plain": [
              "{'accuracy': 82.74526678141136,\n",
              " 'f1': 0.8264355957043299,\n",
              " 'precision': 0.8258640600563426,\n",
              " 'recall': 0.8274526678141136}"
            ]
          },
          "metadata": {},
          "execution_count": 112
        }
      ]
    },
    {
      "cell_type": "markdown",
      "metadata": {
        "id": "a_zJXe1v1Evs"
      },
      "source": [
        "Bây giờ, hãy so sánh các dự đoán của mô hình đã load với kết quả dự đoán mà chúng ta thu được trước khi lưu mô hình."
      ]
    },
    {
      "cell_type": "code",
      "metadata": {
        "id": "TNDhkLYzznXn",
        "colab": {
          "base_uri": "https://localhost:8080/"
        },
        "outputId": "01f3e235-aa57-41b8-9e9c-ecde2fcb322f"
      },
      "source": [
        "# So sánh kết quả mô hình đã load với kết quả mô hình đã huấn luyện ban đầu (phải khá sát nhau)\n",
        "np.isclose(list(model_5_results.values()), list(loaded_model_results.values()), rtol=1e-02)"
      ],
      "execution_count": null,
      "outputs": [
        {
          "output_type": "execute_result",
          "data": {
            "text/plain": [
              "array([ True,  True,  True,  True])"
            ]
          },
          "metadata": {},
          "execution_count": 124
        }
      ]
    },
    {
      "cell_type": "markdown",
      "metadata": {
        "id": "C5EMfCId1WKr"
      },
      "source": [
        "Cần lưu ý rằng việc load vào SavedModel sẽ bỏ đóng băng tất cả các layer (khiến cho tất cả chúng đều có thể huấn luyện được). Vì vậy, nếu bạn muốn đóng băng bất kỳ layer nào, cần đặt thuộc tính có thể huấn luyện thành `False`."
      ]
    },
    {
      "cell_type": "code",
      "metadata": {
        "id": "FZEk80xiqNLT",
        "colab": {
          "base_uri": "https://localhost:8080/"
        },
        "outputId": "4e2376da-a9b4-4630-fe81-cde115d3e702"
      },
      "source": [
        "# Kiểm tra loaded model summary (chú ý số lượng tham số có thể huấn luyện được)\n",
        "loaded_model.summary()"
      ],
      "execution_count": null,
      "outputs": [
        {
          "output_type": "stream",
          "text": [
            "Model: \"model_8\"\n",
            "__________________________________________________________________________________________________\n",
            "Layer (type)                    Output Shape         Param #     Connected to                     \n",
            "==================================================================================================\n",
            "char_inputs (InputLayer)        [(None, 1)]          0                                            \n",
            "__________________________________________________________________________________________________\n",
            "char_vectorizer (TextVectorizat (None, None)         0           char_inputs[0][0]                \n",
            "__________________________________________________________________________________________________\n",
            "token_inputs (InputLayer)       [(None,)]            0                                            \n",
            "__________________________________________________________________________________________________\n",
            "char_embed (Embedding)          (None, None, 25)     1750        char_vectorizer[0][0]            \n",
            "__________________________________________________________________________________________________\n",
            "universal_sentence_encoder (Ker (None, 512)          256797824   token_inputs[0][0]               \n",
            "__________________________________________________________________________________________________\n",
            "bidirectional_1 (Bidirectional) (None, 64)           14848       char_embed[0][0]                 \n",
            "__________________________________________________________________________________________________\n",
            "token_char_hybrid_embedding (Co (None, 576)          0           universal_sentence_encoder[0][0] \n",
            "                                                                 bidirectional_1[0][0]            \n",
            "__________________________________________________________________________________________________\n",
            "line_number_input (InputLayer)  [(None, 15)]         0                                            \n",
            "__________________________________________________________________________________________________\n",
            "total_lines_input (InputLayer)  [(None, 20)]         0                                            \n",
            "__________________________________________________________________________________________________\n",
            "dense_10 (Dense)                (None, 256)          147712      token_char_hybrid_embedding[0][0]\n",
            "__________________________________________________________________________________________________\n",
            "dense_8 (Dense)                 (None, 32)           512         line_number_input[0][0]          \n",
            "__________________________________________________________________________________________________\n",
            "dense_9 (Dense)                 (None, 32)           672         total_lines_input[0][0]          \n",
            "__________________________________________________________________________________________________\n",
            "dropout_2 (Dropout)             (None, 256)          0           dense_10[0][0]                   \n",
            "__________________________________________________________________________________________________\n",
            "token_char_positional_embedding (None, 320)          0           dense_8[0][0]                    \n",
            "                                                                 dense_9[0][0]                    \n",
            "                                                                 dropout_2[0][0]                  \n",
            "__________________________________________________________________________________________________\n",
            "output_layer (Dense)            (None, 5)            1605        token_char_positional_embedding[0\n",
            "==================================================================================================\n",
            "Total params: 256,964,923\n",
            "Trainable params: 167,099\n",
            "Non-trainable params: 256,797,824\n",
            "__________________________________________________________________________________________________\n"
          ],
          "name": "stdout"
        }
      ]
    },
    {
      "cell_type": "markdown",
      "metadata": {
        "id": "5uq0MFPiaoUb"
      },
      "source": [
        "## Đánh giá mô hình trên tập kiểm tra\n",
        "\n",
        "Để so sánh chất lượng của mô hình với kết quả được báo cáo trong Bảng 3 của tài liệu [*PubMed 200k RCT:\n",
        "a Dataset for Sequential Sentence Classification in Medical Abstracts*](https://arxiv.org/pdf/1710.06071.pdf), hãy đưa ra dự đoán trên tập dữ liệu kiểm tra và đánh giá chúng."
      ]
    },
    {
      "cell_type": "code",
      "metadata": {
        "id": "mkFb3giT2FYW",
        "colab": {
          "base_uri": "https://localhost:8080/"
        },
        "outputId": "4dd95f9b-5761-45e3-c639-f24e7dc95b20"
      },
      "source": [
        "# Tạo test dataset batch và prefetched\n",
        "test_pos_char_token_data = tf.data.Dataset.from_tensor_slices((test_line_numbers_one_hot,\n",
        "                                                               test_total_lines_one_hot,\n",
        "                                                               test_sentences,\n",
        "                                                               test_chars))\n",
        "test_pos_char_token_labels = tf.data.Dataset.from_tensor_slices(test_labels_one_hot)\n",
        "test_pos_char_token_dataset = tf.data.Dataset.zip((test_pos_char_token_data, test_pos_char_token_labels))\n",
        "test_pos_char_token_dataset = test_pos_char_token_dataset.batch(32).prefetch(tf.data.AUTOTUNE)\n",
        "\n",
        "# Kiểm tra shapes\n",
        "test_pos_char_token_dataset"
      ],
      "execution_count": null,
      "outputs": [
        {
          "output_type": "execute_result",
          "data": {
            "text/plain": [
              "<PrefetchDataset shapes: (((None, 15), (None, 20), (None,), (None,)), (None, 5)), types: ((tf.float32, tf.float32, tf.string, tf.string), tf.float64)>"
            ]
          },
          "metadata": {},
          "execution_count": 115
        }
      ]
    },
    {
      "cell_type": "code",
      "metadata": {
        "id": "BpoQj-PexFf9",
        "colab": {
          "base_uri": "https://localhost:8080/"
        },
        "outputId": "7f96e565-b6ae-4221-f36b-0b7b6c1faf89"
      },
      "source": [
        "# Đưa ra dự đoán trên tập dữ liệu kiểm tra\n",
        "test_pred_probs = loaded_model.predict(test_pos_char_token_dataset,\n",
        "                                       verbose=1)\n",
        "test_preds = tf.argmax(test_pred_probs, axis=1)\n",
        "test_preds[:10]"
      ],
      "execution_count": null,
      "outputs": [
        {
          "output_type": "stream",
          "text": [
            "942/942 [==============================] - 132s 140ms/step\n"
          ],
          "name": "stdout"
        },
        {
          "output_type": "execute_result",
          "data": {
            "text/plain": [
              "<tf.Tensor: shape=(10,), dtype=int64, numpy=array([3, 3, 2, 2, 4, 4, 4, 1, 4, 0])>"
            ]
          },
          "metadata": {},
          "execution_count": 116
        }
      ]
    },
    {
      "cell_type": "code",
      "metadata": {
        "id": "avvjksEqxe_0",
        "colab": {
          "base_uri": "https://localhost:8080/"
        },
        "outputId": "83aebc05-9f09-4c1c-9fd0-5bbd61dd4b35"
      },
      "source": [
        "# Kiểm tra các dự đoán của loaded model test\n",
        "loaded_model_test_results = calculate_results(y_true=test_labels_encoded,\n",
        "                                              y_pred=test_preds)\n",
        "loaded_model_test_results"
      ],
      "execution_count": null,
      "outputs": [
        {
          "output_type": "execute_result",
          "data": {
            "text/plain": [
              "{'accuracy': 82.39588518334163,\n",
              " 'f1': 0.8229369808171064,\n",
              " 'precision': 0.8225726116113812,\n",
              " 'recall': 0.8239588518334163}"
            ]
          },
          "metadata": {},
          "execution_count": 117
        }
      ]
    },
    {
      "cell_type": "markdown",
      "metadata": {
        "id": "eupgOniJ3rLr"
      },
      "source": [
        "Có vẻ như mô hình tốt nhất của chúng ta (cho đến nay) vẫn còn một số cách để sánh với chất lượng của kết quả trong tài liệu (mô hình của họ đạt F1-score 90.0 trên tập dữ liệu kiểm tra, trong khi của chúng ta đạt ~82.1 F1-score).\n",
        "\n",
        "Tuy nhiên, như chúng ta đã thảo luận trước đây, mô hình chỉ được huấn luyện trên 20,000 trong tổng số ~ 180,000 chuỗi trong tập dữ liệu RCT 20k. Chúng ta cũng chưa tinh chỉnh pretrained embedding (tài liệu tinh chỉnh GloVe embedding). Vì vậy, chúng ta có thể thử một số tiện ích mở rộng để cải thiện kết quả của mình."
      ]
    },
    {
      "cell_type": "markdown",
      "metadata": {
        "id": "B8orhq8dPAuW"
      },
      "source": [
        "## Tìm các dự đoán sai nhất\n",
        "\n",
        "Một trong những cách tốt nhất để điều tra xem mô hình đang sai ở đâu (cũng có khả năng là dữ liệu bị sai) là trực quan hóa các dự đoán \"sai nhất\".\n",
        "\n",
        "Những dự đoán sai nhiều nhất là những mẫu mà mô hình đưa ra dự đoán với xác suất cao nhưng lại sai (dự đoán của mô hình không phù hợp với nhãn gốc).\n",
        "\n",
        "Việc xem xét các dự đoán sai nhất cung cấp cho chúng ta thông tin giá trị về cách cải thiện các mô hình khác hoặc sửa các nhãn trong dữ liệu của chúng ta.\n",
        "\n",
        "Hãy viết code để hình dung các dự đoán sai nhất từ ​​tập dữ liệu kiểm tra.\n",
        "\n",
        "Đầu tiên, chúng ta sẽ chuyển đổi tất cả các dự đoán kiểm tra dựa trên số nguyên thành tên lớp dựa trên string."
      ]
    },
    {
      "cell_type": "code",
      "metadata": {
        "id": "7yI34yymyycT",
        "colab": {
          "base_uri": "https://localhost:8080/"
        },
        "outputId": "3aa93020-e2bb-49c5-c566-b54f0621021e"
      },
      "source": [
        "%%time\n",
        "# Lấy danh sách tên lớp của các dự đoán kiểm tra\n",
        "test_pred_classes = [label_encoder.classes_[pred] for pred in test_preds]\n",
        "test_pred_classes"
      ],
      "execution_count": null,
      "outputs": [
        {
          "output_type": "stream",
          "text": [
            "CPU times: user 10.2 s, sys: 856 ms, total: 11.1 s\n",
            "Wall time: 9.42 s\n"
          ],
          "name": "stdout"
        }
      ]
    },
    {
      "cell_type": "markdown",
      "metadata": {
        "id": "0B41eg6O6DbQ"
      },
      "source": [
        "Bây giờ, hãy làm phong phú test DataFame với một vài giá trị:\n",
        "* Cột `\"prediction\"` (string) chứa dự đoán của mô hình cho một mẫu nhất định.\n",
        "* Cột `\"pred_prob\"` (float) chứa xác suất dự đoán tối đa của mô hình cho một mẫu nhất định.\n",
        "* Cột `\"correct\"` (bool) để cho biết liệu dự đoán của mô hình có khớp với nhãn mục tiêu của mẫu hay không."
      ]
    },
    {
      "cell_type": "code",
      "metadata": {
        "id": "au11pLUEPCaj",
        "colab": {
          "base_uri": "https://localhost:8080/",
          "height": 665
        },
        "outputId": "14f659d4-5a42-44a5-8234-b0ff00554a2c"
      },
      "source": [
        "# Tạo test dataframe đã làm phong phú dự đoán\n",
        "test_df[\"prediction\"] = test_pred_classes # tạo cột với tên test prediction class\n",
        "test_df[\"pred_prob\"] = tf.reduce_max(test_pred_probs, axis=1).numpy() # lấy xác suất dự đoán tối đa\n",
        "test_df[\"correct\"] = test_df[\"prediction\"] == test_df[\"target\"] # tạo cột nhị phân để biết dự đoán có đúng hay không\n",
        "test_df.head(20)"
      ],
      "execution_count": null,
      "outputs": [
        {
          "output_type": "execute_result",
          "data": {
            "text/html": [
              "<div>\n",
              "<style scoped>\n",
              "    .dataframe tbody tr th:only-of-type {\n",
              "        vertical-align: middle;\n",
              "    }\n",
              "\n",
              "    .dataframe tbody tr th {\n",
              "        vertical-align: top;\n",
              "    }\n",
              "\n",
              "    .dataframe thead th {\n",
              "        text-align: right;\n",
              "    }\n",
              "</style>\n",
              "<table border=\"1\" class=\"dataframe\">\n",
              "  <thead>\n",
              "    <tr style=\"text-align: right;\">\n",
              "      <th></th>\n",
              "      <th>target</th>\n",
              "      <th>text</th>\n",
              "      <th>line_number</th>\n",
              "      <th>total_lines</th>\n",
              "      <th>prediction</th>\n",
              "      <th>pred_prob</th>\n",
              "      <th>correct</th>\n",
              "    </tr>\n",
              "  </thead>\n",
              "  <tbody>\n",
              "    <tr>\n",
              "      <th>0</th>\n",
              "      <td>BACKGROUND</td>\n",
              "      <td>this study analyzed liver function abnormaliti...</td>\n",
              "      <td>0</td>\n",
              "      <td>8</td>\n",
              "      <td>OBJECTIVE</td>\n",
              "      <td>0.513077</td>\n",
              "      <td>False</td>\n",
              "    </tr>\n",
              "    <tr>\n",
              "      <th>1</th>\n",
              "      <td>RESULTS</td>\n",
              "      <td>a post hoc analysis was conducted with the use...</td>\n",
              "      <td>1</td>\n",
              "      <td>8</td>\n",
              "      <td>OBJECTIVE</td>\n",
              "      <td>0.310540</td>\n",
              "      <td>False</td>\n",
              "    </tr>\n",
              "    <tr>\n",
              "      <th>2</th>\n",
              "      <td>RESULTS</td>\n",
              "      <td>liver function tests ( lfts ) were measured at...</td>\n",
              "      <td>2</td>\n",
              "      <td>8</td>\n",
              "      <td>METHODS</td>\n",
              "      <td>0.801705</td>\n",
              "      <td>False</td>\n",
              "    </tr>\n",
              "    <tr>\n",
              "      <th>3</th>\n",
              "      <td>RESULTS</td>\n",
              "      <td>survival analyses were used to assess the asso...</td>\n",
              "      <td>3</td>\n",
              "      <td>8</td>\n",
              "      <td>METHODS</td>\n",
              "      <td>0.627319</td>\n",
              "      <td>False</td>\n",
              "    </tr>\n",
              "    <tr>\n",
              "      <th>4</th>\n",
              "      <td>RESULTS</td>\n",
              "      <td>the percentage of patients with abnormal lfts ...</td>\n",
              "      <td>4</td>\n",
              "      <td>8</td>\n",
              "      <td>RESULTS</td>\n",
              "      <td>0.718288</td>\n",
              "      <td>True</td>\n",
              "    </tr>\n",
              "    <tr>\n",
              "      <th>5</th>\n",
              "      <td>RESULTS</td>\n",
              "      <td>when mean hemodynamic profiles were compared i...</td>\n",
              "      <td>5</td>\n",
              "      <td>8</td>\n",
              "      <td>RESULTS</td>\n",
              "      <td>0.879730</td>\n",
              "      <td>True</td>\n",
              "    </tr>\n",
              "    <tr>\n",
              "      <th>6</th>\n",
              "      <td>RESULTS</td>\n",
              "      <td>multivariable analyses revealed that patients ...</td>\n",
              "      <td>6</td>\n",
              "      <td>8</td>\n",
              "      <td>RESULTS</td>\n",
              "      <td>0.548948</td>\n",
              "      <td>True</td>\n",
              "    </tr>\n",
              "    <tr>\n",
              "      <th>7</th>\n",
              "      <td>CONCLUSIONS</td>\n",
              "      <td>abnormal lfts are common in the adhf populatio...</td>\n",
              "      <td>7</td>\n",
              "      <td>8</td>\n",
              "      <td>CONCLUSIONS</td>\n",
              "      <td>0.445276</td>\n",
              "      <td>True</td>\n",
              "    </tr>\n",
              "    <tr>\n",
              "      <th>8</th>\n",
              "      <td>CONCLUSIONS</td>\n",
              "      <td>elevated meld-xi scores are associated with po...</td>\n",
              "      <td>8</td>\n",
              "      <td>8</td>\n",
              "      <td>RESULTS</td>\n",
              "      <td>0.529703</td>\n",
              "      <td>False</td>\n",
              "    </tr>\n",
              "    <tr>\n",
              "      <th>9</th>\n",
              "      <td>BACKGROUND</td>\n",
              "      <td>minimally invasive endovascular aneurysm repai...</td>\n",
              "      <td>0</td>\n",
              "      <td>12</td>\n",
              "      <td>BACKGROUND</td>\n",
              "      <td>0.545452</td>\n",
              "      <td>True</td>\n",
              "    </tr>\n",
              "    <tr>\n",
              "      <th>10</th>\n",
              "      <td>BACKGROUND</td>\n",
              "      <td>the aim of this study was to analyse the cost-...</td>\n",
              "      <td>1</td>\n",
              "      <td>12</td>\n",
              "      <td>OBJECTIVE</td>\n",
              "      <td>0.495984</td>\n",
              "      <td>False</td>\n",
              "    </tr>\n",
              "    <tr>\n",
              "      <th>11</th>\n",
              "      <td>METHODS</td>\n",
              "      <td>resource use was determined from the amsterdam...</td>\n",
              "      <td>2</td>\n",
              "      <td>12</td>\n",
              "      <td>METHODS</td>\n",
              "      <td>0.587782</td>\n",
              "      <td>True</td>\n",
              "    </tr>\n",
              "    <tr>\n",
              "      <th>12</th>\n",
              "      <td>METHODS</td>\n",
              "      <td>the analysis was performed from a provider per...</td>\n",
              "      <td>3</td>\n",
              "      <td>12</td>\n",
              "      <td>METHODS</td>\n",
              "      <td>0.852491</td>\n",
              "      <td>True</td>\n",
              "    </tr>\n",
              "    <tr>\n",
              "      <th>13</th>\n",
              "      <td>METHODS</td>\n",
              "      <td>all costs were calculated as if all patients h...</td>\n",
              "      <td>4</td>\n",
              "      <td>12</td>\n",
              "      <td>METHODS</td>\n",
              "      <td>0.573058</td>\n",
              "      <td>True</td>\n",
              "    </tr>\n",
              "    <tr>\n",
              "      <th>14</th>\n",
              "      <td>RESULTS</td>\n",
              "      <td>a total of @ patients were randomized .</td>\n",
              "      <td>5</td>\n",
              "      <td>12</td>\n",
              "      <td>RESULTS</td>\n",
              "      <td>0.674374</td>\n",
              "      <td>True</td>\n",
              "    </tr>\n",
              "    <tr>\n",
              "      <th>15</th>\n",
              "      <td>RESULTS</td>\n",
              "      <td>the @-day mortality rate was @ per cent after ...</td>\n",
              "      <td>6</td>\n",
              "      <td>12</td>\n",
              "      <td>RESULTS</td>\n",
              "      <td>0.664036</td>\n",
              "      <td>True</td>\n",
              "    </tr>\n",
              "    <tr>\n",
              "      <th>16</th>\n",
              "      <td>RESULTS</td>\n",
              "      <td>at @months , the total mortality rate for evar...</td>\n",
              "      <td>7</td>\n",
              "      <td>12</td>\n",
              "      <td>RESULTS</td>\n",
              "      <td>0.897093</td>\n",
              "      <td>True</td>\n",
              "    </tr>\n",
              "    <tr>\n",
              "      <th>17</th>\n",
              "      <td>RESULTS</td>\n",
              "      <td>the mean cost difference between evar and or w...</td>\n",
              "      <td>8</td>\n",
              "      <td>12</td>\n",
              "      <td>RESULTS</td>\n",
              "      <td>0.828620</td>\n",
              "      <td>True</td>\n",
              "    </tr>\n",
              "    <tr>\n",
              "      <th>18</th>\n",
              "      <td>RESULTS</td>\n",
              "      <td>the incremental cost-effectiveness ratio per p...</td>\n",
              "      <td>9</td>\n",
              "      <td>12</td>\n",
              "      <td>RESULTS</td>\n",
              "      <td>0.803249</td>\n",
              "      <td>True</td>\n",
              "    </tr>\n",
              "    <tr>\n",
              "      <th>19</th>\n",
              "      <td>RESULTS</td>\n",
              "      <td>there was no significant difference in quality...</td>\n",
              "      <td>10</td>\n",
              "      <td>12</td>\n",
              "      <td>RESULTS</td>\n",
              "      <td>0.729450</td>\n",
              "      <td>True</td>\n",
              "    </tr>\n",
              "  </tbody>\n",
              "</table>\n",
              "</div>"
            ],
            "text/plain": [
              "         target  ... correct\n",
              "0    BACKGROUND  ...   False\n",
              "1       RESULTS  ...   False\n",
              "2       RESULTS  ...   False\n",
              "3       RESULTS  ...   False\n",
              "4       RESULTS  ...    True\n",
              "5       RESULTS  ...    True\n",
              "6       RESULTS  ...    True\n",
              "7   CONCLUSIONS  ...    True\n",
              "8   CONCLUSIONS  ...   False\n",
              "9    BACKGROUND  ...    True\n",
              "10   BACKGROUND  ...   False\n",
              "11      METHODS  ...    True\n",
              "12      METHODS  ...    True\n",
              "13      METHODS  ...    True\n",
              "14      RESULTS  ...    True\n",
              "15      RESULTS  ...    True\n",
              "16      RESULTS  ...    True\n",
              "17      RESULTS  ...    True\n",
              "18      RESULTS  ...    True\n",
              "19      RESULTS  ...    True\n",
              "\n",
              "[20 rows x 7 columns]"
            ]
          },
          "metadata": {},
          "execution_count": 119
        }
      ]
    },
    {
      "cell_type": "markdown",
      "metadata": {
        "id": "63aVn69B6sWe"
      },
      "source": [
        "Trông được đấy! Có dữ liệu như vậy giúp chúng ta dễ dàng thao tác và xem theo nhiều cách khác nhau.\n",
        "\n",
        "Chúng ta có nên sắp xếp DataFrame của mình để tìm các mẫu có `\"pred_prob\"` cao nhất và vị trí dự đoán sai (`\"correct\" == False`) không?"
      ]
    },
    {
      "cell_type": "code",
      "metadata": {
        "id": "tDUOsuKJ6IQH",
        "colab": {
          "base_uri": "https://localhost:8080/",
          "height": 417
        },
        "outputId": "8117b505-1d7b-49dc-9291-a76f92e00e6e"
      },
      "source": [
        "# Tìm 100 mẫu sai nhiều nhất (lưu ý: 100 là số tùy ý, bạn có thể xem qua tất cả nếu muốn)\n",
        "top_100_wrong = test_df[test_df[\"correct\"] == False].sort_values(\"pred_prob\", ascending=False)[:100]\n",
        "top_100_wrong"
      ],
      "execution_count": null,
      "outputs": [
        {
          "output_type": "execute_result",
          "data": {
            "text/html": [
              "<div>\n",
              "<style scoped>\n",
              "    .dataframe tbody tr th:only-of-type {\n",
              "        vertical-align: middle;\n",
              "    }\n",
              "\n",
              "    .dataframe tbody tr th {\n",
              "        vertical-align: top;\n",
              "    }\n",
              "\n",
              "    .dataframe thead th {\n",
              "        text-align: right;\n",
              "    }\n",
              "</style>\n",
              "<table border=\"1\" class=\"dataframe\">\n",
              "  <thead>\n",
              "    <tr style=\"text-align: right;\">\n",
              "      <th></th>\n",
              "      <th>target</th>\n",
              "      <th>text</th>\n",
              "      <th>line_number</th>\n",
              "      <th>total_lines</th>\n",
              "      <th>prediction</th>\n",
              "      <th>pred_prob</th>\n",
              "      <th>correct</th>\n",
              "    </tr>\n",
              "  </thead>\n",
              "  <tbody>\n",
              "    <tr>\n",
              "      <th>16347</th>\n",
              "      <td>BACKGROUND</td>\n",
              "      <td>to evaluate the effects of the lactic acid bac...</td>\n",
              "      <td>0</td>\n",
              "      <td>12</td>\n",
              "      <td>OBJECTIVE</td>\n",
              "      <td>0.944838</td>\n",
              "      <td>False</td>\n",
              "    </tr>\n",
              "    <tr>\n",
              "      <th>13874</th>\n",
              "      <td>CONCLUSIONS</td>\n",
              "      <td>symptom outcomes will be assessed and estimate...</td>\n",
              "      <td>4</td>\n",
              "      <td>6</td>\n",
              "      <td>METHODS</td>\n",
              "      <td>0.941099</td>\n",
              "      <td>False</td>\n",
              "    </tr>\n",
              "    <tr>\n",
              "      <th>1221</th>\n",
              "      <td>RESULTS</td>\n",
              "      <td>data were collected prospectively for @ months...</td>\n",
              "      <td>3</td>\n",
              "      <td>13</td>\n",
              "      <td>METHODS</td>\n",
              "      <td>0.928523</td>\n",
              "      <td>False</td>\n",
              "    </tr>\n",
              "    <tr>\n",
              "      <th>13598</th>\n",
              "      <td>METHODS</td>\n",
              "      <td>-@ % vs. fish : -@ % vs. fish + s : -@ % ; p &lt;...</td>\n",
              "      <td>6</td>\n",
              "      <td>9</td>\n",
              "      <td>RESULTS</td>\n",
              "      <td>0.918107</td>\n",
              "      <td>False</td>\n",
              "    </tr>\n",
              "    <tr>\n",
              "      <th>21382</th>\n",
              "      <td>OBJECTIVE</td>\n",
              "      <td>design , settings , participants , and interve...</td>\n",
              "      <td>3</td>\n",
              "      <td>13</td>\n",
              "      <td>METHODS</td>\n",
              "      <td>0.918088</td>\n",
              "      <td>False</td>\n",
              "    </tr>\n",
              "    <tr>\n",
              "      <th>...</th>\n",
              "      <td>...</td>\n",
              "      <td>...</td>\n",
              "      <td>...</td>\n",
              "      <td>...</td>\n",
              "      <td>...</td>\n",
              "      <td>...</td>\n",
              "      <td>...</td>\n",
              "    </tr>\n",
              "    <tr>\n",
              "      <th>12269</th>\n",
              "      <td>RESULTS</td>\n",
              "      <td>patients received oral se tablets ( @ mcg ) or...</td>\n",
              "      <td>4</td>\n",
              "      <td>10</td>\n",
              "      <td>METHODS</td>\n",
              "      <td>0.821220</td>\n",
              "      <td>False</td>\n",
              "    </tr>\n",
              "    <tr>\n",
              "      <th>9881</th>\n",
              "      <td>RESULTS</td>\n",
              "      <td>the primary outcome was bp control , and secon...</td>\n",
              "      <td>4</td>\n",
              "      <td>11</td>\n",
              "      <td>METHODS</td>\n",
              "      <td>0.821166</td>\n",
              "      <td>False</td>\n",
              "    </tr>\n",
              "    <tr>\n",
              "      <th>1220</th>\n",
              "      <td>RESULTS</td>\n",
              "      <td>the group intervention consisted of @ weekly c...</td>\n",
              "      <td>2</td>\n",
              "      <td>13</td>\n",
              "      <td>METHODS</td>\n",
              "      <td>0.821033</td>\n",
              "      <td>False</td>\n",
              "    </tr>\n",
              "    <tr>\n",
              "      <th>22105</th>\n",
              "      <td>RESULTS</td>\n",
              "      <td>we randomised @ statin treated cvd patients an...</td>\n",
              "      <td>3</td>\n",
              "      <td>12</td>\n",
              "      <td>METHODS</td>\n",
              "      <td>0.820954</td>\n",
              "      <td>False</td>\n",
              "    </tr>\n",
              "    <tr>\n",
              "      <th>16840</th>\n",
              "      <td>RESULTS</td>\n",
              "      <td>the primary endpoint was a composite of cardio...</td>\n",
              "      <td>3</td>\n",
              "      <td>12</td>\n",
              "      <td>METHODS</td>\n",
              "      <td>0.820538</td>\n",
              "      <td>False</td>\n",
              "    </tr>\n",
              "  </tbody>\n",
              "</table>\n",
              "<p>100 rows × 7 columns</p>\n",
              "</div>"
            ],
            "text/plain": [
              "            target  ... correct\n",
              "16347   BACKGROUND  ...   False\n",
              "13874  CONCLUSIONS  ...   False\n",
              "1221       RESULTS  ...   False\n",
              "13598      METHODS  ...   False\n",
              "21382    OBJECTIVE  ...   False\n",
              "...            ...  ...     ...\n",
              "12269      RESULTS  ...   False\n",
              "9881       RESULTS  ...   False\n",
              "1220       RESULTS  ...   False\n",
              "22105      RESULTS  ...   False\n",
              "16840      RESULTS  ...   False\n",
              "\n",
              "[100 rows x 7 columns]"
            ]
          },
          "metadata": {},
          "execution_count": 120
        }
      ]
    },
    {
      "cell_type": "markdown",
      "metadata": {
        "id": "yKc6UJwZ7dHu"
      },
      "source": [
        "Tuyệt (hoặc không quá tuyệt vời)! Bây giờ chúng ta đã có một tập hợp con các dự đoán sai nhất của mô hình, hãy viết một ít code để trực quan hóa chúng."
      ]
    },
    {
      "cell_type": "code",
      "metadata": {
        "id": "ysddyYy717HJ",
        "colab": {
          "base_uri": "https://localhost:8080/"
        },
        "outputId": "2a3ad761-8f27-4c5b-b20d-d8169328e3dc"
      },
      "source": [
        "# Kiểm tra các dự đoán sai nhất\n",
        "for row in top_100_wrong[0:10].itertuples(): # điều chỉnh chỉ mục để xem các mẫu khác nhau\n",
        "  _, target, text, line_number, total_lines, prediction, pred_prob, _ = row\n",
        "  print(f\"Target: {target}, Pred: {prediction}, Prob: {pred_prob}, Line number: {line_number}, Total lines: {total_lines}\\n\")\n",
        "  print(f\"Text:\\n{text}\\n\")\n",
        "  print(\"-----\\n\")"
      ],
      "execution_count": null,
      "outputs": [
        {
          "output_type": "stream",
          "text": [
            "Target: BACKGROUND, Pred: OBJECTIVE, Prob: 0.9448384046554565, Line number: 0, Total lines: 12\n",
            "\n",
            "Text:\n",
            "to evaluate the effects of the lactic acid bacterium lactobacillus salivarius on caries risk factors .\n",
            "\n",
            "-----\n",
            "\n",
            "Target: CONCLUSIONS, Pred: METHODS, Prob: 0.9410986304283142, Line number: 4, Total lines: 6\n",
            "\n",
            "Text:\n",
            "symptom outcomes will be assessed and estimates of cost-effectiveness made .\n",
            "\n",
            "-----\n",
            "\n",
            "Target: RESULTS, Pred: METHODS, Prob: 0.9285234808921814, Line number: 3, Total lines: 13\n",
            "\n",
            "Text:\n",
            "data were collected prospectively for @ months beginning after completion of the first @ group clinic appointments ( @ months post randomization ) .\n",
            "\n",
            "-----\n",
            "\n",
            "Target: METHODS, Pred: RESULTS, Prob: 0.9181066155433655, Line number: 6, Total lines: 9\n",
            "\n",
            "Text:\n",
            "-@ % vs. fish : -@ % vs. fish + s : -@ % ; p < @ ) but there were no significant differences between groups .\n",
            "\n",
            "-----\n",
            "\n",
            "Target: OBJECTIVE, Pred: METHODS, Prob: 0.9180881381034851, Line number: 3, Total lines: 13\n",
            "\n",
            "Text:\n",
            "design , settings , participants , and intervention : ten healthy , normal-weight men were studied in randomized , double-blind fashion , each receiving a @-minute intraduodenal infusion of l-trp at @ ( total @ kcal ) or @ ( total @ kcal ) kcal/min or saline ( control ) .\n",
            "\n",
            "-----\n",
            "\n",
            "Target: METHODS, Pred: RESULTS, Prob: 0.9168640971183777, Line number: 5, Total lines: 7\n",
            "\n",
            "Text:\n",
            "at this time , an as@ response was achieved by @ ( @ % ) and @ ( @ % ) patients in groups @ and @ , respectively ( p < @ for all ) .\n",
            "\n",
            "-----\n",
            "\n",
            "Target: RESULTS, Pred: METHODS, Prob: 0.9164432883262634, Line number: 3, Total lines: 16\n",
            "\n",
            "Text:\n",
            "a cluster randomised trial was implemented with @,@ children in @ government primary schools on the south coast of kenya in @-@ .\n",
            "\n",
            "-----\n",
            "\n",
            "Target: BACKGROUND, Pred: OBJECTIVE, Prob: 0.914499819278717, Line number: 0, Total lines: 9\n",
            "\n",
            "Text:\n",
            "to compare the efficacy of the newcastle infant dialysis and ultrafiltration system ( nidus ) with peritoneal dialysis ( pd ) and conventional haemodialysis ( hd ) in infants weighing < @ kg .\n",
            "\n",
            "-----\n",
            "\n",
            "Target: RESULTS, Pred: METHODS, Prob: 0.9141932725906372, Line number: 4, Total lines: 13\n",
            "\n",
            "Text:\n",
            "baseline measures included sociodemographics , standardized anthropometrics , asthma control test ( act ) , gerd symptom assessment scale , pittsburgh sleep quality index , and berlin questionnaire for sleep apnea .\n",
            "\n",
            "-----\n",
            "\n",
            "Target: BACKGROUND, Pred: OBJECTIVE, Prob: 0.9109073877334595, Line number: 0, Total lines: 11\n",
            "\n",
            "Text:\n",
            "to assess the temporal patterns of late gastrointestinal ( gi ) and genitourinary ( gu ) radiotherapy toxicity and resolution rates in a randomised controlled trial ( all-ireland cooperative oncology research group @-@ ) assessing duration of neo-adjuvant ( na ) hormone therapy for localised prostate cancer .\n",
            "\n",
            "-----\n",
            "\n"
          ],
          "name": "stdout"
        }
      ]
    },
    {
      "cell_type": "markdown",
      "metadata": {
        "id": "wMbQeX-M7sYV"
      },
      "source": [
        "Bạn nhận thấy điều gì về những dự đoán sai nhất? Mô hình có mắc các sai lầm ngớ ngẩn không? Hay một số nhãn không chính xác/mơ hồ (ví dụ: một dòng trong abstract có thể bị gắn nhãn `OBJECTIVE` hoặc `BACKGROUND` và điều này hợp lý).\n",
        "\n",
        "Bước tiếp theo, nếu có một vài mẫu có nhãn không nhất quán, chúng ta có thể xem qua tập dữ liệu huấn luyện, cập nhật nhãn và sau đó huấn luyện lại mô hình. Quá trình sử dụng mô hình để cải thiện/kiểm tra nhãn của tập dữ liệu thường gọi là **active learning (học chủ động)**."
      ]
    },
    {
      "cell_type": "markdown",
      "metadata": {
        "id": "Pfz_b-Tmapdz"
      },
      "source": [
        "## Đưa ra các dự đoán mẫu\n",
        "\n",
        "Chúng ta đã đưa ra một số dự đoán trên tập dữ liệu kiểm tra, hãy thực sự kiểm tra mô hình.\n",
        "\n",
        "Để thực hiện như vậy, chúng ta sẽ lấy một ít dữ liệu từ tự nhiên và xem mô hình hoạt động như thế nào.\n",
        "\n",
        "Nói cách khác, chúng ta sẽ tìm một RCT abstract từ PubMed, tiền xử lý text để nó hoạt động trong mô hình, sau đó truyền từng chuỗi trong abstract qua mô hình để xem nó dự đoán nhãn nào.\n",
        "\n",
        "Để có một mẫu thích hợp, chúng ta sẽ cần tìm PubMed cho RCT (Thử nghiệm đối chứng ngẫu nhiên) mà không có abstract đã phân tách (khi khám phá PubMed, bạn sẽ nhận thấy nhiều abstract đã được định dạng trước thành các phần riêng biệt, giúp dễ đọc hơn).\n",
        "\n",
        "Trải qua các nghiên cứu PubMed khác nhau, tôi thấy abstract không có cấu trúc sau đây từ [*RCT of a manualized social treatment for high-functioning autism spectrum disorders*](https://pubmed.ncbi.nlm.nih.gov/20232240/):\n",
        "\n",
        "> This RCT examined the efficacy of a manualized social intervention for children with HFASDs. Participants were randomly assigned to treatment or wait-list conditions. Treatment included instruction and therapeutic activities targeting social skills, face-emotion recognition, interest expansion, and interpretation of non-literal language. A response-cost program was applied to reduce problem behaviors and foster skills acquisition. Significant treatment effects were found for five of seven primary outcome measures (parent ratings and direct child measures). Secondary measures based on staff ratings (treatment group only) corroborated gains reported by parents. High levels of parent, child and staff satisfaction were reported, along with high levels of treatment fidelity. Standardized effect size estimates were primarily in the medium and large ranges and favored the treatment group.\n",
        "\n",
        "Nhìn thấy một đoạn văn bản lớn có vẻ khá đáng sợ. Giả sử bạn là một nhà nghiên cứu y khoa, đang cố gắng đọc lướt qua các tài liệu để tìm một nghiên cứu có liên quan đến công việc của bạn.\n",
        "\n",
        "Nghe có vẻ khá thách thức phải không?\n",
        "\n",
        "Hãy nhập SkimLit 🤓🔥!\n",
        "\n",
        "Hãy xem mô hình tốt nhất của chúng ta cho đến nay (`model_5`) tạo ra abstract gì ở trên.\n",
        "\n",
        "Nhưng đợi đã ...\n",
        "\n",
        "Như bạn có thể đã đoán, abstract ở trên không được định dạng theo cấu trúc giống như dữ liệu mà mô hình của chúng ta đã huấn luyện. Do đó, trước khi đưa ra dự đoán về nó, chúng ta cần tiền xử lý nó như các trình tự khác.\n",
        "\n",
        "Cụ thể hơn, đối với mỗi abstract, chúng ta sẽ cần:\n",
        "\n",
        "1. Chia nó thành các câu (dòng).\n",
        "2. Chia nó thành các ký tự.\n",
        "3. Tìm số của mỗi dòng.\n",
        "4. Tìm tổng số dòng.\n",
        "\n",
        "Bắt đầu với số 1, có một số cách để chia abstract thành các câu thực tế. Một cách đơn giản là sử dụng phương thức `split()` string được tích hợp sẵn của Python, tách abstract ở bất cứ đâu xuất hiện fullstop. Tuy nhiên, bạn có nghĩ điều này có thể sai ở đâu không?\n",
        "\n",
        "Một tùy chọn khác nâng cao hơn là tận dụng lớp [`sentencizer`](https://spacy.io/usage/linguistic-features#sbd)[của spaCy](https://spacy.io/) (một thư viện NLP rất mạnh). Đây là một bộ tách câu dễ sử dụng dựa trên mô hình ngôn ngữ tiếng Anh của spaCy.\n",
        "\n",
        "Tôi đã chuẩn bị một số abstract từ các tài liệu PubMed RCT để thử mô hình của chúng ta, có thể download chúng từ [GitHub](https://raw.githubusercontent.com/mrdbourke/tensorflow-deep-learning/main/extras/skimlit_example_abstracts.json).\n"
      ]
    },
    {
      "cell_type": "code",
      "metadata": {
        "id": "-qKFXysU9Y1j",
        "colab": {
          "base_uri": "https://localhost:8080/",
          "height": 414
        },
        "outputId": "7d70562c-90ac-4e71-a020-14ab673bd077"
      },
      "source": [
        "# Download và mở các abstract mẫu (copy và paste từ PubMed)\n",
        "!wget https://raw.githubusercontent.com/mrdbourke/tensorflow-deep-learning/main/extras/skimlit_example_abstracts.json\n",
        "\n",
        "with open(\"skimlit_example_abstracts.json\", \"r\") as f:\n",
        "  example_abstracts = json.load(f)\n",
        "\n",
        "example_abstracts"
      ],
      "execution_count": null,
      "outputs": [
        {
          "output_type": "stream",
          "text": [
            "--2021-08-25 00:08:37--  https://raw.githubusercontent.com/mrdbourke/tensorflow-deep-learning/main/extras/skimlit_example_abstracts.json\n",
            "Resolving raw.githubusercontent.com (raw.githubusercontent.com)... 185.199.110.133, 185.199.108.133, 185.199.109.133, ...\n",
            "Connecting to raw.githubusercontent.com (raw.githubusercontent.com)|185.199.110.133|:443... connected.\n",
            "HTTP request sent, awaiting response... 200 OK\n",
            "Length: 6737 (6.6K) [text/plain]\n",
            "Saving to: ‘skimlit_example_abstracts.json’\n",
            "\n",
            "\r          skimlit_e   0%[                    ]       0  --.-KB/s               \rskimlit_example_abs 100%[===================>]   6.58K  --.-KB/s    in 0s      \n",
            "\n",
            "2021-08-25 00:08:37 (82.5 MB/s) - ‘skimlit_example_abstracts.json’ saved [6737/6737]\n",
            "\n"
          ],
          "name": "stdout"
        },
        {
          "output_type": "error",
          "ename": "NameError",
          "evalue": "ignored",
          "traceback": [
            "\u001b[0;31m---------------------------------------------------------------------------\u001b[0m",
            "\u001b[0;31mNameError\u001b[0m                                 Traceback (most recent call last)",
            "\u001b[0;32m<ipython-input-122-aa3c30151e9a>\u001b[0m in \u001b[0;36m<module>\u001b[0;34m()\u001b[0m\n\u001b[1;32m      3\u001b[0m \u001b[0;34m\u001b[0m\u001b[0m\n\u001b[1;32m      4\u001b[0m \u001b[0;32mwith\u001b[0m \u001b[0mopen\u001b[0m\u001b[0;34m(\u001b[0m\u001b[0;34m\"skimlit_example_abstracts.json\"\u001b[0m\u001b[0;34m,\u001b[0m \u001b[0;34m\"r\"\u001b[0m\u001b[0;34m)\u001b[0m \u001b[0;32mas\u001b[0m \u001b[0mf\u001b[0m\u001b[0;34m:\u001b[0m\u001b[0;34m\u001b[0m\u001b[0;34m\u001b[0m\u001b[0m\n\u001b[0;32m----> 5\u001b[0;31m   \u001b[0mexample_abstracts\u001b[0m \u001b[0;34m=\u001b[0m \u001b[0mjson\u001b[0m\u001b[0;34m.\u001b[0m\u001b[0mload\u001b[0m\u001b[0;34m(\u001b[0m\u001b[0mf\u001b[0m\u001b[0;34m)\u001b[0m\u001b[0;34m\u001b[0m\u001b[0;34m\u001b[0m\u001b[0m\n\u001b[0m\u001b[1;32m      6\u001b[0m \u001b[0;34m\u001b[0m\u001b[0m\n\u001b[1;32m      7\u001b[0m \u001b[0mexample_abstracts\u001b[0m\u001b[0;34m\u001b[0m\u001b[0;34m\u001b[0m\u001b[0m\n",
            "\u001b[0;31mNameError\u001b[0m: name 'json' is not defined"
          ]
        }
      ]
    },
    {
      "cell_type": "code",
      "metadata": {
        "id": "-1cIAS1Z6r_l"
      },
      "source": [
        "# Hãy xem các abstract mẫu trông như thế nào\n",
        "abstracts = pd.DataFrame(example_abstracts)\n",
        "abstracts"
      ],
      "execution_count": null,
      "outputs": []
    },
    {
      "cell_type": "markdown",
      "metadata": {
        "id": "CnZWtDki9uxc"
      },
      "source": [
        "Chúng ta đã download một số abstract mẫu, hãy xem một trong số chúng hoạt động như thế nào với mô hình đã huấn luyện của chúng ta.\n",
        "\n",
        "Đầu tiên, chúng ta sẽ cần phân tích cú pháp nó bằng cách sử dụng spaCy để biến nó từ một đoạn văn bản lớn thành các câu."
      ]
    },
    {
      "cell_type": "code",
      "metadata": {
        "id": "_gwVNdLQHpQX"
      },
      "source": [
        "# Tạo sentencizer - Nguồn: https://spacy.io/usage/linguistic-features#sbd\n",
        "from spacy.lang.en import English\n",
        "nlp = English() # thiết lập English sentence parser\n",
        "sentencizer = nlp.create_pipe(\"sentencizer\") # tạo đối tượng sentence splitting pipeline\n",
        "nlp.add_pipe(sentencizer) # thêm đối tượng sentence splitting pipeline vào sentence parser\n",
        "doc = nlp(example_abstracts[0][\"abstract\"]) # tạo \"doc\" của các câu đã phân tích, đổi chỉ mục cho một abstract khác\n",
        "abstract_lines = [str(sent) for sent in list(doc.sents)] # trả về các câu đã tìm thấy từ doc ở dạng string (không phải dạng spaCy token)\n",
        "abstract_lines"
      ],
      "execution_count": null,
      "outputs": []
    },
    {
      "cell_type": "markdown",
      "metadata": {
        "id": "UiCg-H4G16Gx"
      },
      "source": [
        "Tuyệt! Có vẻ như spaCy đã tách các câu trong abstract một cách chính xác. Tuy nhiên, cần lưu ý rằng có thể có nhiều abstract phức tạp hơn không được phân tách hoàn hảo thành các câu riêng biệt (chẳng hạn như ví dụ trong [*Baclofen promotes alcohol abstinence in alcohol dependent cirrhotic patients with hepatitis C virus (HCV) infection*](https://pubmed.ncbi.nlm.nih.gov/22244707/)), ở này trường hợp, có nhiều kỹ thuật phân tách tùy chỉnh hơn sẽ được nghiên cứu.\n",
        "\n",
        "Bây giờ, abstract của chúng ta đã được chia thành các câu, hãy viết một số đoạn code để đếm số dòng cũng như tổng số dòng.\n",
        "\n",
        "Để làm như vậy, chúng ta có thể tận dụng một số chức năng của hàm `preprocess_text_with_line_numbers()`."
      ]
    },
    {
      "cell_type": "code",
      "metadata": {
        "id": "A_Hi0alJI4Xu"
      },
      "source": [
        "# Lấy tổng số dòng\n",
        "total_lines_in_sample = len(abstract_lines)\n",
        "\n",
        "# Xem qua từng dòng trong abstract và tạo một danh sách các dictionary chứa các đặc trưng cho mỗi dòng\n",
        "sample_lines = []\n",
        "for i, line in enumerate(abstract_lines):\n",
        "  sample_dict = {}\n",
        "  sample_dict[\"text\"] = str(line)\n",
        "  sample_dict[\"line_number\"] = i\n",
        "  sample_dict[\"total_lines\"] = total_lines_in_sample - 1\n",
        "  sample_lines.append(sample_dict)\n",
        "sample_lines"
      ],
      "execution_count": null,
      "outputs": []
    },
    {
      "cell_type": "markdown",
      "metadata": {
        "id": "17X7ez2r37Nw"
      },
      "source": [
        "Bây giờ chúng ta đã có các giá trị `\"line_number\"` và `\"total_lines\"`, chúng ta có thể mã hóa one-hot chúng với `tf.one_hot` giống như chúng ta đã thực hiện với tập dữ liệu huấn luyện (sử dụng các giá trị tương tự cho tham số `depth`)."
      ]
    },
    {
      "cell_type": "code",
      "metadata": {
        "id": "rm0MYaAnBkbp"
      },
      "source": [
        "# Lấy tất cả các giá trị line_number từ abstract mẫu\n",
        "test_abstract_line_numbers = [line[\"line_number\"] for line in sample_lines]\n",
        "# Mã hóa one-hot cho depth tương tư như dữ liệu huấn luyện, để mô hình chấp nhận đúng shape đầu vào\n",
        "test_abstract_line_numbers_one_hot = tf.one_hot(test_abstract_line_numbers, depth=15)\n",
        "test_abstract_line_numbers_one_hot"
      ],
      "execution_count": null,
      "outputs": []
    },
    {
      "cell_type": "code",
      "metadata": {
        "id": "8Wzbv3w6B3OU"
      },
      "source": [
        "# Lấy tất cả các giá trị total_lines từ abstract mẫu\n",
        "test_abstract_total_lines = [line[\"total_lines\"] for line in sample_lines]\n",
        "# Mã hóa one-hot cho depth tương tư như dữ liệu huấn luyện, để mô hình chấp nhận đúng shape đầu vào\n",
        "test_abstract_total_lines_one_hot = tf.one_hot(test_abstract_total_lines, depth=20)\n",
        "test_abstract_total_lines_one_hot"
      ],
      "execution_count": null,
      "outputs": []
    },
    {
      "cell_type": "markdown",
      "metadata": {
        "id": "Wq-f17G440ur"
      },
      "source": [
        "Chúng ta cũng có thể sử dụng hàm `split_chars()` để phân tách các dòng abstract thành các ký tự."
      ]
    },
    {
      "cell_type": "code",
      "metadata": {
        "id": "HOOPoG3cCA0F"
      },
      "source": [
        "# Tách các dòng abstract thành các ký tự\n",
        "abstract_chars = [split_chars(sentence) for sentence in abstract_lines]\n",
        "abstract_chars"
      ],
      "execution_count": null,
      "outputs": []
    },
    {
      "cell_type": "markdown",
      "metadata": {
        "id": "5MO7_-Hx5FvS"
      },
      "source": [
        "Chúng ta đã tiền xử lý wild RCT abstract thành tất cả các đặc trưng tương tự mà mô hình đã huấn luyện, hãy chuyển các đặc trưng này vào mô hình của mình và đưa ra các dự đoán nhãn chuỗi!"
      ]
    },
    {
      "cell_type": "code",
      "metadata": {
        "id": "0b7siZa1CQG7"
      },
      "source": [
        "# Đưa ra dự đoán về các đặc trưng của abstract mẫu\n",
        "%%time\n",
        "test_abstract_pred_probs = loaded_model.predict(x=(test_abstract_line_numbers_one_hot,\n",
        "                                                   test_abstract_total_lines_one_hot,\n",
        "                                                   tf.constant(abstract_lines),\n",
        "                                                   tf.constant(abstract_chars)))\n",
        "test_abstract_pred_probs"
      ],
      "execution_count": null,
      "outputs": []
    },
    {
      "cell_type": "code",
      "metadata": {
        "id": "8nxqfCBfCqWe"
      },
      "source": [
        "# Biến xác suất dự đoán thành lớp dự đoán\n",
        "test_abstract_preds = tf.argmax(test_abstract_pred_probs, axis=1)\n",
        "test_abstract_preds"
      ],
      "execution_count": null,
      "outputs": []
    },
    {
      "cell_type": "markdown",
      "metadata": {
        "id": "tSOOV4bp5sZI"
      },
      "source": [
        "Chúng ta đã có nhãn chuỗi được dự đoán cho mỗi dòng trong abstract mẫu, hãy viết một ít code để hình dung từng câu với nhãn dự đoán của nó."
      ]
    },
    {
      "cell_type": "code",
      "metadata": {
        "id": "LduhApa3C1mD"
      },
      "source": [
        "# Biến các số nguyên lớp dự đoán thành chuỗi tên lớp\n",
        "test_abstract_pred_classes = [label_encoder.classes_[i] for i in test_abstract_preds]\n",
        "test_abstract_pred_classes"
      ],
      "execution_count": null,
      "outputs": []
    },
    {
      "cell_type": "code",
      "metadata": {
        "id": "BhhDPZSHDCJD"
      },
      "source": [
        "# Trực quan hóa các dòng abstract và nhãn chuỗi đã dự đoán\n",
        "for i, line in enumerate(abstract_lines):\n",
        "  print(f\"{test_abstract_pred_classes[i]}: {line}\")"
      ],
      "execution_count": null,
      "outputs": []
    },
    {
      "cell_type": "markdown",
      "metadata": {
        "id": "vCQVQ5DAKz4M"
      },
      "source": [
        "Như vậy không dễ đọc hơn nhiều sao? Ý tôi là, có vẻ như các dự đoán của mô hình có thể cải thiện, điều đó thật tuyệt đúng không?\n",
        "\n",
        "Hãy tưởng tượng việc triển khai mô hình cho backend của trang web PubMed để định dạng bất RCT abstract không có cấu trúc nào trên trang web.\n",
        "\n",
        "Hay có một tiện ích mở rộng trình duyệt là \"SkimLit\" sẽ thêm cấu trúc (được hỗ trợ bởi mô hình của chúng ta) vào bất kỳ RCT abtract không có cấu trúc nào.\n",
        "\n",
        "Và nếu đưa điều này cho một người bạn là nhà nghiên cứu y khoa của bạn xem, họ cho rằng các dự đoán không đạt tiêu chuẩn, thì có thể có một nút thông báo \"nhãn này có chính xác không? ... nếu không, thì nó là gì?\". Theo cách đó, tập dữ liệu cùng với các dự đoán trong tương lai của mô hình có thể cải thiện theo thời gian.\n",
        "\n",
        "Tất nhiên, có nhiều cách khác để cải thiện mô hình, khả năng sử dụng, chức năng tiền xử lý (ví dụ: hàm hóa pipeline tiền xử lý abstract mẫu) nhưng tôi sẽ để lại những phần này cho các bài tập/phần mở rộng.\n",
        "\n",
        "> 🤔 **Câu hỏi:** Làm thế nào để chắc chắn rằng kết quả của mẫu thử nghiệm từ tự nhiên thực sự là *wild*? Chúng ta có nên kiểm tra về mẫu chúng ta đang thử nghiệm không?"
      ]
    },
    {
      "cell_type": "markdown",
      "metadata": {
        "id": "bLNyY9OoLEYL"
      },
      "source": [
        "## 🛠 Bài tập thực hành\n",
        "> **Lưu ý:** Các bạn cần làm phần bài tập này để chuẩn bị cho phiên review lab.\n",
        "\n",
        "1. Huấn luyện `model_5` trên tất cả dữ liệu trong tập dữ liệu huấn luyện trong nhiều epoch cho đến khi nó ngừng cải thiện. Vì quá trình này có thể tốn một chút thời gian, bạn có thể sử dụng:\n",
        "  * [`tf.keras.callbacks.ModelCheckpoint`](https://www.tensorflow.org/api_docs/python/tf/keras/callbacks/ModelCheckpoint) để chỉ lưu trọng số tốt nhất của mô hình.\n",
        "  * [`tf.keras.callbacks.EarlyStopping`](https://www.tensorflow.org/api_docs/python/tf/keras/callbacks/EarlyStopping) để dừng huấn luyện mô hình sau khi validation loss đã ngừng cải thiện trong ~3 epoch.\n",
        "\n",
        "\n",
        "\n",
        "2. Xem [hướng dẫn của Keras về cách sử dụng pretrained GloVe embedding](https://keras.io/examples/nlp/pretrained_word_embeddings/). Bạn có thể làm cho điều này hoạt động với một trong các mô hình của chúng ta không?\n",
        "  * Gợi ý: Bạn sẽ muốn kết hợp nó với một layer token [Embedding](https://www.tensorflow.org/api_docs/python/tf/keras/layers/Embedding) tùy chỉnh.\n",
        "  * Bạn có thể tinh chỉnh các GloVe embedding hoặc đóng băng chúng.\n",
        "\n",
        "3. Hãy thử thay thế TensorFlow Hub Universal Sentence Encoder pretrained  embedding cho [TensorFlow Hub BERT PubMed expert](https://tfhub.dev/google/experts/bert/pubmed/2) (mô hình ngôn ngữ được huấn luyện trước trên văn bản PubMed). Điều này có ảnh hưởng tới kết quả không?\n",
        "  * Lưu ý: Việc sử dụng BERT PubMed expert pretrained embedding yêu cầu thêm một bước tiền xử lý cho các chuỗi (được trình bày chi tiết trong [hướng dẫn của TensorFlow Hub](https://tfhub.dev/google/experts/bert/pubmed/2)).\n",
        "  * Mô hình BERT có đánh bại các kết quả được đề cập trong [tài liệu này](https://arxiv.org/pdf/1710.06071.pdf) không?\n",
        "\n",
        "4. Điều gì xảy ra nếu chúng ta hợp nhất các đặc trưng `line_number` và `total_lines` cho từng chuỗi? Ví dụ: tạo đặc trưng `X_of_Y` thay thế? Điều này có ảnh hưởng tới chất lượng mô hình không?\n",
        "  * Một ví dụ khác: `line_number=1` và `total_lines=11` biến thành `line_of_X=1_of_11`.\n",
        "\n",
        "5. Viết một hàm (hoặc một chuỗi các hàm) để lấy một string abstract mẫu, tiền xử lý nó (theo cách tương tự mà mô hình đã huấn luyện), đưa ra dự đoán trên mỗi chuỗi trong abstract và trả về abstract ở định dạng:\n",
        "  * `PREDICTED_LABEL`: `SEQUENCE`\n",
        "  * `PREDICTED_LABEL`: `SEQUENCE`\n",
        "  * `PREDICTED_LABEL`: `SEQUENCE`\n",
        "  * `PREDICTED_LABEL`: `SEQUENCE`\n",
        "  * ...\n",
        "    * Bạn có thể tìm RCT abstract không có cấu trúc của riêng mình từ PubMed hoặc thử phần này từ: [*Baclofen promotes alcohol abstinence in alcohol dependent cirrhotic patients with hepatitis C virus (HCV) infection*](https://pubmed.ncbi.nlm.nih.gov/22244707/)."
      ]
    },
    {
      "cell_type": "markdown",
      "metadata": {
        "id": "O6E8rcjKrLzY"
      },
      "source": [
        "## 📖 Tài liệu đọc thêm\n",
        "* Để biết thêm về cách làm việc với text/spaCy, hãy xem [khóa học NLP nâng cao của spaCy](https://course.spacy.io/en/). Nếu đang giải quyết các bài toán NLP ở cấp độ sản xuất, chúng ta có thể sử dụng spaCy.\n",
        "* Để biết một cách tiếp cận khác với bài toán phân loại văn bản như bài toán mà chúng ta vừa xem xét, tôi khuyên bạn hãy tham gia [khóa Machine Learning về text classification của Google](https://developers.google.com/machine-learning/guides/text-classification).\n",
        "* Vì tập dữ liệu của chúng ta có các lớp không cân bằng (như với nhiều tập dữ liệu thực tế), do đó, hãy xem xét [hướng dẫn của TensorFlow để biết các phương pháp khác nhau huấn luyện mô hình với các phân lớp không cân bằng](https://www.tensorflow.org/tutorials/structured_data/imbalanced_data).\n"
      ]
    }
  ]
}