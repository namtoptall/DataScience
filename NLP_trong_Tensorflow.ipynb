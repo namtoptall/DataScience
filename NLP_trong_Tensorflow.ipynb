{
  "nbformat": 4,
  "nbformat_minor": 0,
  "metadata": {
    "colab": {
      "provenance": [],
      "toc_visible": true,
      "include_colab_link": true
    },
    "kernelspec": {
      "name": "python3",
      "display_name": "Python 3"
    },
    "accelerator": "GPU"
  },
  "cells": [
    {
      "cell_type": "markdown",
      "metadata": {
        "id": "view-in-github",
        "colab_type": "text"
      },
      "source": [
        "<a href=\"https://colab.research.google.com/github/namtoptall/DataScience/blob/main/NLP_trong_Tensorflow.ipynb\" target=\"_parent\"><img src=\"https://colab.research.google.com/assets/colab-badge.svg\" alt=\"Open In Colab\"/></a>"
      ]
    },
    {
      "cell_type": "markdown",
      "metadata": {
        "id": "vtAgo5zYCClj"
      },
      "source": [
        "# 08. Xử lý ngôn ngữ tự nhiên (NLP) với TensorFlow\n",
        "\n",
        "![](https://raw.githubusercontent.com/mrdbourke/tensorflow-deep-learning/main/images/08-example-nlp-problems.png)\n",
        "*Một số ví dụ về bài toán xử lý ngôn ngữ tự nhiên (NLP) và hiểu ngôn ngữ tự nhiên (NLU). Chúng còn được gọi là bài toán sequence (từ sequence này đến sequence khác).*\n",
        "\n",
        "Mục tiêu chính của [Xử lý ngôn ngữ tự nhiên (NLP)](https://becominghuman.ai/a-simple-introduction-to-natural-language-processing-ea66a1747b32) là lấy thông tin từ ngôn ngữ tự nhiên.\n",
        "\n",
        "Ngôn ngữ tự nhiên là một thuật ngữ rộng nhưng chúng ta có thể coi nó bao hàm bất kỳ những điều sau:\n",
        "* Text (chẳng hạn như trong email, bài đăng blog, sách, Tweet)\n",
        "* Speech (cuộc hội thoại với bác sĩ, khẩu lệnh truyền cho loa thông minh)\n",
        "\n",
        "Chúng ta có thể thực hiện rất nhiều thứ về text và speech.\n",
        "\n",
        "Nếu đang xây dựng một ứng dụng email, chúng ta có thể sẽ muốn quét email đến để xem chúng có phải là spam hay không (phân loại).\n",
        "\n",
        "Nếu bạn đang cố gắng phân tích các phản hồi phàn nàn của khách hàng, có thể bạn sẽ muốn tìm hiểu xem những phàn nàn này dành cho bộ phận nào của công ty.\n",
        "\n",
        "> 🔑 **Lưu ý:** Cả hai loại dữ liệu này thường được gọi là *sequence (chuỗi)* (câu là một chuỗi các từ). Do đó, chúng ta có một thuật ngữ thường thấy trong các bài toán NLP, đó là *seq2seq*, hay nói cách khác là tìm thông tin trong một chuỗi để tạo một chuỗi khác (ví dụ: chuyển đổi speech command thành một chuỗi các bước dựa trên text).\n",
        "\n",
        "Để làm quen với NLP trong TensorFlow, chúng ta sẽ luyện tập các bước mà chúng ta đã sử dụng trước đó, nhưng lần này là với dữ liệu text (văn bản).\n",
        "\n",
        "```\n",
        "Text -> chuyển thành số -> xây dựng mô hình -> huấn luyện mô hình để tìm pattern -> sử dụng pattern (đưa ra dự đoán)\n",
        "```\n",
        "\n",
        "> 📖 **Tài liệu:** Để có cái nhìn tổng quan về NLP và các bài toán NLP khác nhau, hãy đọc bài viết [*A Simple Introduction to Natural Language Processing*](https://becominghuman.ai/a-simple-introduction-to-natural-language-processing-ea66a1747b32).\n",
        "\n",
        "## Những điều chúng ta sẽ tìm hiểu\n",
        "\n",
        "Hãy tìm hiểu cụ thể\n",
        "\n",
        "* Download tập dữ liệu text\n",
        "* Trực quan hóa dữ liệu text\n",
        "* Chuyển text thành các con số, sử dụng tokenization\n",
        "* Biến text được mã hóa thành embedding\n",
        "* Lập mô hình tập dữ liệu text\n",
        "  * Bắt đầu với baseline (TF-IDF)\n",
        "  * Xây dựng một số mô hình deep learning text\n",
        "    * Dense, LSTM, GRU, Conv1D, Transfer learning\n",
        "* So sánh chất lượng của từng mô hình\n",
        "* Kết hợp các mô hình thành ensemble model\n",
        "* Lưu và load mô hình đã huấn luyện\n",
        "* Tìm ra những dự đoán sai nhất\n",
        "\n",
        "## Cách tiếp cận notebook này\n",
        "\n",
        "Các bạn có thể đọc qua các mô tả và code (tất cả sẽ chạy, trừ những cell mắc lỗi có chủ đích), nhưng có một lựa chọn tốt hơn.\n",
        "\n",
        "Tự viết toàn bộ code.\n",
        "\n",
        "Nghiêm túc đấy. Hãy tạo notebook mới và tự viết lại từng dòng. Kiểm tra xem bạn có thể thay đổi nó không và lý do cho điều đó.\n",
        "\n",
        "Bạn không cần viết mô tả bằng văn bản nhưng tự viết lại code là một cách tuyệt vời để có trải nghiệm thực tiễn.\n",
        "\n",
        "Đừng lo lắng nếu mắc sai sót, ai cũng đều mắc lỗi cả. Cách thực hiện tốt hơn và mắc ít lỗi hơn là viết nhiều code hơn.\n",
        "\n",
        "> 📖 **Tài liệu:** Xem bộ tài liệu khóa học đầy đủ trên GitHub: https://github.com/mrdbourke/tensorflow-deep-learning"
      ]
    },
    {
      "cell_type": "markdown",
      "metadata": {
        "id": "4Zh2N1hZtvpN"
      },
      "source": [
        "## Kiểm tra GPU\n",
        "\n",
        "Để mô hình DL chạy nhanh nhất có thể, chúng ta cần quyền truy cập vào GPU.\n",
        "\n",
        "Trong Google Colab, chúng ta có thể cài đặt điều này bằng cách tới Runtime -> Change runtime type -> Hardware accelerator -> GPU.\n",
        "\n",
        "Sau khi chọn GPU, chúng ta có thể sẽ phải khởi động lại runtime."
      ]
    },
    {
      "cell_type": "code",
      "metadata": {
        "id": "DEYTFigmc3CI",
        "colab": {
          "base_uri": "https://localhost:8080/"
        },
        "outputId": "57c44ca3-b01f-412c-a670-73b70e861937"
      },
      "source": [
        "# Kiểm tra GPU\n",
        "!nvidia-smi -L"
      ],
      "execution_count": null,
      "outputs": [
        {
          "output_type": "stream",
          "name": "stdout",
          "text": [
            "GPU 0: Tesla K80 (UUID: GPU-7c8181f1-42c3-e0c6-0862-932bb75fde7b)\n"
          ]
        }
      ]
    },
    {
      "cell_type": "markdown",
      "metadata": {
        "id": "gS3YnNNI8oFk"
      },
      "source": [
        "## Lấy hàm hỗ trợ\n",
        "\n",
        "Trong các mô-đun trước, chúng ta đã tạo khá nhiều hàm hỗ trợ để thực hiện các tác vụ nhỏ cần thiết cho notebook.\n",
        "\n",
        "Thay vì viết lại toàn bộ, chúng ta có thể import script và load chúng từ đó.\n",
        "\n",
        "Có thể tìm thấy script chứa các hàm hỗ trợ trên [GitHub](https://github.com/mrdbourke/tensorflow-deep-learning/blob/main/extras/helper_functions.py)."
      ]
    },
    {
      "cell_type": "code",
      "metadata": {
        "colab": {
          "base_uri": "https://localhost:8080/"
        },
        "id": "aFOHPqgE8pv-",
        "outputId": "523e55ff-21ee-41ed-e3a4-7e19274f9ea8"
      },
      "source": [
        "# Download script hàm hỗ trợ\n",
        "!wget https://raw.githubusercontent.com/mrdbourke/tensorflow-deep-learning/main/extras/helper_functions.py"
      ],
      "execution_count": null,
      "outputs": [
        {
          "output_type": "stream",
          "name": "stdout",
          "text": [
            "--2021-09-23 05:25:54--  https://raw.githubusercontent.com/mrdbourke/tensorflow-deep-learning/main/extras/helper_functions.py\n",
            "Resolving raw.githubusercontent.com (raw.githubusercontent.com)... 185.199.108.133, 185.199.110.133, 185.199.111.133, ...\n",
            "Connecting to raw.githubusercontent.com (raw.githubusercontent.com)|185.199.108.133|:443... connected.\n",
            "HTTP request sent, awaiting response... 200 OK\n",
            "Length: 10246 (10K) [text/plain]\n",
            "Saving to: ‘helper_functions.py.4’\n",
            "\n",
            "\rhelper_functions.py   0%[                    ]       0  --.-KB/s               \rhelper_functions.py 100%[===================>]  10.01K  --.-KB/s    in 0s      \n",
            "\n",
            "2021-09-23 05:25:54 (43.6 MB/s) - ‘helper_functions.py.4’ saved [10246/10246]\n",
            "\n"
          ]
        }
      ]
    },
    {
      "cell_type": "code",
      "metadata": {
        "id": "ICFbSkoM85tq"
      },
      "source": [
        "# Import chuỗi các hàm hỗ trợ cho notebook\n",
        "from helper_functions import unzip_data, create_tensorboard_callback, plot_loss_curves, compare_historys"
      ],
      "execution_count": null,
      "outputs": []
    },
    {
      "cell_type": "markdown",
      "metadata": {
        "id": "cCZrclc2COWW"
      },
      "source": [
        "## Download tập dữ liệu text\n",
        "\n",
        "Hãy bắt đầu bằng cách download tập dữ liệu văn bản. Chúng ta sẽ sử dụng tập dữ liệu [Real or Not?](https://www.kaggle.com/c/nlp-getting-started/data) từ Kaggle, có chứa các Tweet dựa trên văn bản về các thảm họa thiên nhiên.\n",
        "\n",
        "Các Real Tweet về thảm họa như:\n",
        "\n",
        "```\n",
        "Jetstar and Virgin forced to cancel Bali flights again because of ash from Mount Raung volcano\n",
        "```\n",
        "\n",
        "Not Real Tweet là các tweet không thuộc chủ đề thảm họa (có thể là bất cứ chủ đề nào), chẳng hạn:\n",
        "\n",
        "```\n",
        "'Education is the most powerful weapon which you can use to change the world.' Nelson #Mandela #quote\n",
        "```\n",
        "\n",
        "Để thuận tiện, tập dữ liệu đã được [download từ Kaggle](https://www.kaggle.com/c/nlp-getting-started/data) (sẽ cần tài khoản Kaggle) và upload ở dạng file zip có thể download.\n",
        "\n",
        "> 🔑 **Lưu ý:** Dữ liệu download ban đầu không bị thay đổi theo cách chúng ta download nó từ Kaggle."
      ]
    },
    {
      "cell_type": "code",
      "metadata": {
        "id": "C0FEcci5IH8S",
        "colab": {
          "base_uri": "https://localhost:8080/"
        },
        "outputId": "75a40c19-6eae-4323-d84e-c6af405fc0ba"
      },
      "source": [
        "# Download dữ liệu (tương tự từ Kaggle)\n",
        "!wget \"https://storage.googleapis.com/ztm_tf_course/nlp_getting_started.zip\"\n",
        "\n",
        "# Giải nén dữ liệu\n",
        "unzip_data(\"nlp_getting_started.zip\")"
      ],
      "execution_count": null,
      "outputs": [
        {
          "output_type": "stream",
          "name": "stdout",
          "text": [
            "--2021-09-23 05:25:57--  https://storage.googleapis.com/ztm_tf_course/nlp_getting_started.zip\n",
            "Resolving storage.googleapis.com (storage.googleapis.com)... 66.102.1.128, 172.253.120.128, 74.125.206.128, ...\n",
            "Connecting to storage.googleapis.com (storage.googleapis.com)|66.102.1.128|:443... connected.\n",
            "HTTP request sent, awaiting response... 200 OK\n",
            "Length: 607343 (593K) [application/zip]\n",
            "Saving to: ‘nlp_getting_started.zip.4’\n",
            "\n",
            "\r          nlp_getti   0%[                    ]       0  --.-KB/s               \rnlp_getting_started 100%[===================>] 593.11K  --.-KB/s    in 0.006s  \n",
            "\n",
            "2021-09-23 05:25:57 (101 MB/s) - ‘nlp_getting_started.zip.4’ saved [607343/607343]\n",
            "\n"
          ]
        }
      ]
    },
    {
      "cell_type": "markdown",
      "metadata": {
        "id": "wBIR6tTI9QcR"
      },
      "source": [
        "Giải nén `nlp_getting_started.zip` sẽ được 3 file `.csv` sau:\n",
        "* `sample_submission.csv` - ví dụ về file mà chúng ta nộp cho cuộc thi Kaggle có các dự đoán của mô hình.\n",
        "* `train.csv` - các mẫu huấn luyện có real Tweet not real Tweet về thảm họa\n",
        "* `test.csv` - các mẫu kiểm tra có real Tweet not real Tweet về thảm họa"
      ]
    },
    {
      "cell_type": "markdown",
      "metadata": {
        "id": "7HpxZKYdD6V-"
      },
      "source": [
        "## Trực quan hóa dữ liệu text\n",
        "\n",
        "Sau khi có tập dữ liệu mới để làm việc, đầu tiên chúng ta sẽ làm gì?\n",
        "\n",
        "Thăm dò? Kiểm tra? Làm quen?\n",
        "\n",
        "Tất cả đều đúng.\n",
        "\n",
        "Nhớ lại phương châm: visualize, visualize, visualize (trực quan hóa).\n",
        "\n",
        " Bây giờ, các mẫu dữ liệu text ở dạng file `.csv`. Để dễ dàng hiển thị, hãy chuyển chúng thành pandas DataFrame.\n",
        "\n",
        "> 📖 **Tài liệu đọc:** Chúng ta sẽ gặp các tập dữ liệu text ở nhiều định dạng. Ngoài file CSV (định dạng mà chúng ta đang thao tác), chúng ta cũng có thể sẽ gặp file `.txt` và `.json`. Để làm việc với các kiểu file đó, các bạn hãy tham khảo hai bài viết sau trên Realpython:\n",
        "* [How to Read and Write Files in Python](https://realpython.com/read-write-files-python/)\n",
        "* [Working with JSON Data in Python](https://realpython.com/python-json/)"
      ]
    },
    {
      "cell_type": "code",
      "metadata": {
        "id": "qRvkeYEJIKsw",
        "colab": {
          "base_uri": "https://localhost:8080/",
          "height": 204
        },
        "outputId": "052a1d3e-1d52-47e9-ea39-df6dd4d149ca"
      },
      "source": [
        "# Biến file .csv thành pandas DataFrame\n",
        "import pandas as pd\n",
        "train_df = pd.read_csv(\"train.csv\")\n",
        "test_df = pd.read_csv(\"test.csv\")\n",
        "train_df.head()"
      ],
      "execution_count": null,
      "outputs": [
        {
          "output_type": "execute_result",
          "data": {
            "text/html": [
              "<div>\n",
              "<style scoped>\n",
              "    .dataframe tbody tr th:only-of-type {\n",
              "        vertical-align: middle;\n",
              "    }\n",
              "\n",
              "    .dataframe tbody tr th {\n",
              "        vertical-align: top;\n",
              "    }\n",
              "\n",
              "    .dataframe thead th {\n",
              "        text-align: right;\n",
              "    }\n",
              "</style>\n",
              "<table border=\"1\" class=\"dataframe\">\n",
              "  <thead>\n",
              "    <tr style=\"text-align: right;\">\n",
              "      <th></th>\n",
              "      <th>id</th>\n",
              "      <th>keyword</th>\n",
              "      <th>location</th>\n",
              "      <th>text</th>\n",
              "      <th>target</th>\n",
              "    </tr>\n",
              "  </thead>\n",
              "  <tbody>\n",
              "    <tr>\n",
              "      <th>0</th>\n",
              "      <td>1</td>\n",
              "      <td>NaN</td>\n",
              "      <td>NaN</td>\n",
              "      <td>Our Deeds are the Reason of this #earthquake M...</td>\n",
              "      <td>1</td>\n",
              "    </tr>\n",
              "    <tr>\n",
              "      <th>1</th>\n",
              "      <td>4</td>\n",
              "      <td>NaN</td>\n",
              "      <td>NaN</td>\n",
              "      <td>Forest fire near La Ronge Sask. Canada</td>\n",
              "      <td>1</td>\n",
              "    </tr>\n",
              "    <tr>\n",
              "      <th>2</th>\n",
              "      <td>5</td>\n",
              "      <td>NaN</td>\n",
              "      <td>NaN</td>\n",
              "      <td>All residents asked to 'shelter in place' are ...</td>\n",
              "      <td>1</td>\n",
              "    </tr>\n",
              "    <tr>\n",
              "      <th>3</th>\n",
              "      <td>6</td>\n",
              "      <td>NaN</td>\n",
              "      <td>NaN</td>\n",
              "      <td>13,000 people receive #wildfires evacuation or...</td>\n",
              "      <td>1</td>\n",
              "    </tr>\n",
              "    <tr>\n",
              "      <th>4</th>\n",
              "      <td>7</td>\n",
              "      <td>NaN</td>\n",
              "      <td>NaN</td>\n",
              "      <td>Just got sent this photo from Ruby #Alaska as ...</td>\n",
              "      <td>1</td>\n",
              "    </tr>\n",
              "  </tbody>\n",
              "</table>\n",
              "</div>"
            ],
            "text/plain": [
              "   id keyword  ...                                               text target\n",
              "0   1     NaN  ...  Our Deeds are the Reason of this #earthquake M...      1\n",
              "1   4     NaN  ...             Forest fire near La Ronge Sask. Canada      1\n",
              "2   5     NaN  ...  All residents asked to 'shelter in place' are ...      1\n",
              "3   6     NaN  ...  13,000 people receive #wildfires evacuation or...      1\n",
              "4   7     NaN  ...  Just got sent this photo from Ruby #Alaska as ...      1\n",
              "\n",
              "[5 rows x 5 columns]"
            ]
          },
          "metadata": {},
          "execution_count": 5
        }
      ]
    },
    {
      "cell_type": "markdown",
      "metadata": {
        "id": "1xGqlnQaLmaT"
      },
      "source": [
        "Dữ liệu huấn luyện mà chúng ta đã download đã bị xáo trộn, nhưng để chắc chắn, hãy xáo trộn lại."
      ]
    },
    {
      "cell_type": "code",
      "metadata": {
        "id": "ACCE7h6OMVjR",
        "colab": {
          "base_uri": "https://localhost:8080/",
          "height": 204
        },
        "outputId": "51f2ae2e-df2a-4e15-a618-7087ecba1914"
      },
      "source": [
        "# Xáo trộn training dataframe\n",
        "train_df_shuffled = train_df.sample(frac=1, random_state=42) # xáo trộn với random_state=42 cho khả năng tái lặp\n",
        "train_df_shuffled.head()"
      ],
      "execution_count": null,
      "outputs": [
        {
          "output_type": "execute_result",
          "data": {
            "text/html": [
              "<div>\n",
              "<style scoped>\n",
              "    .dataframe tbody tr th:only-of-type {\n",
              "        vertical-align: middle;\n",
              "    }\n",
              "\n",
              "    .dataframe tbody tr th {\n",
              "        vertical-align: top;\n",
              "    }\n",
              "\n",
              "    .dataframe thead th {\n",
              "        text-align: right;\n",
              "    }\n",
              "</style>\n",
              "<table border=\"1\" class=\"dataframe\">\n",
              "  <thead>\n",
              "    <tr style=\"text-align: right;\">\n",
              "      <th></th>\n",
              "      <th>id</th>\n",
              "      <th>keyword</th>\n",
              "      <th>location</th>\n",
              "      <th>text</th>\n",
              "      <th>target</th>\n",
              "    </tr>\n",
              "  </thead>\n",
              "  <tbody>\n",
              "    <tr>\n",
              "      <th>2644</th>\n",
              "      <td>3796</td>\n",
              "      <td>destruction</td>\n",
              "      <td>NaN</td>\n",
              "      <td>So you have a new weapon that can cause un-ima...</td>\n",
              "      <td>1</td>\n",
              "    </tr>\n",
              "    <tr>\n",
              "      <th>2227</th>\n",
              "      <td>3185</td>\n",
              "      <td>deluge</td>\n",
              "      <td>NaN</td>\n",
              "      <td>The f$&amp;amp;@ing things I do for #GISHWHES Just...</td>\n",
              "      <td>0</td>\n",
              "    </tr>\n",
              "    <tr>\n",
              "      <th>5448</th>\n",
              "      <td>7769</td>\n",
              "      <td>police</td>\n",
              "      <td>UK</td>\n",
              "      <td>DT @georgegalloway: RT @Galloway4Mayor: ÛÏThe...</td>\n",
              "      <td>1</td>\n",
              "    </tr>\n",
              "    <tr>\n",
              "      <th>132</th>\n",
              "      <td>191</td>\n",
              "      <td>aftershock</td>\n",
              "      <td>NaN</td>\n",
              "      <td>Aftershock back to school kick off was great. ...</td>\n",
              "      <td>0</td>\n",
              "    </tr>\n",
              "    <tr>\n",
              "      <th>6845</th>\n",
              "      <td>9810</td>\n",
              "      <td>trauma</td>\n",
              "      <td>Montgomery County, MD</td>\n",
              "      <td>in response to trauma Children of Addicts deve...</td>\n",
              "      <td>0</td>\n",
              "    </tr>\n",
              "  </tbody>\n",
              "</table>\n",
              "</div>"
            ],
            "text/plain": [
              "        id  ... target\n",
              "2644  3796  ...      1\n",
              "2227  3185  ...      0\n",
              "5448  7769  ...      1\n",
              "132    191  ...      0\n",
              "6845  9810  ...      0\n",
              "\n",
              "[5 rows x 5 columns]"
            ]
          },
          "metadata": {},
          "execution_count": 6
        }
      ]
    },
    {
      "cell_type": "markdown",
      "metadata": {
        "id": "Lw4mKW1yL0kI"
      },
      "source": [
        "Lưu ý cách dữ liệu huấn luyện có cột `\"target\"`.\n",
        "\n",
        "Chúng ta sẽ viết code để tìm các pattern (ví dụ: các tổ hợp khác nhau của các từ) trong cột `\"text\"` của tập dữ liệu huấn luyện để dự đoán giá trị của cột `\"target\"`.\n",
        "\n",
        "Tập dữ liệu kiểm tra không có cột `\"target\"`.\n",
        "\n",
        "```\n",
        "Input (cột text) -> Thuật toán Machine Learning -> Output (cột target)\n",
        "```\n",
        "\n",
        "![](https://raw.githubusercontent.com/mrdbourke/tensorflow-deep-learning/main/images/08-text-classification-inputs-and-outputs.png)\n",
        "*Ví dụ về đầu vào và đầu ra phân loại text cho bài toán phân loại xem Tweet có phải là về thảm họa không.*"
      ]
    },
    {
      "cell_type": "code",
      "metadata": {
        "id": "tDh5t7thI5BM",
        "colab": {
          "base_uri": "https://localhost:8080/",
          "height": 204
        },
        "outputId": "9f4321e2-a45e-4eef-93d1-71972c992e37"
      },
      "source": [
        "# Dữ liệu kiểm tra không có target (đó là điều mà chúng ta sẽ cố dự đoán)\n",
        "test_df.head()"
      ],
      "execution_count": null,
      "outputs": [
        {
          "output_type": "execute_result",
          "data": {
            "text/html": [
              "<div>\n",
              "<style scoped>\n",
              "    .dataframe tbody tr th:only-of-type {\n",
              "        vertical-align: middle;\n",
              "    }\n",
              "\n",
              "    .dataframe tbody tr th {\n",
              "        vertical-align: top;\n",
              "    }\n",
              "\n",
              "    .dataframe thead th {\n",
              "        text-align: right;\n",
              "    }\n",
              "</style>\n",
              "<table border=\"1\" class=\"dataframe\">\n",
              "  <thead>\n",
              "    <tr style=\"text-align: right;\">\n",
              "      <th></th>\n",
              "      <th>id</th>\n",
              "      <th>keyword</th>\n",
              "      <th>location</th>\n",
              "      <th>text</th>\n",
              "    </tr>\n",
              "  </thead>\n",
              "  <tbody>\n",
              "    <tr>\n",
              "      <th>0</th>\n",
              "      <td>0</td>\n",
              "      <td>NaN</td>\n",
              "      <td>NaN</td>\n",
              "      <td>Just happened a terrible car crash</td>\n",
              "    </tr>\n",
              "    <tr>\n",
              "      <th>1</th>\n",
              "      <td>2</td>\n",
              "      <td>NaN</td>\n",
              "      <td>NaN</td>\n",
              "      <td>Heard about #earthquake is different cities, s...</td>\n",
              "    </tr>\n",
              "    <tr>\n",
              "      <th>2</th>\n",
              "      <td>3</td>\n",
              "      <td>NaN</td>\n",
              "      <td>NaN</td>\n",
              "      <td>there is a forest fire at spot pond, geese are...</td>\n",
              "    </tr>\n",
              "    <tr>\n",
              "      <th>3</th>\n",
              "      <td>9</td>\n",
              "      <td>NaN</td>\n",
              "      <td>NaN</td>\n",
              "      <td>Apocalypse lighting. #Spokane #wildfires</td>\n",
              "    </tr>\n",
              "    <tr>\n",
              "      <th>4</th>\n",
              "      <td>11</td>\n",
              "      <td>NaN</td>\n",
              "      <td>NaN</td>\n",
              "      <td>Typhoon Soudelor kills 28 in China and Taiwan</td>\n",
              "    </tr>\n",
              "  </tbody>\n",
              "</table>\n",
              "</div>"
            ],
            "text/plain": [
              "   id keyword location                                               text\n",
              "0   0     NaN      NaN                 Just happened a terrible car crash\n",
              "1   2     NaN      NaN  Heard about #earthquake is different cities, s...\n",
              "2   3     NaN      NaN  there is a forest fire at spot pond, geese are...\n",
              "3   9     NaN      NaN           Apocalypse lighting. #Spokane #wildfires\n",
              "4  11     NaN      NaN      Typhoon Soudelor kills 28 in China and Taiwan"
            ]
          },
          "metadata": {},
          "execution_count": 7
        }
      ]
    },
    {
      "cell_type": "markdown",
      "metadata": {
        "id": "O4JhBRn5Mn-V"
      },
      "source": [
        "Hãy kiểm tra xem chúng ta có bao nhiêu mẫu của mỗi target."
      ]
    },
    {
      "cell_type": "code",
      "metadata": {
        "id": "k4P5DnLhIciD",
        "colab": {
          "base_uri": "https://localhost:8080/"
        },
        "outputId": "50fa6a7a-a7cf-4dc5-b5a9-01ccb8dfbe61"
      },
      "source": [
        "# Mỗi lớp có bao nhiêu mẫu?\n",
        "train_df.target.value_counts()"
      ],
      "execution_count": null,
      "outputs": [
        {
          "output_type": "execute_result",
          "data": {
            "text/plain": [
              "0    4342\n",
              "1    3271\n",
              "Name: target, dtype: int64"
            ]
          },
          "metadata": {},
          "execution_count": 8
        }
      ]
    },
    {
      "cell_type": "markdown",
      "metadata": {
        "id": "WjEDQ297Ihy4"
      },
      "source": [
        "Vì chúng ta có hai giá trị target nên chúng ta sẽ giải quyết bài toán **phân loại nhị phân**.\n",
        "\n",
        "Nó cũng khá cân bằng, khoảng 60% lớp negative (`target = 0`) và 40% lớp positive (`target = 1`).\n",
        "\n",
        "Trong đó,\n",
        "\n",
        "* `1` =  real disaster Tweet\n",
        "* `0` = not real disaster Tweet\n",
        "\n",
        "Vậy còn tổng số mẫu mà chúng ta có?"
      ]
    },
    {
      "cell_type": "code",
      "metadata": {
        "id": "jQxg7EKKIy5L",
        "colab": {
          "base_uri": "https://localhost:8080/"
        },
        "outputId": "ca4aefe4-3405-4a94-8e8a-163386b25709"
      },
      "source": [
        "# Có tổng cộng bao nhiêu mẫu?\n",
        "print(f\"Total training samples: {len(train_df)}\")\n",
        "print(f\"Total test samples: {len(test_df)}\")\n",
        "print(f\"Total samples: {len(train_df) + len(test_df)}\")"
      ],
      "execution_count": null,
      "outputs": [
        {
          "output_type": "stream",
          "name": "stdout",
          "text": [
            "Total training samples: 7613\n",
            "Total test samples: 3263\n",
            "Total samples: 10876\n"
          ]
        }
      ]
    },
    {
      "cell_type": "markdown",
      "metadata": {
        "id": "Q1upY8-xNPWV"
      },
      "source": [
        "Có vẻ chúng ta có lượng dữ liệu huấn luyện và kiểm tra kha khá. Nếu có bất cứ điều gì, chúng ta có rất nhiều mẫu kiểm tra, thường có phân tách 90/10 (90% huấn luyện, 10% kiểm tra) hoặc 80/20 là đủ.\n",
        "\n",
        "Đã đến lúc trực quan hóa, hãy viết một ít code để hiển thị các mẫu văn bản ngẫu nhiên.\n",
        "\n",
        "> 🤔 **Câu hỏi:** Tại sao phải hiển thị các mẫu ngẫu nhiên? Chúng ta có thể hiển thị các mẫu theo thứ tự nhưng điều này có thể dẫn đến việc chúng ta chỉ thấy một tập dữ liệu con nhất định. Tốt hơn là hãy hiển thị một lượng đáng kể (hơn 100) mẫu ngẫu nhiên để nắm được các loại dữ liệu khác nhau mà chúng ta đang làm việc. Trong ML, đừng bao giờ đánh giá thấp sức mạnh của sự ngẫu nhiên."
      ]
    },
    {
      "cell_type": "code",
      "metadata": {
        "id": "vH3EXknTI3bQ",
        "colab": {
          "base_uri": "https://localhost:8080/"
        },
        "outputId": "4e068f05-06fd-4611-b0c9-519f4e67d8b9"
      },
      "source": [
        "# Hãy hiển thị một số mẫu huấn luyện ngẫu nhiên\n",
        "import random\n",
        "random_index = random.randint(0, len(train_df)-5) # tạo các chỉ mục ngẫu nhiên không cao hơn tổng số mẫu\n",
        "for row in train_df_shuffled[[\"text\", \"target\"]][random_index:random_index+5].itertuples():\n",
        "  _, text, target = row\n",
        "  print(f\"Target: {target}\", \"(real disaster)\" if target > 0 else \"(not real disaster)\")\n",
        "  print(f\"Text:\\n{text}\\n\")\n",
        "  print(\"---\\n\")"
      ],
      "execution_count": null,
      "outputs": [
        {
          "output_type": "stream",
          "name": "stdout",
          "text": [
            "Target: 0 (not real disaster)\n",
            "Text:\n",
            "https://t.co/eCMUjkKqX1 @ArianaGrande @ScreamQueens \n",
            "Katherine's Death\n",
            "\n",
            "---\n",
            "\n",
            "Target: 0 (not real disaster)\n",
            "Text:\n",
            "@TinyJecht Are you another Stand-user? If you are I will have to detonate you with my Killer Queen.\n",
            "\n",
            "---\n",
            "\n",
            "Target: 1 (real disaster)\n",
            "Text:\n",
            "70 Years After Atomic Bombs Japan Still Struggles With War Past http://t.co/5wfXbAQMBK The anniversary of the devastation wrought by theÛ_\n",
            "\n",
            "---\n",
            "\n",
            "Target: 0 (not real disaster)\n",
            "Text:\n",
            "My lifelong all-time favorite song is 'Landslide'.  This song has gotten me through a lot of though times &amp;... http://t.co/RfB3JXbiEJ\n",
            "\n",
            "---\n",
            "\n",
            "Target: 0 (not real disaster)\n",
            "Text:\n",
            "I hear the mumbling i hear the cackling i got em scared shook panicking\n",
            "\n",
            "---\n",
            "\n"
          ]
        }
      ]
    },
    {
      "cell_type": "markdown",
      "metadata": {
        "id": "1FhRRewGPNS_"
      },
      "source": [
        "### Chia dữ liệu thành các tập huấn luyện và kiểm định\n",
        "\n",
        "Vì tập kiểm tra không có nhãn và chúng ta cần đánh giá các mô hình đã được huấn luyện, chúng ta sẽ tách một số dữ liệu huấn luyện và tạo một tập kiểm định.\n",
        "\n",
        "Khi mô hình huấn luyện (thử các patter trong các mẫu Tweet), nó sẽ chỉ thấy dữ liệu từ tập huấn luyện và chúng ta có thể xem nó hoạt động như thế nào trên dữ liệu chưa biết thấy bằng cách sử dụng tập kiểm định.\n",
        "\n",
        "Chúng ta sẽ chuyển đổi các phần tách từ kiểu dữ liệu pandas Series thành list các string (cho text) và list các int (cho nhãn) để dễ dàng sử dụng sau này.\n",
        "\n",
        "Để tách tập dữ liệu huấn luyện và tạo tập dữ liệu kiểm định, chúng ta sẽ sử dụng phương thức [`train_test_split()`](https://scikit-learn.org/stable/modules/generated/sklearn.model_selection.train_test_split.html) của Scikit-Learn và dành 10% mẫu huấn luyện cho tập kiểm định."
      ]
    },
    {
      "cell_type": "code",
      "metadata": {
        "id": "7OJf31TQ-X8s"
      },
      "source": [
        "from sklearn.model_selection import train_test_split\n",
        "\n",
        "# Sử dụng train_test_split để tách dữ liệu huấn luyện thành các tập huấn luyện và kiểm định\n",
        "train_sentences, val_sentences, train_labels, val_labels = train_test_split(train_df_shuffled[\"text\"].to_numpy(),\n",
        "                                                                            train_df_shuffled[\"target\"].to_numpy(),\n",
        "                                                                            test_size=0.1, # dành 10% mẫu cho tập kiểm định\n",
        "                                                                            random_state=42) # random state cho khả năng tái lặp"
      ],
      "execution_count": null,
      "outputs": []
    },
    {
      "cell_type": "code",
      "metadata": {
        "colab": {
          "base_uri": "https://localhost:8080/"
        },
        "id": "NWGOTjanBaTQ",
        "outputId": "dd1a42bc-d291-42ad-f370-6b4008b3ec45"
      },
      "source": [
        "# Kiểm tra độ dài\n",
        "len(train_sentences), len(train_labels), len(val_sentences), len(val_labels)"
      ],
      "execution_count": null,
      "outputs": [
        {
          "output_type": "execute_result",
          "data": {
            "text/plain": [
              "(6851, 6851, 762, 762)"
            ]
          },
          "metadata": {},
          "execution_count": 12
        }
      ]
    },
    {
      "cell_type": "code",
      "metadata": {
        "colab": {
          "base_uri": "https://localhost:8080/"
        },
        "id": "VqhvQK9wBTbw",
        "outputId": "31c510a5-5b33-4c3c-b093-de3982bf145b"
      },
      "source": [
        "# Xem 10 câu huấn luyện đầu tiên và nhãn của chúng\n",
        "train_sentences[:10], train_labels[:10]"
      ],
      "execution_count": null,
      "outputs": [
        {
          "output_type": "execute_result",
          "data": {
            "text/plain": [
              "(array(['@mogacola @zamtriossu i screamed after hitting tweet',\n",
              "        'Imagine getting flattened by Kurt Zouma',\n",
              "        '@Gurmeetramrahim #MSGDoing111WelfareWorks Green S welfare force ke appx 65000 members har time disaster victim ki help ke liye tyar hai....',\n",
              "        \"@shakjn @C7 @Magnums im shaking in fear he's gonna hack the planet\",\n",
              "        'Somehow find you and I collide http://t.co/Ee8RpOahPk',\n",
              "        '@EvaHanderek @MarleyKnysh great times until the bus driver held us hostage in the mall parking lot lmfao',\n",
              "        'destroy the free fandom honestly',\n",
              "        'Weapons stolen from National Guard Armory in New Albany still missing #Gunsense http://t.co/lKNU8902JE',\n",
              "        '@wfaaweather Pete when will the heat wave pass? Is it really going to be mid month? Frisco Boy Scouts have a canoe trip in Okla.',\n",
              "        'Patient-reported outcomes in long-term survivors of metastatic colorectal cancer - British Journal of Surgery http://t.co/5Yl4DC1Tqt'],\n",
              "       dtype=object), array([0, 0, 1, 0, 0, 1, 1, 0, 1, 1]))"
            ]
          },
          "metadata": {},
          "execution_count": 13
        }
      ]
    },
    {
      "cell_type": "markdown",
      "metadata": {
        "id": "EN-houoSD-hP"
      },
      "source": [
        "## Chuyển text thành số\n",
        "\n",
        "Tuyệt! Chúng ta có một tập huấn luyện và kiểm định chứa các Tweet và nhãn.\n",
        "\n",
        "Các nhãn ở dạng số (`0` và `1`) nhưng Tweet thì ở dạng string.\n",
        "\n",
        "> 🤔 **Câu hỏi:** Bạn nghĩ chúng ta cần làm gì trước khi có thể sử dụng thuật toán học máy với dữ liệu text?\n",
        "\n",
        "Nếu bạn trả lời kiểu như \"biến nó thành số\" thì bạn đúng rồi đấy. Thuật toán học máy yêu cầu đầu vào phải ở dạng số.\n",
        "\n",
        "Có hai khái niệm chính cho việc biến text thành số trong NLP:\n",
        "* **Tokenization** - Ánh xạ trực tiếp từ từ hoặc ký tự hoặc sub-word sang một giá trị số. Có ba mức độ tokenization chính:\n",
        "  1. Sử dụng **word-level tokenization** với câu \"I love TensorFlow\" sẽ được \"I\" là `0`, \"love\" là `1` và \"TensorFlow\" là `2`. Trong trường hợp này, mỗi từ trong một chuỗi được coi là một **token** đơn lẻ.\n",
        "  2. **Character-level tokenization**, ví dụ như chuyển đổi các chữ cái A-Z thành các giá trị `1-26`. Trong trường hợp này, mỗi ký tự trong một chuỗi được coi là một **token** đơn lẻ.\n",
        "  3. **Sub-word tokenization** ở giữa word-level và character-level tokenization. Nó chia nhỏ các từ riêng lẻ thành các phần nhỏ hơn và sau đó chuyển các phần nhỏ hơn đó thành số. Ví dụ: \"my favourite food is pineapple pizza\" có thể thành \"my, fav, avour, rite, fo, oo, od, is, pin, ine, app, le, piz, za\". Sau khi làm điều này, các sub-word đó sẽ được ánh xạ tới một giá trị số. Trong trường hợp này, mỗi từ có thể được coi là nhiều **tokens**.\n",
        "* **Embedding** - Embedding là một đại diện của ngôn ngữ tự nhiên có thể học được, ở dạng **vectơ đặc trưng**. Ví dụ: từ \"dance\" có thể được biểu diễn bằng vectơ 5 chiều `[-0.8547, 0.4559, -0.3332, 0.9877, 0.1112]`. Cần lưu ý ở đây là kích thước của vectơ đặc trưng có thể điều chỉnh được. Có hai cách để sử dụng embedding:\n",
        "  1. **Tạo embedding riêng** - Khi văn bản được chuyển thành số (bắt buộc với embedding), chúng ta có thể đưa chúng qua một embedding layer ([`tf.keras.layers.Embedding`](https://www.tensorflow.org/api_docs/python/tf/keras/layers/Embedding)), chúng ta sẽ học biểu diễn embedding trong quá trình huấn luyện mô hình.\n",
        "  2. **Sử dụng lại embedding đã tìm hiểu trước đó** - Nhiều pre-trained embedding có trên mạng. Các pre-trained embedding này thường được học trên các kho ngữ liệu text lớn (chẳng hạn như tất cả Wikipedia) và do đó có mô tả cơ bản của ngôn ngữ tự nhiên. Chúng ta có thể sử dụng pre-trained embedding để khởi tạo mô hình và tinh chỉnh nó cho phù hợp với tác vụ cụ thể.\n",
        "\n",
        "![](https://raw.githubusercontent.com/mrdbourke/tensorflow-deep-learning/main/images/08-tokenization-vs-embedding.png)\n",
        "*Ví dụ về **tokenization** (ánh xạ thằng từ word tới number) và **embedding** (biểu diễn phong phú hơn về mối quan hệ giữa các token).*\n",
        "\n",
        "> 🤔 **Câu hỏi:** Tôi nên sử dụng tokenzation cấp độ nào? Tôi nên chọn embedding nào?\n",
        "\n",
        "Điều này còn tùy thuộc vào bài toán. Chúng ta có thể thử character-level tokenization/embedding và word-level tokenization/embedding và xem cái nào thực hiện tốt nhất. Chúng ta thậm chí có thể muốn thử xếp chồng chúng (tức là kết hợp đầu ra của các embedding layer bằng cách sử dụng [`tf.keras.layers.concatenate`](https://www.tensorflow.org/api_docs/python/tf/keras/layers/concatenate)).\n",
        "\n",
        "Nếu bạn đang tìm kiếm pre-trained word embedding, có thể bắt đầu với [Word2vec embeddings](http://jalammar.github.io/illustrated-word2vec/), [GloVe embeddings](https://nlp.stanford.edu/projects/glove/) và nhiều tùy chọn có sẵn trên TensorFlow Hub.\n",
        "\n",
        "> 🔑 **Lưu ý:** Giống như tìm kiếm mô hình thị giác máy tính đã huấn luyện trước, chúng ta có thể tìm kiếm pre-trained word embedding để sử dụng cho bài toán của mình. Hãy thử tìm kiếm \"use pre-trained word embeddings\" trên TensorFlow."
      ]
    },
    {
      "cell_type": "markdown",
      "metadata": {
        "id": "8UnRcM1PELHn"
      },
      "source": [
        "### Text vectorization (tokenization)\n",
        "\n",
        "Chúng ta đã nói khá nhiều về tokenization và embedding, hãy tạo tokenization thôi.\n",
        "\n",
        "Trước tiên, chúng ta sẽ luyện tập tokenzation (ánh xạ từ thành số).\n",
        "\n",
        "Để tokenize từ, chúng ta sẽ sử dụng preprocessing layer hữu ích: [`tf.keras.layers.experimental.preprocessing.TextVectorization`](https://www.tensorflow.org/api_docs/python/tf/keras/layers/experimental/preprocessing/TextVectorization).\n",
        "\n",
        "`TextVectorization` layer có các tham số sau:\n",
        "* `max_tokens` - Số lượng từ tối đa trong vốn từ vựng (ví dụ: 20000 hoặc số từ duy nhất trong text), bao gồm một giá trị cho token OOV (out of vocabulary).\n",
        "* `standardize` - Phương pháp chuẩn hóa text. Mặc định là `\"lower_and_strip_punctuation\"` giảm text và xóa tất cả các dấu câu.\n",
        "* `split` - Cách chia nhỏ text, mặc định là `\"whitespace\"` chia cả dấu cách.\n",
        "* `ngrams` - Có bao nhiêu từ cần chứa mỗi lần chia token, chẳng hạn: `ngrams=2` chia token thành các chuỗi liên tiếp của 2.\n",
        "* `output_mode` -  Làm thế nào để xuất token, có thể là `\"int\"` (ánh xạ số nguyên), `\"binary\"` (mã hóa one-hot), `\"count\"` hoặc `\"tf-idf\"`. Xem thêm tài liệu để biết thêm chi tiết.\n",
        "* `output_sequence_length` - Độ dài của chuỗi tokenized để xuất. Ví dụ: nếu `output_sequence_length=150`, tất cả các chuỗi tokenized sẽ dài 150 token.\n",
        "* `pad_to_max_tokens` - Mặc định là `False`, nếu `True` thì trục đặc trưng đầu ra sẽ được đệm thành `max_tokens` kể cả khi số lượng token duy nhất trong từ vựng ít hơn `max_tokens`. Chỉ có hiệu quả ở một số chế độ, xem tài liệu để biết thêm chi tiết.\n",
        "\n",
        "Hãy xem chúng triển khai thế nào."
      ]
    },
    {
      "cell_type": "code",
      "metadata": {
        "id": "PVcZk-LcNunF"
      },
      "source": [
        "import tensorflow as tf\n",
        "from tensorflow.keras.layers.experimental.preprocessing import TextVectorization\n",
        "# Lưu ý: trong TensorFlow 2.6+, chúng ta không cần \"layers.experimental.preprocessing\" nữa\n",
        "# có thể sử dụng: \"tf.keras.layers.TextVectorization\", xem https://github.com/tensorflow/tensorflow/releases/tag/v2.6.0 để biết thêm chi tiết\n",
        "\n",
        "# Sử dụng biến TextVectorization mặc định\n",
        "text_vectorizer = TextVectorization(max_tokens=None, # có bao nhiêu từ trong từ vựng (toàn bộ các từ khác nhau trong text)\n",
        "                                    standardize=\"lower_and_strip_punctuation\", # cách xử lý text\n",
        "                                    split=\"whitespace\", # cách phân chia token\n",
        "                                    ngrams=None, # có tạo nhóm n-từ không?\n",
        "                                    output_mode=\"int\", # cách ánh xạ token thành số\n",
        "                                    output_sequence_length=None) # chuỗi đầu ra của token dài bao lâu?\n",
        "                                    # pad_to_max_tokens=True) # Không hợp lệ nếu sử dụng max_tokens=None"
      ],
      "execution_count": null,
      "outputs": []
    },
    {
      "cell_type": "markdown",
      "metadata": {
        "id": "u0Ej5mzKGkK8"
      },
      "source": [
        "Chúng ta đã khởi tạo đối tượng `TextVectorization` với thiết lập mặc định nhưng hãy tùy chỉnh nó một chút cho trường hợp này.\n",
        "\n",
        "Cụ thể, hãy thiết lập giá trị cho `max_tokens` và `output_sequence_length`.\n",
        "\n",
        "Với `max_tokens` (số từ trong từ vựng), bội số của 10,000 (`10,000`, `20,000`, `30,000`) hoặc số từ duy nhất chính xác trong text (ví dụ: `32,179`) là các giá trị thường gặp.\n",
        "\n",
        "Đối với trường hợp này, chúng ta sẽ sử dụng 10.000.\n",
        "\n",
        "Và với `output_sequence_length`, chúng ta sẽ sử dụng số lượng token trung bình mỗi Tweet trong tập huấn luyện. Nhưng trước tiên, chúng ta cần tìm ra nó."
      ]
    },
    {
      "cell_type": "code",
      "metadata": {
        "id": "SQ3ZCINnR56H",
        "colab": {
          "base_uri": "https://localhost:8080/"
        },
        "outputId": "093c7d74-8c3a-4fd1-8624-baa5cc95e183"
      },
      "source": [
        "# Tìm số lượng token trung bình (từ) trong các Tweet huấn luyện\n",
        "round(sum([len(i.split()) for i in train_sentences])/len(train_sentences))"
      ],
      "execution_count": null,
      "outputs": [
        {
          "output_type": "execute_result",
          "data": {
            "text/plain": [
              "15"
            ]
          },
          "metadata": {},
          "execution_count": 15
        }
      ]
    },
    {
      "cell_type": "markdown",
      "metadata": {
        "id": "AFGTRcw8Hv7R"
      },
      "source": [
        "Bây giờ, hãy tạo một đối tượng `TextVectorization` khác bằng cách sử dụng các tham số tùy chỉnh."
      ]
    },
    {
      "cell_type": "code",
      "metadata": {
        "id": "eYPcGwdbafmW"
      },
      "source": [
        "# Thiết lập text vectorization với các biến tùy chỉnh\n",
        "max_vocab_length = 10000 # số lượng từ tối đa trong vocabulary\n",
        "max_length = 15 # độ dài tối đa của các chuỗi (ví dụ: mô hình thấy bao nhiêu word từ một Tweet?)\n",
        "\n",
        "text_vectorizer = TextVectorization(max_tokens=max_vocab_length,\n",
        "                                    output_mode=\"int\",\n",
        "                                    output_sequence_length=max_length)"
      ],
      "execution_count": null,
      "outputs": []
    },
    {
      "cell_type": "markdown",
      "metadata": {
        "id": "BSWycfB3H3wV"
      },
      "source": [
        "Tuyệt!\n",
        "\n",
        "Để ánh xạ `TextVectorization` instance `text_vectorizer` vào dữ liệu, chúng ta có thể gọi phương thức `adapt()` trên nó khi chuyển nó vào text huấn luyện."
      ]
    },
    {
      "cell_type": "code",
      "metadata": {
        "id": "0083KHXPO4m2"
      },
      "source": [
        "# Khớp text vectorizer với text huấn luyện\n",
        "text_vectorizer.adapt(train_sentences)"
      ],
      "execution_count": null,
      "outputs": []
    },
    {
      "cell_type": "markdown",
      "metadata": {
        "id": "Syh0VB9wIHUq"
      },
      "source": [
        "Dữ liệu huấn luyện đã được ánh xạ! Hãy thử `text_vectorizer` trên một câu tùy thích (một câu tương tự như những gì chúng ta thấy trong dữ liệu huấn luyện)."
      ]
    },
    {
      "cell_type": "code",
      "metadata": {
        "id": "uizmdJKvO2OW",
        "colab": {
          "base_uri": "https://localhost:8080/"
        },
        "outputId": "908d8b3e-0110-47ba-b7d4-ab2e402af79c"
      },
      "source": [
        "# Tạo câu mẫu và tokenize nó\n",
        "sample_sentence = \"There's a flood in my street!\"\n",
        "text_vectorizer([sample_sentence])"
      ],
      "execution_count": null,
      "outputs": [
        {
          "output_type": "execute_result",
          "data": {
            "text/plain": [
              "<tf.Tensor: shape=(1, 15), dtype=int64, numpy=\n",
              "array([[264,   3, 232,   4,  13, 698,   0,   0,   0,   0,   0,   0,   0,\n",
              "          0,   0]])>"
            ]
          },
          "metadata": {},
          "execution_count": 18
        }
      ]
    },
    {
      "cell_type": "markdown",
      "metadata": {
        "id": "M0RmAeplIW57"
      },
      "source": [
        "Có vẻ chúng ta có một cách để biến văn bản thành số (trong trường hợp này là word-level tokenization). Chú ý số 0 ở cuối tensor được trả về, điều này là do chúng ta đặt `output_sequence_length=15`, tức là bất kể kích thước của chuỗi mà chúng ta truyền cho `text_vectorizer` là bao nhiêu, nó luôn trả về một chuỗi có độ dài 15.\n",
        "\n",
        "Hãy thử `text_vectorizer` trên một vài câu ngẫu nhiên."
      ]
    },
    {
      "cell_type": "code",
      "metadata": {
        "id": "SZFka4BtRR6_",
        "colab": {
          "base_uri": "https://localhost:8080/"
        },
        "outputId": "227a570e-d987-49a1-bcf1-3f561d907d00"
      },
      "source": [
        "# Chọn một câu ngẫu nhiên từ tập dữ liệu huấn luyện và tokenize nó\n",
        "random_sentence = random.choice(train_sentences)\n",
        "print(f\"Original text:\\n{random_sentence}\\\n",
        "      \\n\\nVectorized version:\")\n",
        "text_vectorizer([random_sentence])"
      ],
      "execution_count": null,
      "outputs": [
        {
          "output_type": "stream",
          "name": "stdout",
          "text": [
            "Original text:\n",
            "Black Eye 9: A space battle occurred at Star O784 involving 3 fleets totaling 3942 ships with 14 destroyed      \n",
            "\n",
            "Vectorized version:\n"
          ]
        },
        {
          "output_type": "execute_result",
          "data": {
            "text/plain": [
              "<tf.Tensor: shape=(1, 15), dtype=int64, numpy=\n",
              "array([[ 159,  898,  491,    3,  759,  442, 1068,   17,  874, 1629, 1129,\n",
              "         118, 1524, 1457, 6327]])>"
            ]
          },
          "metadata": {},
          "execution_count": 19
        }
      ]
    },
    {
      "cell_type": "markdown",
      "metadata": {
        "id": "PErGKRbPJF89"
      },
      "source": [
        "Trông ổn đấy!\n",
        "\n",
        "Cuối cùng, chúng ta có thể kiểm tra các token duy nhất trong từ vựng bằng phương thức `get_vocabulary()`."
      ]
    },
    {
      "cell_type": "code",
      "metadata": {
        "id": "5nwNdgAZIhna",
        "colab": {
          "base_uri": "https://localhost:8080/"
        },
        "outputId": "f23e1a41-5b2d-4042-cfec-c6b22226a798"
      },
      "source": [
        "# Lấy các từ duy nhất trong từ vựng\n",
        "words_in_vocab = text_vectorizer.get_vocabulary()\n",
        "top_5_words = words_in_vocab[:5] # những token phổ biến nhất (chú ý [UNK] token là những từ \"chưa biết\")\n",
        "bottom_5_words = words_in_vocab[-5:] # những token ít phổ biến nhất\n",
        "print(f\"Number of words in vocab: {len(words_in_vocab)}\")\n",
        "print(f\"Top 5 most common words: {top_5_words}\")\n",
        "print(f\"Bottom 5 least common words: {bottom_5_words}\")"
      ],
      "execution_count": null,
      "outputs": [
        {
          "output_type": "stream",
          "name": "stdout",
          "text": [
            "Number of words in vocab: 10000\n",
            "Top 5 most common words: ['', '[UNK]', 'the', 'a', 'in']\n",
            "Bottom 5 least common words: ['pages', 'paeds', 'pads', 'padres', 'paddytomlinson1']\n"
          ]
        }
      ]
    },
    {
      "cell_type": "markdown",
      "metadata": {
        "id": "AHyCdO0uEOkH"
      },
      "source": [
        "### Tạo Embedding bằng Embedding Layer\n",
        "\n",
        "Chúng ta có cách để ánh xạ văn bản thành số. Làm thế nào để tiến xa hơn và biến những con số đó thành embedding?\n",
        "\n",
        "Embedding có thể học trong quá trình huấn luyện. Điều này có nghĩa là thay vì chỉ cố định (ví dụ: `1` = I, `2` = love, `3` = TensorFlow), biểu diễn số của một từ có thể cải thiện khi mô hình đi qua các mẫu dữ liệu.\n",
        "\n",
        "Chúng ta có thể thấy embedding một từ trông như thế nào bằng cách sử dụng layer [`tf.keras.layers.Embedding`](https://www.tensorflow.org/api_docs/python/tf/keras/layers/Embedding).\n",
        "\n",
        "Các tham số chính mà chúng ta quan tâm ở đây là:\n",
        "* `input_dim` - Kích thước của vocabulary (ví dụ: `len(text_vectorizer.get_vocabulary()`).\n",
        "* `output_dim` - Kích thước của vectơ embedding đầu ra, ví dụ: giá trị `100` sẽ xuất ra vectơ đặc trưng có kích thước 100 cho mỗi từ.\n",
        "* `embeddings_initializer` - Cách khởi tạo embedding matrix, mặc định là `\"uniform\"` sẽ ngẫu nhiên khởi tạo embedding matrix với phân phối đồng nhất. Điều này có thể được thay đổi để sử dụng các embedding đã tìm hiểu trước đó.\n",
        "* `input_length` - Độ dài của chuỗi được chuyển đến embedding layer.\n",
        "\n",
        "Sau khi nắm được những điều này, hãy tạo một embedding layer."
      ]
    },
    {
      "cell_type": "code",
      "metadata": {
        "id": "OsB4StymSk_s",
        "colab": {
          "base_uri": "https://localhost:8080/"
        },
        "outputId": "cffa28e2-f368-4f82-ff97-aab8b54241d3"
      },
      "source": [
        "tf.random.set_seed(42)\n",
        "from tensorflow.keras import layers\n",
        "\n",
        "embedding = layers.Embedding(input_dim=max_vocab_length, # thiết lập shape đầu vào\n",
        "                             output_dim=128, # thiết lập kích thước của vectơ embedding\n",
        "                             embeddings_initializer=\"uniform\", # mặc định, khởi tại ngẫu nhiên\n",
        "                             input_length=max_length, # mỗi đầu vào dài bao nhiêu\n",
        "                             name=\"embedding_1\")\n",
        "\n",
        "embedding"
      ],
      "execution_count": null,
      "outputs": [
        {
          "output_type": "execute_result",
          "data": {
            "text/plain": [
              "<keras.layers.embeddings.Embedding at 0x7f5eb57cee50>"
            ]
          },
          "metadata": {},
          "execution_count": 21
        }
      ]
    },
    {
      "cell_type": "markdown",
      "metadata": {
        "id": "bfML_IzlSUho"
      },
      "source": [
        "Hãy chú ý làm thế nào để `embedding` là một layer của TensoFlow. Điều này rất quan trọng vì chúng ta có thể sử dụng nó làm một phần của mô hình, nghĩa là các tham số của nó (biểu diễn từ) có thể cập nhật và cải thiện khi mô hình học.\n",
        "\n",
        "Hãy thử nó trên một câu mẫu."
      ]
    },
    {
      "cell_type": "code",
      "metadata": {
        "id": "1Re6Eew6SZnG",
        "colab": {
          "base_uri": "https://localhost:8080/"
        },
        "outputId": "83f28dec-93fb-483a-a997-a4552ef74426"
      },
      "source": [
        "# Lấy một câu ngẫu nhiên từ tập huấn luyện\n",
        "random_sentence = random.choice(train_sentences)\n",
        "print(f\"Original text:\\n{random_sentence}\\\n",
        "      \\n\\nEmbedded version:\")\n",
        "\n",
        "# Nhúng câu ngẫu nhiên đó (biến nó thành biểu diễn số)\n",
        "sample_embed = embedding(text_vectorizer([random_sentence]))\n",
        "sample_embed"
      ],
      "execution_count": null,
      "outputs": [
        {
          "output_type": "stream",
          "name": "stdout",
          "text": [
            "Original text:\n",
            "UNR issues Severe Thunderstorm Warning [wind: 60 MPH hail: 0.75 IN] for Weston [WY] and Custer Fall River Lawrence Meade Pennington [SÛ_      \n",
            "\n",
            "Embedded version:\n"
          ]
        },
        {
          "output_type": "execute_result",
          "data": {
            "text/plain": [
              "<tf.Tensor: shape=(1, 15, 128), dtype=float32, numpy=\n",
              "array([[[-0.0235487 , -0.02911143, -0.01600165, ..., -0.03135703,\n",
              "         -0.03661771,  0.02812702],\n",
              "        [ 0.03848192, -0.04844777,  0.0345685 , ..., -0.01402212,\n",
              "         -0.04769395, -0.0404261 ],\n",
              "        [-0.04240407,  0.04235772,  0.04278237, ..., -0.01318695,\n",
              "          0.04171768,  0.01777187],\n",
              "        ...,\n",
              "        [-0.00522641,  0.04871375, -0.03742788, ...,  0.00540795,\n",
              "         -0.04380312, -0.01817607],\n",
              "        [ 0.03406706, -0.00160446,  0.00894339, ..., -0.0356751 ,\n",
              "          0.00541915,  0.00282475],\n",
              "        [ 0.02248487, -0.02848336,  0.04786098, ...,  0.03069806,\n",
              "         -0.04317403, -0.04145076]]], dtype=float32)>"
            ]
          },
          "metadata": {},
          "execution_count": 22
        }
      ]
    },
    {
      "cell_type": "markdown",
      "metadata": {
        "id": "e4Sn8o9pTBE5"
      },
      "source": [
        "Mỗi token trong câu được chuyển thành một vector đặc trưng có độ dài 128."
      ]
    },
    {
      "cell_type": "code",
      "metadata": {
        "id": "g_VBepuSTBDW",
        "colab": {
          "base_uri": "https://localhost:8080/"
        },
        "outputId": "7e62e9cf-bf1c-4e21-a304-ba0b277bb220"
      },
      "source": [
        "# Kiểm tra embedding của một token đơn lẻ\n",
        "sample_embed[0][0]"
      ],
      "execution_count": null,
      "outputs": [
        {
          "output_type": "execute_result",
          "data": {
            "text/plain": [
              "<tf.Tensor: shape=(128,), dtype=float32, numpy=\n",
              "array([-2.3548698e-02, -2.9111434e-02, -1.6001653e-02, -2.4854636e-02,\n",
              "       -1.8839194e-02, -1.7742872e-02,  3.5991777e-02,  4.7734752e-03,\n",
              "       -3.1464353e-02, -1.0192860e-02,  3.9272513e-02,  1.6213503e-02,\n",
              "        3.5752203e-02, -7.9760700e-04, -4.6503343e-02,  4.1901264e-02,\n",
              "        2.7158771e-02, -2.9694129e-02,  6.3859299e-04, -3.6073186e-02,\n",
              "        3.7186686e-02,  8.1444494e-03, -3.4610189e-02, -1.2373447e-02,\n",
              "        3.3506799e-02,  3.4542195e-03, -3.4555770e-02,  3.0121803e-03,\n",
              "        1.2546945e-02,  1.8180419e-02, -2.8727353e-02,  3.0131452e-03,\n",
              "        2.2011306e-02,  1.5216086e-02,  8.3960593e-05, -4.9976040e-02,\n",
              "       -4.1987814e-02, -1.4751814e-02,  3.1978119e-02,  3.0810181e-02,\n",
              "        1.3748173e-02,  1.3646554e-02, -1.8768311e-03,  5.6033619e-03,\n",
              "       -3.2450367e-02, -3.2819200e-02,  6.4723380e-03,  2.4402250e-02,\n",
              "       -4.9929023e-02,  8.7605603e-03,  3.7449453e-02, -3.0369056e-02,\n",
              "        2.8607275e-02, -8.9427829e-03, -2.6780851e-03,  1.9382443e-02,\n",
              "       -4.4139970e-02, -4.8123684e-02,  3.2326613e-02,  1.0355391e-02,\n",
              "       -6.2159896e-03,  3.3066813e-02,  4.1976977e-02,  9.8001361e-03,\n",
              "        9.7909793e-03,  1.8213544e-02,  1.6274918e-02, -1.7997943e-02,\n",
              "        1.4698040e-02,  1.0068141e-02, -2.3385560e-02,  1.7339502e-02,\n",
              "        3.5935570e-02, -4.9711645e-02,  3.2845590e-02,  3.8101044e-02,\n",
              "        3.9486382e-02, -3.1647660e-02, -4.8475552e-02,  4.4873584e-02,\n",
              "        2.7549271e-02, -4.1145109e-02, -3.3895336e-02, -3.6730655e-03,\n",
              "        4.9198270e-03,  9.6562132e-03, -2.2904599e-02, -1.3657093e-02,\n",
              "        1.5388299e-02,  8.1878789e-03,  1.8028166e-02,  3.1150069e-02,\n",
              "        4.7483686e-02, -3.7815310e-02, -4.5389161e-03,  4.1796099e-02,\n",
              "        4.3265197e-02,  3.1167094e-02, -4.9614847e-02, -5.8911927e-03,\n",
              "        4.3997217e-02, -2.2734845e-02, -4.1017674e-02,  1.7939974e-02,\n",
              "        2.3607183e-02,  1.5478458e-02,  7.7072531e-04, -4.3312550e-02,\n",
              "       -4.2333078e-02, -2.2680223e-02,  3.2546792e-02, -4.9846746e-02,\n",
              "        1.3042022e-02, -3.2268692e-02, -1.8501390e-02,  5.7965517e-03,\n",
              "       -6.9886930e-03, -1.9324971e-02, -4.5883238e-02,  3.7569497e-02,\n",
              "        1.4392149e-02, -1.0649189e-03,  2.4147406e-03, -2.7852738e-02,\n",
              "       -3.7008919e-02, -3.1357028e-02, -3.6617707e-02,  2.8127018e-02],\n",
              "      dtype=float32)>"
            ]
          },
          "metadata": {},
          "execution_count": 23
        }
      ]
    },
    {
      "cell_type": "markdown",
      "metadata": {
        "id": "Z0NTsDklR0xw"
      },
      "source": [
        "Những giá trị này có thể không có nhiều ý nghĩa với chúng ta, nhưng đó là những gì máy tính thấy về mỗi từ. Khi mô hình tìm kiếm các pattern trong các mẫu khác nhau, các giá trị này sẽ được cập nhật khi cần thiết.\n",
        "\n",
        "> 🔑 **Lưu ý:** Hai khái niệm trước (tokenization và embedding) là cơ sở cho nhiều tác vụ NLP. Vì vậy, nếu bạn không chắc chắn về bất cứ điều gì, hãy nghiên cứu và tiến hành các thử nghiệm của bản thân để hiểu thêm."
      ]
    },
    {
      "cell_type": "markdown",
      "metadata": {
        "id": "ZJENUdF3F7Rn"
      },
      "source": [
        "## Mô hình hóa dữ liệu text\n",
        "\n",
        "![](https://raw.githubusercontent.com/mrdbourke/tensorflow-deep-learning/main/images/08-inputs-and-outputs-with-shapes-and-models-were-going-to-build.png)\n",
        "*Sau khi đã chuẩn bị đầu vào và đầu ra, hãy xây dựng mô hình học máy để thu hẹp khoảng cách giữa chúng.*\n",
        "\n",
        "Chúng ta đã có một cách để biến dữ liệu văn bản thành số, hãy bắt đầu xây dựng các mô hình học máy để mô hình hóa nó.\n",
        "\n",
        "Để luyện tập nhiều, chúng ta sẽ xây dựng một loạt các mô hình khác nhau, mỗi mô hình là một thử nghiệm. Sau đó, chúng ta sẽ so sánh kết quả của từng mô hình và xem mô hình nào hoạt động tốt nhất.\n",
        "\n",
        "Cụ thể, chúng ta sẽ xây dựng những mô hình sau:\n",
        "* **Model 0**: Naive Bayes (mô hình cơ sở)\n",
        "* **Model 1**: Feed-forward neural network (dense model)\n",
        "* **Model 2**: Mô hình LSTM\n",
        "* **Model 3**: Mô hình GRU\n",
        "* **Model 4**: Mô hình Bidirectional-LSTM\n",
        "* **Model 5**: 1D Convolutional Neural Network\n",
        "* **Model 6**: TensorFlow Hub Pretrained Feature Extractor\n",
        "* **Model 7**: Tương tự model 6 nhưng với 10% dữ liệu huấn luyện\n",
        "\n",
        "Model 0 là mô hình đơn giản nhất để có được mô hình cơ sở, từ đó kỳ vọng vượt qua các mô hình sâu hơn khác.\n",
        "\n",
        "Mỗi thử nghiệm sẽ trải qua các bước sau:\n",
        "* Xây dựng mô hình\n",
        "* Huấn luyện mô hình\n",
        "* Đưa ra dự đoán với mô hình\n",
        "* Theo dõi các phép đánh giá dự đoán cho các so sánh sau này\n",
        "\n",
        "Hãy bắt đầu thôi."
      ]
    },
    {
      "cell_type": "markdown",
      "metadata": {
        "id": "q4i5BiQfF--y"
      },
      "source": [
        "### Model 0: Mô hình cơ sở\n",
        "\n",
        "Như tất cả các thử nghiệm lập mô hình học máy, cần tạo mô hình cơ sở để đánh giá xếp hạng các thử nghiệm trong tương lai.\n",
        "\n",
        "Để xây dựng mô hình cơ sở, chúng ta sẽ tạo một Scikit-Learn Pipeline bằng cách sử dụng công thức TF-IDF để chuyển đổi từ thành số rồi mô hình hóa chúng bằng [thuật toán Multinomial Naive Bayes](https://scikit-learn.org/stable/modules/generated/sklearn.naive_bayes.MultinomialNB.html#sklearn.naive_bayes.MultinomialNB). Điều này đã được chọn thông qua tham chiếu [Scikit-Learn machine learning map](https://scikit-learn.org/stable/tutorial/machine_learning_map/index.html).\n",
        "\n",
        "> 📖 **Tài liệu đọc:** Thông tin chi tiết của thuật toán TF-IDF nằm ngoài phạm vi của notebook này, tuy nhiên, những độc giả tò mò hãy xem tài liệu của Scikit-Learn [tài liệu của Scikit-Learn](https://scikit-learn.org/stable/modules/feature_extraction.html#tfidf-term-weighting) để tìm hiểu thêm."
      ]
    },
    {
      "cell_type": "code",
      "metadata": {
        "id": "xFqjqWcXtOOs",
        "colab": {
          "base_uri": "https://localhost:8080/"
        },
        "outputId": "0cec96b9-d78a-49af-9197-86a03b8043c8"
      },
      "source": [
        "from sklearn.feature_extraction.text import TfidfVectorizer\n",
        "from sklearn.naive_bayes import MultinomialNB\n",
        "from sklearn.pipeline import Pipeline\n",
        "\n",
        "# Tạo tokenization và lập mô hình pipeline\n",
        "model_0 = Pipeline([\n",
        "                    (\"tfidf\", TfidfVectorizer()), # chuyển từ thành số, sử dụng tfidf\n",
        "                    (\"clf\", MultinomialNB()) # lập mô hình văn bản\n",
        "])\n",
        "\n",
        "# Khớp pipeline với dữ liệu huấn luyện\n",
        "model_0.fit(train_sentences, train_labels)"
      ],
      "execution_count": null,
      "outputs": [
        {
          "output_type": "execute_result",
          "data": {
            "text/plain": [
              "Pipeline(memory=None,\n",
              "         steps=[('tfidf',\n",
              "                 TfidfVectorizer(analyzer='word', binary=False,\n",
              "                                 decode_error='strict',\n",
              "                                 dtype=<class 'numpy.float64'>,\n",
              "                                 encoding='utf-8', input='content',\n",
              "                                 lowercase=True, max_df=1.0, max_features=None,\n",
              "                                 min_df=1, ngram_range=(1, 1), norm='l2',\n",
              "                                 preprocessor=None, smooth_idf=True,\n",
              "                                 stop_words=None, strip_accents=None,\n",
              "                                 sublinear_tf=False,\n",
              "                                 token_pattern='(?u)\\\\b\\\\w\\\\w+\\\\b',\n",
              "                                 tokenizer=None, use_idf=True,\n",
              "                                 vocabulary=None)),\n",
              "                ('clf',\n",
              "                 MultinomialNB(alpha=1.0, class_prior=None, fit_prior=True))],\n",
              "         verbose=False)"
            ]
          },
          "metadata": {},
          "execution_count": 24
        }
      ]
    },
    {
      "cell_type": "markdown",
      "metadata": {
        "id": "ybOvOuVJbNjg"
      },
      "source": [
        "Lợi ích của việc sử dụng mô hình nông như mô hình Multinomial Naive Bayes là việc huấn luyện diễn ra rất nhanh.\n",
        "\n",
        "Hãy đánh giá mô hình và tìm phép đo mô hình cơ bản."
      ]
    },
    {
      "cell_type": "code",
      "metadata": {
        "id": "soPfnpmQuUIP",
        "colab": {
          "base_uri": "https://localhost:8080/"
        },
        "outputId": "b947adf2-aaaf-4d9d-afc0-81359138cc5a"
      },
      "source": [
        "baseline_score = model_0.score(val_sentences, val_labels)\n",
        "print(f\"Our baseline model achieves an accuracy of: {baseline_score*100:.2f}%\")"
      ],
      "execution_count": null,
      "outputs": [
        {
          "output_type": "stream",
          "name": "stdout",
          "text": [
            "Our baseline model achieves an accuracy of: 79.27%\n"
          ]
        }
      ]
    },
    {
      "cell_type": "markdown",
      "metadata": {
        "id": "hUv5dyuibf3M"
      },
      "source": [
        "Hãy đưa ra một số dự đoán với mô hình cơ sở của chúng ta."
      ]
    },
    {
      "cell_type": "code",
      "metadata": {
        "id": "7n89JxrJufcf",
        "colab": {
          "base_uri": "https://localhost:8080/"
        },
        "outputId": "69a3f67c-1da2-434e-fd29-73d723cd181e"
      },
      "source": [
        "# Đưa ra dự đoán\n",
        "baseline_preds = model_0.predict(val_sentences)\n",
        "baseline_preds[:20]"
      ],
      "execution_count": null,
      "outputs": [
        {
          "output_type": "execute_result",
          "data": {
            "text/plain": [
              "array([1, 1, 1, 0, 0, 1, 1, 1, 1, 0, 0, 1, 0, 0, 0, 0, 0, 0, 0, 1])"
            ]
          },
          "metadata": {},
          "execution_count": 26
        }
      ]
    },
    {
      "cell_type": "markdown",
      "metadata": {
        "id": "K354svk_bmdf"
      },
      "source": [
        "### Tạo hàm đánh giá cho các thử nghiệm mô hình\n",
        "\n",
        "Chúng ta có thể đánh giá ngay những điều này, nhưng vì sau này chúng ta sẽ đánh giá một số mô hình theo cách tương tự, nên hãy tạo một hàm hỗ trợ giúp lấy một mảng các dự đoán và nhãn gốc, và tính toán những thứ sau:\n",
        "* Accuracy\n",
        "* Precision\n",
        "* Recall\n",
        "* F1-score\n",
        "\n",
        "> 🔑 **Lưu ý:** Đây là những phép đo thích hợp nhất vì chúng ta đang giải bài toán phân loại. Nếu chúng ta gặp bài toán hồi quy, các phép đo khác như MAE (sai số tuyệt đối có nghĩa là) sẽ là thích hợp hơn."
      ]
    },
    {
      "cell_type": "code",
      "metadata": {
        "id": "gLmNlDjIxGgJ"
      },
      "source": [
        "# Hàm để đánh giá: accuracy, precision, recall, f1-score\n",
        "from sklearn.metrics import accuracy_score, precision_recall_fscore_support\n",
        "\n",
        "def calculate_results(y_true, y_pred):\n",
        "  \"\"\"\n",
        "  Tính accuracy, precision, recall và f1 score của mô hình phân loại nhị phân.\n",
        "\n",
        "  Đối số:\n",
        "  -----\n",
        "  y_true = true label ở dạng mảng 1D\n",
        "  y_pred = predicted label ở dạng mảng 1D\n",
        "\n",
        "  Trả về một dictionary có accuracy, precision, recall, f1-score.\n",
        "  \"\"\"\n",
        "  # Tính model accuracy\n",
        "  model_accuracy = accuracy_score(y_true, y_pred) * 100\n",
        "  # Tính model precision, recall và f1 score sử dụng \"weighted\" average\n",
        "  model_precision, model_recall, model_f1, _ = precision_recall_fscore_support(y_true, y_pred, average=\"weighted\")\n",
        "  model_results = {\"accuracy\": model_accuracy,\n",
        "                  \"precision\": model_precision,\n",
        "                  \"recall\": model_recall,\n",
        "                  \"f1\": model_f1}\n",
        "  return model_results"
      ],
      "execution_count": null,
      "outputs": []
    },
    {
      "cell_type": "code",
      "metadata": {
        "id": "Sgy1omMhwr52",
        "colab": {
          "base_uri": "https://localhost:8080/"
        },
        "outputId": "ff1ea5fd-b76d-447a-e1f9-af4b46e8aaba"
      },
      "source": [
        "# Nhận baseline results\n",
        "baseline_results = calculate_results(y_true=val_labels,\n",
        "                                     y_pred=baseline_preds)\n",
        "baseline_results"
      ],
      "execution_count": null,
      "outputs": [
        {
          "output_type": "execute_result",
          "data": {
            "text/plain": [
              "{'accuracy': 79.26509186351706,\n",
              " 'f1': 0.7862189758049549,\n",
              " 'precision': 0.8111390004213173,\n",
              " 'recall': 0.7926509186351706}"
            ]
          },
          "metadata": {},
          "execution_count": 28
        }
      ]
    },
    {
      "cell_type": "markdown",
      "metadata": {
        "id": "noRJNm7dGNyh"
      },
      "source": [
        "### Model 1: Dense model cơ bản\n",
        "\n",
        "Mô hình \"sâu\" đầu tiên mà chúng ta sẽ xây dựng là mô hình tầng kết nối dày đặc. Trên thực tế, nó sẽ hầu như không có layer duy nhất.\n",
        "\n",
        "Mô hình này sẽ lấy văn bản và nhãn làm đầu vào, tokenize văn bản, tạo embedding, tìm mức trung bình của embedding (sử dụng Global Average Pooling), sau đó chuyển mức trung bình qua một layer kết nối đầy đủ với một nút đầu ra và hàm kích hoạt sigmoid\n",
        "\n",
        "Nếu câu trước còn khó hiểu, hãy mã hóa nó ra (hãy nhớ, nếu nghi ngờ điều gì, hãy viết mã)\n",
        "\n",
        "Chúng ta sẽ xây dựng một số mô hình học sâu TensorFlow, hãy import hàm `create_tensorboard_callback()` từ `helper_functions.py` để theo dõi kết quả của từng mô hình."
      ]
    },
    {
      "cell_type": "code",
      "metadata": {
        "id": "PVMPUd3HTit5"
      },
      "source": [
        "# Tạo tensorboard callback (cần tạo một tensorboard callback mới cho từng mô hình)\n",
        "from helper_functions import create_tensorboard_callback\n",
        "\n",
        "# Tạo directory để lưu TensorBoard logs\n",
        "SAVE_DIR = \"model_logs\""
      ],
      "execution_count": null,
      "outputs": []
    },
    {
      "cell_type": "markdown",
      "metadata": {
        "id": "Pib8hHtu7vt1"
      },
      "source": [
        "Hàm TensorBoard callback đã sẵn sàng, hãy xây dựng mô hình sâu đầu tiên của chúng ta."
      ]
    },
    {
      "cell_type": "code",
      "metadata": {
        "id": "a_rVtJA7yVBI"
      },
      "source": [
        "# Xây dựng mô hình với Functional API\n",
        "from tensorflow.keras import layers\n",
        "inputs = layers.Input(shape=(1,), dtype=\"string\") # đầu vào là các string 1 chiều\n",
        "x = text_vectorizer(inputs) # turn the input text into numbers biến text đầu vào thành số\n",
        "x = embedding(x) # tạo embedding có các số được đánh số\n",
        "x = layers.GlobalAveragePooling1D()(x) # giảm kích thước của embedding (thử chạy mô hình không có layer này và xem điều gì sẽ xảy ra)\n",
        "outputs = layers.Dense(1, activation=\"sigmoid\")(x) # tạo layer đầu ra, chúng ta muốn đầu ra nhị phân, vì vậy hãy sử dụng kích hoạt sigmoid\n",
        "model_1 = tf.keras.Model(inputs, outputs, name=\"model_1_dense\") # xây dựng mô hình"
      ],
      "execution_count": null,
      "outputs": []
    },
    {
      "cell_type": "markdown",
      "metadata": {
        "id": "JYzsu36Y8JUe"
      },
      "source": [
        "Trông ổn đấy. Mô hình lấy string 1 chiều làm đầu vào (trong trường hợp này là Tweet), sau đó nó tokenize string với `text_vectorizer` và tạo embedding bằng `embedding`.\n",
        "\n",
        "Sau đó, chúng ta (tùy chọn) gộp các đầu ra của embedding layer để giảm kích thước của tensor mà chúng ta truyền cho layer đầu ra.\n",
        "\n",
        "> 🛠 **Luyện tập:** Hãy thử xây dựng `model_1` có và không có layer `GlobalAveragePooling1D()` sau layer `embedding`. Điều gì sẽ xảy ra? Tại sao lại như vậy?\n",
        "\n",
        "Cuối cùng, chúng ta chuyển đầu ra của pooling layer thành một dense layer với kích hoạt sigmoid (chúng ta sử dụng sigmoid vì đây là bài toán phân loại nhị phân).\n",
        "\n",
        "Trước khi khớp mô hình với dữ liệu, chúng ta cần biên dịch nó. Do chúng ta đang thực hiện phân loại nhị phân, nên hãy sử dụng `\"binary_crossentropy\"` làm hàm mất mát và Adam optimizer."
      ]
    },
    {
      "cell_type": "code",
      "metadata": {
        "id": "Ubq0ctLD8CQq"
      },
      "source": [
        "# Biên dịch mô hình\n",
        "model_1.compile(loss=\"binary_crossentropy\",\n",
        "                optimizer=tf.keras.optimizers.Adam(),\n",
        "                metrics=[\"accuracy\"])"
      ],
      "execution_count": null,
      "outputs": []
    },
    {
      "cell_type": "markdown",
      "metadata": {
        "id": "crgltz1O9uku"
      },
      "source": [
        "Mô hình đã được biên dịch. Hãy lấy summary."
      ]
    },
    {
      "cell_type": "code",
      "metadata": {
        "id": "QkJa-t8aTw1H",
        "colab": {
          "base_uri": "https://localhost:8080/"
        },
        "outputId": "a0c4ada2-1984-41fa-9653-dbfc6bfdfd42"
      },
      "source": [
        "# Lấy summary của mô hình\n",
        "model_1.summary()"
      ],
      "execution_count": null,
      "outputs": [
        {
          "output_type": "stream",
          "name": "stdout",
          "text": [
            "Model: \"model_1_dense\"\n",
            "_________________________________________________________________\n",
            "Layer (type)                 Output Shape              Param #   \n",
            "=================================================================\n",
            "input_1 (InputLayer)         [(None, 1)]               0         \n",
            "_________________________________________________________________\n",
            "text_vectorization_1 (TextVe (None, 15)                0         \n",
            "_________________________________________________________________\n",
            "embedding_1 (Embedding)      (None, 15, 128)           1280000   \n",
            "_________________________________________________________________\n",
            "global_average_pooling1d (Gl (None, 128)               0         \n",
            "_________________________________________________________________\n",
            "dense (Dense)                (None, 1)                 129       \n",
            "=================================================================\n",
            "Total params: 1,280,129\n",
            "Trainable params: 1,280,129\n",
            "Non-trainable params: 0\n",
            "_________________________________________________________________\n"
          ]
        }
      ]
    },
    {
      "cell_type": "markdown",
      "metadata": {
        "id": "bH0JLyR09yYt"
      },
      "source": [
        "Hầu hết các tham có thể huấn luyện được chứa trong embedding layer. Nhớ rằng chúng ta đã tạo một embedding có kích thước 128 (`output_dim=128`) cho từ vựng có kích thước 10,000 (`input_dim=10000`), do đó có 1,280,000 tham số có thể huấn luyện.\n",
        "\n",
        "Mô hình đã được biên dịch, hãy khớp nó với dữ liệu huấn luyện cho 5 epoch. Chúng ta cũng sẽ chuyển hàm TensorBoard callback để đảm bảo rằng các phép đo huấn luyện của mô hình được ghi lại."
      ]
    },
    {
      "cell_type": "code",
      "metadata": {
        "id": "1YRYpJIfTvHV",
        "colab": {
          "base_uri": "https://localhost:8080/"
        },
        "outputId": "cc6ad75c-338c-4e79-d6a0-a1a2bf588652"
      },
      "source": [
        "# Khớp mô hình\n",
        "model_1_history = model_1.fit(train_sentences, # các câu đầu vào có thể là một list các string do mô hình tích hợp sẵn layer tiền xử lý text\n",
        "                              train_labels,\n",
        "                              epochs=5,\n",
        "                              validation_data=(val_sentences, val_labels),\n",
        "                              callbacks=[create_tensorboard_callback(dir_name=SAVE_DIR,\n",
        "                                                                     experiment_name=\"simple_dense_model\")])"
      ],
      "execution_count": null,
      "outputs": [
        {
          "output_type": "stream",
          "name": "stdout",
          "text": [
            "Saving TensorBoard log files to: model_logs/simple_dense_model/20210923-052559\n",
            "Epoch 1/5\n",
            "215/215 [==============================] - 5s 17ms/step - loss: 0.6094 - accuracy: 0.6916 - val_loss: 0.5357 - val_accuracy: 0.7572\n",
            "Epoch 2/5\n",
            "215/215 [==============================] - 3s 13ms/step - loss: 0.4410 - accuracy: 0.8189 - val_loss: 0.4691 - val_accuracy: 0.7848\n",
            "Epoch 3/5\n",
            "215/215 [==============================] - 3s 13ms/step - loss: 0.3463 - accuracy: 0.8605 - val_loss: 0.4590 - val_accuracy: 0.7900\n",
            "Epoch 4/5\n",
            "215/215 [==============================] - 3s 14ms/step - loss: 0.2848 - accuracy: 0.8923 - val_loss: 0.4641 - val_accuracy: 0.7927\n",
            "Epoch 5/5\n",
            "215/215 [==============================] - 3s 14ms/step - loss: 0.2380 - accuracy: 0.9118 - val_loss: 0.4767 - val_accuracy: 0.7874\n"
          ]
        }
      ]
    },
    {
      "cell_type": "markdown",
      "metadata": {
        "id": "kZR5_j9C_LW-"
      },
      "source": [
        "Vì chúng ta đang sử dụng một mô hình đơn giản, nên mỗi epoch xử lý rất nhanh.\n",
        "\n",
        "Hãy kiểm tra chất lượng của mô hình trên tập kiểm định."
      ]
    },
    {
      "cell_type": "code",
      "metadata": {
        "id": "zSTS87YGzuBG",
        "colab": {
          "base_uri": "https://localhost:8080/"
        },
        "outputId": "3dab9b26-7bd0-42c8-8ad8-c55ae73d0e09"
      },
      "source": [
        "# Kiểm tra kết quả\n",
        "model_1.evaluate(val_sentences, val_labels)"
      ],
      "execution_count": null,
      "outputs": [
        {
          "output_type": "stream",
          "name": "stdout",
          "text": [
            "24/24 [==============================] - 0s 7ms/step - loss: 0.4767 - accuracy: 0.7874\n"
          ]
        },
        {
          "output_type": "execute_result",
          "data": {
            "text/plain": [
              "[0.4766846001148224, 0.787401556968689]"
            ]
          },
          "metadata": {},
          "execution_count": 34
        }
      ]
    },
    {
      "cell_type": "code",
      "metadata": {
        "colab": {
          "base_uri": "https://localhost:8080/"
        },
        "id": "5M2CTAetBVfW",
        "outputId": "263af483-3739-4ff7-fa21-52b9eab7a81b"
      },
      "source": [
        "embedding.weights"
      ],
      "execution_count": null,
      "outputs": [
        {
          "output_type": "execute_result",
          "data": {
            "text/plain": [
              "[<tf.Variable 'embedding_1/embeddings:0' shape=(10000, 128) dtype=float32, numpy=\n",
              " array([[ 0.00073166,  0.01504797, -0.03425457, ..., -0.04403538,\n",
              "         -0.01042282,  0.01876436],\n",
              "        [ 0.04135862, -0.03945084, -0.03811942, ...,  0.00464737,\n",
              "          0.03163553,  0.029283  ],\n",
              "        [ 0.00684031,  0.05363134, -0.00241555, ..., -0.07082176,\n",
              "         -0.04750705,  0.01448254],\n",
              "        ...,\n",
              "        [-0.03301444, -0.0052493 , -0.04209725, ...,  0.02028764,\n",
              "          0.00308807,  0.02215792],\n",
              "        [ 0.00692343,  0.05942352, -0.01975194, ..., -0.06199061,\n",
              "         -0.01018393,  0.03510419],\n",
              "        [-0.0372346 ,  0.06267187, -0.07451146, ..., -0.02367217,\n",
              "         -0.0864333 ,  0.01742156]], dtype=float32)>]"
            ]
          },
          "metadata": {},
          "execution_count": 35
        }
      ]
    },
    {
      "cell_type": "code",
      "metadata": {
        "colab": {
          "base_uri": "https://localhost:8080/"
        },
        "id": "M3rfhJFSBrga",
        "outputId": "e16f8a95-540b-40a7-98f4-8fe1a9dff5ac"
      },
      "source": [
        "embed_weights = model_1.get_layer(\"embedding_1\").get_weights()[0]\n",
        "print(embed_weights.shape)"
      ],
      "execution_count": null,
      "outputs": [
        {
          "output_type": "stream",
          "name": "stdout",
          "text": [
            "(10000, 128)\n"
          ]
        }
      ]
    },
    {
      "cell_type": "markdown",
      "metadata": {
        "id": "I9dg2aba_VxK"
      },
      "source": [
        "Chúng ta đã theo dõi nhật ký huấn luyện của mô hình bằng TensorBoard, vậy làm thế nào để hình dung chúng?\n",
        "\n",
        "Chúng ta có thể thực hiện bằng cách upload các file TensorBoard log (có trong directory `model_logs`) lên [TensorBoard.dev](https://tensorboard.dev/).\n",
        "\n",
        "> 🔑 **Lưu ý:** Hãy nhớ rằng, bất cứ thứ gì mà chúng ta upload lên TensorBoard.dev đều công khai, cho nên nếu bạn không muốn chia sẻ nhật ký huấn luyện nào thì đừng upload chúng lên."
      ]
    },
    {
      "cell_type": "code",
      "metadata": {
        "id": "t6UrSgRVU6pl"
      },
      "source": [
        "# # Xem tensorboad logs của các thử nghiệm mô hình hóa transfer learning (nên là 4 mô hình)\n",
        "# # Upload các bản ghi TensorBoard dev\n",
        "# !tensorboard dev upload --logdir ./model_logs \\\n",
        "#   --name \"First deep model on text data\" \\\n",
        "#   --description \"Trying a dense model with an embedding layer\" \\\n",
        "#   --one_shot # thoát khỏi uploader sau khi hoàn thành upload"
      ],
      "execution_count": null,
      "outputs": []
    },
    {
      "cell_type": "code",
      "metadata": {
        "id": "DVyJl-VE1ACz"
      },
      "source": [
        "# Nếu cần loại bỏ các thử nghiệm trước, chúng ta có thể dùng lệnh sau\n",
        "# !tensorboard dev delete --experiment_id EXPERIMENT_ID_TO_DELETE"
      ],
      "execution_count": null,
      "outputs": []
    },
    {
      "cell_type": "markdown",
      "metadata": {
        "id": "PkinGcjQ_yI9"
      },
      "source": [
        "Có thể xem thử nghiệm TensorBoard.dev cho mô hình sâu đầu tiên của chúng ta ở đây: https://tensorboard.dev/experiment/5d1Xm10aT6m6MgyW3HAGfw/\n",
        "\n",
        "![](https://raw.githubusercontent.com/mrdbourke/tensorflow-deep-learning/main/images/08-tensorboard-dense-model-training-curves.png)\n",
        "\n",
        "*Các training curve của mô hình trong TensorBoard trông như sau. Từ hai hình này, chúng ta có thể biết mô hình đang bị overfitting hay underfitting không?*\n",
        "\n",
        "Đó là một số training curve đầy màu sắc. Có thể kết luận mô hình đang bị overfitting hay underfitting không?\n",
        "\n",
        "Chúng ta đã xây dựng và huấn luyện mô hình sâu đầu tiên, bước tiếp theo là đưa ra một số dự đoán với nó."
      ]
    },
    {
      "cell_type": "code",
      "metadata": {
        "id": "5X7kbEmAzzxM",
        "colab": {
          "base_uri": "https://localhost:8080/"
        },
        "outputId": "5d3a68f3-5b96-4dd4-e8e0-bf351ff68c9f"
      },
      "source": [
        "# Đưa ra dự đoán (ở dạng xác suất)\n",
        "model_1_pred_probs = model_1.predict(val_sentences)\n",
        "model_1_pred_probs[:10] # chỉ in ra 10 xác suất dự đoán đầu tiên"
      ],
      "execution_count": null,
      "outputs": [
        {
          "output_type": "execute_result",
          "data": {
            "text/plain": [
              "array([[0.4048821 ],\n",
              "       [0.7443312 ],\n",
              "       [0.997895  ],\n",
              "       [0.10889997],\n",
              "       [0.11143532],\n",
              "       [0.93556094],\n",
              "       [0.9134595 ],\n",
              "       [0.9925345 ],\n",
              "       [0.97156817],\n",
              "       [0.26570338]], dtype=float32)"
            ]
          },
          "metadata": {},
          "execution_count": 39
        }
      ]
    },
    {
      "cell_type": "markdown",
      "metadata": {
        "id": "YWU5e1NLAKJ9"
      },
      "source": [
        "Vì layer cuối cùng sử dụng hàm kích hoạt sigmoid, nên chúng ta sẽ lấy lại các dự đoán của mình ở dạng xác suất.\n",
        "\n",
        "Để chuyển đổi chúng thành các lớp dự đoán, chúng ta sẽ sử dụng `tf.round()`, tức là xác suất dự đoán dưới 0.5 sẽ được làm tròn thành 0 và những xác suất trên 0.5 sẽ được làm tròn thành 1.\n",
        "\n",
        "> 🔑 **Lưu ý:** Trên thực tế, ngưỡng đầu ra của xác suất dự đoán sigmoid không nhất thiết phải là 0.5. Ví dụ: thông qua thử nghiệm, chúng ta có thể thấy rằng giới hạn 0.25 sẽ tốt hơn cho các phép đánh giá đã chọn. Một ví dụ phổ biến của giới hạn ngưỡng này là [precision-recall tradeoff](https://www.machinelearningaptitude.com/topics/machine-learning/what-is-precision-recall-tradeoff/#:~:text=precision%2Drecall%20tradeoff%20occur%20due,the%20threshold%20of%20the%20classifier.&text=When%20threshold%20is%20decreased%20to,but%20precision%20decreases%20to%200.4.)."
      ]
    },
    {
      "cell_type": "code",
      "metadata": {
        "id": "Qf-R_1vsz47P",
        "colab": {
          "base_uri": "https://localhost:8080/"
        },
        "outputId": "3062f826-9564-48d7-bbec-a803b41e9cba"
      },
      "source": [
        "# Biến xác suất dự đoán thành tensor một chiều của float\n",
        "model_1_preds = tf.squeeze(tf.round(model_1_pred_probs)) # squeeze loại bỏ các tensor 1 chiều\n",
        "model_1_preds[:20]"
      ],
      "execution_count": null,
      "outputs": [
        {
          "output_type": "execute_result",
          "data": {
            "text/plain": [
              "<tf.Tensor: shape=(20,), dtype=float32, numpy=\n",
              "array([0., 1., 1., 0., 0., 1., 1., 1., 1., 0., 0., 1., 0., 0., 0., 0., 0.,\n",
              "       0., 0., 1.], dtype=float32)>"
            ]
          },
          "metadata": {},
          "execution_count": 40
        }
      ]
    },
    {
      "cell_type": "markdown",
      "metadata": {
        "id": "Zc3ryY0yCHcI"
      },
      "source": [
        "Chúng ta đã có các dự đoán của mô hình ở dạng class, có thể sử dụng hàm `calculate_results()` để so sánh chúng với các nhãn kiểm định gốc."
      ]
    },
    {
      "cell_type": "code",
      "metadata": {
        "id": "iDEEhYTF0X1y",
        "colab": {
          "base_uri": "https://localhost:8080/"
        },
        "outputId": "e31e8bca-894a-44ad-88cc-fdea0dbc453a"
      },
      "source": [
        "# Tính toán các phép đo của model_1\n",
        "model_1_results = calculate_results(y_true=val_labels,\n",
        "                                    y_pred=model_1_preds)\n",
        "model_1_results"
      ],
      "execution_count": null,
      "outputs": [
        {
          "output_type": "execute_result",
          "data": {
            "text/plain": [
              "{'accuracy': 78.74015748031496,\n",
              " 'f1': 0.7846966492209201,\n",
              " 'precision': 0.7914920592553047,\n",
              " 'recall': 0.7874015748031497}"
            ]
          },
          "metadata": {},
          "execution_count": 41
        }
      ]
    },
    {
      "cell_type": "markdown",
      "metadata": {
        "id": "gnkK6Uc7CYlX"
      },
      "source": [
        "Hãy so sánh mô hình sâu đầu tiên của chúng ta với mô hình cơ sở."
      ]
    },
    {
      "cell_type": "code",
      "metadata": {
        "id": "Jp88ystW1m0d",
        "colab": {
          "base_uri": "https://localhost:8080/"
        },
        "outputId": "ba27df1c-624b-4a24-da50-012a56653038"
      },
      "source": [
        "# Mô hình Keras đơn giản của chúng ta có tốt hơn mô hình cơ sở không?\n",
        "import numpy as np\n",
        "np.array(list(model_1_results.values())) > np.array(list(baseline_results.values()))"
      ],
      "execution_count": null,
      "outputs": [
        {
          "output_type": "execute_result",
          "data": {
            "text/plain": [
              "array([False, False, False, False])"
            ]
          },
          "metadata": {},
          "execution_count": 42
        }
      ]
    },
    {
      "cell_type": "markdown",
      "metadata": {
        "id": "lUINrCdRCpFf"
      },
      "source": [
        "Chúng ta sẽ thực hiện kiểu so sánh này (mô hình cơ sở với mô hình mới) khá nhiều lần, nên hãy tạo một hàm trợ giúp."
      ]
    },
    {
      "cell_type": "code",
      "metadata": {
        "id": "wo3norTG3GrE",
        "colab": {
          "base_uri": "https://localhost:8080/"
        },
        "outputId": "14b74922-fe0a-44cb-8932-327e05402960"
      },
      "source": [
        "# Tạo một hàm hỗ trợ để so sánh kết quả của mô hình cơ sở với mô hình mới\n",
        "def compare_baseline_to_new_results(baseline_results, new_model_results):\n",
        "  for key, value in baseline_results.items():\n",
        "    print(f\"Baseline {key}: {value:.2f}, New {key}: {new_model_results[key]:.2f}, Difference: {new_model_results[key]-value:.2f}\")\n",
        "\n",
        "compare_baseline_to_new_results(baseline_results=baseline_results,\n",
        "                                new_model_results=model_1_results)"
      ],
      "execution_count": null,
      "outputs": [
        {
          "output_type": "stream",
          "name": "stdout",
          "text": [
            "Baseline accuracy: 79.27, New accuracy: 78.74, Difference: -0.52\n",
            "Baseline precision: 0.81, New precision: 0.79, Difference: -0.02\n",
            "Baseline recall: 0.79, New recall: 0.79, Difference: -0.01\n",
            "Baseline f1: 0.79, New f1: 0.78, Difference: -0.00\n"
          ]
        }
      ]
    },
    {
      "cell_type": "markdown",
      "metadata": {
        "id": "6e-1LuioSLAM"
      },
      "source": [
        "## Hình dung các embedding đã tìm hiểu\n",
        "\n",
        "Mô hình đầu tiên (`model_1`) chứa một embedding layer (`embedding`) học được cách biểu diễn từ ở dạng vectơ đặc trưng bằng cách chuyển qua dữ liệu huấn luyện.\n",
        "\n",
        " Điều này lúc đầu còn khá khó hiểu.\n",
        "\n",
        "Vì vậy, để tìm hiểu thêm về text embedding, hãy hình dung embedding mà mô hình đã học.\n",
        "\n",
        "Để thực hiện, hãy nhớ lại các từ trong vocabulary.\n"
      ]
    },
    {
      "cell_type": "code",
      "metadata": {
        "id": "-DkcfRQBVXuJ",
        "colab": {
          "base_uri": "https://localhost:8080/"
        },
        "outputId": "9e10f4fd-50ef-4ccd-a99b-eff8a64082f8"
      },
      "source": [
        "# Lấy vocabulary từ layer text vectorization\n",
        "words_in_vocab = text_vectorizer.get_vocabulary()\n",
        "len(words_in_vocab), words_in_vocab[:10]"
      ],
      "execution_count": null,
      "outputs": [
        {
          "output_type": "execute_result",
          "data": {
            "text/plain": [
              "(10000, ['', '[UNK]', 'the', 'a', 'in', 'to', 'of', 'and', 'i', 'is'])"
            ]
          },
          "metadata": {},
          "execution_count": 44
        }
      ]
    },
    {
      "cell_type": "markdown",
      "metadata": {
        "id": "KzmAPJXQEx6r"
      },
      "source": [
        "Bây giờ, hãy lấy trọng số của embedding layer (đây là các biểu diễn bằng số của mỗi từ)."
      ]
    },
    {
      "cell_type": "code",
      "metadata": {
        "id": "8EUR9PwrZphh",
        "colab": {
          "base_uri": "https://localhost:8080/"
        },
        "outputId": "eb047f23-dbef-46ea-ce98-2ea91b309d09"
      },
      "source": [
        "model_1.summary()"
      ],
      "execution_count": null,
      "outputs": [
        {
          "output_type": "stream",
          "name": "stdout",
          "text": [
            "Model: \"model_1_dense\"\n",
            "_________________________________________________________________\n",
            "Layer (type)                 Output Shape              Param #   \n",
            "=================================================================\n",
            "input_1 (InputLayer)         [(None, 1)]               0         \n",
            "_________________________________________________________________\n",
            "text_vectorization_1 (TextVe (None, 15)                0         \n",
            "_________________________________________________________________\n",
            "embedding_1 (Embedding)      (None, 15, 128)           1280000   \n",
            "_________________________________________________________________\n",
            "global_average_pooling1d (Gl (None, 128)               0         \n",
            "_________________________________________________________________\n",
            "dense (Dense)                (None, 1)                 129       \n",
            "=================================================================\n",
            "Total params: 1,280,129\n",
            "Trainable params: 1,280,129\n",
            "Non-trainable params: 0\n",
            "_________________________________________________________________\n"
          ]
        }
      ]
    },
    {
      "cell_type": "code",
      "metadata": {
        "id": "9xJ5LrInWDLo",
        "colab": {
          "base_uri": "https://localhost:8080/"
        },
        "outputId": "ffc27236-56f5-4ecf-e107-37a51722194a"
      },
      "source": [
        "# Lấy ma trận trọng số của embedding layer\n",
        "# (đây là các pattern dạng số giữa text trong tập dữ liệu huấn luyện mà mô hình đã học)\n",
        "embed_weights = model_1.get_layer(\"embedding_1\").get_weights()[0]\n",
        "print(embed_weights.shape) # cùng kích thước với vocab và embedding_dim (mỗi từ là một vectơ kích thước embedding_dim)"
      ],
      "execution_count": null,
      "outputs": [
        {
          "output_type": "stream",
          "name": "stdout",
          "text": [
            "(10000, 128)\n"
          ]
        }
      ]
    },
    {
      "cell_type": "markdown",
      "metadata": {
        "id": "jzOJhJHPW1ju"
      },
      "source": [
        "Chúng ta đã có hai đối tượng này, có thể sử dụng công cụ [Embedding Projector](http://projector.tensorflow.org/_) để hình dung embedding.\n",
        "\n",
        "Để sử dụng công cụ Embedding Projector, chúng ta cần hai file:\n",
        "* Các vectơ embedding (giống như các trọng số embedding).\n",
        "* Siêu dữ liệu của các vectơ embedding (các từ mà chúng biểu diễn - vocabulary).\n",
        "\n",
        "Hiện giờ, chúng ta có các tệp này ở dạng Python object. Để download chúng về file, chúng ta sẽ sử dụng [mẫu code có sẵn trên trang hướng dẫn TensorFlow word embeddings](https://www.tensorflow.org/tutorials/text/word_embeddings#retrieve_the_trained_word_embeddings_and_save_them_to_disk)\n"
      ]
    },
    {
      "cell_type": "code",
      "metadata": {
        "id": "4e9rfcK6WxQE"
      },
      "source": [
        "# # Code dưới đây lấy từ: https://www.tensorflow.org/tutorials/text/word_embeddings#retrieve_the_trained_word_embeddings_and_save_them_to_disk\n",
        "# import io\n",
        "\n",
        "# # Tạo output writers\n",
        "# out_v = io.open(\"embedding_vectors.tsv\", \"w\", encoding=\"utf-8\")\n",
        "# out_m = io.open(\"embedding_metadata.tsv\", \"w\", encoding=\"utf-8\")\n",
        "\n",
        "# # Ghi các vectơ embedding và từ vào file\n",
        "# for num, word in enumerate(words_in_vocab):\n",
        "#   if num == 0:\n",
        "#      tiếp tục # bỏ qua padding token\n",
        "#   vec = embed_weights[num]\n",
        "#   out_m.write(word + \"\\n\") # ghi các từ vào file\n",
        "#   out_v.write(\"\\t\".join([str(x) for x in vec]) + \"\\n\") # ghi vectơ từ tương ứng vào file\n",
        "# out_v.close()\n",
        "# out_m.close()\n",
        "\n",
        "# # các file cục bộ để upload lên Embedding Projector\n",
        "# thử:\n",
        "#   từ google.colab, import các file\n",
        "# except ImportError:\n",
        "#   truyền\n",
        "# else:\n",
        "#   files.download(\"embedding_vectors.tsv\")\n",
        "#   files.download(\"embedding_metadata.tsv\")"
      ],
      "execution_count": null,
      "outputs": []
    },
    {
      "cell_type": "markdown",
      "metadata": {
        "id": "BVM7ifzpZaxJ"
      },
      "source": [
        "Sau khi đã download các vectơ và siêu dữ liệu embedding, chúng ta có thể trực quan hóa chúng bằng công cụ Embedding Vector:\n",
        "1. Tới  http://projector.tensorflow.org/\n",
        "2. Click vào \"Load data\"\n",
        "3. Upload hai file mà chúng ta vừa download (`embedding_vectors.tsv` và `embedding_metadata.tsv`)\n",
        "4. Khám phá\n",
        "5. Tùy chọn: Các bạn có thể chia sẻ dữ liệu bạn vừa tạo bằng cách click vào \"Publish\"\n",
        "\n",
        "Các bạn thấy điều gì?\n",
        "\n",
        "Có phải các từ có nghĩa giống nhau thì gần nhau không?\n",
        "\n",
        "Có thể sẽ không. Các embedding mà chúng ta đã download là cách mà mô hình hiểu các từ, chứ không phải cách chúng ta hiểu từ.\n",
        "\n",
        "Ngoài ra, vì embedding hoàn toàn được học từ Tweet nên nó có thể chứa một số giá trị kỳ lạ do Tweet là một kiểu ngôn ngữ tự nhiên rất độc đáo.\n",
        "\n",
        "> 🤔 **Câu hỏi:** Có phải lần nào chúng ta cũng cần trực quan hóa embedding không?\n",
        "\n",
        "Không. Mặc dù điều này khá hữu ích để nắm bắt natural language embedding, nhưng không hoàn toàn cần thiết. Đặc biệt là khi kích thước vocabulary và embedding ngày càng lớn hơn, thì việc cố gắng hiểu chúng sẽ ngày càng khó khăn hơn."
      ]
    },
    {
      "cell_type": "markdown",
      "metadata": {
        "id": "AcRdDiEtGQj4"
      },
      "source": [
        "## Mạng nơ-ron hồi tiếp (RNN)\n",
        "\n",
        "Đối với loạt thử nghiệm mô hình hóa tiếp theo, chúng ta sẽ sử dụng một loại mạng nơ-ron đặc biệt: **Mạng nơ-ron hồi tiếp (RNN)**.\n",
        "\n",
        " Tiền đề của RNN rất đơn giản: sử dụng thông tin đã biết để giúp dự đoán thông tin sắp tới (đây là nguồn gốc của thuật ngữ recurrent). Nói cách khác, lấy một đầu vào (`X`) và tính toán đầu ra (`y`) dựa trên tất cả các đầu vào trước đó.\n",
        "\n",
        "Khái niệm này đặc biệt hữu ích khi xử lý các chuỗi như các đoạn văn bản ngôn ngữ tự nhiên (chẳng hạn như Tweet).\n",
        "\n",
        "Ví dụ: khi chúng ta đọc câu này, chúng ta sẽ phân tích ngữ cảnh của các từ trước đó khi giải mã nghĩa của từ dog hiện tại.\n",
        "\n",
        "Điều gì đã xảy ra ở đó?\n",
        "\n",
        "Tôi đặt từ \"dog\" ở cuối, là một từ hợp lệ nhưng nó không có ý nghĩa trong ngữ cảnh còn lại của câu.\n",
        "\n",
        "Khi RNN xem xét một chuỗi văn bản (đã ở dạng số), các pattern nó học được sẽ liên tục cập nhật dựa trên trình tự của chuỗi.\n",
        "\n",
        "Xét một ví dụ đơn giản, hãy lấy hai câu:\n",
        "1. Massive earthquake last week, no?\n",
        "2. No massive earthquake last week.\n",
        "\n",
        "Cả hai câu đều chứa những từ giống hệt nhau nhưng lại có nghĩa khác nhau. Thứ tự của các từ quyết định ý nghĩa (có người cho rằng các dấu câu cũng quyết định ý nghĩa nhưng để đơn giản, chúng ta hãy tập trung vào các từ).\n",
        "\n",
        "RNN có thể sử dụng cho một số bài toán dựa trên chuỗi:\n",
        "* **One to one:** một đầu vào, một đầu ra, chẳng hạn như phân loại hình ảnh.\n",
        "* **One to many:** một đầu vào, nhiều đầu ra, chẳng hạn như chú thích hình ảnh (đầu vào hình ảnh, đầu ra là một chuỗi văn bản làm phụ đề).\n",
        "* **Many to one:** nhiều đầu vào, một đầu ra, chẳng hạn như phân loại văn bản (phân loại Tweet là real diaster hay not real diaster).\n",
        "* **Many to many:** nhiều đầu vào, nhiều đầu ra, chẳng hạn như dịch máy (dịch tiếng Anh sang tiếng Tây Ban Nha) hoặc lời nói thành văn bản (đầu vào là sóng âm thanh, đầu ra là văn bản).\n",
        "\n",
        "Khi làm việc với RNN, rất có thể chúng ta sẽ bắt gặp các biến thể của nó như sau:\n",
        "* Các ô Long short-term memory (LSTM).\n",
        "* Gated recurrent unit (GRU).\n",
        "* Bidirectional RNN (truyền xuôi và ngược dọc theo một chuỗi, từ trái sang phải và từ phải sang trái).\n",
        "\n",
        "Chúng ta sẽ không đi sâu vào chi tiết của từng biến thế trên, chúng nằm ngoài phạm vi của notebook này (mà thay vào đó, chúng ta sẽ tập trung vào việc sử dụng chúng), chúng ta chỉ cần biết: chúng được chứng minh là rất hiệu quả trong việc lập mô hình chuỗi.\n",
        "\n",
        "Để hiểu sâu hơn về code mà chúng ta sắp viết, các bạn nên tham khảo các tài nguyên sau:\n",
        "\n",
        "> 📖 **Tài liệu:**\n",
        "> * [MIT Deep Learning Lecture on Recurrent Neural Networks](https://youtu.be/SEnXr6v2ifU) - giải thích nền tảng của RNN và giới thiệu LSTM.\n",
        "> * [The Unreasonable Effectiveness of Recurrent Neural Networks](http://karpathy.github.io/2015/05/21/rnn-effectiveness/) (Andrej Karpathy) - minh họa sức mạnh của RNN với các ví dụ tạo chuỗi khác nhau.\n",
        "> * [Understanding LSTMs](https://colah.github.io/posts/2015-08-Understanding-LSTMs/) (Chris Olah) - góc nhìn chuyên sâu (và kỹ thuật) về cơ chế của ô LSTM, có thể là các thành phần RNN phổ biến nhất.\n"
      ]
    },
    {
      "cell_type": "markdown",
      "metadata": {
        "id": "tDERKwP_XWro"
      },
      "source": [
        "### Model 2: LSTM\n",
        "\n",
        "Sau khi đã thảo luận về RNN và các tác dụng của RNN, chắc hẳn các bạn đang háo hức xây dựng một mô hình như vậy.\n",
        "\n",
        "Chúng ta sẽ bắt đầu với LSTM-powered RNN.\n",
        "\n",
        "Để khai thác khả năng của ô LSTM (ô LSTM và layer LSTM thường được sử dụng thay thế cho nhau) trong TensorFlow, chúng ta sẽ sử dụng [`tensorflow.keras.layers.LSTM()`](https://www.tensorflow.org/api_docs/python/tf/keras/layers/LSTM).\n",
        "\n",
        "![](https://raw.githubusercontent.com/mrdbourke/tensorflow-deep-learning/main/images/08-RNN-architecture-coloured-block-edition.png)\n",
        "*Ví dụ về khối màu cấu trúc của RNN.*\n",
        "\n",
        "Mô hình của chúng ta sẽ có cấu trúc rất giống với `model_1`:\n",
        "\n",
        "```\n",
        "Input (text) -> Tokenize -> Embedding -> Layers -> Output (label probability)\n",
        "```\n",
        "\n",
        "Khác biệt chính là chúng ta sẽ thêm một layer LSTM giữa embedding và đầu ra.\n",
        "\n",
        "Và để đảm bảo rằng chúng ta không sử dụng lại các embedding đã huấn luyện (điều này liên quan đến việc rò rỉ dữ liệu giữa các mô hình, dẫn đến so sánh không đồng đều sau này), chúng ta sẽ tạo một embedding layer khác (`model_2_embedding`) cho mô hình. Layer `text_vectorizer` có thể sử dụng lại vì nó không được cập nhật trong quá trình huấn luyện.\n",
        "\n",
        "> 🔑 **Lưu ý:** Lý do chúng ta sử dụng một embedding layer mới cho mỗi mô hình là vì embedding layer là một biểu diễn *đã học* của các từ (dưới dạng số), nếu chúng ta sử dụng cùng một embedding layer (`embedding_1`) cho mỗi mô hình, chúng ta sẽ kết hợp những gì một mô hình học được với mô hình tiếp theo. Và bởi vì sau đó chúng ta còn muốn so sánh các mô hình, nên hãy bắt đầu mỗi lần với embedding layer của riêng chúng."
      ]
    },
    {
      "cell_type": "code",
      "metadata": {
        "id": "Pi3vjpFU46hi",
        "colab": {
          "base_uri": "https://localhost:8080/"
        },
        "outputId": "373cad05-9cf7-4c40-b41b-622f51563819"
      },
      "source": [
        "# Thiết lập random seed và tạo embedding layer (embedding layer mới cho từng mô hình)\n",
        "tf.random.set_seed(42)\n",
        "from tensorflow.keras import layers\n",
        "model_2_embedding = layers.Embedding(input_dim=max_vocab_length,\n",
        "                                     output_dim=128,\n",
        "                                     embeddings_initializer=\"uniform\",\n",
        "                                     input_length=max_length,\n",
        "                                     name=\"embedding_2\")\n",
        "\n",
        "\n",
        "# Tạo mô hình LSTM\n",
        "inputs = layers.Input(shape=(1,), dtype=\"string\")\n",
        "x = text_vectorizer(inputs)\n",
        "x = model_2_embedding(x)\n",
        "print(x.shape)\n",
        "# x = layers.LSTM(64, return_sequences=True)(x) # trả về vectơ cho từng từ trong Tweet (chúng ta có thể xếp chồng các ô RNN miễn là return_sequences=True)\n",
        "x = layers.LSTM(64)(x) # trả về vectơ cho toàn bộ chuỗi\n",
        "print(x.shape)\n",
        "# x = layers.Dense(64, activation=\"relu\")(x) # dense layer tùy chọn trên đầu ra của ô LSTM\n",
        "outputs = layers.Dense(1, activation=\"sigmoid\")(x)\n",
        "model_2 = tf.keras.Model(inputs, outputs, name=\"model_2_LSTM\")"
      ],
      "execution_count": null,
      "outputs": [
        {
          "output_type": "stream",
          "name": "stdout",
          "text": [
            "(None, 15, 128)\n",
            "(None, 64)\n"
          ]
        }
      ]
    },
    {
      "cell_type": "markdown",
      "metadata": {
        "id": "e1wfTARuwWDg"
      },
      "source": [
        "> 🔑 **Lưu ý:** Trong tài liệu về [TensorFlow LSTM layer](https://www.tensorflow.org/api_docs/python/tf/keras/layers/LSTM), chúng ta sẽ tìm thấy rất nhiều tham số. Nhiều tham số trong đó đã được điều chỉnh để đảm bảo chúng tính toán nhanh nhất có thể. Chúng ta sẽ tìm cách điều chỉnh các tham số: `units` (số lượng nút ẩn) và `return_sequences` (đặt giá trị này thành `True` khi xếp chồng LSTM hoặc các recurrent layer khác).\n",
        "\n",
        "Chúng ta đã xây dựng mô hình LSTM, hãy biên dịch nó bằng cách sử dụng `\"binary_crossentropy\"` loss và Adam optimizer."
      ]
    },
    {
      "cell_type": "code",
      "metadata": {
        "id": "pWdt3bFRwG6w"
      },
      "source": [
        "# Biên dịch mô hình\n",
        "model_2.compile(loss=\"binary_crossentropy\",\n",
        "                optimizer=tf.keras.optimizers.Adam(),\n",
        "                metrics=[\"accuracy\"])"
      ],
      "execution_count": null,
      "outputs": []
    },
    {
      "cell_type": "markdown",
      "metadata": {
        "id": "I2e_t8RFxgXG"
      },
      "source": [
        "Trước khi chúng ta khớp mô hình với dữ liệu, hãy lấy summary."
      ]
    },
    {
      "cell_type": "code",
      "metadata": {
        "id": "IAjdfDfLwK_R",
        "colab": {
          "base_uri": "https://localhost:8080/"
        },
        "outputId": "f345c914-32a3-437a-89c9-07ae4989ec62"
      },
      "source": [
        "model_2.summary()"
      ],
      "execution_count": null,
      "outputs": [
        {
          "output_type": "stream",
          "name": "stdout",
          "text": [
            "Model: \"model_2_LSTM\"\n",
            "_________________________________________________________________\n",
            "Layer (type)                 Output Shape              Param #   \n",
            "=================================================================\n",
            "input_2 (InputLayer)         [(None, 1)]               0         \n",
            "_________________________________________________________________\n",
            "text_vectorization_1 (TextVe (None, 15)                0         \n",
            "_________________________________________________________________\n",
            "embedding_2 (Embedding)      (None, 15, 128)           1280000   \n",
            "_________________________________________________________________\n",
            "lstm (LSTM)                  (None, 64)                49408     \n",
            "_________________________________________________________________\n",
            "dense_1 (Dense)              (None, 1)                 65        \n",
            "=================================================================\n",
            "Total params: 1,329,473\n",
            "Trainable params: 1,329,473\n",
            "Non-trainable params: 0\n",
            "_________________________________________________________________\n"
          ]
        }
      ]
    },
    {
      "cell_type": "markdown",
      "metadata": {
        "id": "S5NLw3wD0aMz"
      },
      "source": [
        "Trông được đấy! Bạn sẽ nhận thấy một vài tham số có thể huấn luyện được trong LSTM layer hơn là `model_1`.\n",
        "\n",
        "Nếu bạn muốn biết con số này đến từ đâu, hãy xem qua các tài liệu ở trên cũng như tài liệu sau về cách tính số lượng tham số trong một ô LSTM:\n",
        "* [Câu trả lời của Stack Overflow: tính toán số lượng tham số trong một ô LSTM](https://stackoverflow.com/questions/38080035/how-to-calculate-the-number-of-parameters-of-an-lstm-network) (Marcin Możejko)\n",
        "* [Tính toán số lượng tham số trong một layer và nút LSTM](https://medium.com/@priyadarshi.cse/calculating-number-of-parameters-in-a-lstm-unit-layer-7e491978e1e4) (Shridhar Priyadarshi)  \n",
        "\n",
        "Mô hình RNN đầu tiên của chúng ta đã được biên dịch, hãy khớp với dữ liệu huấn luyện, xác thực nó trên dữ liệu kiểm định và theo dõi các tham số huấn luyện của nó bằng TensorBoard callback."
      ]
    },
    {
      "cell_type": "code",
      "metadata": {
        "id": "YgZ7ojDvwKcq",
        "colab": {
          "base_uri": "https://localhost:8080/"
        },
        "outputId": "34da9032-cfe3-46b2-8cab-80d6abc3a593"
      },
      "source": [
        "# Khớp mô hình\n",
        "model_2_history = model_2.fit(train_sentences,\n",
        "                              train_labels,\n",
        "                              epochs=5,\n",
        "                              validation_data=(val_sentences, val_labels),\n",
        "                              callbacks=[create_tensorboard_callback(SAVE_DIR,\n",
        "                                                                     \"LSTM\")])"
      ],
      "execution_count": null,
      "outputs": [
        {
          "output_type": "stream",
          "name": "stdout",
          "text": [
            "Saving TensorBoard log files to: model_logs/LSTM/20210923-052618\n",
            "Epoch 1/5\n",
            "215/215 [==============================] - 12s 34ms/step - loss: 0.5100 - accuracy: 0.7416 - val_loss: 0.4566 - val_accuracy: 0.7822\n",
            "Epoch 2/5\n",
            "215/215 [==============================] - 4s 19ms/step - loss: 0.3176 - accuracy: 0.8717 - val_loss: 0.5138 - val_accuracy: 0.7756\n",
            "Epoch 3/5\n",
            "215/215 [==============================] - 4s 18ms/step - loss: 0.2201 - accuracy: 0.9152 - val_loss: 0.5858 - val_accuracy: 0.7677\n",
            "Epoch 4/5\n",
            "215/215 [==============================] - 4s 19ms/step - loss: 0.1556 - accuracy: 0.9428 - val_loss: 0.6041 - val_accuracy: 0.7743\n",
            "Epoch 5/5\n",
            "215/215 [==============================] - 4s 20ms/step - loss: 0.1076 - accuracy: 0.9594 - val_loss: 0.8746 - val_accuracy: 0.7507\n"
          ]
        }
      ]
    },
    {
      "cell_type": "markdown",
      "metadata": {
        "id": "1gikGe_Z16PP"
      },
      "source": [
        "Mô hình RNN đầu tiên của chúng ta đã được huấn luyện bằng cách sử dụng các ô LSTM. Hãy đưa ra một vài dự đoán với nó.\n",
        "\n",
        "Tương tự như trước, hàm kích hoạt sigmoid ở layer cuối cùng sẽ trả về xác suất dự đoán thay vì các lớp khi chúng ta gọi phương thức `predict()` trong mô hình."
      ]
    },
    {
      "cell_type": "code",
      "metadata": {
        "id": "4c_lVbKLemrU",
        "colab": {
          "base_uri": "https://localhost:8080/"
        },
        "outputId": "08161e1d-fb72-4046-8ba1-1937487eebc4"
      },
      "source": [
        "# Đưa ra dự đoán trên tập dữ liệu kiểm định\n",
        "model_2_pred_probs = model_2.predict(val_sentences)\n",
        "model_2_pred_probs.shape, model_2_pred_probs[:10] # view the first 10"
      ],
      "execution_count": null,
      "outputs": [
        {
          "output_type": "execute_result",
          "data": {
            "text/plain": [
              "((762, 1), array([[0.00712602],\n",
              "        [0.7873681 ],\n",
              "        [0.9996376 ],\n",
              "        [0.05679193],\n",
              "        [0.0025822 ],\n",
              "        [0.9996238 ],\n",
              "        [0.9217023 ],\n",
              "        [0.9997993 ],\n",
              "        [0.9994954 ],\n",
              "        [0.6645735 ]], dtype=float32))"
            ]
          },
          "metadata": {},
          "execution_count": 52
        }
      ]
    },
    {
      "cell_type": "markdown",
      "metadata": {
        "id": "fQ6ope-ddpOo"
      },
      "source": [
        "Chúng ta có thể chuyển đổi những xác suất dự đoán này thành các lớp dự đoán bằng cách làm tròn đến số nguyên gần nhất (theo mặc định, các xác suất dự đoán dưới 0.5 sẽ thành 0, còn những xác suất trên 0.5 sẽ thành 1)."
      ]
    },
    {
      "cell_type": "code",
      "metadata": {
        "id": "iFnIhtyE7hlb",
        "colab": {
          "base_uri": "https://localhost:8080/"
        },
        "outputId": "284865b4-bfd5-470d-b3da-c3bef6f7ea92"
      },
      "source": [
        "# Làm tròn các dự đoán và giảm thành mảng 1 chiều\n",
        "model_2_preds = tf.squeeze(tf.round(model_2_pred_probs))\n",
        "model_2_preds[:10]"
      ],
      "execution_count": null,
      "outputs": [
        {
          "output_type": "execute_result",
          "data": {
            "text/plain": [
              "<tf.Tensor: shape=(10,), dtype=float32, numpy=array([0., 1., 1., 0., 0., 1., 1., 1., 1., 1.], dtype=float32)>"
            ]
          },
          "metadata": {},
          "execution_count": 53
        }
      ]
    },
    {
      "cell_type": "markdown",
      "metadata": {
        "id": "zTBy4poXd_7p"
      },
      "source": [
        "Tuyệt, bây giờ hãy dùng hàm `caculate_results()` để đánh giá mô hình LSTM và hàm `compare_baseline_to_new_results()` để so sánh nó với mô hình cơ sở."
      ]
    },
    {
      "cell_type": "code",
      "metadata": {
        "id": "3iHXv04y76vj",
        "colab": {
          "base_uri": "https://localhost:8080/"
        },
        "outputId": "9265fa0c-a725-4333-f91f-4d96fa5a5c06"
      },
      "source": [
        "# Tính các kết quả của mô hình LSTM\n",
        "model_2_results = calculate_results(y_true=val_labels,\n",
        "                                    y_pred=model_2_preds)\n",
        "model_2_results"
      ],
      "execution_count": null,
      "outputs": [
        {
          "output_type": "execute_result",
          "data": {
            "text/plain": [
              "{'accuracy': 75.06561679790026,\n",
              " 'f1': 0.7489268622514025,\n",
              " 'precision': 0.7510077975908164,\n",
              " 'recall': 0.7506561679790026}"
            ]
          },
          "metadata": {},
          "execution_count": 54
        }
      ]
    },
    {
      "cell_type": "code",
      "metadata": {
        "id": "ZdQGn2L68B5Q",
        "colab": {
          "base_uri": "https://localhost:8080/"
        },
        "outputId": "686d82ce-8eb5-40d3-9db2-85ffc4fa6484"
      },
      "source": [
        "# So sánh model_2 với baseline\n",
        "compare_baseline_to_new_results(baseline_results, model_2_results)"
      ],
      "execution_count": null,
      "outputs": [
        {
          "output_type": "stream",
          "name": "stdout",
          "text": [
            "Baseline accuracy: 79.27, New accuracy: 75.07, Difference: -4.20\n",
            "Baseline precision: 0.81, New precision: 0.75, Difference: -0.06\n",
            "Baseline recall: 0.79, New recall: 0.75, Difference: -0.04\n",
            "Baseline f1: 0.79, New f1: 0.75, Difference: -0.04\n"
          ]
        }
      ]
    },
    {
      "cell_type": "markdown",
      "metadata": {
        "id": "Q0pAtADt8ju7"
      },
      "source": [
        "### Model 3: GRU\n",
        "\n",
        "Một thành phần phổ biến và hiệu quả khác của RNN là GRU hay nút hồi tiếp có cổng.\n",
        "\n",
        "Ô GRU có các đặc trưng tương tự như ô LSTM, nhưng ít tham số hơn.\n",
        "\n",
        "> 📖 **Tài liệu:** A full explanation of the GRU cell is beyond the scope of this noteook but I'd suggest the following resources to learn more: Giải thích đầy đủ về ô GRU nằm ngoài phạm vi của noteook này, nhưng các bạn có thể tham khảo thêm các tài liệu sau:\n",
        "* [Gated Recurrent Unit](https://en.wikipedia.org/wiki/Gated_recurrent_unit) từ Wikipedia\n",
        "* [Understanding GRU networks](https://towardsdatascience.com/understanding-gru-networks-2ef37df6c9be) (Simeon Kostadinov)\n",
        "\n",
        "Để sử dụng ô GRU trong TensorFlow, chúng ta sẽ gọi lớp [`tensorflow.keras.layers.GRU()`](https://www.tensorflow.org/api_docs/python/tf/keras/layers/GRU).\n",
        "\n",
        "Kiến trúc của mô hình do GRU cung cấp tuân theo cùng một cấu trúc mà chúng ta đã dùng:\n",
        "\n",
        "```\n",
        "Input (text) -> Tokenize -> Embedding -> Layers -> Output (label probability)\n",
        "```\n",
        "\n",
        "Khác biệt duy nhất sẽ là (các) layer mà chúng ta sử dụng giữa embedding và output."
      ]
    },
    {
      "cell_type": "code",
      "metadata": {
        "id": "SoSCGq3H47Yo"
      },
      "source": [
        "# Thiết lập random seed và tạo embedding layer (embedding layer mới cho từng mô hình)\n",
        "tf.random.set_seed(42)\n",
        "from tensorflow.keras import layers\n",
        "model_3_embedding = layers.Embedding(input_dim=max_vocab_length,\n",
        "                                     output_dim=128,\n",
        "                                     embeddings_initializer=\"uniform\",\n",
        "                                     input_length=max_length,\n",
        "                                     name=\"embedding_3\")\n",
        "\n",
        "# Xây dựng mô hình RNN bằng cách sử dụng ô GRU\n",
        "inputs = layers.Input(shape=(1,), dtype=\"string\")\n",
        "x = text_vectorizer(inputs)\n",
        "x = model_3_embedding(x)\n",
        "# x = layers.GRU(64, return_sequences=True) # xếp chồng các ô hồi tiếp cần return_sequences=True\n",
        "x = layers.GRU(64)(x)\n",
        "# x = layers.Dense(64, activation=\"relu\")(x) # dense layer tùy chọn sau ô GRU\n",
        "outputs = layers.Dense(1, activation=\"sigmoid\")(x)\n",
        "model_3 = tf.keras.Model(inputs, outputs, name=\"model_3_GRU\")"
      ],
      "execution_count": null,
      "outputs": []
    },
    {
      "cell_type": "markdown",
      "metadata": {
        "id": "JLT5maFWhKH1"
      },
      "source": [
        "TensorFlow giúp chúng ta dễ dàng sử dụng các thành phần mạnh mẽ như ô GRU trong các mô hình của mình. Bây giờ, mô hình thứ ba đã được xây dựng, hãy biên dịch nó, giống như trước đây."
      ]
    },
    {
      "cell_type": "code",
      "metadata": {
        "id": "lBL1mb31hHDS"
      },
      "source": [
        "# Biên dịch mô hình GRU\n",
        "model_3.compile(loss=\"binary_crossentropy\",\n",
        "                optimizer=tf.keras.optimizers.Adam(),\n",
        "                metrics=[\"accuracy\"])"
      ],
      "execution_count": null,
      "outputs": []
    },
    {
      "cell_type": "markdown",
      "metadata": {
        "id": "yvnksvkmha2A"
      },
      "source": [
        "Summary của mô hình trông như thế nào?"
      ]
    },
    {
      "cell_type": "code",
      "metadata": {
        "id": "JVnB5yQeiAWs",
        "colab": {
          "base_uri": "https://localhost:8080/"
        },
        "outputId": "068184f9-c913-46fd-83d9-8547e8f4f1f6"
      },
      "source": [
        "# Lấy summary của mô hình GRU\n",
        "model_3.summary()"
      ],
      "execution_count": null,
      "outputs": [
        {
          "output_type": "stream",
          "name": "stdout",
          "text": [
            "Model: \"model_3_GRU\"\n",
            "_________________________________________________________________\n",
            "Layer (type)                 Output Shape              Param #   \n",
            "=================================================================\n",
            "input_3 (InputLayer)         [(None, 1)]               0         \n",
            "_________________________________________________________________\n",
            "text_vectorization_1 (TextVe (None, 15)                0         \n",
            "_________________________________________________________________\n",
            "embedding_3 (Embedding)      (None, 15, 128)           1280000   \n",
            "_________________________________________________________________\n",
            "gru (GRU)                    (None, 64)                37248     \n",
            "_________________________________________________________________\n",
            "dense_2 (Dense)              (None, 1)                 65        \n",
            "=================================================================\n",
            "Total params: 1,317,313\n",
            "Trainable params: 1,317,313\n",
            "Non-trainable params: 0\n",
            "_________________________________________________________________\n"
          ]
        }
      ]
    },
    {
      "cell_type": "markdown",
      "metadata": {
        "id": "KcXzKqgXhdez"
      },
      "source": [
        "Lưu ý tới sự khác biệt về số lượng tham số có thể huấn luyện giữa `model_2` (LSTM) và `model_3` (GRU). Khác biệt này là do ô LSTM có nhiều tham số có thể huấn luyện hơn so với ô GRU.\n",
        "\n",
        "Chúng ta sẽ khớp mô hình như đã làm trước đây và theo dõi kết quả mô hình bằng hàm `create_tensorboard_callback()`."
      ]
    },
    {
      "cell_type": "code",
      "metadata": {
        "id": "Gvamg5JOh_jC",
        "colab": {
          "base_uri": "https://localhost:8080/"
        },
        "outputId": "629279a6-1dd9-43fb-f0ae-975be030ebe7"
      },
      "source": [
        "# Khớp mô hình\n",
        "model_3_history = model_3.fit(train_sentences,\n",
        "                              train_labels,\n",
        "                              epochs=5,\n",
        "                              validation_data=(val_sentences, val_labels),\n",
        "                              callbacks=[create_tensorboard_callback(SAVE_DIR, \"GRU\")])"
      ],
      "execution_count": null,
      "outputs": [
        {
          "output_type": "stream",
          "name": "stdout",
          "text": [
            "Saving TensorBoard log files to: model_logs/GRU/20210923-052650\n",
            "Epoch 1/5\n",
            "215/215 [==============================] - 12s 24ms/step - loss: 0.5242 - accuracy: 0.7314 - val_loss: 0.4553 - val_accuracy: 0.7769\n",
            "Epoch 2/5\n",
            "215/215 [==============================] - 3s 15ms/step - loss: 0.3195 - accuracy: 0.8694 - val_loss: 0.4937 - val_accuracy: 0.7808\n",
            "Epoch 3/5\n",
            "215/215 [==============================] - 2s 10ms/step - loss: 0.2197 - accuracy: 0.9181 - val_loss: 0.5607 - val_accuracy: 0.7743\n",
            "Epoch 4/5\n",
            "215/215 [==============================] - 2s 10ms/step - loss: 0.1599 - accuracy: 0.9441 - val_loss: 0.6220 - val_accuracy: 0.7782\n",
            "Epoch 5/5\n",
            "215/215 [==============================] - 2s 10ms/step - loss: 0.1221 - accuracy: 0.9584 - val_loss: 0.6205 - val_accuracy: 0.7677\n"
          ]
        }
      ]
    },
    {
      "cell_type": "markdown",
      "metadata": {
        "id": "hM4mQj1Sh7Gn"
      },
      "source": [
        "Do thiết lập mặc định được tối ưu hóa của ô GRU trong TensorFlow nên việc huấn luyện không hề mất nhiều thời gian.\n",
        "\n",
        "Đã đến lúc đưa ra một số dự đoán về các mẫu kiểm định."
      ]
    },
    {
      "cell_type": "code",
      "metadata": {
        "id": "W5TUVHCl9pe-",
        "colab": {
          "base_uri": "https://localhost:8080/"
        },
        "outputId": "21116150-7412-49c4-ae12-679f3c688c44"
      },
      "source": [
        "# Đưa ra dự đoán trên dữ liệu kiểm định\n",
        "model_3_pred_probs = model_3.predict(val_sentences)\n",
        "model_3_pred_probs.shape, model_3_pred_probs[:10]"
      ],
      "execution_count": null,
      "outputs": [
        {
          "output_type": "execute_result",
          "data": {
            "text/plain": [
              "((762, 1), array([[0.33325258],\n",
              "        [0.87741184],\n",
              "        [0.9980252 ],\n",
              "        [0.11561754],\n",
              "        [0.01235959],\n",
              "        [0.9925639 ],\n",
              "        [0.6214262 ],\n",
              "        [0.99813336],\n",
              "        [0.9982377 ],\n",
              "        [0.50181067]], dtype=float32))"
            ]
          },
          "metadata": {},
          "execution_count": 60
        }
      ]
    },
    {
      "cell_type": "markdown",
      "metadata": {
        "id": "hasS7dzRiYQh"
      },
      "source": [
        "Một lần nữa, chúng ta nhận được một mảng các xác suất dự đoán có thể chuyển đổi thành các lớp dự đoán bằng cách làm tròn."
      ]
    },
    {
      "cell_type": "code",
      "metadata": {
        "id": "haILbddg98CY",
        "colab": {
          "base_uri": "https://localhost:8080/"
        },
        "outputId": "8d567022-4f1f-46cb-aae1-70242ce55e56"
      },
      "source": [
        "# Chuyển xác suất dự đoán thành lớp dự đoán\n",
        "model_3_preds = tf.squeeze(tf.round(model_3_pred_probs))\n",
        "model_3_preds[:10]"
      ],
      "execution_count": null,
      "outputs": [
        {
          "output_type": "execute_result",
          "data": {
            "text/plain": [
              "<tf.Tensor: shape=(10,), dtype=float32, numpy=array([0., 1., 1., 0., 0., 1., 1., 1., 1., 1.], dtype=float32)>"
            ]
          },
          "metadata": {},
          "execution_count": 61
        }
      ]
    },
    {
      "cell_type": "markdown",
      "metadata": {
        "id": "_7yAgh-viglB"
      },
      "source": [
        "Chúng ta đã có các lớp dự đoán, hãy đánh giá chúng dựa trên nhãn gốc."
      ]
    },
    {
      "cell_type": "code",
      "metadata": {
        "id": "h9OZbQu1-LPp",
        "colab": {
          "base_uri": "https://localhost:8080/"
        },
        "outputId": "3b32ee9f-3291-4f8c-873d-c7780488cab8"
      },
      "source": [
        "# Tính kết quả của model_3\n",
        "model_3_results = calculate_results(y_true=val_labels,\n",
        "                                    y_pred=model_3_preds)\n",
        "model_3_results"
      ],
      "execution_count": null,
      "outputs": [
        {
          "output_type": "execute_result",
          "data": {
            "text/plain": [
              "{'accuracy': 76.77165354330708,\n",
              " 'f1': 0.7667932666650168,\n",
              " 'precision': 0.7675450859410361,\n",
              " 'recall': 0.7677165354330708}"
            ]
          },
          "metadata": {},
          "execution_count": 62
        }
      ]
    },
    {
      "cell_type": "markdown",
      "metadata": {
        "id": "o9t7wcALiuRk"
      },
      "source": [
        "Cuối cùng, chúng ta có thể so sánh kết quả của mô hình GRU với mô hình cơ sở."
      ]
    },
    {
      "cell_type": "code",
      "metadata": {
        "id": "_7AE6vtn-RQZ",
        "colab": {
          "base_uri": "https://localhost:8080/"
        },
        "outputId": "ff8ad89a-089a-4b29-be3f-b0c6f87c19ad"
      },
      "source": [
        "# So sánh với mô hình cơ sở\n",
        "compare_baseline_to_new_results(baseline_results, model_3_results)"
      ],
      "execution_count": null,
      "outputs": [
        {
          "output_type": "stream",
          "name": "stdout",
          "text": [
            "Baseline accuracy: 79.27, New accuracy: 76.77, Difference: -2.49\n",
            "Baseline precision: 0.81, New precision: 0.77, Difference: -0.04\n",
            "Baseline recall: 0.79, New recall: 0.77, Difference: -0.02\n",
            "Baseline f1: 0.79, New f1: 0.77, Difference: -0.02\n"
          ]
        }
      ]
    },
    {
      "cell_type": "markdown",
      "metadata": {
        "id": "oLm6r4nQ-Wdr"
      },
      "source": [
        "### Model 4: Mô hình RNN hai chiều\n",
        "\n",
        "Chúng ta đã xây dựng hai RNN với ô GRU và LSTM. Bây giờ, chúng ta sẽ xem xét một loại RNN khác: RNN hai chiều.\n",
        "\n",
        "RNN tiêu chuẩn sẽ xử lý chuỗi từ trái sang phải, trong khi RNN hai chiều sẽ xử lý chuỗi từ trái sang phải rồi lại từ phải sang trái.\n",
        "\n",
        "Có thể hình dung như việc bạn đang đọc một câu: lần đầu tiên đọc theo cách thông thường (từ trái sang phải) nhưng vì lý do nào đó nó không rõ nên bạn lướt qua các từ và quay lại đọc một lần nữa (phải sang trái).\n",
        "\n",
        "Trong thực tế, nhiều mô hình chuỗi thường thấy và cải thiện chất lượng khi sử dụng RNN hai chiều.\n",
        "\n",
        "Tuy nhiên, việc cải thiện chất lượng này thường kéo theo thời gian huấn luyện dài hơn và gia tăng các tham số của mô hình (vì mô hình đi từ trái sang phải và từ phải sang trái nên số lượng tham số có thể huấn luyện tăng sẽ gấp đôi).\n",
        "\n",
        "Hãy xây dựng mô hình RNN hai chiều.\n",
        "\n",
        "TensorFlow cung cấp cho chúng ta lớp [`tensorflow.keras.layers.Bidirectional`](https://www.tensorflow.org/api_docs/python/tf/keras/layers/Bidirectional). Chúng ta có thể sử dụng lớp `Bidirectional` để bọc các RNN hiện có, ngay lập tức làm cho chúng có hai chiều."
      ]
    },
    {
      "cell_type": "code",
      "metadata": {
        "id": "NAU9dvGm47_2"
      },
      "source": [
        "# Thiết lập random seed và tạo embedding layer (embedding layer mới cho từng mô hình)\n",
        "tf.random.set_seed(42)\n",
        "from tensorflow.keras import layers\n",
        "model_4_embedding = layers.Embedding(input_dim=max_vocab_length,\n",
        "                                     output_dim=128,\n",
        "                                     embeddings_initializer=\"uniform\",\n",
        "                                     input_length=max_length,\n",
        "                                     name=\"embedding_4\")\n",
        "\n",
        "# Xây dựng RNN hai chiều trong TensorFlow\n",
        "inputs = layers.Input(shape=(1,), dtype=\"string\")\n",
        "x = text_vectorizer(inputs)\n",
        "x = model_4_embedding(x)\n",
        "# x = layers.Bidirectional(layers.LSTM(64, return_sequences=True))(x) # xếp chồng các layer của RNN cần return_sequences=True\n",
        "x = layers.Bidirectional(layers.LSTM(64))(x) # bidirectional đi theo cả hai hướng, do đó có số lượng tham số gấp đôi một LSTM layer thông thường\n",
        "outputs = layers.Dense(1, activation=\"sigmoid\")(x)\n",
        "model_4 = tf.keras.Model(inputs, outputs, name=\"model_4_Bidirectional\")"
      ],
      "execution_count": null,
      "outputs": []
    },
    {
      "cell_type": "markdown",
      "metadata": {
        "id": "9Hm5cwmNm-g4"
      },
      "source": [
        "> 🔑 **Lưu ý:** Chúng ta có thể sử dụng `Bidirectional` wrapper trên bất kỳ ô RNN nào trong TensorFlow. Ví dụ: `layers.Bidirectional(layers.GRU(64))` tạo ra một ô GRU hai chiều.\n",
        "\n",
        "Mô hình hai chiều đã được xây dựng, hãy biên dịch nó."
      ]
    },
    {
      "cell_type": "code",
      "metadata": {
        "id": "wP1jeF0am9x0"
      },
      "source": [
        "# Biên dịch\n",
        "model_4.compile(loss=\"binary_crossentropy\",\n",
        "                optimizer=tf.keras.optimizers.Adam(),\n",
        "                metrics=[\"accuracy\"])"
      ],
      "execution_count": null,
      "outputs": []
    },
    {
      "cell_type": "markdown",
      "metadata": {
        "id": "NtpYyjsbnEwN"
      },
      "source": [
        "Tất nhiên cũng hãy kiểm tra summary."
      ]
    },
    {
      "cell_type": "code",
      "metadata": {
        "id": "-sUd9AQ6nFXI",
        "colab": {
          "base_uri": "https://localhost:8080/"
        },
        "outputId": "dc1d6295-7753-41b9-df0d-4f4986cb3cbf"
      },
      "source": [
        "# Lấy summary của mô hình hai chiều\n",
        "model_4.summary()"
      ],
      "execution_count": null,
      "outputs": [
        {
          "output_type": "stream",
          "name": "stdout",
          "text": [
            "Model: \"model_4_Bidirectional\"\n",
            "_________________________________________________________________\n",
            "Layer (type)                 Output Shape              Param #   \n",
            "=================================================================\n",
            "input_4 (InputLayer)         [(None, 1)]               0         \n",
            "_________________________________________________________________\n",
            "text_vectorization_1 (TextVe (None, 15)                0         \n",
            "_________________________________________________________________\n",
            "embedding_4 (Embedding)      (None, 15, 128)           1280000   \n",
            "_________________________________________________________________\n",
            "bidirectional (Bidirectional (None, 128)               98816     \n",
            "_________________________________________________________________\n",
            "dense_3 (Dense)              (None, 1)                 129       \n",
            "=================================================================\n",
            "Total params: 1,378,945\n",
            "Trainable params: 1,378,945\n",
            "Non-trainable params: 0\n",
            "_________________________________________________________________\n"
          ]
        }
      ]
    },
    {
      "cell_type": "markdown",
      "metadata": {
        "id": "TvItfzeZnIE-"
      },
      "source": [
        "Lưu ý: số lượng tham số có thể huấn luyện tăng lên trong `model_4` (LSTM hai chiều) so với `model_2` (LSTM thông thường), do tính hai chiều mà chúng ta đã thêm vào RNN.\n",
        "\n",
        "Đã đến lúc khớp mô hình hai chiều và theo dõi chất lượng của nó."
      ]
    },
    {
      "cell_type": "code",
      "metadata": {
        "id": "bAKY_QbHXPHB",
        "colab": {
          "base_uri": "https://localhost:8080/"
        },
        "outputId": "1e576aae-b7a6-4bc5-b229-99e0885d9bd2"
      },
      "source": [
        "# Khớp mô hình (lâu hơn do các layer hai chiều)\n",
        "model_4_history = model_4.fit(train_sentences,\n",
        "                              train_labels,\n",
        "                              epochs=5,\n",
        "                              validation_data=(val_sentences, val_labels),\n",
        "                              callbacks=[create_tensorboard_callback(SAVE_DIR, \"bidirectional_RNN\")])"
      ],
      "execution_count": null,
      "outputs": [
        {
          "output_type": "stream",
          "name": "stdout",
          "text": [
            "Saving TensorBoard log files to: model_logs/bidirectional_RNN/20210923-052719\n",
            "Epoch 1/5\n",
            "215/215 [==============================] - 8s 21ms/step - loss: 0.5093 - accuracy: 0.7481 - val_loss: 0.4606 - val_accuracy: 0.7795\n",
            "Epoch 2/5\n",
            "215/215 [==============================] - 3s 14ms/step - loss: 0.3135 - accuracy: 0.8708 - val_loss: 0.5144 - val_accuracy: 0.7690\n",
            "Epoch 3/5\n",
            "215/215 [==============================] - 3s 14ms/step - loss: 0.2150 - accuracy: 0.9178 - val_loss: 0.5626 - val_accuracy: 0.7677\n",
            "Epoch 4/5\n",
            "215/215 [==============================] - 3s 14ms/step - loss: 0.1523 - accuracy: 0.9469 - val_loss: 0.6365 - val_accuracy: 0.7769\n",
            "Epoch 5/5\n",
            "215/215 [==============================] - 3s 14ms/step - loss: 0.1083 - accuracy: 0.9639 - val_loss: 0.6509 - val_accuracy: 0.7664\n"
          ]
        }
      ]
    },
    {
      "cell_type": "markdown",
      "metadata": {
        "id": "zkt8GVRHoJz6"
      },
      "source": [
        "Do tính hai chiều của mô hình, chúng ta thấy thời gian huấn luyện tăng nhẹ.\n",
        "\n",
        "Đừng lo lắng, nó không tăng quá nhiều.\n",
        "\n",
        "Hãy đưa ra một số dự đoán với mô hình này."
      ]
    },
    {
      "cell_type": "code",
      "metadata": {
        "id": "uFc7QHRtXmn7",
        "colab": {
          "base_uri": "https://localhost:8080/"
        },
        "outputId": "67a915b9-2e27-492e-86a7-6b114354cfcf"
      },
      "source": [
        "# Đưa ra dự đoán với mô hình RNN hai chiều trên dữ liệu kiểm định\n",
        "model_4_pred_probs = model_4.predict(val_sentences)\n",
        "model_4_pred_probs[:10]"
      ],
      "execution_count": null,
      "outputs": [
        {
          "output_type": "execute_result",
          "data": {
            "text/plain": [
              "array([[0.04000043],\n",
              "       [0.827929  ],\n",
              "       [0.99842227],\n",
              "       [0.1353109 ],\n",
              "       [0.00311337],\n",
              "       [0.99220747],\n",
              "       [0.9552836 ],\n",
              "       [0.99945647],\n",
              "       [0.99898285],\n",
              "       [0.28141677]], dtype=float32)"
            ]
          },
          "metadata": {},
          "execution_count": 68
        }
      ]
    },
    {
      "cell_type": "markdown",
      "metadata": {
        "id": "L_9HmNIYobDB"
      },
      "source": [
        "Chuyển đổi chúng thành các lớp dự đoán và đánh giá chúng căn cứ vào nhãn gốc và mô hình cơ sở."
      ]
    },
    {
      "cell_type": "code",
      "metadata": {
        "id": "G5z8bMdaXw51",
        "colab": {
          "base_uri": "https://localhost:8080/"
        },
        "outputId": "ecbb2c9e-5b45-4872-a126-6f6b4de3f091"
      },
      "source": [
        "# Chuyển đổi xác suất dự đoán thành các nhãn\n",
        "model_4_preds = tf.squeeze(tf.round(model_4_pred_probs))\n",
        "model_4_preds[:10]"
      ],
      "execution_count": null,
      "outputs": [
        {
          "output_type": "execute_result",
          "data": {
            "text/plain": [
              "<tf.Tensor: shape=(10,), dtype=float32, numpy=array([0., 1., 1., 0., 0., 1., 1., 1., 1., 0.], dtype=float32)>"
            ]
          },
          "metadata": {},
          "execution_count": 69
        }
      ]
    },
    {
      "cell_type": "code",
      "metadata": {
        "id": "-a7Ym_vKYAO4",
        "colab": {
          "base_uri": "https://localhost:8080/"
        },
        "outputId": "a3d841a2-6cdd-4da2-d623-d046f608841c"
      },
      "source": [
        "# Tính kết quả của mô hình RNN hai chiều\n",
        "model_4_results = calculate_results(val_labels, model_4_preds)\n",
        "model_4_results"
      ],
      "execution_count": null,
      "outputs": [
        {
          "output_type": "execute_result",
          "data": {
            "text/plain": [
              "{'accuracy': 76.64041994750657,\n",
              " 'f1': 0.7651213533864446,\n",
              " 'precision': 0.7665895370389821,\n",
              " 'recall': 0.7664041994750657}"
            ]
          },
          "metadata": {},
          "execution_count": 70
        }
      ]
    },
    {
      "cell_type": "code",
      "metadata": {
        "id": "hAET-LKpYT18",
        "colab": {
          "base_uri": "https://localhost:8080/"
        },
        "outputId": "d69437c7-e780-41ab-d575-b9cfdefdf82b"
      },
      "source": [
        "# Kiểm tra xem mô hình hai chiều hoạt động như thế nào so với mô hình cơ sở\n",
        "compare_baseline_to_new_results(baseline_results, model_4_results)"
      ],
      "execution_count": null,
      "outputs": [
        {
          "output_type": "stream",
          "name": "stdout",
          "text": [
            "Baseline accuracy: 79.27, New accuracy: 76.64, Difference: -2.62\n",
            "Baseline precision: 0.81, New precision: 0.77, Difference: -0.04\n",
            "Baseline recall: 0.79, New recall: 0.77, Difference: -0.03\n",
            "Baseline f1: 0.79, New f1: 0.77, Difference: -0.02\n"
          ]
        }
      ]
    },
    {
      "cell_type": "markdown",
      "metadata": {
        "id": "wcvt_7emuKlR"
      },
      "source": [
        "## Mạng nơ-ron tích chập (CNN) cho Text\n",
        "\n",
        "Trước đây, chúng ta đã sử dụng mạng nơ-ron tích chập (CNN) cho hình ảnh, tuy nhiên chúng cũng có thể dùng cho chuỗi.\n",
        "\n",
        "Khác biệt chính giữa việc sử dụng CNN cho hình ảnh và cho chuỗi là shape của dữ liệu. Hình ảnh có 2 chiều (chiều cao x chiều rộng) trong khi các chuỗi thường chỉ có 1 chiều (một chuỗi văn bản).\n",
        "\n",
        "Vì vậy, để sử dụng CNN với chuỗi, chúng ta sử dụng tích chập 1 chiều thay vì tích chập 2 chiều.\n",
        "\n",
        "Kiến ​​trúc CNN điển hình cho chuỗi như sau:\n",
        "\n",
        "```\n",
        "Inputs (text) -> Tokenization -> Embedding -> Layers -> Outputs (class probabilities)\n",
        "```\n",
        "\n",
        "Có thể bạn đang nghĩ \"trông giống như sơ đồ kiến ​​trúc mà chúng ta đã sử dụng cho các mô hình khác ...\"\n",
        "\n",
        "Đúng rồi đó.\n",
        "\n",
        "Khác biệt là ở thành phần layers. Thay vì sử dụng ô LSTM hoặc GRU, chúng ta sẽ sử dụng layer [`tensorflow.keras.layers.Conv1D()`](https://www.tensorflow.org/api_docs/python/tf/keras/layers/Conv1D), sau đó là layer [`tensorflow.keras.layers.GlobablMaxPool1D()`](https://www.tensorflow.org/api_docs/python/tf/keras/layers/GlobalMaxPool1D).\n",
        "\n",
        "> 📖 **Tài liệu:** Tổng quan ở đây được giải thích một cách cô đọng trong tài liệu [*Understanding Convolutional Neural Networks for Text Classification*](https://www.aclweb.org/anthology/W18-5408.pdf), trong đó có đề cập rằng CNN phân loại text qua các bước sau:\n",
        "1. Bộ lọc xoay vòng 1 chiều được sử dụng làm bộ phát hiện ngram, mỗi bộ lọc chuyên về một họ ngram có liên quan chặt chẽ (ngram là tập hợp có n từ, ví dụ: ngram 5 có thể là \"hello, my name is Daniel\").\n",
        "2. Max-pooling theo thời gian trích xuất các ngam liên quan để đưa ra quyết định.\n",
        "3. Phần còn lại của mạng phân loại text dựa trên thông tin này.\n",
        "\n",
        ">\n"
      ]
    },
    {
      "cell_type": "markdown",
      "metadata": {
        "id": "lgXEorf9GWY1"
      },
      "source": [
        "### Model 5: Conv1D\n",
        "\n",
        "Trước khi xây dựng mô hình CNN 1 chiều đầy đủ, hãy xem layer tích chập 1 chiều (còn gọi là **tích chập thời gian**) hoạt động như thế nào.\n",
        "\n",
        "Trước tiên, chúng ta sẽ tạo embedding của một mẫu văn bản và thử nghiệm chuyển nó qua layer `Conv1D()` và layer `GlobalMaxPool1D()`."
      ]
    },
    {
      "cell_type": "code",
      "metadata": {
        "id": "563hl7nPWP_3",
        "colab": {
          "base_uri": "https://localhost:8080/"
        },
        "outputId": "32a7e900-e4b4-4b1b-9b4e-617ca9f7eb92"
      },
      "source": [
        "# Kiểm tra embedding, 1D convolutional và max pooling\n",
        "embedding_test = embedding(text_vectorizer([\"this is a test sentence\"])) # biến câu mục tiêu thành embedding\n",
        "conv_1d = layers.Conv1D(filters=32, kernel_size=5, activation=\"relu\") # convolve chuỗi mục tiêu 5 từ cùng một lúc\n",
        "conv_1d_output = conv_1d(embedding_test) # truyền embedding qua layer tích chập một chiều\n",
        "max_pool = layers.GlobalMaxPool1D()\n",
        "max_pool_output = max_pool(conv_1d_output) # lấy các đặc trưng quan trọng nhất\n",
        "embedding_test.shape, conv_1d_output.shape, max_pool_output.shape"
      ],
      "execution_count": null,
      "outputs": [
        {
          "output_type": "execute_result",
          "data": {
            "text/plain": [
              "(TensorShape([1, 15, 128]), TensorShape([1, 11, 32]), TensorShape([1, 32]))"
            ]
          },
          "metadata": {},
          "execution_count": 72
        }
      ]
    },
    {
      "cell_type": "markdown",
      "metadata": {
        "id": "-WzTeShEemJ2"
      },
      "source": [
        "Lưu ý shape đầu ra của mỗi layer.\n",
        "\n",
        "Embedding có kích thước shape đầu ra của các tham số được đặt thành (`input_length=15` and `output_dim=128`).\n",
        "\n",
        "Layer tích chập 1 chiều có đầu ra được nén trực tiếp với các tham số của nó. Tương tự với đầu ra của max pooling layer.\n",
        "\n",
        "Text bắt đầu ở dạng string nhưng được chuyển đổi thành một vectơ đặc trưng có độ dài 64 thông qua các bước biến đổi khác nhau (từ tokenization đến embedding đến tích chập 1 chiều đến max pool).\n",
        "\n",
        "Hãy tìm hiểu xem mỗi phép biến đổi này trông như thế nào."
      ]
    },
    {
      "cell_type": "code",
      "metadata": {
        "id": "gRcxYgs-dxM8",
        "colab": {
          "base_uri": "https://localhost:8080/"
        },
        "outputId": "33616ed5-7333-4891-d3fa-d798c64fd789"
      },
      "source": [
        "# Xem đầu ra của từng layer\n",
        "embedding_test[:1], conv_1d_output[:1], max_pool_output[:1]"
      ],
      "execution_count": null,
      "outputs": [
        {
          "output_type": "execute_result",
          "data": {
            "text/plain": [
              "(<tf.Tensor: shape=(1, 15, 128), dtype=float32, numpy=\n",
              " array([[[ 0.02534914, -0.03109061,  0.00285616, ..., -0.00783159,\n",
              "          -0.02685575, -0.0443413 ],\n",
              "         [-0.0658626 ,  0.09451495, -0.01477603, ..., -0.00657781,\n",
              "          -0.04238792,  0.07777896],\n",
              "         [-0.04803652, -0.00709756, -0.02330894, ..., -0.0180733 ,\n",
              "           0.02351036,  0.02676384],\n",
              "         ...,\n",
              "         [ 0.00073166,  0.01504797, -0.03425457, ..., -0.04403538,\n",
              "          -0.01042282,  0.01876436],\n",
              "         [ 0.00073166,  0.01504797, -0.03425457, ..., -0.04403538,\n",
              "          -0.01042282,  0.01876436],\n",
              "         [ 0.00073166,  0.01504797, -0.03425457, ..., -0.04403538,\n",
              "          -0.01042282,  0.01876436]]], dtype=float32)>,\n",
              " <tf.Tensor: shape=(1, 11, 32), dtype=float32, numpy=\n",
              " array([[[0.08324985, 0.00648716, 0.        , 0.03983572, 0.        ,\n",
              "          0.01144416, 0.00416251, 0.0228839 , 0.        , 0.00900978,\n",
              "          0.        , 0.        , 0.03401771, 0.06408274, 0.08103722,\n",
              "          0.00409014, 0.01579616, 0.        , 0.07930177, 0.        ,\n",
              "          0.        , 0.        , 0.14525084, 0.        , 0.        ,\n",
              "          0.        , 0.03682078, 0.06534287, 0.        , 0.        ,\n",
              "          0.05094624, 0.        ],\n",
              "         [0.        , 0.05387188, 0.        , 0.11491331, 0.        ,\n",
              "          0.        , 0.1623708 , 0.        , 0.        , 0.00171254,\n",
              "          0.14336711, 0.        , 0.        , 0.        , 0.        ,\n",
              "          0.01197936, 0.        , 0.        , 0.13551372, 0.0040106 ,\n",
              "          0.10309819, 0.09445544, 0.08390297, 0.        , 0.04213036,\n",
              "          0.04487597, 0.06560461, 0.        , 0.02272684, 0.        ,\n",
              "          0.        , 0.        ],\n",
              "         [0.03683221, 0.04895764, 0.        , 0.1532475 , 0.        ,\n",
              "          0.        , 0.        , 0.        , 0.        , 0.        ,\n",
              "          0.        , 0.04650313, 0.00496456, 0.07349401, 0.01608641,\n",
              "          0.        , 0.02779119, 0.        , 0.0808056 , 0.01403176,\n",
              "          0.        , 0.03768815, 0.1038278 , 0.        , 0.03361662,\n",
              "          0.        , 0.02577607, 0.00140354, 0.        , 0.        ,\n",
              "          0.03211498, 0.        ],\n",
              "         [0.0088782 , 0.10450974, 0.        , 0.06974535, 0.02328686,\n",
              "          0.        , 0.04052207, 0.        , 0.        , 0.02733764,\n",
              "          0.08674346, 0.        , 0.        , 0.06129852, 0.02007267,\n",
              "          0.        , 0.        , 0.        , 0.03364263, 0.        ,\n",
              "          0.04525332, 0.05219702, 0.06375706, 0.        , 0.        ,\n",
              "          0.00774407, 0.00273467, 0.        , 0.        , 0.00499633,\n",
              "          0.        , 0.        ],\n",
              "         [0.        , 0.02369069, 0.        , 0.05827617, 0.05297644,\n",
              "          0.        , 0.        , 0.        , 0.        , 0.        ,\n",
              "          0.01719718, 0.02936822, 0.00466103, 0.06879887, 0.01944808,\n",
              "          0.01585533, 0.01294545, 0.        , 0.06866529, 0.        ,\n",
              "          0.00623766, 0.0351405 , 0.02407533, 0.        , 0.05979815,\n",
              "          0.        , 0.01170142, 0.        , 0.        , 0.        ,\n",
              "          0.04444929, 0.        ],\n",
              "         [0.03544863, 0.        , 0.        , 0.05054973, 0.06105441,\n",
              "          0.        , 0.00997427, 0.01403005, 0.        , 0.01680727,\n",
              "          0.0314851 , 0.03889389, 0.        , 0.07710679, 0.0059097 ,\n",
              "          0.        , 0.00263033, 0.        , 0.08935824, 0.        ,\n",
              "          0.        , 0.05331149, 0.0522795 , 0.        , 0.06658384,\n",
              "          0.01881707, 0.02448696, 0.        , 0.        , 0.        ,\n",
              "          0.02008456, 0.        ],\n",
              "         [0.03544863, 0.        , 0.        , 0.05054973, 0.06105442,\n",
              "          0.        , 0.00997426, 0.01403006, 0.        , 0.01680727,\n",
              "          0.03148509, 0.03889391, 0.        , 0.07710679, 0.0059097 ,\n",
              "          0.        , 0.00263035, 0.        , 0.08935823, 0.        ,\n",
              "          0.        , 0.05331149, 0.05227951, 0.        , 0.06658384,\n",
              "          0.01881707, 0.02448694, 0.        , 0.        , 0.        ,\n",
              "          0.02008457, 0.        ],\n",
              "         [0.03544864, 0.        , 0.        , 0.05054973, 0.06105441,\n",
              "          0.        , 0.00997426, 0.01403005, 0.        , 0.01680726,\n",
              "          0.0314851 , 0.03889389, 0.        , 0.07710679, 0.0059097 ,\n",
              "          0.        , 0.00263034, 0.        , 0.08935826, 0.        ,\n",
              "          0.        , 0.0533115 , 0.0522795 , 0.        , 0.06658384,\n",
              "          0.01881707, 0.02448694, 0.        , 0.        , 0.        ,\n",
              "          0.02008457, 0.        ],\n",
              "         [0.03544863, 0.        , 0.        , 0.05054973, 0.06105442,\n",
              "          0.        , 0.00997426, 0.01403005, 0.        , 0.01680727,\n",
              "          0.0314851 , 0.0388939 , 0.        , 0.07710679, 0.0059097 ,\n",
              "          0.        , 0.00263034, 0.        , 0.08935825, 0.        ,\n",
              "          0.        , 0.05331149, 0.05227951, 0.        , 0.06658386,\n",
              "          0.01881707, 0.02448695, 0.        , 0.        , 0.        ,\n",
              "          0.02008456, 0.        ],\n",
              "         [0.03544863, 0.        , 0.        , 0.05054973, 0.0610544 ,\n",
              "          0.        , 0.00997427, 0.01403005, 0.        , 0.01680727,\n",
              "          0.0314851 , 0.0388939 , 0.        , 0.0771068 , 0.0059097 ,\n",
              "          0.        , 0.00263034, 0.        , 0.08935825, 0.        ,\n",
              "          0.        , 0.05331149, 0.05227951, 0.        , 0.06658386,\n",
              "          0.01881707, 0.02448695, 0.        , 0.        , 0.        ,\n",
              "          0.02008456, 0.        ],\n",
              "         [0.03544863, 0.        , 0.        , 0.05054973, 0.06105442,\n",
              "          0.        , 0.00997426, 0.01403006, 0.        , 0.01680726,\n",
              "          0.03148509, 0.0388939 , 0.        , 0.0771068 , 0.0059097 ,\n",
              "          0.        , 0.00263034, 0.        , 0.08935824, 0.        ,\n",
              "          0.        , 0.05331149, 0.05227952, 0.        , 0.06658386,\n",
              "          0.01881706, 0.02448695, 0.        , 0.        , 0.        ,\n",
              "          0.02008456, 0.        ]]], dtype=float32)>,\n",
              " <tf.Tensor: shape=(1, 32), dtype=float32, numpy=\n",
              " array([[0.08324985, 0.10450974, 0.        , 0.1532475 , 0.06105442,\n",
              "         0.01144416, 0.1623708 , 0.0228839 , 0.        , 0.02733764,\n",
              "         0.14336711, 0.04650313, 0.03401771, 0.0771068 , 0.08103722,\n",
              "         0.01585533, 0.02779119, 0.        , 0.13551372, 0.01403176,\n",
              "         0.10309819, 0.09445544, 0.14525084, 0.        , 0.06658386,\n",
              "         0.04487597, 0.06560461, 0.06534287, 0.02272684, 0.00499633,\n",
              "         0.05094624, 0.        ]], dtype=float32)>)"
            ]
          },
          "metadata": {},
          "execution_count": 73
        }
      ]
    },
    {
      "cell_type": "markdown",
      "metadata": {
        "id": "kMcrthJwg3B2"
      },
      "source": [
        "Chúng ta đã thấy đầu ra của một số thành phần của CNN cho chuỗi, hãy tập hợp chúng lại với nhau và xây dựng một mô hình đầy đủ, biên dịch nó (như chúng ta đã thực hiện với các mô hình khác) và nhận summary."
      ]
    },
    {
      "cell_type": "code",
      "metadata": {
        "id": "G9aphPWCYkWN",
        "colab": {
          "base_uri": "https://localhost:8080/"
        },
        "outputId": "6d723bc4-84d1-49eb-9ef9-0887364f029b"
      },
      "source": [
        "# Thiết lập random seed và tạo embedding layer (embedding layer mới cho từng mô hình)\n",
        "tf.random.set_seed(42)\n",
        "from tensorflow.keras import layers\n",
        "model_5_embedding = layers.Embedding(input_dim=max_vocab_length,\n",
        "                                     output_dim=128,\n",
        "                                     embeddings_initializer=\"uniform\",\n",
        "                                     input_length=max_length,\n",
        "                                     name=\"embedding_5\")\n",
        "\n",
        "# Tạo layer tích chập 1 chiều để lập mô hình chuỗi\n",
        "from tensorflow.keras import layers\n",
        "inputs = layers.Input(shape=(1,), dtype=\"string\")\n",
        "x = text_vectorizer(inputs)\n",
        "x = model_5_embedding(x)\n",
        "x = layers.Conv1D(filters=32, kernel_size=5, activation=\"relu\")(x)\n",
        "x = layers.GlobalMaxPool1D()(x)\n",
        "# x = layers.Dense(64, activation=\"relu\")(x) # optional dense layer\n",
        "outputs = layers.Dense(1, activation=\"sigmoid\")(x)\n",
        "model_5 = tf.keras.Model(inputs, outputs, name=\"model_5_Conv1D\")\n",
        "\n",
        "# Biên dịch mô hình Conv1D\n",
        "model_5.compile(loss=\"binary_crossentropy\",\n",
        "                optimizer=tf.keras.optimizers.Adam(),\n",
        "                metrics=[\"accuracy\"])\n",
        "\n",
        "# Nhận summary của mô hình Conv1D\n",
        "model_5.summary()"
      ],
      "execution_count": null,
      "outputs": [
        {
          "output_type": "stream",
          "name": "stdout",
          "text": [
            "Model: \"model_5_Conv1D\"\n",
            "_________________________________________________________________\n",
            "Layer (type)                 Output Shape              Param #   \n",
            "=================================================================\n",
            "input_5 (InputLayer)         [(None, 1)]               0         \n",
            "_________________________________________________________________\n",
            "text_vectorization_1 (TextVe (None, 15)                0         \n",
            "_________________________________________________________________\n",
            "embedding_5 (Embedding)      (None, 15, 128)           1280000   \n",
            "_________________________________________________________________\n",
            "conv1d_1 (Conv1D)            (None, 11, 32)            20512     \n",
            "_________________________________________________________________\n",
            "global_max_pooling1d_1 (Glob (None, 32)                0         \n",
            "_________________________________________________________________\n",
            "dense_4 (Dense)              (None, 1)                 33        \n",
            "=================================================================\n",
            "Total params: 1,300,545\n",
            "Trainable params: 1,300,545\n",
            "Non-trainable params: 0\n",
            "_________________________________________________________________\n"
          ]
        }
      ]
    },
    {
      "cell_type": "markdown",
      "metadata": {
        "id": "o1Y4BpMGh0jG"
      },
      "source": [
        "Tuyệt! Lưu ý rằng số lượng tham số có thể huấn luyện cho layer tích chập 1 chiều tương tự như của LSTM layer trong `model_2`.\n",
        "\n",
        "Hãy khớp mô hình CNN 1D với dữ liệu text. Với các thử nghiệm trước đó, chúng ta sẽ lưu kết quả bằng cách hàm `create_tensorboard_callback()`."
      ]
    },
    {
      "cell_type": "code",
      "metadata": {
        "id": "9fzlaKm1ZrMX",
        "colab": {
          "base_uri": "https://localhost:8080/"
        },
        "outputId": "544b3d97-2d9c-40a3-b0e5-51feac67a4fa"
      },
      "source": [
        "# Khớp mô hình\n",
        "model_5_history = model_5.fit(train_sentences,\n",
        "                              train_labels,\n",
        "                              epochs=5,\n",
        "                              validation_data=(val_sentences, val_labels),\n",
        "                              callbacks=[create_tensorboard_callback(SAVE_DIR,\n",
        "                                                                     \"Conv1D\")])"
      ],
      "execution_count": null,
      "outputs": [
        {
          "output_type": "stream",
          "name": "stdout",
          "text": [
            "Saving TensorBoard log files to: model_logs/Conv1D/20210923-052810\n",
            "Epoch 1/5\n",
            "215/215 [==============================] - 5s 10ms/step - loss: 0.5652 - accuracy: 0.7141 - val_loss: 0.4733 - val_accuracy: 0.7795\n",
            "Epoch 2/5\n",
            "215/215 [==============================] - 2s 7ms/step - loss: 0.3380 - accuracy: 0.8615 - val_loss: 0.4758 - val_accuracy: 0.7730\n",
            "Epoch 3/5\n",
            "215/215 [==============================] - 2s 8ms/step - loss: 0.2070 - accuracy: 0.9234 - val_loss: 0.5457 - val_accuracy: 0.7730\n",
            "Epoch 4/5\n",
            "215/215 [==============================] - 2s 7ms/step - loss: 0.1314 - accuracy: 0.9578 - val_loss: 0.6163 - val_accuracy: 0.7730\n",
            "Epoch 5/5\n",
            "215/215 [==============================] - 2s 7ms/step - loss: 0.0933 - accuracy: 0.9691 - val_loss: 0.6779 - val_accuracy: 0.7782\n"
          ]
        }
      ]
    },
    {
      "cell_type": "markdown",
      "metadata": {
        "id": "d2up-1tLiXKD"
      },
      "source": [
        "Nhờ khả năng tăng tốc GPU, mô hình Conv1D hoạt động khá tốt và nhanh. Hãy đưa ra một số dự đoán với nó và đánh giá chúng như chúng ta đã thực hiện trước đó."
      ]
    },
    {
      "cell_type": "code",
      "metadata": {
        "id": "ZHYw5GkxZ2OK",
        "colab": {
          "base_uri": "https://localhost:8080/"
        },
        "outputId": "44a902e9-9710-4854-d61d-649b7a6f5ef3"
      },
      "source": [
        "# Đưa ra dự đoán với model_5\n",
        "model_5_pred_probs = model_5.predict(val_sentences)\n",
        "model_5_pred_probs[:10]"
      ],
      "execution_count": null,
      "outputs": [
        {
          "output_type": "execute_result",
          "data": {
            "text/plain": [
              "array([[0.225345  ],\n",
              "       [0.7534112 ],\n",
              "       [0.9995602 ],\n",
              "       [0.05562792],\n",
              "       [0.01449848],\n",
              "       [0.9858518 ],\n",
              "       [0.98418933],\n",
              "       [0.99758804],\n",
              "       [0.99862623],\n",
              "       [0.26914373]], dtype=float32)"
            ]
          },
          "metadata": {},
          "execution_count": 76
        }
      ]
    },
    {
      "cell_type": "code",
      "metadata": {
        "id": "v9YqTtjiaauS",
        "colab": {
          "base_uri": "https://localhost:8080/"
        },
        "outputId": "0bb1e353-5ecc-4cdb-cd73-07911d7857c2"
      },
      "source": [
        "# Chuyển xác suất dự đoán của model_5 thành các nhãn\n",
        "model_5_preds = tf.squeeze(tf.round(model_5_pred_probs))\n",
        "model_5_preds[:10]"
      ],
      "execution_count": null,
      "outputs": [
        {
          "output_type": "execute_result",
          "data": {
            "text/plain": [
              "<tf.Tensor: shape=(10,), dtype=float32, numpy=array([0., 1., 1., 0., 0., 1., 1., 1., 1., 0.], dtype=float32)>"
            ]
          },
          "metadata": {},
          "execution_count": 77
        }
      ]
    },
    {
      "cell_type": "code",
      "metadata": {
        "id": "wMY3s1Pnaj34",
        "colab": {
          "base_uri": "https://localhost:8080/"
        },
        "outputId": "d45f024e-6352-4583-8946-bf3da8249a21"
      },
      "source": [
        "# Tính toán các phép đánh gái của model_5\n",
        "model_5_results = calculate_results(y_true=val_labels,\n",
        "                                    y_pred=model_5_preds)\n",
        "model_5_results"
      ],
      "execution_count": null,
      "outputs": [
        {
          "output_type": "execute_result",
          "data": {
            "text/plain": [
              "{'accuracy': 77.82152230971128,\n",
              " 'f1': 0.7758810170952618,\n",
              " 'precision': 0.7807522349051432,\n",
              " 'recall': 0.7782152230971129}"
            ]
          },
          "metadata": {},
          "execution_count": 78
        }
      ]
    },
    {
      "cell_type": "code",
      "metadata": {
        "id": "wRfF4B6_at8k",
        "colab": {
          "base_uri": "https://localhost:8080/"
        },
        "outputId": "8de35775-b434-4465-e63c-0066a7fa3f69"
      },
      "source": [
        "# So sánh kết quả của model_5 với baseline\n",
        "compare_baseline_to_new_results(baseline_results, model_5_results)"
      ],
      "execution_count": null,
      "outputs": [
        {
          "output_type": "stream",
          "name": "stdout",
          "text": [
            "Baseline accuracy: 79.27, New accuracy: 77.82, Difference: -1.44\n",
            "Baseline precision: 0.81, New precision: 0.78, Difference: -0.03\n",
            "Baseline recall: 0.79, New recall: 0.78, Difference: -0.01\n",
            "Baseline f1: 0.79, New f1: 0.78, Difference: -0.01\n"
          ]
        }
      ]
    },
    {
      "cell_type": "markdown",
      "metadata": {
        "id": "g_roVSSRt-7h"
      },
      "source": [
        "## Sử dụng các Embedding tiền huấn luyện (transfer learning cho NLP)\n",
        "\n",
        "Đối với tất cả các mô hình học sâu mà chúng ta đã xây dựng và huấn luyện trước đây, mỗi lần chúng ta đều tạo và sử dụng embedding từ đầu.\n",
        "\n",
        "Tuy nhiên, thực tế chúng ta sẽ tận dụng embedding được huấn luyện trước thông qua **transfer learning**. Đây là một trong những lợi ích chính của việc sử dụng mô hình sâu: có thể lấy những gì một mô hình (thường lớn hơn) đã học được (thường trên nhiều dữ liệu) và điều chỉnh cho trường hợp sử dụng của chúng ta.\n",
        "\n",
        "Với mô hình tiếp theo, thay vì sử dụng embedding layer của chúng ta, hãy sử dụng một embedding layer đã huấn luyện trước.\n",
        "\n",
        "Cụ thể hơn, chúng ta sẽ sử dụng [Universal Sentence Encoder](https://www.aclweb.org/anthology/D18-2029.pdf) từ [TensorFlow Hub](https://tfhub.dev/google/universal-sentence-encoder/4) (một nguồn dữ liệu tuyệt vời chứa rất nhiều tài liệu mô hình đã huấn luyện trước cho nhiều tác vụ khác nhau).\n",
        "\n",
        "> 🔑 **Lưu ý:** Có nhiều tùy chọn text embedding đã huấn luyện trước khác nhau trên TensorFlow Hub, tuy nhiên, một số tùy chọn yêu các cấp độ tiền xử lý văn bản khác với các tùy chọn còn lại. Tốt nhất hãy thử nghiệm với một số tùy chọn và xem cái nào phù hợp nhất với trường hợp của bạn.\n",
        "\n"
      ]
    },
    {
      "cell_type": "markdown",
      "metadata": {
        "id": "R-NQ2MA5GZBo"
      },
      "source": [
        "### Model 6: TensorFlow Hub Pretrained Sentence Encoder\n",
        "\n",
        "Khác biệt chính giữa embedding layer mà chúng ta đã tạo và Universal Sentence Encoder là thay vì tạo word-level embedding, Universal Sentence Encoder tạo ra sentence-level embedding.\n",
        "\n",
        "Embedding layer của chúng ta cũng xuất ra một vectơ 128 chiều cho mỗi từ, trong khi đó Universal Sentence Encoder xuất ra một vectơ 512 chiều cho mỗi câu.\n",
        "\n",
        "![](https://raw.githubusercontent.com/mrdbourke/tensorflow-deep-learning/main/images/08-USE-tensorflow-hub-encoder-decoder-model.png)\n",
        "*Mô hình feature extractor mà chúng ta đang xây dựng thông qua mô hình **encoder/decoder**.*\n",
        "\n",
        "> 🔑 **Lưu ý:** **Encoder** là tên gọi của một mô hình chuyển đổi dữ liệu thô như text thành biểu diễn số (vectơ đặc trưng), **decoder** chuyển đổi biểu diễn số thành đầu ra mong muốn.\n",
        "\n",
        "Như thường lệ, hãy minh họa điều này bằng một ví dụ.\n",
        "\n",
        "Chúng ta có thể load mô-đun TensorFlow Hub bằng phương thức [`hub.load()`](https://www.tensorflow.org/hub/api_docs/python/hub/load) và chuyển cho nó URL đích của mô-đun mà chúng ta muốn sử dụng, trong trường hợp này là \"https://tfhub.dev/google/universal-sentence-encoder/4\".\n",
        "\n",
        "Hãy load mô hình Universal Sentence Encoder và kiểm tra nó với một vài câu."
      ]
    },
    {
      "cell_type": "code",
      "metadata": {
        "id": "7piW5jtxbUkV",
        "colab": {
          "base_uri": "https://localhost:8080/"
        },
        "outputId": "fc509df1-e7a6-4145-82ca-674785ac5257"
      },
      "source": [
        "# Ví dụ về embedding đã huấn luyện trước với universal sentence encoder - https://tfhub.dev/google/universal-sentence-encoder/4\n",
        "import tensorflow_hub as hub\n",
        "embed = hub.load(\"https://tfhub.dev/google/universal-sentence-encoder/4\") # load Universal Sentence Encoder\n",
        "embed_samples = embed([sample_sentence,\n",
        "                      \"When you call the universal sentence encoder on a sentence, it turns it into numbers.\"])\n",
        "\n",
        "print(embed_samples[0][:50])"
      ],
      "execution_count": null,
      "outputs": [
        {
          "output_type": "stream",
          "name": "stdout",
          "text": [
            "tf.Tensor(\n",
            "[-0.01157024  0.0248591   0.0287805  -0.01271502  0.03971543  0.08827759\n",
            "  0.02680986  0.05589837 -0.01068731 -0.0059729   0.00639324 -0.01819523\n",
            "  0.00030817  0.09105891  0.05874644 -0.03180627  0.01512476 -0.05162928\n",
            "  0.00991369 -0.06865346 -0.04209306  0.0267898   0.03011008  0.00321069\n",
            " -0.00337969 -0.04787359  0.02266718 -0.00985924 -0.04063614 -0.01292095\n",
            " -0.04666384  0.056303   -0.03949255  0.00517685  0.02495828 -0.07014439\n",
            "  0.02871508  0.04947682 -0.00633971 -0.08960191  0.02807117 -0.00808362\n",
            " -0.01360601  0.05998649 -0.10361786 -0.05195372  0.00232955 -0.02332528\n",
            " -0.03758105  0.0332773 ], shape=(50,), dtype=float32)\n"
          ]
        }
      ]
    },
    {
      "cell_type": "code",
      "metadata": {
        "id": "vvArnKkGb4vu",
        "colab": {
          "base_uri": "https://localhost:8080/"
        },
        "outputId": "67d73b29-193e-4e95-bd8d-e071b551ec3b"
      },
      "source": [
        "# Mỗi câu được mã hóa thành một vectơ 512 chiều\n",
        "embed_samples[0].shape"
      ],
      "execution_count": null,
      "outputs": [
        {
          "output_type": "execute_result",
          "data": {
            "text/plain": [
              "TensorShape([512])"
            ]
          },
          "metadata": {},
          "execution_count": 81
        }
      ]
    },
    {
      "cell_type": "markdown",
      "metadata": {
        "id": "ZxYFDkGD-XjF"
      },
      "source": [
        "Chuyển các câu của chúng ta tới Universal Sentence Encoder (USE), mã hóa chúng từ string thành vectơ 512 chiều, điều này không có ý nghĩa gì đối với chúng ta nhưng hy vọng có ý nghĩa với các mô hình học máy.\n",
        "\n",
        "Hãy xây dựng một mô hình với embedding layer là USE.\n",
        "\n",
        "Chúng ta có thể chuyển đổi mô-đun TensorFlow Hub USE thành một Keras layer bằng lớp [`hub.KerasLayer`](https://www.tensorflow.org/hub/api_docs/python/hub/KerasLayer) .\n",
        "\n",
        "> 🔑 **Lưu ý:** Do kích thước của mô-đun USE TensorFlow Hub, nên việc download sẽ có thể tốn một chút thời gian. Sau khi đã download, nó sẽ được lưu vào bộ nhớ đệm và sẵn sàng sử dụng. Cũng như với nhiều mô-đun TensorFlow Hub khác, có [phiên bản USE \"lite\"](https://tfhub.dev/google/universal-sentence-encoder-lite/2) chiếm ít dung lượng hơn nhưng cần hiệu suất và yêu cầu nhiều bước tiền xử lý hơn. Tuy nhiên, tùy thuộc vào công suất máy tính hiện có, phiên bản lite có thể tốt hơn cho trường hợp sử dụng ứng dụng của bạn."
      ]
    },
    {
      "cell_type": "code",
      "metadata": {
        "id": "ZcbBj0aXqrs9"
      },
      "source": [
        "# Chúng ta có thể sử dụng layer mã hóa này thay cho text_vectorizer và embedding layer\n",
        "sentence_encoder_layer = hub.KerasLayer(\"https://tfhub.dev/google/universal-sentence-encoder/4\",\n",
        "                                        input_shape=[], # shape của đầu vào đi vào mô hình\n",
        "                                        dtype=tf.string, # kiểu dữ liệu của đầu vào đi vào USE layer\n",
        "                                        trainable=False, # giữ các trọng số huấn luyện trước (chúng ta sẽ tạo feature extractor)\n",
        "                                        name=\"USE\")"
      ],
      "execution_count": null,
      "outputs": []
    },
    {
      "cell_type": "markdown",
      "metadata": {
        "id": "WvjQl4p7BO_A"
      },
      "source": [
        "Tuyệt! Bây giờ USE đã là Keras layer, chúng ta có thể sử dụng nó trong một mô hình Keras Sequential."
      ]
    },
    {
      "cell_type": "code",
      "metadata": {
        "id": "M_pjIvPuYltA",
        "colab": {
          "base_uri": "https://localhost:8080/"
        },
        "outputId": "141cb32c-b1a7-46e8-8b95-12c7ec4d589e"
      },
      "source": [
        "# Tạo mô hình sử dụng Sequential API\n",
        "model_6 = tf.keras.Sequential([\n",
        "  sentence_encoder_layer, # nhập các câu rồi mã hóa chúng thành embedding\n",
        "  layers.Dense(64, activation=\"relu\"),\n",
        "  layers.Dense(1, activation=\"sigmoid\")\n",
        "], name=\"model_6_USE\")\n",
        "\n",
        "# Biên dịch mô hình\n",
        "model_6.compile(loss=\"binary_crossentropy\",\n",
        "                optimizer=tf.keras.optimizers.Adam(),\n",
        "                metrics=[\"accuracy\"])\n",
        "\n",
        "model_6.summary()"
      ],
      "execution_count": null,
      "outputs": [
        {
          "output_type": "stream",
          "name": "stdout",
          "text": [
            "Model: \"model_6_USE\"\n",
            "_________________________________________________________________\n",
            "Layer (type)                 Output Shape              Param #   \n",
            "=================================================================\n",
            "USE (KerasLayer)             (None, 512)               256797824 \n",
            "_________________________________________________________________\n",
            "dense_5 (Dense)              (None, 64)                32832     \n",
            "_________________________________________________________________\n",
            "dense_6 (Dense)              (None, 1)                 65        \n",
            "=================================================================\n",
            "Total params: 256,830,721\n",
            "Trainable params: 32,897\n",
            "Non-trainable params: 256,797,824\n",
            "_________________________________________________________________\n"
          ]
        }
      ]
    },
    {
      "cell_type": "markdown",
      "metadata": {
        "id": "yukgxOgCCR2Z"
      },
      "source": [
        "Chú ý số lượng tham số trong USE layer, đây là những trọng số được huấn luyện trước mà nó học được từ các nguồn văn bản khác nhau (Wikipedia, tin tức trên web, diễn đàn Q&A trên mạng,... Xem [tài liệu Universal Sentence Encoder](https://www.aclweb.org/anthology/D18-2029.pdf) để tìm hiểu thêm).\n",
        "\n",
        "Các tham số có thể huấn luyện chỉ nằm ở các layer đầu ra, nói cách khác, chúng ta đang duy trì đóng băng các trọng số của USE và sử dụng nó làm feature-extractor. Chúng ta có thể tinh chỉnh các trọng số này bằng cách đặt `trainable=True` khi tạo instance `hub.KerasLayer`.\n",
        "\n",
        "Một mô hình feature extractor đã sẵn sàng, hãy huấn luyện nó và theo dõi kết quả vào TensorBoard bằng cách sử dụng hàm `create_tensorboard_callback()`."
      ]
    },
    {
      "cell_type": "code",
      "metadata": {
        "id": "uX9S0YvafybG",
        "colab": {
          "base_uri": "https://localhost:8080/"
        },
        "outputId": "f4c3c8d1-b3cf-4c87-dd75-2ed786b5e5d5"
      },
      "source": [
        "# Huấn luyện bộ phân loại trên các embedding đã huấn luyện trước\n",
        "model_6_history = model_6.fit(train_sentences,\n",
        "                              train_labels,\n",
        "                              epochs=5,\n",
        "                              validation_data=(val_sentences, val_labels),\n",
        "                              callbacks=[create_tensorboard_callback(SAVE_DIR,\n",
        "                                                                     \"tf_hub_sentence_encoder\")])"
      ],
      "execution_count": null,
      "outputs": [
        {
          "output_type": "stream",
          "name": "stdout",
          "text": [
            "Saving TensorBoard log files to: model_logs/tf_hub_sentence_encoder/20210923-052854\n",
            "Epoch 1/5\n",
            "215/215 [==============================] - 10s 32ms/step - loss: 0.5008 - accuracy: 0.7892 - val_loss: 0.4478 - val_accuracy: 0.7966\n",
            "Epoch 2/5\n",
            "215/215 [==============================] - 4s 19ms/step - loss: 0.4144 - accuracy: 0.8133 - val_loss: 0.4369 - val_accuracy: 0.8058\n",
            "Epoch 3/5\n",
            "215/215 [==============================] - 4s 19ms/step - loss: 0.3998 - accuracy: 0.8212 - val_loss: 0.4329 - val_accuracy: 0.8110\n",
            "Epoch 4/5\n",
            "215/215 [==============================] - 4s 18ms/step - loss: 0.3925 - accuracy: 0.8266 - val_loss: 0.4288 - val_accuracy: 0.8110\n",
            "Epoch 5/5\n",
            "215/215 [==============================] - 4s 17ms/step - loss: 0.3860 - accuracy: 0.8276 - val_loss: 0.4309 - val_accuracy: 0.8123\n"
          ]
        }
      ]
    },
    {
      "cell_type": "markdown",
      "metadata": {
        "id": "KeI0kvVVDmbl"
      },
      "source": [
        "Mô hình USE đã được huấn luyện! Hãy đưa ra một số dự đoán với nó và đánh giá như chúng ta đã thực hiện với các mô hình khác."
      ]
    },
    {
      "cell_type": "code",
      "metadata": {
        "id": "xeyNXqU-gM2p",
        "colab": {
          "base_uri": "https://localhost:8080/"
        },
        "outputId": "cbbc27f6-ee98-4633-f703-7a186fc6c932"
      },
      "source": [
        "# Đưa ra dự đoán với mô hình USE TF Hub\n",
        "model_6_pred_probs = model_6.predict(val_sentences)\n",
        "model_6_pred_probs[:10]"
      ],
      "execution_count": null,
      "outputs": [
        {
          "output_type": "execute_result",
          "data": {
            "text/plain": [
              "array([[0.14443193],\n",
              "       [0.7271502 ],\n",
              "       [0.9856655 ],\n",
              "       [0.19740924],\n",
              "       [0.73417026],\n",
              "       [0.6859663 ],\n",
              "       [0.9808888 ],\n",
              "       [0.97411025],\n",
              "       [0.91573215],\n",
              "       [0.08070081]], dtype=float32)"
            ]
          },
          "metadata": {},
          "execution_count": 85
        }
      ]
    },
    {
      "cell_type": "code",
      "metadata": {
        "id": "Gbn1Z0FfgVdx",
        "colab": {
          "base_uri": "https://localhost:8080/"
        },
        "outputId": "101ab428-2f85-42a0-b308-feb7888f8b5d"
      },
      "source": [
        "# Chuyển đổi xác suất dự đoán thành các nhãn\n",
        "model_6_preds = tf.squeeze(tf.round(model_6_pred_probs))\n",
        "model_6_preds[:10]"
      ],
      "execution_count": null,
      "outputs": [
        {
          "output_type": "execute_result",
          "data": {
            "text/plain": [
              "<tf.Tensor: shape=(10,), dtype=float32, numpy=array([0., 1., 1., 0., 1., 1., 1., 1., 1., 0.], dtype=float32)>"
            ]
          },
          "metadata": {},
          "execution_count": 86
        }
      ]
    },
    {
      "cell_type": "code",
      "metadata": {
        "id": "N2Ow2de3okcb",
        "colab": {
          "base_uri": "https://localhost:8080/"
        },
        "outputId": "0b82286e-5589-4ddc-8982-d1dd0da78f49"
      },
      "source": [
        "# Tính toán các phép đo chất lượng của model 6\n",
        "model_6_results = calculate_results(val_labels, model_6_preds)\n",
        "model_6_results"
      ],
      "execution_count": null,
      "outputs": [
        {
          "output_type": "execute_result",
          "data": {
            "text/plain": [
              "{'accuracy': 81.23359580052494,\n",
              " 'f1': 0.810686575717776,\n",
              " 'precision': 0.8148798668657973,\n",
              " 'recall': 0.8123359580052494}"
            ]
          },
          "metadata": {},
          "execution_count": 87
        }
      ]
    },
    {
      "cell_type": "code",
      "metadata": {
        "id": "-BHnRHHHgp1r",
        "colab": {
          "base_uri": "https://localhost:8080/"
        },
        "outputId": "0ab489c1-4f16-428d-b391-46a95f10c044"
      },
      "source": [
        "# So sánh mô hình TF Hub với baseline\n",
        "compare_baseline_to_new_results(baseline_results, model_6_results)"
      ],
      "execution_count": null,
      "outputs": [
        {
          "output_type": "stream",
          "name": "stdout",
          "text": [
            "Baseline accuracy: 79.27, New accuracy: 81.23, Difference: 1.97\n",
            "Baseline precision: 0.81, New precision: 0.81, Difference: 0.00\n",
            "Baseline recall: 0.79, New recall: 0.81, Difference: 0.02\n",
            "Baseline f1: 0.79, New f1: 0.81, Difference: 0.02\n"
          ]
        }
      ]
    },
    {
      "cell_type": "markdown",
      "metadata": {
        "id": "LHwu4QjijYWG"
      },
      "source": [
        "### Model 7: TensorFlow Hub Pretrained Sentence Encoder với 10% dữ liệu huấn luyện\n",
        "\n",
        "Một trong những lợi ích của việc sử dụng các phương pháp transfer learning, chẳng hạn như embedding đã huấn luyện trước trong USE là khả năng nhận được kết quả tốt với ít dữ liệu (tài liệu của USE đã đề cập đến vấn đề này ở phần tóm tắt).\n",
        "\n",
        "Để thử nghiệm điều này, chúng ta sẽ tạo một tập hợp con dữ liệu huấn luyện (10%), huấn luyện mô hình và đánh giá nó."
      ]
    },
    {
      "cell_type": "code",
      "metadata": {
        "id": "W5Sal8DpjzWm"
      },
      "source": [
        "### Lưu ý: Việc chia tách như vậy sẽ dẫn đến rò rỉ dữ liệu ###\n",
        "### (một số mẫu huấn luyện trong tập kiểm định) ###\n",
        "\n",
        "### CHIA TÁCH SAI CÁCH (train_df_shuffled đã được phân tách) ###\n",
        "\n",
        "# # Tạo tập hợp con có 10% dữ liệu huấn luyện\n",
        "# train_10_percent = train_df_shuffled[[\"text\", \"target\"]].sample(frac=0.1, random_state=42)\n",
        "# train_sentences_10_percent = train_10_percent[\"text\"].to_list()\n",
        "# train_labels_10_percent = train_10_percent[\"target\"].to_list()\n",
        "# len(train_sentences_10_percent), len(train_labels_10_percent)"
      ],
      "execution_count": null,
      "outputs": []
    },
    {
      "cell_type": "code",
      "metadata": {
        "id": "XHgowC3GUPJH"
      },
      "source": [
        "# Một cách thực hiện đúng (còn nhiều cách khác) để tạo tập dữ liệu con\n",
        "# (tách train_sentences/train_labels đã được phân tách)\n",
        "train_sentences_90_percent, train_sentences_10_percent, train_labels_90_percent, train_labels_10_percent = train_test_split(np.array(train_sentences),\n",
        "                                                                                                                            train_labels,\n",
        "                                                                                                                            test_size=0.1,\n",
        "                                                                                                                            random_state=42)\n"
      ],
      "execution_count": null,
      "outputs": []
    },
    {
      "cell_type": "code",
      "metadata": {
        "colab": {
          "base_uri": "https://localhost:8080/"
        },
        "id": "j8jaydmiVnJP",
        "outputId": "17634293-52c5-4a51-e4ef-b5521d339bb3"
      },
      "source": [
        "# Kiểm tra độ dài của tập dữ liệu 10%\n",
        "print(f\"Total training examples: {len(train_sentences)}\")\n",
        "print(f\"Length of 10% training examples: {len(train_sentences_10_percent)}\")"
      ],
      "execution_count": null,
      "outputs": [
        {
          "output_type": "stream",
          "name": "stdout",
          "text": [
            "Total training examples: 6851\n",
            "Length of 10% training examples: 686\n"
          ]
        }
      ]
    },
    {
      "cell_type": "markdown",
      "metadata": {
        "id": "7E2jr7rSEYT8"
      },
      "source": [
        "Do chúng ta đã chọn một tập hợp con ngẫu nhiên của các mẫu huấn luyện, cho nên các lớp gần như đều cân bằng (vì chúng nằm trong tập dữ liệu huấn luyện đầy đủ)."
      ]
    },
    {
      "cell_type": "code",
      "metadata": {
        "id": "V0lEpFT0k0RB",
        "colab": {
          "base_uri": "https://localhost:8080/"
        },
        "outputId": "140c4560-e0a5-472e-bdc2-47374fe7f95e"
      },
      "source": [
        "# Kiểm tra số lượng mục tiêu trong tập con dữ liệu\n",
        "# (điều này phải gần với phân phối của các nhãn trong train_labels ban đầu)\n",
        "pd.Series(train_labels_10_percent).value_counts()"
      ],
      "execution_count": null,
      "outputs": [
        {
          "output_type": "execute_result",
          "data": {
            "text/plain": [
              "0    415\n",
              "1    271\n",
              "dtype: int64"
            ]
          },
          "metadata": {},
          "execution_count": 92
        }
      ]
    },
    {
      "cell_type": "markdown",
      "metadata": {
        "id": "ghl1qeGOEnXG"
      },
      "source": [
        "Để có thể so sánh thích hợp giữa khả năng học hỏi từ tập huấn luyện đầy đủ và tập hợp con 10% của mô hình, chúng ta sẽ clone mô hình USE (`model_6`) bằng cách sử dụng phương thức [`tf.keras.models.clone_model()`](https://www.tensorflow.org/api_docs/python/tf/keras/models/clone_model).\n",
        "\n",
        "Thực hiện như vậy sẽ tạo ra một kiến trúc tương tự, nhưng thiết lập lại các trọng số đã học của mục tiêu clone (các trọng số đã huấn luyện trước từ USE vẫn còn nhưng tất cả các trọng số khác sẽ được thiết lập lại)."
      ]
    },
    {
      "cell_type": "code",
      "metadata": {
        "id": "PGmxeAOBjdg2",
        "colab": {
          "base_uri": "https://localhost:8080/"
        },
        "outputId": "2c321240-d2c1-4afe-e8a0-fa35fe64038e"
      },
      "source": [
        "# Clone model_6 nhưng thiết lập lại các trọng số\n",
        "model_7 = tf.keras.models.clone_model(model_6)\n",
        "\n",
        "# Biên dịch mô hình\n",
        "model_7.compile(loss=\"binary_crossentropy\",\n",
        "                optimizer=tf.keras.optimizers.Adam(),\n",
        "                metrics=[\"accuracy\"])\n",
        "\n",
        "# Lấy summary (giống với model_6)\n",
        "model_7.summary()"
      ],
      "execution_count": null,
      "outputs": [
        {
          "output_type": "stream",
          "name": "stdout",
          "text": [
            "Model: \"model_6_USE\"\n",
            "_________________________________________________________________\n",
            "Layer (type)                 Output Shape              Param #   \n",
            "=================================================================\n",
            "USE (KerasLayer)             (None, 512)               256797824 \n",
            "_________________________________________________________________\n",
            "dense_5 (Dense)              (None, 64)                32832     \n",
            "_________________________________________________________________\n",
            "dense_6 (Dense)              (None, 1)                 65        \n",
            "=================================================================\n",
            "Total params: 256,830,721\n",
            "Trainable params: 32,897\n",
            "Non-trainable params: 256,797,824\n",
            "_________________________________________________________________\n"
          ]
        }
      ]
    },
    {
      "cell_type": "markdown",
      "metadata": {
        "id": "LxFkEM_aFoLK"
      },
      "source": [
        "Notice the layout of `model_7` is the same as `model_6`. Now let's train the newly created model on our 10% training data subset. Lưu ý rằng kiến trúc của `model_7` giống với `model_6`. Bây giờ, hãy huấn luyện mô hình mới tạo trên tập con dữ liệu huấn luyện 10%."
      ]
    },
    {
      "cell_type": "code",
      "metadata": {
        "id": "LklU2maOkgUF",
        "colab": {
          "base_uri": "https://localhost:8080/"
        },
        "outputId": "65c50e4b-73f1-4012-af7a-f6ec5e2a1591"
      },
      "source": [
        "# Khớp mô hình với 10% dữ liệu huấn luyện\n",
        "model_7_history = model_7.fit(x=train_sentences_10_percent,\n",
        "                              y=train_labels_10_percent,\n",
        "                              epochs=5,\n",
        "                              validation_data=(val_sentences, val_labels),\n",
        "                              callbacks=[create_tensorboard_callback(SAVE_DIR, \"10_percent_tf_hub_sentence_encoder\")])"
      ],
      "execution_count": null,
      "outputs": [
        {
          "output_type": "stream",
          "name": "stdout",
          "text": [
            "Saving TensorBoard log files to: model_logs/10_percent_tf_hub_sentence_encoder/20210923-052925\n",
            "Epoch 1/5\n",
            "22/22 [==============================] - 6s 147ms/step - loss: 0.6716 - accuracy: 0.6574 - val_loss: 0.6526 - val_accuracy: 0.6903\n",
            "Epoch 2/5\n",
            "22/22 [==============================] - 1s 47ms/step - loss: 0.5972 - accuracy: 0.8032 - val_loss: 0.5944 - val_accuracy: 0.7362\n",
            "Epoch 3/5\n",
            "22/22 [==============================] - 1s 45ms/step - loss: 0.5178 - accuracy: 0.8149 - val_loss: 0.5398 - val_accuracy: 0.7625\n",
            "Epoch 4/5\n",
            "22/22 [==============================] - 1s 31ms/step - loss: 0.4526 - accuracy: 0.8265 - val_loss: 0.5084 - val_accuracy: 0.7677\n",
            "Epoch 5/5\n",
            "22/22 [==============================] - 1s 46ms/step - loss: 0.4094 - accuracy: 0.8382 - val_loss: 0.4915 - val_accuracy: 0.7703\n"
          ]
        }
      ]
    },
    {
      "cell_type": "markdown",
      "metadata": {
        "id": "9Qpyqdh-F6Eh"
      },
      "source": [
        "Do có ít dữ liệu huấn luyện hơn nên việc huấn luyện diễn ra nhanh hơn trước.\n",
        "\n",
        "Hãy đánh giá chất lượng của mô hình sau khi học trên 10% dữ liệu huấn luyện."
      ]
    },
    {
      "cell_type": "code",
      "metadata": {
        "id": "ot6MRnznlgCL",
        "colab": {
          "base_uri": "https://localhost:8080/"
        },
        "outputId": "3e9b410c-117c-4292-b33e-206ebf4de1a9"
      },
      "source": [
        "# Đưa ra dự đoán với mô hình đã huấn luyện trên 10% dữ liệu\n",
        "model_7_pred_probs = model_7.predict(val_sentences)\n",
        "model_7_pred_probs[:10]"
      ],
      "execution_count": null,
      "outputs": [
        {
          "output_type": "execute_result",
          "data": {
            "text/plain": [
              "array([[0.24043235],\n",
              "       [0.76837844],\n",
              "       [0.90137184],\n",
              "       [0.29067948],\n",
              "       [0.57149994],\n",
              "       [0.8356514 ],\n",
              "       [0.8062943 ],\n",
              "       [0.83358175],\n",
              "       [0.85545677],\n",
              "       [0.11749928]], dtype=float32)"
            ]
          },
          "metadata": {},
          "execution_count": 95
        }
      ]
    },
    {
      "cell_type": "code",
      "metadata": {
        "id": "Vj_4aZellpRu",
        "colab": {
          "base_uri": "https://localhost:8080/"
        },
        "outputId": "6ce5ceab-3cbf-4d0d-c762-f4c3893affe1"
      },
      "source": [
        "# Chuyển đổi xác suất dự đoán thành các nhãn\n",
        "model_7_preds = tf.squeeze(tf.round(model_7_pred_probs))\n",
        "model_7_preds[:10]"
      ],
      "execution_count": null,
      "outputs": [
        {
          "output_type": "execute_result",
          "data": {
            "text/plain": [
              "<tf.Tensor: shape=(10,), dtype=float32, numpy=array([0., 1., 1., 0., 1., 1., 1., 1., 1., 0.], dtype=float32)>"
            ]
          },
          "metadata": {},
          "execution_count": 96
        }
      ]
    },
    {
      "cell_type": "code",
      "metadata": {
        "id": "T_lTXrDblyva",
        "colab": {
          "base_uri": "https://localhost:8080/"
        },
        "outputId": "ad1a4228-9944-4e17-ecae-6c864c3a51fa"
      },
      "source": [
        "# Tính toán các kết quả của mô hình\n",
        "model_7_results = calculate_results(val_labels, model_7_preds)\n",
        "model_7_results"
      ],
      "execution_count": null,
      "outputs": [
        {
          "output_type": "execute_result",
          "data": {
            "text/plain": [
              "{'accuracy': 77.03412073490814,\n",
              " 'f1': 0.7667059443150692,\n",
              " 'precision': 0.7755630249535594,\n",
              " 'recall': 0.7703412073490814}"
            ]
          },
          "metadata": {},
          "execution_count": 97
        }
      ]
    },
    {
      "cell_type": "code",
      "metadata": {
        "id": "G84ezltll6DT",
        "colab": {
          "base_uri": "https://localhost:8080/"
        },
        "outputId": "3d966d5b-0c50-48e9-bb29-1e55063a06e8"
      },
      "source": [
        "# So sánh với mô hình cơ sở\n",
        "compare_baseline_to_new_results(baseline_results, model_7_results)"
      ],
      "execution_count": null,
      "outputs": [
        {
          "output_type": "stream",
          "name": "stdout",
          "text": [
            "Baseline accuracy: 79.27, New accuracy: 77.03, Difference: -2.23\n",
            "Baseline precision: 0.81, New precision: 0.78, Difference: -0.04\n",
            "Baseline recall: 0.79, New recall: 0.77, Difference: -0.02\n",
            "Baseline f1: 0.79, New f1: 0.77, Difference: -0.02\n"
          ]
        }
      ]
    },
    {
      "cell_type": "markdown",
      "metadata": {
        "id": "iBs9V61EGh0J"
      },
      "source": [
        "## So sánh chất lượng của từng mô hình\n",
        "\n",
        "Chúng ta đã đi được một chặng đường dài, từ huấn luyện mô hình cơ sở đến một số mô hình sâu.\n",
        "\n",
        "Đã đến lúc so sánh kết quả của các mô hình.\n",
        "\n",
        "Tuy nhiên, trước khi tiến hành thực hiện, tôi muốn đề cập rằng đây là một quy trình học sâu tiêu chuẩn: huấn luyện nhiều mô hình khác nhau, sau đó so sánh chúng để xem mô hình nào hoạt động tốt nhất và tiếp tục huấn luyện nếu cần.\n",
        "\n",
        "Cần lưu ý là đối với tất cả các thử nghiệm lập mô hình, chúng ta đã sử dụng cùng một dữ liệu huấn luyện (ngoại trừ `model_7`, ở mô hình này, chúng ta đã sử dụng 10% dữ liệu huấn luyện).\n",
        "\n",
        "Để hiển thị chất lượng của mô hình, hãy tạo pandas DataFrame, dictionary chứa kết quả rồi vẽ biểu đồ."
      ]
    },
    {
      "cell_type": "code",
      "metadata": {
        "id": "Ex0NSaz7lRf-",
        "colab": {
          "base_uri": "https://localhost:8080/",
          "height": 297
        },
        "outputId": "421ea5ed-744d-4bc8-a0fb-b79e367f5ec3"
      },
      "source": [
        "# Kết hợp các kết quả của mô hình thành một DataFrame\n",
        "all_model_results = pd.DataFrame({\"baseline\": baseline_results,\n",
        "                                  \"simple_dense\": model_1_results,\n",
        "                                  \"lstm\": model_2_results,\n",
        "                                  \"gru\": model_3_results,\n",
        "                                  \"bidirectional\": model_4_results,\n",
        "                                  \"conv1d\": model_5_results,\n",
        "                                  \"tf_hub_sentence_encoder\": model_6_results,\n",
        "                                  \"tf_hub_10_percent_data\": model_7_results})\n",
        "all_model_results = all_model_results.transpose()\n",
        "all_model_results"
      ],
      "execution_count": null,
      "outputs": [
        {
          "output_type": "execute_result",
          "data": {
            "text/html": [
              "<div>\n",
              "<style scoped>\n",
              "    .dataframe tbody tr th:only-of-type {\n",
              "        vertical-align: middle;\n",
              "    }\n",
              "\n",
              "    .dataframe tbody tr th {\n",
              "        vertical-align: top;\n",
              "    }\n",
              "\n",
              "    .dataframe thead th {\n",
              "        text-align: right;\n",
              "    }\n",
              "</style>\n",
              "<table border=\"1\" class=\"dataframe\">\n",
              "  <thead>\n",
              "    <tr style=\"text-align: right;\">\n",
              "      <th></th>\n",
              "      <th>accuracy</th>\n",
              "      <th>precision</th>\n",
              "      <th>recall</th>\n",
              "      <th>f1</th>\n",
              "    </tr>\n",
              "  </thead>\n",
              "  <tbody>\n",
              "    <tr>\n",
              "      <th>baseline</th>\n",
              "      <td>79.265092</td>\n",
              "      <td>0.811139</td>\n",
              "      <td>0.792651</td>\n",
              "      <td>0.786219</td>\n",
              "    </tr>\n",
              "    <tr>\n",
              "      <th>simple_dense</th>\n",
              "      <td>78.740157</td>\n",
              "      <td>0.791492</td>\n",
              "      <td>0.787402</td>\n",
              "      <td>0.784697</td>\n",
              "    </tr>\n",
              "    <tr>\n",
              "      <th>lstm</th>\n",
              "      <td>75.065617</td>\n",
              "      <td>0.751008</td>\n",
              "      <td>0.750656</td>\n",
              "      <td>0.748927</td>\n",
              "    </tr>\n",
              "    <tr>\n",
              "      <th>gru</th>\n",
              "      <td>76.771654</td>\n",
              "      <td>0.767545</td>\n",
              "      <td>0.767717</td>\n",
              "      <td>0.766793</td>\n",
              "    </tr>\n",
              "    <tr>\n",
              "      <th>bidirectional</th>\n",
              "      <td>76.640420</td>\n",
              "      <td>0.766590</td>\n",
              "      <td>0.766404</td>\n",
              "      <td>0.765121</td>\n",
              "    </tr>\n",
              "    <tr>\n",
              "      <th>conv1d</th>\n",
              "      <td>77.821522</td>\n",
              "      <td>0.780752</td>\n",
              "      <td>0.778215</td>\n",
              "      <td>0.775881</td>\n",
              "    </tr>\n",
              "    <tr>\n",
              "      <th>tf_hub_sentence_encoder</th>\n",
              "      <td>81.233596</td>\n",
              "      <td>0.814880</td>\n",
              "      <td>0.812336</td>\n",
              "      <td>0.810687</td>\n",
              "    </tr>\n",
              "    <tr>\n",
              "      <th>tf_hub_10_percent_data</th>\n",
              "      <td>77.034121</td>\n",
              "      <td>0.775563</td>\n",
              "      <td>0.770341</td>\n",
              "      <td>0.766706</td>\n",
              "    </tr>\n",
              "  </tbody>\n",
              "</table>\n",
              "</div>"
            ],
            "text/plain": [
              "                          accuracy  precision    recall        f1\n",
              "baseline                 79.265092   0.811139  0.792651  0.786219\n",
              "simple_dense             78.740157   0.791492  0.787402  0.784697\n",
              "lstm                     75.065617   0.751008  0.750656  0.748927\n",
              "gru                      76.771654   0.767545  0.767717  0.766793\n",
              "bidirectional            76.640420   0.766590  0.766404  0.765121\n",
              "conv1d                   77.821522   0.780752  0.778215  0.775881\n",
              "tf_hub_sentence_encoder  81.233596   0.814880  0.812336  0.810687\n",
              "tf_hub_10_percent_data   77.034121   0.775563  0.770341  0.766706"
            ]
          },
          "metadata": {},
          "execution_count": 99
        }
      ]
    },
    {
      "cell_type": "code",
      "metadata": {
        "id": "v-s2DSLpmM1F"
      },
      "source": [
        "# Giảm accuracy xuống cùng tỷ lệ với các phép đo khác\n",
        "all_model_results[\"accuracy\"] = all_model_results[\"accuracy\"]/100"
      ],
      "execution_count": null,
      "outputs": []
    },
    {
      "cell_type": "code",
      "metadata": {
        "id": "Wp69bR8umD5g",
        "colab": {
          "base_uri": "https://localhost:8080/",
          "height": 546
        },
        "outputId": "cb7ae0e4-2a9c-4ef3-d23a-a9a93a6a992d"
      },
      "source": [
        "# Vẽ và so sánh các kết quả của mô hình\n",
        "all_model_results.plot(kind=\"bar\", figsize=(10, 7)).legend(bbox_to_anchor=(1.0, 1.0));"
      ],
      "execution_count": null,
      "outputs": [
        {
          "output_type": "display_data",
          "data": {
            "image/png": "[encoded data removed]",
            "text/plain": [
              "<Figure size 720x504 with 1 Axes>"
            ]
          },
          "metadata": {
            "needs_background": "light"
          }
        }
      ]
    },
    {
      "cell_type": "markdown",
      "metadata": {
        "id": "avbdkiIuKNNr"
      },
      "source": [
        "Có vẻ như các mô hình USE TensorFlow Hub đã huấn luyện trước của chúng ta có chất lượng tốt nhất, thậm chí mô hình chỉ có 10% dữ liệu huấn luyện dường như cũng hoạt động tốt hơn các mô hình khác. Điều này cho thấy sức mạnh của transfer learning.\n",
        "\n",
        "Làm thế nào để đi sâu và lấy F1-score của từng mô hình?"
      ]
    },
    {
      "cell_type": "code",
      "metadata": {
        "id": "yktdOiufmm3p",
        "colab": {
          "base_uri": "https://localhost:8080/",
          "height": 546
        },
        "outputId": "97090bc0-63d5-41e2-f7b1-deddfcd99f53"
      },
      "source": [
        "# Sắp xếp kết quả của mô hình theo f1-score\n",
        "all_model_results.sort_values(\"f1\", ascending=False)[\"f1\"].plot(kind=\"bar\", figsize=(10, 7));"
      ],
      "execution_count": null,
      "outputs": [
        {
          "output_type": "display_data",
          "data": {
            "image/png": "[encoded data removed]",
            "text/plain": [
              "<Figure size 720x504 with 1 Axes>"
            ]
          },
          "metadata": {
            "needs_background": "light"
          }
        }
      ]
    },
    {
      "cell_type": "markdown",
      "metadata": {
        "id": "pv2iE0TPGdNy"
      },
      "source": [
        "Tìm hiểu kỹ hơn về một phép đo, chúng ta thấy các mô hình USE TensorFlow Hub hoạt động tốt hơn tất cả các mô hình khác. Thật thú vị, F1-score của mô hình cơ sở không quá cách biệt so với các mô hình sâu còn lại.\n",
        "\n",
        "Chúng ta cũng có thể trực quan hóa tất cả nhật ký huấn luyện của mô hình bằng TensorBoard.dev."
      ]
    },
    {
      "cell_type": "code",
      "metadata": {
        "id": "2Ca8TalwGhPf"
      },
      "source": [
        "# # Xem tensorboad logs của các thử nghiệm mô hình hóa transfer learning (nên là 4 mô hình)\n",
        "# # Upload các bản ghi TensorBoard dev\n",
        "# !tensorboard dev upload --logdir ./model_logs \\\n",
        "#   --name \"NLP modelling experiments\" \\\n",
        "#   --description \"A series of different NLP modellings experiments with various models\" \\\n",
        "#   --one_shot # thoát khỏi uploader sau khi hoàn thành upload"
      ],
      "execution_count": null,
      "outputs": []
    },
    {
      "cell_type": "markdown",
      "metadata": {
        "id": "uIYVXCUJ3FBn"
      },
      "source": [
        "Có thể xem TensorBoard logs của các thử nghiệm lập mô hình khác nhau mà chúng tôi đã chạy tại đây: https://tensorboard.dev/experiment/LkoAakb7QIKBZ0RL97cXbw/"
      ]
    },
    {
      "cell_type": "code",
      "metadata": {
        "id": "Os7dv00u21jg"
      },
      "source": [
        "# Nếu cần loại bỏ các thử nghiệm trước, chúng ta có thể dùng lệnh sau\n",
        "# !tensorboard dev delete --experiment_id EXPERIMENT_ID_TO_DELETE"
      ],
      "execution_count": null,
      "outputs": []
    },
    {
      "cell_type": "markdown",
      "metadata": {
        "id": "GGVZhTTiGdd5"
      },
      "source": [
        "## Kết hợp các mô hình (model ensembling/stacking)\n",
        "\n",
        "Nhiều hệ thống sản xuất sử dụng mô hình **ensemble** (kết hợp nhiều mô hình khác nhau) để đưa ra dự đoán.\n",
        "\n",
        "Ý tưởng đằng sau model stacking là nếu một số mô hình không tương quan thống nhất về một dự đoán, thì dự đoán đó phải mạnh mẽ hơn dự đoán được thực hiện bởi một mô hình đơn lẻ.\n",
        "\n",
        "Từ khóa trong câu trên là **không tương quan**, tức là các kiểu mô hình khác nhau. Ví dụ: trong trường hợp của chúng ta, có thể kết hợp mô hình cơ sở, mô hình hai chiều và mô hình USE TTensorFlow Hub.\n",
        "\n",
        "Mặc dù tất cả các mô hình này đều được huấn luyện trên cùng một dữ liệu, nhưng chúng lại có cách tìm pattern khác nhau.\n",
        "\n",
        "Nếu chúng ta sử dụng ba mô hình được huấn luyện tương tự, chẳng hạn như ba mô hình LSTM thì các dự đoán mà chúng đưa ra có thể sẽ rất giống nhau.\n",
        "\n",
        "Hãy coi điều này như việc bạn đang quyết định đi ăn ở đâu với bạn bè. Nếu bạn và các ban của bạn có sở thích giống nhau, có thể các bạn sẽ chọn cùng một nhà hàng. Nhưng nếu các bạn có sở thích khác nhau và cuối cùng vẫn chọn cùng một nhà hàng, thì chắc hẳn nhà hàng đó phải tốt.\n",
        "\n",
        "Since we're working with a classification problem, there are a few of ways we can combine our models: Do chúng ta đang giải bài toán phân loại, nên có một số cách để kết hợp các mô hình:\n",
        "1. **Averaging** - Lấy xác suất dự đoán đầu ra của từng mô hình cho từng mẫu, kết hợp chúng lại rồi tính trung bình.\n",
        "2. **Majority vote (mode)** - Đưa ra dự đoán về lớp với từng mô hình trên tất cả các mẫu, lớp được dự đoán chiếm đa số. Ví dụ: nếu ba mô hình khác nhau lần lượt dự đoán `[1, 0, 1]`, thì lớp đa số là `1`; như vậy, đó sẽ là nhãn được dự đoán.\n",
        "3. **Model stacking** - Lấy đầu ra của từng mô hình đã chọn và sử dụng chúng làm đầu vào cho mô hình khác.\n",
        "\n",
        "> 📖 **Tài liệu:** Các phương pháp model stacking/ensembling ở trên được trích từ Chương 6 của cuốn [Machine Learning Engineering](http://www.mlebook.com/wiki/doku.php) (Andriy Burkov). Nếu bạn đang muốn tìm hiểu lĩnh vực kỹ thuật máy học, không chỉ xây dựng mô hình mà cả hệ thống máy học trên quy mô sản xuất, tôi khuyến khích bạn nên đọc toàn bộ cuốn này.\n",
        "\n",
        "Một lần nữa, khái niệm model stacking được thấy rõ nhất trong thực tế.\n",
        "\n",
        "Chúng ta sẽ kết hợp mô hình cơ sở (`model_0`), mô hình LSTM (`model_2`) và mô hình USE được huấn luyện với toàn bộ dữ liệu huấn luyện (`model_6`) bằng cách tính trung bình các xác suất dự đoán kết hợp của từng mô hình."
      ]
    },
    {
      "cell_type": "code",
      "metadata": {
        "id": "t63u8PCCm-yo",
        "colab": {
          "base_uri": "https://localhost:8080/"
        },
        "outputId": "47a65c8c-325a-402c-bfa3-0a940416bd54"
      },
      "source": [
        "# Lấy mean pred probs cho 3 mô hình\n",
        "baseline_pred_probs = np.max(model_0.predict_proba(val_sentences), axis=1) # lấy xác suất dự đoán từ mô hình cơ sở\n",
        "combined_pred_probs = baseline_pred_probs + tf.squeeze(model_2_pred_probs, axis=1) + tf.squeeze(model_6_pred_probs)\n",
        "combined_preds = tf.round(combined_pred_probs/3) # tính trung bình và làm tròn các xác suất dự đoán để có được các lớp dự đoán\n",
        "combined_preds[:20]"
      ],
      "execution_count": null,
      "outputs": [
        {
          "output_type": "execute_result",
          "data": {
            "text/plain": [
              "<tf.Tensor: shape=(20,), dtype=float32, numpy=\n",
              "array([0., 1., 1., 0., 0., 1., 1., 1., 1., 1., 0., 0., 0., 1., 0., 0., 0.,\n",
              "       0., 0., 1.], dtype=float32)>"
            ]
          },
          "metadata": {},
          "execution_count": 105
        }
      ]
    },
    {
      "cell_type": "markdown",
      "metadata": {
        "id": "6abZa7wqlXSI"
      },
      "source": [
        "Tuyệt vời! Chúng ta có một mảng dự đoán kết hợp của các lớp khác nhau, hãy đánh giá chúng dựa trên true label và thêm kết quả của mô hình đã xếp chồng vào DataFrame `all_model_results`."
      ]
    },
    {
      "cell_type": "code",
      "metadata": {
        "id": "ieYvhDiev8Et",
        "colab": {
          "base_uri": "https://localhost:8080/"
        },
        "outputId": "b3b965dd-54c8-4796-edcc-b31e344b38bb"
      },
      "source": [
        "# Tính toán kết quả từ việc tính trung bình các xác suất dự đoán\n",
        "ensemble_results = calculate_results(val_labels, combined_preds)\n",
        "ensemble_results"
      ],
      "execution_count": null,
      "outputs": [
        {
          "output_type": "execute_result",
          "data": {
            "text/plain": [
              "{'accuracy': 78.08398950131233,\n",
              " 'f1': 0.7805169025578647,\n",
              " 'precision': 0.7805216999297674,\n",
              " 'recall': 0.7808398950131233}"
            ]
          },
          "metadata": {},
          "execution_count": 106
        }
      ]
    },
    {
      "cell_type": "code",
      "metadata": {
        "id": "132EHlUUpRrP"
      },
      "source": [
        "# Thêm các kết quả của mô hình kết hợp vào results DataFrame\n",
        "all_model_results.loc[\"ensemble_results\"] = ensemble_results"
      ],
      "execution_count": null,
      "outputs": []
    },
    {
      "cell_type": "code",
      "metadata": {
        "id": "Pm2P1zsvpZ3D"
      },
      "source": [
        "# Chuyển đổi accuracy sang cùng thang đo với các kết quả còn lại\n",
        "all_model_results.loc[\"ensemble_results\"][\"accuracy\"] = all_model_results.loc[\"ensemble_results\"][\"accuracy\"]/100"
      ],
      "execution_count": null,
      "outputs": []
    },
    {
      "cell_type": "code",
      "metadata": {
        "id": "trmdZ6eEpwHI",
        "colab": {
          "base_uri": "https://localhost:8080/",
          "height": 328
        },
        "outputId": "b2704163-e293-4b88-f289-efcc04d9b4b2"
      },
      "source": [
        "all_model_results"
      ],
      "execution_count": null,
      "outputs": [
        {
          "output_type": "execute_result",
          "data": {
            "text/html": [
              "<div>\n",
              "<style scoped>\n",
              "    .dataframe tbody tr th:only-of-type {\n",
              "        vertical-align: middle;\n",
              "    }\n",
              "\n",
              "    .dataframe tbody tr th {\n",
              "        vertical-align: top;\n",
              "    }\n",
              "\n",
              "    .dataframe thead th {\n",
              "        text-align: right;\n",
              "    }\n",
              "</style>\n",
              "<table border=\"1\" class=\"dataframe\">\n",
              "  <thead>\n",
              "    <tr style=\"text-align: right;\">\n",
              "      <th></th>\n",
              "      <th>accuracy</th>\n",
              "      <th>precision</th>\n",
              "      <th>recall</th>\n",
              "      <th>f1</th>\n",
              "    </tr>\n",
              "  </thead>\n",
              "  <tbody>\n",
              "    <tr>\n",
              "      <th>baseline</th>\n",
              "      <td>0.792651</td>\n",
              "      <td>0.811139</td>\n",
              "      <td>0.792651</td>\n",
              "      <td>0.786219</td>\n",
              "    </tr>\n",
              "    <tr>\n",
              "      <th>simple_dense</th>\n",
              "      <td>0.787402</td>\n",
              "      <td>0.791492</td>\n",
              "      <td>0.787402</td>\n",
              "      <td>0.784697</td>\n",
              "    </tr>\n",
              "    <tr>\n",
              "      <th>lstm</th>\n",
              "      <td>0.750656</td>\n",
              "      <td>0.751008</td>\n",
              "      <td>0.750656</td>\n",
              "      <td>0.748927</td>\n",
              "    </tr>\n",
              "    <tr>\n",
              "      <th>gru</th>\n",
              "      <td>0.767717</td>\n",
              "      <td>0.767545</td>\n",
              "      <td>0.767717</td>\n",
              "      <td>0.766793</td>\n",
              "    </tr>\n",
              "    <tr>\n",
              "      <th>bidirectional</th>\n",
              "      <td>0.766404</td>\n",
              "      <td>0.766590</td>\n",
              "      <td>0.766404</td>\n",
              "      <td>0.765121</td>\n",
              "    </tr>\n",
              "    <tr>\n",
              "      <th>conv1d</th>\n",
              "      <td>0.778215</td>\n",
              "      <td>0.780752</td>\n",
              "      <td>0.778215</td>\n",
              "      <td>0.775881</td>\n",
              "    </tr>\n",
              "    <tr>\n",
              "      <th>tf_hub_sentence_encoder</th>\n",
              "      <td>0.812336</td>\n",
              "      <td>0.814880</td>\n",
              "      <td>0.812336</td>\n",
              "      <td>0.810687</td>\n",
              "    </tr>\n",
              "    <tr>\n",
              "      <th>tf_hub_10_percent_data</th>\n",
              "      <td>0.770341</td>\n",
              "      <td>0.775563</td>\n",
              "      <td>0.770341</td>\n",
              "      <td>0.766706</td>\n",
              "    </tr>\n",
              "    <tr>\n",
              "      <th>ensemble_results</th>\n",
              "      <td>0.780840</td>\n",
              "      <td>0.780522</td>\n",
              "      <td>0.780840</td>\n",
              "      <td>0.780517</td>\n",
              "    </tr>\n",
              "  </tbody>\n",
              "</table>\n",
              "</div>"
            ],
            "text/plain": [
              "                         accuracy  precision    recall        f1\n",
              "baseline                 0.792651   0.811139  0.792651  0.786219\n",
              "simple_dense             0.787402   0.791492  0.787402  0.784697\n",
              "lstm                     0.750656   0.751008  0.750656  0.748927\n",
              "gru                      0.767717   0.767545  0.767717  0.766793\n",
              "bidirectional            0.766404   0.766590  0.766404  0.765121\n",
              "conv1d                   0.778215   0.780752  0.778215  0.775881\n",
              "tf_hub_sentence_encoder  0.812336   0.814880  0.812336  0.810687\n",
              "tf_hub_10_percent_data   0.770341   0.775563  0.770341  0.766706\n",
              "ensemble_results         0.780840   0.780522  0.780840  0.780517"
            ]
          },
          "metadata": {},
          "execution_count": 109
        }
      ]
    },
    {
      "cell_type": "markdown",
      "metadata": {
        "id": "HZwqwF_swdIA"
      },
      "source": [
        "Mô hình xếp chồng đi ngược lại với các mô hình khác như thế nào?\n",
        "\n",
        "> 🔑 **Lưu ý:** Có vẻ như nhiều kết quả của mô hình khá tương tự nhau. Điều này có nghĩa là có một số hạn chế đối với việc học từ dữ liệu. Khi nhiều thử nghiệm lập mô hình trả lại kết quả tương tự, bạn nên truy cập lại dữ liệu của mình, chúng ta sẽ thực hiện ngay điều này."
      ]
    },
    {
      "cell_type": "markdown",
      "metadata": {
        "id": "UpwErZOgX_nC"
      },
      "source": [
        "## Lưu và load mô hình đã huấn luyện\n",
        "\n",
        "Mặc dù thời gian huấn luyện dài, nhưng chúng ta cũng nên lưu lại các mô hình đã huấn luyện để tránh phải huấn luyện lại.\n",
        "\n",
        "Lưu các mô hình cũng cho phép chúng ta xuất chúng để sử dụng ở nơi khác bên ngoài notebook, chẳng hạn như trong một ứng dụng web.\n",
        "\n",
        "Có hai cách chính để [lưu một mô hình trong TensorFlow](https://www.tensorflow.org/tutorials/keras/save_and_load#save_the_entire_model):\n",
        "1. `HDF5` format.\n",
        "2. `SavedModel` format (mặc định).\n",
        "\n",
        "Chúng ta hãy xem xét cả hai."
      ]
    },
    {
      "cell_type": "code",
      "metadata": {
        "id": "SlwjGFVyX-_T"
      },
      "source": [
        "# Lưu mô hình TF Hub Sentence Encoder thành HDF5 format\n",
        "model_6.save(\"model_6.h5\")"
      ],
      "execution_count": null,
      "outputs": []
    },
    {
      "cell_type": "markdown",
      "metadata": {
        "id": "Cp6zvmprm9A3"
      },
      "source": [
        "Nếu chúng ta lưu mô hình ở dạng `HDF5`, thì khi load lại mô hình đó, cần [cho TensorFlow biết về bất kỳ đối tượng tùy chỉnh nào mà chúng ta đã sử dụng](https://www.tensorflow.org/tutorials/keras/save_and_load#saving_custom_objects) (ví dụ: các thành phần không được tạo từ TensorFlow thuần túy, chẳng hạn như các thành phần TensorFlow Hub)."
      ]
    },
    {
      "cell_type": "code",
      "metadata": {
        "id": "sSINZ0Q-nRb2"
      },
      "source": [
        "# Load mô hình với Hub Layer tùy chỉnh (yêu cầu với HDF5 format)\n",
        "loaded_model_6 = tf.keras.models.load_model(\"model_6.h5\",\n",
        "                                            custom_objects={\"KerasLayer\": hub.KerasLayer})"
      ],
      "execution_count": null,
      "outputs": []
    },
    {
      "cell_type": "code",
      "metadata": {
        "id": "G4BCJ8iXnZ4r",
        "colab": {
          "base_uri": "https://localhost:8080/"
        },
        "outputId": "4d3a7c0e-bea8-4f99-923d-943213cd72cd"
      },
      "source": [
        "# Mô hình đã load hoạt động như thế nào?\n",
        "loaded_model_6.evaluate(val_sentences, val_labels)"
      ],
      "execution_count": null,
      "outputs": [
        {
          "output_type": "stream",
          "name": "stdout",
          "text": [
            "24/24 [==============================] - 1s 14ms/step - loss: 0.4309 - accuracy: 0.8123\n"
          ]
        },
        {
          "output_type": "execute_result",
          "data": {
            "text/plain": [
              "[0.43088313937187195, 0.8123359680175781]"
            ]
          },
          "metadata": {},
          "execution_count": 112
        }
      ]
    },
    {
      "cell_type": "markdown",
      "metadata": {
        "id": "02rbT4fwn0It"
      },
      "source": [
        "Gọi phương thức `save()` trên mô hình mục tiêu và chuyển cho nó một đường dẫn file cho phép chúng ta lưu mô hình của mình ở `SavedModel` format."
      ]
    },
    {
      "cell_type": "code",
      "metadata": {
        "id": "e3eVaNBDoMsv",
        "colab": {
          "base_uri": "https://localhost:8080/"
        },
        "outputId": "a55b3bd1-ac2d-45c1-90f2-4b021c9368f9"
      },
      "source": [
        "# Lưu mô hình TF Hub Sentence Encoder thành SavedModel format (mặc định)\n",
        "model_6.save(\"model_6_SavedModel_format\")"
      ],
      "execution_count": null,
      "outputs": [
        {
          "output_type": "stream",
          "name": "stderr",
          "text": [
            "WARNING:absl:Function `_wrapped_model` contains input name(s) USE_input with unsupported characters which will be renamed to use_input in the SavedModel.\n"
          ]
        },
        {
          "output_type": "stream",
          "name": "stdout",
          "text": [
            "INFO:tensorflow:Assets written to: model_6_SavedModel_format/assets\n"
          ]
        },
        {
          "output_type": "stream",
          "name": "stderr",
          "text": [
            "INFO:tensorflow:Assets written to: model_6_SavedModel_format/assets\n"
          ]
        }
      ]
    },
    {
      "cell_type": "markdown",
      "metadata": {
        "id": "l-t01S-JoOqK"
      },
      "source": [
        "Nếu sử dụng SavedModel format (mặc định), chúng ta có thể reload mô hình của mình mà không cần chỉ định các đối tượng tùy chỉnh bằng cách sử dụng hàm [`tensorflow.keras.models.load_model()`](https://www.tensorflow.org/tutorials/keras/save_and_load)."
      ]
    },
    {
      "cell_type": "code",
      "metadata": {
        "id": "Dw3zf4fVoU5H"
      },
      "source": [
        "# Load TF Hub Sentence Encoder SavedModel\n",
        "loaded_model_6_SavedModel = tf.keras.models.load_model(\"model_6_SavedModel_format\")"
      ],
      "execution_count": null,
      "outputs": []
    },
    {
      "cell_type": "code",
      "metadata": {
        "id": "IqiPr6iiofi1",
        "colab": {
          "base_uri": "https://localhost:8080/"
        },
        "outputId": "d4395889-dca0-4061-ba22-1723001c5c4e"
      },
      "source": [
        "# Đánh giá SavedModel format đã load\n",
        "loaded_model_6_SavedModel.evaluate(val_sentences, val_labels)"
      ],
      "execution_count": null,
      "outputs": [
        {
          "output_type": "stream",
          "name": "stdout",
          "text": [
            "24/24 [==============================] - 1s 14ms/step - loss: 0.4309 - accuracy: 0.8123\n"
          ]
        },
        {
          "output_type": "execute_result",
          "data": {
            "text/plain": [
              "[0.43088313937187195, 0.8123359680175781]"
            ]
          },
          "metadata": {},
          "execution_count": 115
        }
      ]
    },
    {
      "cell_type": "markdown",
      "metadata": {
        "id": "xzp3SHi3oQ3u"
      },
      "source": [
        "Như các bạn thấy, việc lưu và load mô hình với một trong hai định dạng đều cho chất lượng như nhau.\n",
        "\n",
        "> 🤔 **Câu hỏi:** Chúng ta nên sử dụng `SavedModel` format hay `HDF5` format?\n",
        "\n",
        "Với hầu hết trường hợp, `SavedModel` format đã đủ. Tuy nhiên, đây là một tiêu chuẩn cụ thể của TensorFlow. Nếu bạn cần một tiêu chuẩn dữ liệu có mục đích chung hơn, `HDF5` có thể sẽ tốt hơn. Xem [tài liệu TensorFlow về cách lưu và load mô hình](https://www.tensorflow.org/tutorials/keras/save_and_load) để biết thêm chi tiết."
      ]
    },
    {
      "cell_type": "markdown",
      "metadata": {
        "id": "V5a1648rG3z1"
      },
      "source": [
        "## Tìm những mẫu sai nhất\n",
        "\n",
        "Chúng ta đã đề cập trước đó rằng nếu nhiều thử nghiệm lập mô hình trả lại các kết quả tương tự, dù sử dụng các loại mô hình khác nhau, thì chúng ta nên xem lại dữ liệu và kiểm tra xem tại sao lại như vậy.\n",
        "\n",
        "Một trong những cách tốt nhất để kiểm tra dữ liệu là sắp xếp các dự đoán của mô hình và tìm các mẫu mà mô hình đó sai nhiều *nhất*, tức là những dự đoán có xác suất dự đoán cao nhưng hóa ra lại sai.\n",
        "\n",
        "Vì vậy, hãy trực quan hóa nó ra.\n",
        "\n",
        "Để mọi thứ trực quan hơn, hãy lấy các lớp và xác suất dự đoán của mô hình hoạt động tốt nhất cùng với các mẫu kiểm định (văn bản và nhãn gốc) và kết hợp chúng vào một pandas DataFrame.\n",
        "\n",
        "* Nếu mô hình tốt nhất của chúng ta vẫn không hoàn hảo, thì có những mẫu nào bị sai?\n",
        "* Những mẫu nào sai *nhất*?\n",
        "* Có nhãn nào bị sai không? Ví dụ: mô hình gán đúng nhưng nhãn gốc không phản ánh được điều này."
      ]
    },
    {
      "cell_type": "code",
      "metadata": {
        "id": "gnHfX--TwMIW",
        "colab": {
          "base_uri": "https://localhost:8080/",
          "height": 204
        },
        "outputId": "d060505e-21c7-42b7-e664-8c517f92d425"
      },
      "source": [
        "# Tạo dataframe với validation sentences và các dự đoán mô hình hoạt động tốt nhất\n",
        "val_df = pd.DataFrame({\"text\": val_sentences,\n",
        "                       \"target\": val_labels,\n",
        "                       \"pred\": model_6_preds,\n",
        "                       \"pred_prob\": tf.squeeze(model_6_pred_probs)})\n",
        "val_df.head()"
      ],
      "execution_count": null,
      "outputs": [
        {
          "output_type": "execute_result",
          "data": {
            "text/html": [
              "<div>\n",
              "<style scoped>\n",
              "    .dataframe tbody tr th:only-of-type {\n",
              "        vertical-align: middle;\n",
              "    }\n",
              "\n",
              "    .dataframe tbody tr th {\n",
              "        vertical-align: top;\n",
              "    }\n",
              "\n",
              "    .dataframe thead th {\n",
              "        text-align: right;\n",
              "    }\n",
              "</style>\n",
              "<table border=\"1\" class=\"dataframe\">\n",
              "  <thead>\n",
              "    <tr style=\"text-align: right;\">\n",
              "      <th></th>\n",
              "      <th>text</th>\n",
              "      <th>target</th>\n",
              "      <th>pred</th>\n",
              "      <th>pred_prob</th>\n",
              "    </tr>\n",
              "  </thead>\n",
              "  <tbody>\n",
              "    <tr>\n",
              "      <th>0</th>\n",
              "      <td>DFR EP016 Monthly Meltdown - On Dnbheaven 2015...</td>\n",
              "      <td>0</td>\n",
              "      <td>0.0</td>\n",
              "      <td>0.144432</td>\n",
              "    </tr>\n",
              "    <tr>\n",
              "      <th>1</th>\n",
              "      <td>FedEx no longer to transport bioterror germs i...</td>\n",
              "      <td>0</td>\n",
              "      <td>1.0</td>\n",
              "      <td>0.727150</td>\n",
              "    </tr>\n",
              "    <tr>\n",
              "      <th>2</th>\n",
              "      <td>Gunmen kill four in El Salvador bus attack: Su...</td>\n",
              "      <td>1</td>\n",
              "      <td>1.0</td>\n",
              "      <td>0.985666</td>\n",
              "    </tr>\n",
              "    <tr>\n",
              "      <th>3</th>\n",
              "      <td>@camilacabello97 Internally and externally scr...</td>\n",
              "      <td>1</td>\n",
              "      <td>0.0</td>\n",
              "      <td>0.197409</td>\n",
              "    </tr>\n",
              "    <tr>\n",
              "      <th>4</th>\n",
              "      <td>Radiation emergency #preparedness starts with ...</td>\n",
              "      <td>1</td>\n",
              "      <td>1.0</td>\n",
              "      <td>0.734170</td>\n",
              "    </tr>\n",
              "  </tbody>\n",
              "</table>\n",
              "</div>"
            ],
            "text/plain": [
              "                                                text  target  pred  pred_prob\n",
              "0  DFR EP016 Monthly Meltdown - On Dnbheaven 2015...       0   0.0   0.144432\n",
              "1  FedEx no longer to transport bioterror germs i...       0   1.0   0.727150\n",
              "2  Gunmen kill four in El Salvador bus attack: Su...       1   1.0   0.985666\n",
              "3  @camilacabello97 Internally and externally scr...       1   0.0   0.197409\n",
              "4  Radiation emergency #preparedness starts with ...       1   1.0   0.734170"
            ]
          },
          "metadata": {},
          "execution_count": 116
        }
      ]
    },
    {
      "cell_type": "markdown",
      "metadata": {
        "id": "SKJ9dTbPrIG4"
      },
      "source": [
        "Bây giờ, hãy tìm các dự đoán sai của mô hình (`target != pred`) và sắp xếp chúng theo xác suất dự đoán (cột `pred_prob`)."
      ]
    },
    {
      "cell_type": "code",
      "metadata": {
        "id": "0DwBXQS1wvZx",
        "colab": {
          "base_uri": "https://localhost:8080/",
          "height": 359
        },
        "outputId": "7d37fad0-db94-471e-fef1-3859b48c58f3"
      },
      "source": [
        "# Tìm các dự đoán sai và sắp xếp theo xác suất dự đoán\n",
        "most_wrong = val_df[val_df[\"target\"] != val_df[\"pred\"]].sort_values(\"pred_prob\", ascending=False)\n",
        "most_wrong[:10]"
      ],
      "execution_count": null,
      "outputs": [
        {
          "output_type": "execute_result",
          "data": {
            "text/html": [
              "<div>\n",
              "<style scoped>\n",
              "    .dataframe tbody tr th:only-of-type {\n",
              "        vertical-align: middle;\n",
              "    }\n",
              "\n",
              "    .dataframe tbody tr th {\n",
              "        vertical-align: top;\n",
              "    }\n",
              "\n",
              "    .dataframe thead th {\n",
              "        text-align: right;\n",
              "    }\n",
              "</style>\n",
              "<table border=\"1\" class=\"dataframe\">\n",
              "  <thead>\n",
              "    <tr style=\"text-align: right;\">\n",
              "      <th></th>\n",
              "      <th>text</th>\n",
              "      <th>target</th>\n",
              "      <th>pred</th>\n",
              "      <th>pred_prob</th>\n",
              "    </tr>\n",
              "  </thead>\n",
              "  <tbody>\n",
              "    <tr>\n",
              "      <th>31</th>\n",
              "      <td>? High Skies - Burning Buildings ? http://t.co...</td>\n",
              "      <td>0</td>\n",
              "      <td>1.0</td>\n",
              "      <td>0.910481</td>\n",
              "    </tr>\n",
              "    <tr>\n",
              "      <th>759</th>\n",
              "      <td>FedEx will no longer transport bioterror patho...</td>\n",
              "      <td>0</td>\n",
              "      <td>1.0</td>\n",
              "      <td>0.864676</td>\n",
              "    </tr>\n",
              "    <tr>\n",
              "      <th>209</th>\n",
              "      <td>Ashes 2015: AustraliaÛªs collapse at Trent Br...</td>\n",
              "      <td>0</td>\n",
              "      <td>1.0</td>\n",
              "      <td>0.837961</td>\n",
              "    </tr>\n",
              "    <tr>\n",
              "      <th>393</th>\n",
              "      <td>@SonofLiberty357 all illuminated by the bright...</td>\n",
              "      <td>0</td>\n",
              "      <td>1.0</td>\n",
              "      <td>0.836361</td>\n",
              "    </tr>\n",
              "    <tr>\n",
              "      <th>628</th>\n",
              "      <td>@noah_anyname That's where the concentration c...</td>\n",
              "      <td>0</td>\n",
              "      <td>1.0</td>\n",
              "      <td>0.835225</td>\n",
              "    </tr>\n",
              "    <tr>\n",
              "      <th>49</th>\n",
              "      <td>@madonnamking RSPCA site multiple 7 story high...</td>\n",
              "      <td>0</td>\n",
              "      <td>1.0</td>\n",
              "      <td>0.834875</td>\n",
              "    </tr>\n",
              "    <tr>\n",
              "      <th>109</th>\n",
              "      <td>[55436] 1950 LIONEL TRAINS SMOKE LOCOMOTIVES W...</td>\n",
              "      <td>0</td>\n",
              "      <td>1.0</td>\n",
              "      <td>0.800890</td>\n",
              "    </tr>\n",
              "    <tr>\n",
              "      <th>251</th>\n",
              "      <td>@AshGhebranious civil rights continued in the ...</td>\n",
              "      <td>0</td>\n",
              "      <td>1.0</td>\n",
              "      <td>0.782611</td>\n",
              "    </tr>\n",
              "    <tr>\n",
              "      <th>698</th>\n",
              "      <td>åÈMGN-AFRICAå¨ pin:263789F4 åÈ Correction: Ten...</td>\n",
              "      <td>0</td>\n",
              "      <td>1.0</td>\n",
              "      <td>0.782433</td>\n",
              "    </tr>\n",
              "    <tr>\n",
              "      <th>144</th>\n",
              "      <td>The Sound of Arson</td>\n",
              "      <td>0</td>\n",
              "      <td>1.0</td>\n",
              "      <td>0.771343</td>\n",
              "    </tr>\n",
              "  </tbody>\n",
              "</table>\n",
              "</div>"
            ],
            "text/plain": [
              "                                                  text  target  pred  pred_prob\n",
              "31   ? High Skies - Burning Buildings ? http://t.co...       0   1.0   0.910481\n",
              "759  FedEx will no longer transport bioterror patho...       0   1.0   0.864676\n",
              "209  Ashes 2015: AustraliaÛªs collapse at Trent Br...       0   1.0   0.837961\n",
              "393  @SonofLiberty357 all illuminated by the bright...       0   1.0   0.836361\n",
              "628  @noah_anyname That's where the concentration c...       0   1.0   0.835225\n",
              "49   @madonnamking RSPCA site multiple 7 story high...       0   1.0   0.834875\n",
              "109  [55436] 1950 LIONEL TRAINS SMOKE LOCOMOTIVES W...       0   1.0   0.800890\n",
              "251  @AshGhebranious civil rights continued in the ...       0   1.0   0.782611\n",
              "698  åÈMGN-AFRICAå¨ pin:263789F4 åÈ Correction: Ten...       0   1.0   0.782433\n",
              "144                                 The Sound of Arson       0   1.0   0.771343"
            ]
          },
          "metadata": {},
          "execution_count": 117
        }
      ]
    },
    {
      "cell_type": "markdown",
      "metadata": {
        "id": "r3VcRHOusB2D"
      },
      "source": [
        "Cuối cùng, chúng ta có thể viết code để hiển thị văn bản mẫu, truth label, lớp dự đoán và xác suất dự đoán. Vì chúng ta đã sắp xếp các mẫu của mình theo xác suất dự đoán, nên việc xem các mẫu từ phần đầu của DataFrame `most_wrong` sẽ hiển thị false positives.\n",
        "\n",
        "Nhắc lại:\n",
        "* `0` = Không phải real diaster Tweet\n",
        "* `1` = Real diaster Tweet"
      ]
    },
    {
      "cell_type": "code",
      "metadata": {
        "id": "xLFYDEsoxRFP",
        "colab": {
          "base_uri": "https://localhost:8080/"
        },
        "outputId": "28d66210-3007-4661-e8c2-655d621f0e90"
      },
      "source": [
        "# Kiểm tra false positives (mô hình dự đoán là 1 trong khi lẽ ra phải là 0)\n",
        "for row in most_wrong[:10].itertuples(): # lặp qua 10 hàng trên cùng (thay đổi chỉ mục để xem các hàng khác nhau)\n",
        "  _, text, target, pred, prob = row\n",
        "  print(f\"Target: {target}, Pred: {int(pred)}, Prob: {prob}\")\n",
        "  print(f\"Text:\\n{text}\\n\")\n",
        "  print(\"----\\n\")"
      ],
      "execution_count": null,
      "outputs": [
        {
          "output_type": "stream",
          "name": "stdout",
          "text": [
            "Target: 0, Pred: 1, Prob: 0.9104808568954468\n",
            "Text:\n",
            "? High Skies - Burning Buildings ? http://t.co/uVq41i3Kx2 #nowplaying\n",
            "\n",
            "----\n",
            "\n",
            "Target: 0, Pred: 1, Prob: 0.8646755218505859\n",
            "Text:\n",
            "FedEx will no longer transport bioterror pathogens in wake of anthrax lab mishaps http://t.co/lHpgxc4b8J\n",
            "\n",
            "----\n",
            "\n",
            "Target: 0, Pred: 1, Prob: 0.8379608988761902\n",
            "Text:\n",
            "Ashes 2015: AustraliaÛªs collapse at Trent Bridge among worst in history: England bundled out Australia for 60 ... http://t.co/t5TrhjUAU0\n",
            "\n",
            "----\n",
            "\n",
            "Target: 0, Pred: 1, Prob: 0.8363614082336426\n",
            "Text:\n",
            "@SonofLiberty357 all illuminated by the brightly burning buildings all around the town!\n",
            "\n",
            "----\n",
            "\n",
            "Target: 0, Pred: 1, Prob: 0.8352250456809998\n",
            "Text:\n",
            "@noah_anyname That's where the concentration camps and mass murder come in. \n",
            " \n",
            "EVERY. FUCKING. TIME.\n",
            "\n",
            "----\n",
            "\n",
            "Target: 0, Pred: 1, Prob: 0.8348745107650757\n",
            "Text:\n",
            "@madonnamking RSPCA site multiple 7 story high rise buildings next to low density character residential in an area that floods\n",
            "\n",
            "----\n",
            "\n",
            "Target: 0, Pred: 1, Prob: 0.800889790058136\n",
            "Text:\n",
            "[55436] 1950 LIONEL TRAINS SMOKE LOCOMOTIVES WITH MAGNE-TRACTION INSTRUCTIONS http://t.co/xEZBs3sq0y http://t.co/C2x0QoKGlY\n",
            "\n",
            "----\n",
            "\n",
            "Target: 0, Pred: 1, Prob: 0.7826112508773804\n",
            "Text:\n",
            "@AshGhebranious civil rights continued in the 60s. And what about trans-generational trauma? if anything we should listen to the Americans.\n",
            "\n",
            "----\n",
            "\n",
            "Target: 0, Pred: 1, Prob: 0.7824334502220154\n",
            "Text:\n",
            "åÈMGN-AFRICAå¨ pin:263789F4 åÈ Correction: Tent Collapse Story: Correction: Tent Collapse story åÈ http://t.co/fDJUYvZMrv @wizkidayo\n",
            "\n",
            "----\n",
            "\n",
            "Target: 0, Pred: 1, Prob: 0.7713427543640137\n",
            "Text:\n",
            "The Sound of Arson\n",
            "\n",
            "----\n",
            "\n"
          ]
        }
      ]
    },
    {
      "cell_type": "markdown",
      "metadata": {
        "id": "aXCH9J-UspWg"
      },
      "source": [
        "Chúng ta có thể xem phần cuối của DataFrame `most_wrong` để kiểm tra false negatives (mô hình dự đoán 0, không phải là real diaster Tweet, trong khi lẽ ra nó phải dự đoán 1, real diaster Tweet)."
      ]
    },
    {
      "cell_type": "code",
      "metadata": {
        "id": "6EaMchehxwLq",
        "colab": {
          "base_uri": "https://localhost:8080/"
        },
        "outputId": "4c5fdb89-38b2-405a-f5d5-f816b83d3c79"
      },
      "source": [
        "# Kiểm tra false negatives sai nhiều nhất (mô hình dự đoán là 0 trong khi lẽ ra nó phải dự đoán là 1)\n",
        "for row in most_wrong[-10:].itertuples():\n",
        "  _, text, target, pred, prob = row\n",
        "  print(f\"Target: {target}, Pred: {int(pred)}, Prob: {prob}\")\n",
        "  print(f\"Text:\\n{text}\\n\")\n",
        "  print(\"----\\n\")"
      ],
      "execution_count": null,
      "outputs": [
        {
          "output_type": "stream",
          "name": "stdout",
          "text": [
            "Target: 1, Pred: 0, Prob: 0.06304337829351425\n",
            "Text:\n",
            "@BoyInAHorsemask its a panda trapped in a dogs body\n",
            "\n",
            "----\n",
            "\n",
            "Target: 1, Pred: 0, Prob: 0.06279505044221878\n",
            "Text:\n",
            "going to redo my nails and watch behind the scenes of desolation of smaug ayyy\n",
            "\n",
            "----\n",
            "\n",
            "Target: 1, Pred: 0, Prob: 0.06060810014605522\n",
            "Text:\n",
            "VICTORINOX SWISS ARMY DATE WOMEN'S RUBBER MOP WATCH 241487 http://t.co/yFy3nkkcoH http://t.co/KNEhVvOHVK\n",
            "\n",
            "----\n",
            "\n",
            "Target: 1, Pred: 0, Prob: 0.0573178268969059\n",
            "Text:\n",
            "@willienelson We need help! Horses will die!Please RT &amp; sign petition!Take a stand &amp; be a voice for them! #gilbert23 https://t.co/e8dl1lNCVu\n",
            "\n",
            "----\n",
            "\n",
            "Target: 1, Pred: 0, Prob: 0.04535556212067604\n",
            "Text:\n",
            "You can never escape me. Bullets don't harm me. Nothing harms me. But I know pain. I know pain. Sometimes I share it. With someone like you.\n",
            "\n",
            "----\n",
            "\n",
            "Target: 1, Pred: 0, Prob: 0.04145137220621109\n",
            "Text:\n",
            "I get to smoke my shit in peace\n",
            "\n",
            "----\n",
            "\n",
            "Target: 1, Pred: 0, Prob: 0.03926113247871399\n",
            "Text:\n",
            "@SoonerMagic_ I mean I'm a fan but I don't need a girl sounding off like a damn siren\n",
            "\n",
            "----\n",
            "\n",
            "Target: 1, Pred: 0, Prob: 0.0385933592915535\n",
            "Text:\n",
            "Why are you deluged with low self-image? Take the quiz: http://t.co/XsPqdOrIqj http://t.co/CQYvFR4UCy\n",
            "\n",
            "----\n",
            "\n",
            "Target: 1, Pred: 0, Prob: 0.03627230226993561\n",
            "Text:\n",
            "Reddit Will Now QuarantineÛ_ http://t.co/pkUAMXw6pm #onlinecommunities #reddit #amageddon #freespeech #Business http://t.co/PAWvNJ4sAP\n",
            "\n",
            "----\n",
            "\n",
            "Target: 1, Pred: 0, Prob: 0.032887961715459824\n",
            "Text:\n",
            "Ron &amp; Fez - Dave's High School Crush https://t.co/aN3W16c8F6 via @YouTube\n",
            "\n",
            "----\n",
            "\n"
          ]
        }
      ]
    },
    {
      "cell_type": "markdown",
      "metadata": {
        "id": "lRKQPEAgtpJq"
      },
      "source": [
        "Bạn có nhận thấy điều gì thú vị về những mẫu sai nhất không?\n",
        "\n",
        "Các nhãn gốc có chính xác không? Bạn nghĩ điều gì sẽ xảy ra nếu chúng ta quay lại và sửa các nhãn không đúng?"
      ]
    },
    {
      "cell_type": "markdown",
      "metadata": {
        "id": "U0W3DWgWJCWs"
      },
      "source": [
        "## Đưa ra dự đoán trên tập dữ liệu kiểm tra\n",
        "\n",
        "Chúng ta đã thấy mô hình hoạt động như thế nào trên tập kiểm định.\n",
        "\n",
        "Vậy nó hoạt động như thế nào trên tập kiểm tra?\n",
        "\n",
        "Chúng ta không có nhãn cho tập dữ liệu kiểm tra, vì vậy, chúng ta sẽ phải đưa ra một số dự đoán và tự kiểm tra chúng.\n",
        "\n",
        "Hãy viết code để đưa ra dự đoán trên các mẫu ngẫu nhiên từ tập dữ liệu kiểm tra và hiển thị chúng."
      ]
    },
    {
      "cell_type": "code",
      "metadata": {
        "id": "6Q9lgqoDyequ",
        "colab": {
          "base_uri": "https://localhost:8080/"
        },
        "outputId": "f81e856d-8024-4471-ee0d-3c14eb128cb0"
      },
      "source": [
        "# Đưa ra dự đoán trên tập dữ liệu kiểm tra\n",
        "test_sentences = test_df[\"text\"].to_list()\n",
        "test_samples = random.sample(test_sentences, 10)\n",
        "for test_sample in test_samples:\n",
        "  pred_prob = tf.squeeze(model_6.predict([test_sample])) # phải là list\n",
        "  pred = tf.round(pred_prob)\n",
        "  print(f\"Pred: {int(pred)}, Prob: {pred_prob}\")\n",
        "  print(f\"Text:\\n{test_sample}\\n\")\n",
        "  print(\"----\\n\")"
      ],
      "execution_count": null,
      "outputs": [
        {
          "output_type": "stream",
          "name": "stdout",
          "text": [
            "Pred: 1, Prob: 0.538340151309967\n",
            "Text:\n",
            "Flash Flood Watch in effect through 7:00am Thursday morning/12:00pm Thursday afternoon.\n",
            "For: Perry Wayne Cape... http://t.co/fs7vro5seS\n",
            "\n",
            "----\n",
            "\n",
            "Pred: 1, Prob: 0.9250481128692627\n",
            "Text:\n",
            "NONSENSE &gt;&gt; famine memories  -- strong exaggeration of Ukrainian MSM\n",
            "#ukraine #russia #?????????? #sanctions https://t.co/dDOTd7W2o8\n",
            "\n",
            "----\n",
            "\n",
            "Pred: 1, Prob: 0.8940093517303467\n",
            "Text:\n",
            "New warning for Central Hills 1' hail 60 mph winds. NOT affecting Sturgis but could later tonight. #KOTAWeather http://t.co/E8oUxVKuTE\n",
            "\n",
            "----\n",
            "\n",
            "Pred: 0, Prob: 0.07600127905607224\n",
            "Text:\n",
            "@imaginator1dx currently reading after. as you can see after we collided is on my dresser waiting to get read http://t.co/QwrASZ6LHO\n",
            "\n",
            "----\n",
            "\n",
            "Pred: 0, Prob: 0.026800094172358513\n",
            "Text:\n",
            "Don't ruin a good today by thinking about a bad yesterday ????\n",
            "\n",
            "----\n",
            "\n",
            "Pred: 0, Prob: 0.21049749851226807\n",
            "Text:\n",
            "I hope I get electrocuted today at work\n",
            "\n",
            "----\n",
            "\n",
            "Pred: 0, Prob: 0.07167388498783112\n",
            "Text:\n",
            "http://t.co/16EClWrW84 Asics GT-II Super Red 2.0 11 Ronnie Fieg Kith Red White 3M x gel grey volcano 2\n",
            "\n",
            "----\n",
            "\n",
            "Pred: 0, Prob: 0.04366963729262352\n",
            "Text:\n",
            "I swear my eyes be bloody red but bitch I feel amazing.\n",
            "\n",
            "----\n",
            "\n",
            "Pred: 1, Prob: 0.9714540839195251\n",
            "Text:\n",
            "Japan marks 70th anniversary of Hiroshima atomic bombing: Bells tolled in Hiroshima on Thursday as Japan marke... http://t.co/IqAIRPdIhg\n",
            "\n",
            "----\n",
            "\n",
            "Pred: 0, Prob: 0.10844964534044266\n",
            "Text:\n",
            "@USCOURT If 90BLKs&amp;8WHTs colluded 2 take WHT F @USAgov AUTH Hostage&amp;2 make her look BLK w/Bioterrorism&amp;use her lgl/org IDis ID still hers?\n",
            "\n",
            "----\n",
            "\n"
          ]
        }
      ]
    },
    {
      "cell_type": "markdown",
      "metadata": {
        "id": "QcvI5zgJ0Tgp"
      },
      "source": [
        "Các dự đoán của mô hình trông như thế nào trên tập dữ liệu kiểm tra?\n",
        "\n",
        "Cần thực hiện các loại kiểm tra trực quan này thường xuyên nhất có thể để xem qua cách mô hình hoạt động trên dữ liệu chưa biết, rồi cách nó hoạt động trong thử nghiệm thực: Tweets from the wild."
      ]
    },
    {
      "cell_type": "markdown",
      "metadata": {
        "id": "eT1jhk8xdod5"
      },
      "source": [
        "## Dự đoán về Tweets from the wild\n",
        "\n",
        "Làm thế nào để tìm thấy một số Tweet và sử dụng mô hình của chúng ta để dự đoán xem chúng có phải thảm họa không?\n",
        "\n",
        "Để bắt đầu, hãy lấy một trong các Tweet của tôi: [cuộc sống giống như một mô hình ensemble](https://twitter.com/mrdbourke/status/1313649328351662082)."
      ]
    },
    {
      "cell_type": "code",
      "metadata": {
        "id": "qHmXxuPH0aUB"
      },
      "source": [
        "# Biến Tweet thành string\n",
        "daniels_tweet = \"Life like an ensemble: take the best choices from others and make your own\""
      ],
      "execution_count": null,
      "outputs": []
    },
    {
      "cell_type": "markdown",
      "metadata": {
        "id": "uPbZaGznvbEx"
      },
      "source": [
        "Giờ chúng ta sẽ viết một hàm nhỏ nhận mô hình và câu mẫu rồi trả về dự đoán."
      ]
    },
    {
      "cell_type": "code",
      "metadata": {
        "id": "KyH9tn9upjld"
      },
      "source": [
        "def predict_on_sentence(model, sentence):\n",
        "  \"\"\"\n",
        "  Sử dụng mô hình để đưa ra dự đoán về câu.\n",
        "\n",
        "  Trả về câu, nhãn đã dự đoán và xác suất dự đoán.\n",
        "  \"\"\"\n",
        "  pred_prob = model.predict([sentence])\n",
        "  pred_label = tf.squeeze(tf.round(pred_prob)).numpy()\n",
        "  print(f\"Pred: {pred_label}\", \"(real disaster)\" if pred_label > 0 else \"(not real disaster)\", f\"Prob: {pred_prob[0][0]}\")\n",
        "  print(f\"Text:\\n{sentence}\")"
      ],
      "execution_count": null,
      "outputs": []
    },
    {
      "cell_type": "markdown",
      "metadata": {
        "id": "IvCG4RuUvj6d"
      },
      "source": [
        "Tuyệt! Giờ hãy kiểm tra mô hình."
      ]
    },
    {
      "cell_type": "code",
      "metadata": {
        "id": "BxONpJV8qmWP",
        "colab": {
          "base_uri": "https://localhost:8080/"
        },
        "outputId": "ddd8f755-089c-4d6b-a2be-890644d10199"
      },
      "source": [
        "# Đưa ra dự đoán về Tweet from the wild\n",
        "predict_on_sentence(model=model_6, # Sử dụng mô hình USE\n",
        "                    sentence=daniels_tweet)"
      ],
      "execution_count": null,
      "outputs": [
        {
          "output_type": "stream",
          "name": "stdout",
          "text": [
            "Pred: 0.0 (not real disaster) Prob: 0.046233948320150375\n",
            "Text:\n",
            "Life like an ensemble: take the best choices from others and make your own\n"
          ]
        }
      ]
    },
    {
      "cell_type": "markdown",
      "metadata": {
        "id": "tYOfNacw08Of"
      },
      "source": [
        "Mô hình của chúng ta đã dự đoán đúng. Tweet của tôi không phải về thảm họa.\n",
        "\n",
        "Làm thế nào để tìm được một vài Tweet về các thảm họa thực tế?\n",
        "\n",
        "Chẳng hạn như hai Tweet sau về vụ nổ tại Beirut năm 2020."
      ]
    },
    {
      "cell_type": "code",
      "metadata": {
        "id": "AqILBsTK2i9R"
      },
      "source": [
        "# Nguồn - https://twitter.com/BeirutCityGuide/status/1290696551376007168\n",
        "beirut_tweet_1 = \"Reports that the smoke in Beirut sky contains nitric acid, which is toxic. Please share and refrain from stepping outside unless urgent. #Lebanon\"\n",
        "\n",
        "# Nguồn - https://twitter.com/BeirutCityGuide/status/1290773498743476224\n",
        "beirut_tweet_2 = \"#Beirut declared a “devastated city”, two-week state of emergency officially declared. #Lebanon\""
      ],
      "execution_count": null,
      "outputs": []
    },
    {
      "cell_type": "code",
      "metadata": {
        "id": "FvlbHDISrVmX",
        "colab": {
          "base_uri": "https://localhost:8080/"
        },
        "outputId": "6be0b58b-4ac6-4948-cd1e-1d43f4ddb159"
      },
      "source": [
        "# Dự đoán về Tweet 1: diaster\n",
        "predict_on_sentence(model=model_6,\n",
        "                    sentence=beirut_tweet_1)"
      ],
      "execution_count": null,
      "outputs": [
        {
          "output_type": "stream",
          "name": "stdout",
          "text": [
            "Pred: 1.0 (real disaster) Prob: 0.9625465869903564\n",
            "Text:\n",
            "Reports that the smoke in Beirut sky contains nitric acid, which is toxic. Please share and refrain from stepping outside unless urgent. #Lebanon\n"
          ]
        }
      ]
    },
    {
      "cell_type": "code",
      "metadata": {
        "id": "5uKYx11p2zCd",
        "colab": {
          "base_uri": "https://localhost:8080/"
        },
        "outputId": "6b4b7408-f56d-49ed-ff41-584dfe65cf1b"
      },
      "source": [
        "# Dự đoán về Tweet 2: diaster\n",
        "predict_on_sentence(model=model_6,\n",
        "                    sentence=beirut_tweet_2)"
      ],
      "execution_count": null,
      "outputs": [
        {
          "output_type": "stream",
          "name": "stdout",
          "text": [
            "Pred: 1.0 (real disaster) Prob: 0.9678557515144348\n",
            "Text:\n",
            "#Beirut declared a “devastated city”, two-week state of emergency officially declared. #Lebanon\n"
          ]
        }
      ]
    },
    {
      "cell_type": "markdown",
      "metadata": {
        "id": "fczP1dFcwe98"
      },
      "source": [
        "Có vẻ như mô hình của chúng ta đang hoạt động như dự kiến, dự đoán cả hai Tweet về diaster thực sự là thảm họa.\n",
        "\n",
        "> 🔑 **Lưu ý:** Các ví dụ trên được tuyển chọn và là những trường hợp chúng ta dự kiến mô hình hoạt động với chất lượng cao. Đối với các hệ thống sản xuất thực tế, chúng ta sẽ cần liên tục thực hiện các kiểm thử để xem mô hình đang hoạt động như thế nào."
      ]
    },
    {
      "cell_type": "markdown",
      "metadata": {
        "id": "Fp0fkK-tHPRE"
      },
      "source": [
        "## Cân bằng hệ số/tốc độ\n",
        "\n",
        "Một trong những bài kiểm tra cuối cùng mà chúng ta sẽ thực hiện là tìm cân bằng tốc độ/hệ số giữa mô hình tốt nhất và mô hình cơ sở.\n",
        "\n",
        "Tại sao điều này lại quan trọng?\n",
        "\n",
        "Mặc dù chúng ta có thể chọn được mô hình hoạt động tốt nhất thông qua thử nghiệm, nhưng mô hình này có thể không thực sự hiệu quả trong thiết lập sản xuất.\n",
        "\n",
        "Theo cách này, giả sử chúng ta đang sử dụng Twitter và nhận được 1 triệu Tweet mỗi giờ (đây chỉ là con số bịa đặt, con số thực tế cao hơn nhiều). Chúng ta đang cố gắng xây dựng một hệ thống phát hiện thiên tai để đọc các Tweet và cảnh báo các cơ quan chức năng về các thiên tai sát với thực tế.\n",
        "\n",
        "Năng lực máy tính không miễn phí, vì vậy chúng ta bị giới hạn, chỉ có duy nhất một máy tính cho dự án. Ở máy đó, một trong các mô hình sẽ thực hiện 10,000 dự đoán mỗi giây với độ chính xác 80% trong khi một mô hình khác (mô hình lớn hơn) đưa ra 100 dự đoán mỗi giây với độ chính xác 85%.\n",
        "\n",
        "Bạn sẽ chọn mô hình nào?\n",
        "\n",
        "Việc tăng chất lượng của mô hình thứ hai có đáng để bỏ qua năng lực bổ sung không?\n",
        "\n",
        "Tất nhiên, chúng ta có thể thử nhiều tùy chọn thử ở đây, chẳng hạn như gửi càng nhiều Tweet càng tốt cho mô hình đầu tiên, sau đó gửi những Tweet mà mô hình đó ít chắc chắn nhất cho mô hình thứ hai.\n",
        "\n",
        "Vấn đề ở đây là cần minh họa mô hình tốt nhất mà chúng ta tìm thấy thông qua thử nghiệm, có thể không phải mô hình mà chúng ta sử dụng trong quá trình sản xuất.\n",
        "\n",
        "Để cụ thể hơn, hãy viết một hàm lấy một mô hình, một số mẫu và thời gian để mô hình đưa ra dự đoán về các mẫu đó."
      ]
    },
    {
      "cell_type": "code",
      "metadata": {
        "id": "DnXp8DKOp3J6"
      },
      "source": [
        "# Tính thời gian dự đoán\n",
        "import time\n",
        "def pred_timer(model, samples):\n",
        "  \"\"\"\n",
        "  Thời gian một mô hình đưa ra dự đoán trên các mẫu.\n",
        "\n",
        "  Đối số:\n",
        "  ----\n",
        "  model = mô hình đã huấn luyện\n",
        "  sample = danh sách các mẫu\n",
        "\n",
        "  Trả về:\n",
        "  ----\n",
        "  total_time = tổng thời gian đã trôi qua để mô hình đưa ra dự đoán trên các mẫu\n",
        "  time_per_pred = thời gian tính bằng giây cho mỗi mẫu đơn lẻ\n",
        "  \"\"\"\n",
        "  start_time = time.perf_counter() # lấy thời gian bắt đầu\n",
        "  model.predict(samples) # đưa ra dự đoán\n",
        "  end_time = time.perf_counter() # get finish time lấy thời gian kết thúc\n",
        "  total_time = end_time-start_time # tính xem dự đoán mất bao nhiêu thời gian\n",
        "  time_per_pred = total_time/len(val_sentences) # tìm thời gian dự đoán cho mỗi mẫu\n",
        "  return total_time, time_per_pred"
      ],
      "execution_count": null,
      "outputs": []
    },
    {
      "cell_type": "markdown",
      "metadata": {
        "id": "GxWwS73hze6Z"
      },
      "source": [
        "Trông ổn đấy!\n",
        "\n",
        "Bây giờ, hãy sử dụng hàm `pred_timer()` để đánh giá thời gian dự đoán của mô hình hoạt động tốt nhất (`model_6`) và mô hình cơ sở của chúng ta (`model_0`)."
      ]
    },
    {
      "cell_type": "code",
      "metadata": {
        "id": "JMbGMIWd5c9N",
        "colab": {
          "base_uri": "https://localhost:8080/"
        },
        "outputId": "4a151071-956a-4c97-fd95-18392a57a78b"
      },
      "source": [
        "# Tính thời gian dự đoán của TF Hub Sentence Encoder\n",
        "model_6_total_pred_time, model_6_time_per_pred = pred_timer(model_6, val_sentences)\n",
        "model_6_total_pred_time, model_6_time_per_pred"
      ],
      "execution_count": null,
      "outputs": [
        {
          "output_type": "execute_result",
          "data": {
            "text/plain": [
              "(0.3529780789999677, 0.0004632258254592752)"
            ]
          },
          "metadata": {},
          "execution_count": 128
        }
      ]
    },
    {
      "cell_type": "code",
      "metadata": {
        "id": "I4ej2VyT5oQs",
        "colab": {
          "base_uri": "https://localhost:8080/"
        },
        "outputId": "cfbedfa1-282e-4b04-b2c4-1a3b33771b1e"
      },
      "source": [
        "# Tính thời gian dự đoán của Naive Bayes\n",
        "baseline_total_pred_time, baseline_time_per_pred = pred_timer(model_0, val_sentences)\n",
        "baseline_total_pred_time, baseline_time_per_pred"
      ],
      "execution_count": null,
      "outputs": [
        {
          "output_type": "execute_result",
          "data": {
            "text/plain": [
              "(0.018752853000023606, 2.4610043307117593e-05)"
            ]
          },
          "metadata": {},
          "execution_count": 129
        }
      ]
    },
    {
      "cell_type": "markdown",
      "metadata": {
        "id": "nqNnKMxhz8Kl"
      },
      "source": [
        "Có vẻ như với phần cứng hiện tại của chúng ta (trong trường hợp này, tôi đang sử dụng Google Colab notebook), mô hình hoạt động tốt nhất tốn gấp 10 lần thời gian để đưa ra dự đoán như mô hình cơ sở.\n",
        "\n",
        "Thời gian dự đoán thêm đó có đáng không?\n",
        "\n",
        "Hãy so sánh thời gian trên mỗi dự đoán với F1-score của mô hình."
      ]
    },
    {
      "cell_type": "code",
      "metadata": {
        "id": "ANKHEfRN7Nhd",
        "colab": {
          "base_uri": "https://localhost:8080/",
          "height": 458
        },
        "outputId": "a4ca1fff-0b84-41d0-85fd-b7f258d47558"
      },
      "source": [
        "import matplotlib.pyplot as plt\n",
        "\n",
        "plt.figure(figsize=(10, 7))\n",
        "plt.scatter(baseline_time_per_pred, baseline_results[\"f1\"], label=\"baseline\")\n",
        "plt.scatter(model_6_time_per_pred, model_6_results[\"f1\"], label=\"tf_hub_sentence_encoder\")\n",
        "plt.legend()\n",
        "plt.title(\"F1-score versus time per prediction\")\n",
        "plt.xlabel(\"Time per prediction\")\n",
        "plt.ylabel(\"F1-Score\");"
      ],
      "execution_count": null,
      "outputs": [
        {
          "output_type": "display_data",
          "data": {
            "image/png": "[encoded data removed]",
            "text/plain": [
              "<Figure size 720x504 with 1 Axes>"
            ]
          },
          "metadata": {
            "needs_background": "light"
          }
        }
      ]
    },
    {
      "cell_type": "markdown",
      "metadata": {
        "id": "QlHdTqTl0aOq"
      },
      "source": [
        "![](https://raw.githubusercontent.com/mrdbourke/tensorflow-deep-learning/main/images/08-ideal-performance-speed-of-pred-tradeoff-highlighted.png)\n",
        "*Vị trí lý tưởng cho mô hình cân bằng tốc độ và chất lượng (dự đoán nhanh với kết quả tốt).*\n",
        "\n",
        "Tất nhiên, vị trí lý tưởng cho mỗi chấm này là ở phía trên cùng bên trái của biểu đồ (thời gian cho mỗi dự đoán thấp, F1-score cao).\n",
        "\n",
        "Trong trường hợp này, có sự cân bằng rõ ràng về thời gian cho mỗi dự đoán và chất lượng. Mô hình hoạt động tốt nhất của chúng ta có bậc độ lớn dài hơn hơn cho mỗi dự đoán nhưng chỉ dẫn đến việc tăng một số điểm F1-score.\n",
        "\n",
        "Các bạn cần chú ý loại cân bằng này khi kết hợp các mô hình học máy vào ứng dụng của riêng mình."
      ]
    },
    {
      "cell_type": "markdown",
      "metadata": {
        "id": "DJWGI6GpH4Gl"
      },
      "source": [
        "## 🛠 Bài tập thực hành\n",
        "> **Lưu ý:** Các bạn cần làm phần bài tập này để chuẩn bị cho phiên review lab.\n",
        "\n",
        "1. Xây dựng lại, biên dịch và huấn luyện `model_1`, `model_2` và `model_5` bằng [Keras Sequential API](https://www.tensorflow.org/api_docs/python/tf/keras/Sequential) thay vì Functional API.\n",
        "2. Huấn luyện lại mô hình cơ sở với 10% dữ liệu huấn luyện. Mô hình này hoạt động như thế nào so với mô hình Universal Sentence Encoder với 10% dữ liệu huấn luyện?\n",
        "3. Thử tinh chỉnh mô hình TF Hub Universal Sentence Encoder bằng cách đặt `training=True` khi khởi tạo nó dưới dạng Keras layer.\n",
        "\n",
        "```\n",
        "Chúng ta có thể sử dụng encoding layer thay cho text_vectorizer và embedding layer\n",
        "\n",
        "sentence_encoder_layer = hub.KerasLayer(\"https://tfhub.dev/google/universal-sentence-encoder/4\",\n",
        "                                        input_shape=[],\n",
        "                                        dtype=tf.string,\n",
        "                                        trainable=True) # bật huấn luyện để tinh chỉnh mô hình TensorFlow Hub\n",
        "```\n",
        "4. Huấn luyện lại mô hình tốt nhất mà bạn có trên toàn bộ tập huấn luyện (không phân tách kiểm định). Sau đó sử dụng mô hình đã huấn luyện này để đưa ra dự đoán trên tập dữ liệu kiểm tra và định dạng dự đoán sao cho có cùng định dạng với file `sample_submission.csv` từ Kaggle (xem tab Files trên Colab để biết file `sample_submission.csv` trông như thế nào). Sau khi hoàn thành, [hãy gửi tới Kaggle competition](https://www.kaggle.com/c/nlp-getting-started/data), mô hình của bạn hoạt động như thế nào?\n",
        "5. Kết hợp các dự đoán ensemble bằng cách sử dụng majority vote (mode), điều này hoạt động như thế nào so với tính trung bình xác suất dự đoán của từng mô hình?\n",
        "6. Tạo confusion matrix với các dự đoán của mô hình hoạt động tốt nhất trên tập kiểm định và các nhãn gốc kiểm định."
      ]
    },
    {
      "cell_type": "markdown",
      "metadata": {
        "id": "BarVJji8H6M4"
      },
      "source": [
        "## 📖 Tài liệu đọc thêm\n",
        "\n",
        "Để thực hành những gì đã học, bạn nên dành mỗi giờ cho 3 trong số những điều sau đây (tổng cộng 3 giờ, bạn cũng có thể xem qua tất cả nếu muốn), sau đó viết blog về những gì bạn đã học được.\n",
        "\n",
        "* Để có cái nhìn tổng quan về các bài toán khác nhau trong NLP và cách xử lý chúng, hãy đọc qua:\n",
        " * [A Simple Introduction to Natural Language Processing](https://becominghuman.ai/a-simple-introduction-to-natural-language-processing-ea66a1747b32)\n",
        " * [How to solve 90% of NLP problems: a step-by-step guide](https://blog.insightdatascience.com/how-to-solve-90-of-nlp-problems-a-step-by-step-guide-fda605278e4e)\n",
        "* Xem qua [các bài giảng của MIT về Recurrent Neural Networks](https://youtu.be/SEnXr6v2ifU). Đây sẽ là một trong những phần bổ sung tuyệt vời nhất về những gì diễn ra đằng sau mô hình RNN mà bạn đang xây dựng.\n",
        "* Đọc qua trang [word embedding trên website TensorFlow](https://www.tensorflow.org/tutorials/text/word_embeddings), embedding là một bộ phận lớn của NLP. Chúng ta đã đề cập chúng trong suốt notebook này nhưng vẫn nên luyện tập thêm, tốt hơn nên viết toàn bộ code vào notebook mới.\n",
        "* Để biết thêm về RNN trong TensorFlow, hãy đọc và mô phỏng lại [TensorFlow RNN guide](https://www.tensorflow.org/guide/keras/rnn). Chúng tôi đã đề cập nhiều khái niệm trong hướng dẫn này, tuy nhiên, bạn vẫn nên tự viết lại code.\n",
        "* Không phải lúc nào dữ liệu text cũng có một thư viện tốt như dữ liệu chúng ta đã download. Vì vậy, nếu bạn muốn chuẩn bị nhiều nguồn text khác nhau cho các mô hình học sâu TensorFlow, hãy kiểm tra những điều sau:\n",
        " * [Hướng dẫn load text TensorFlow](https://www.tensorflow.org/tutorials/load_data/text).\n",
        "  * [Đọc file text với Python](https://realpython.com/read-write-files-python/) từ Real Python.\n",
        "* Notebook này tập trung vào việc viết code NLP. Để biết NLP với Học sâu diễn ra thế nào về mặt toán học, hãy đọc [Phần 1 của bài giảng Xử lý ngôn ngữ tự nhiên với Học sâu đến từ Standford](https://web.stanford.edu/class/cs224n/readings/cs224n-2019-notes01-wordvecs1.pdf).\n",
        "  * Để tìm hiểu sâu hơn nữa, bạn có thể tham gia toàn bộ khóa học [CS224n](http://web.stanford.edu/class/cs224n/) (Xử lý ngôn ngữ tự nhiên với Học sâu).\n",
        "* Các bài blog hay nên đọc:\n",
        "  * [The Unreasonable Effectiveness of RNNs](https://karpathy.github.io/2015/05/21/rnn-effectiveness/) (Andrei Karpathy) đào sâu vào việc tạo Shakespeare text với RNN.\n",
        "  * [Text Classification with NLP: Tf-Idf vs Word2Vec vs BERT](https://towardsdatascience.com/text-classification-with-nlp-tf-idf-vs-word2vec-vs-bert-41ff868d1794) (Mauro Di Pietro). Tổng quan về các kỹ thuật khác nhau để chuyển text thành số rồi phân loại nó.\n",
        "  * [What are word embeddings?](https://machinelearningmastery.com/what-are-word-embeddings/) từ Machine Learning Mastery.\n",
        "* Các chủ đề đáng cân nhắc khác:\n",
        "  * [Cơ chế Attention](https://jalammar.github.io/visualizing-neural-machine-translation-mechanics-of-seq2seq-models-with-attention/). Đây là thành phần cơ bản của kiến ​​trúc transformer và cũng thường cải thiện cho các mô hình NLP sâu.\n",
        "  * [Kiến trúc Transformer](http://jalammar.github.io/illustrated-transformer/). Kiến trúc mô hình này gần đây đã gây bão cộng đồng NLP, ghi điểm các đánh giá xếp hạng tân tiến nhất. Tuy nhiên, cần xử lý thêm để bắt đầu, thư viện [HuggingFace Models (trước đây là HuggingFace Transformers)](https://huggingface.co/models/) có lẽ là khởi đầu tốt nhất của bạn.\n",
        "    * Và bây giờ [HuggingFace cũng có khóa học riêng](https://huggingface.co/course/chapter1) về cách hoạt động của thư viện! Tôi chưa thực hiện được điều đó, nhưng bất cứ thứ gì HuggingFace làm ra đều ở đẳng cấp thế giới.\n",
        "\n"
      ]
    },
    {
      "cell_type": "markdown",
      "metadata": {
        "id": "CLzfxgXkzEdr"
      },
      "source": [
        "> 📖 **Tài liệu:** Xem toàn bộ tài liệu khóa học trên GitHub: https://github.com/mrdbourke/tensorflow-deep-learning"
      ]
    }
  ]
}