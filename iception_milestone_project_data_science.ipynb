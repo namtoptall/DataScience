{
  "cells": [
    {
      "cell_type": "markdown",
      "metadata": {
        "id": "view-in-github",
        "colab_type": "text"
      },
      "source": [
        "<a href=\"https://colab.research.google.com/github/namtoptall/DataScience/blob/main/iception_milestone_project_data_science.ipynb\" target=\"_parent\"><img src=\"https://colab.research.google.com/assets/colab-badge.svg\" alt=\"Open In Colab\"/></a>"
      ]
    },
    {
      "cell_type": "markdown",
      "source": [
        "# Xây dựng hệ thống gợi ý hoa"
      ],
      "metadata": {
        "id": "zXuC-dwJKcV5"
      }
    },
    {
      "cell_type": "markdown",
      "metadata": {
        "id": "NG3zvnfC4uRZ"
      },
      "source": [
        "## Huấn luyện mô hình : Model training\n",
        "**Lưu ý ⚠ em huấn luyện mô hình trên google colab nên nếu muốn chạy lại toàn bộ thì cần set up những tài khoản sau :**\n",
        "> tài khoản kaggle và kaggle API cho việc download bộ dữ liệu\n",
        "\n",
        "> tài khoản google Drive để kết nối với kho dữ liệu cá nhân\n",
        "\n"
      ]
    },
    {
      "cell_type": "markdown",
      "metadata": {
        "id": "JQctby_h4-BS"
      },
      "source": [
        "### kết nối với google drive và kaggle"
      ]
    },
    {
      "cell_type": "markdown",
      "metadata": {
        "id": "pRAR9CURNANf"
      },
      "source": [
        "Với kaggle : thực hiện tải tệp kaggle.json(Chứa thông tin tài khoản) lên"
      ]
    },
    {
      "cell_type": "code",
      "execution_count": null,
      "metadata": {
        "colab": {
          "base_uri": "https://localhost:8080/",
          "height": 38
        },
        "id": "yzGImIFS59dX",
        "outputId": "59ef4c2f-1362-4df2-bfa2-8500dbb1086e"
      },
      "outputs": [
        {
          "output_type": "display_data",
          "data": {
            "text/plain": [
              "<IPython.core.display.HTML object>"
            ],
            "text/html": [
              "\n",
              "     <input type=\"file\" id=\"files-13734925-2269-486c-8ff6-25ea90d69224\" name=\"files[]\" multiple disabled\n",
              "        style=\"border:none\" />\n",
              "     <output id=\"result-13734925-2269-486c-8ff6-25ea90d69224\">\n",
              "      Upload widget is only available when the cell has been executed in the\n",
              "      current browser session. Please rerun this cell to enable.\n",
              "      </output>\n",
              "      <script>// Copyright 2017 Google LLC\n",
              "//\n",
              "// Licensed under the Apache License, Version 2.0 (the \"License\");\n",
              "// you may not use this file except in compliance with the License.\n",
              "// You may obtain a copy of the License at\n",
              "//\n",
              "//      http://www.apache.org/licenses/LICENSE-2.0\n",
              "//\n",
              "// Unless required by applicable law or agreed to in writing, software\n",
              "// distributed under the License is distributed on an \"AS IS\" BASIS,\n",
              "// WITHOUT WARRANTIES OR CONDITIONS OF ANY KIND, either express or implied.\n",
              "// See the License for the specific language governing permissions and\n",
              "// limitations under the License.\n",
              "\n",
              "/**\n",
              " * @fileoverview Helpers for google.colab Python module.\n",
              " */\n",
              "(function(scope) {\n",
              "function span(text, styleAttributes = {}) {\n",
              "  const element = document.createElement('span');\n",
              "  element.textContent = text;\n",
              "  for (const key of Object.keys(styleAttributes)) {\n",
              "    element.style[key] = styleAttributes[key];\n",
              "  }\n",
              "  return element;\n",
              "}\n",
              "\n",
              "// Max number of bytes which will be uploaded at a time.\n",
              "const MAX_PAYLOAD_SIZE = 100 * 1024;\n",
              "\n",
              "function _uploadFiles(inputId, outputId) {\n",
              "  const steps = uploadFilesStep(inputId, outputId);\n",
              "  const outputElement = document.getElementById(outputId);\n",
              "  // Cache steps on the outputElement to make it available for the next call\n",
              "  // to uploadFilesContinue from Python.\n",
              "  outputElement.steps = steps;\n",
              "\n",
              "  return _uploadFilesContinue(outputId);\n",
              "}\n",
              "\n",
              "// This is roughly an async generator (not supported in the browser yet),\n",
              "// where there are multiple asynchronous steps and the Python side is going\n",
              "// to poll for completion of each step.\n",
              "// This uses a Promise to block the python side on completion of each step,\n",
              "// then passes the result of the previous step as the input to the next step.\n",
              "function _uploadFilesContinue(outputId) {\n",
              "  const outputElement = document.getElementById(outputId);\n",
              "  const steps = outputElement.steps;\n",
              "\n",
              "  const next = steps.next(outputElement.lastPromiseValue);\n",
              "  return Promise.resolve(next.value.promise).then((value) => {\n",
              "    // Cache the last promise value to make it available to the next\n",
              "    // step of the generator.\n",
              "    outputElement.lastPromiseValue = value;\n",
              "    return next.value.response;\n",
              "  });\n",
              "}\n",
              "\n",
              "/**\n",
              " * Generator function which is called between each async step of the upload\n",
              " * process.\n",
              " * @param {string} inputId Element ID of the input file picker element.\n",
              " * @param {string} outputId Element ID of the output display.\n",
              " * @return {!Iterable<!Object>} Iterable of next steps.\n",
              " */\n",
              "function* uploadFilesStep(inputId, outputId) {\n",
              "  const inputElement = document.getElementById(inputId);\n",
              "  inputElement.disabled = false;\n",
              "\n",
              "  const outputElement = document.getElementById(outputId);\n",
              "  outputElement.innerHTML = '';\n",
              "\n",
              "  const pickedPromise = new Promise((resolve) => {\n",
              "    inputElement.addEventListener('change', (e) => {\n",
              "      resolve(e.target.files);\n",
              "    });\n",
              "  });\n",
              "\n",
              "  const cancel = document.createElement('button');\n",
              "  inputElement.parentElement.appendChild(cancel);\n",
              "  cancel.textContent = 'Cancel upload';\n",
              "  const cancelPromise = new Promise((resolve) => {\n",
              "    cancel.onclick = () => {\n",
              "      resolve(null);\n",
              "    };\n",
              "  });\n",
              "\n",
              "  // Wait for the user to pick the files.\n",
              "  const files = yield {\n",
              "    promise: Promise.race([pickedPromise, cancelPromise]),\n",
              "    response: {\n",
              "      action: 'starting',\n",
              "    }\n",
              "  };\n",
              "\n",
              "  cancel.remove();\n",
              "\n",
              "  // Disable the input element since further picks are not allowed.\n",
              "  inputElement.disabled = true;\n",
              "\n",
              "  if (!files) {\n",
              "    return {\n",
              "      response: {\n",
              "        action: 'complete',\n",
              "      }\n",
              "    };\n",
              "  }\n",
              "\n",
              "  for (const file of files) {\n",
              "    const li = document.createElement('li');\n",
              "    li.append(span(file.name, {fontWeight: 'bold'}));\n",
              "    li.append(span(\n",
              "        `(${file.type || 'n/a'}) - ${file.size} bytes, ` +\n",
              "        `last modified: ${\n",
              "            file.lastModifiedDate ? file.lastModifiedDate.toLocaleDateString() :\n",
              "                                    'n/a'} - `));\n",
              "    const percent = span('0% done');\n",
              "    li.appendChild(percent);\n",
              "\n",
              "    outputElement.appendChild(li);\n",
              "\n",
              "    const fileDataPromise = new Promise((resolve) => {\n",
              "      const reader = new FileReader();\n",
              "      reader.onload = (e) => {\n",
              "        resolve(e.target.result);\n",
              "      };\n",
              "      reader.readAsArrayBuffer(file);\n",
              "    });\n",
              "    // Wait for the data to be ready.\n",
              "    let fileData = yield {\n",
              "      promise: fileDataPromise,\n",
              "      response: {\n",
              "        action: 'continue',\n",
              "      }\n",
              "    };\n",
              "\n",
              "    // Use a chunked sending to avoid message size limits. See b/62115660.\n",
              "    let position = 0;\n",
              "    do {\n",
              "      const length = Math.min(fileData.byteLength - position, MAX_PAYLOAD_SIZE);\n",
              "      const chunk = new Uint8Array(fileData, position, length);\n",
              "      position += length;\n",
              "\n",
              "      const base64 = btoa(String.fromCharCode.apply(null, chunk));\n",
              "      yield {\n",
              "        response: {\n",
              "          action: 'append',\n",
              "          file: file.name,\n",
              "          data: base64,\n",
              "        },\n",
              "      };\n",
              "\n",
              "      let percentDone = fileData.byteLength === 0 ?\n",
              "          100 :\n",
              "          Math.round((position / fileData.byteLength) * 100);\n",
              "      percent.textContent = `${percentDone}% done`;\n",
              "\n",
              "    } while (position < fileData.byteLength);\n",
              "  }\n",
              "\n",
              "  // All done.\n",
              "  yield {\n",
              "    response: {\n",
              "      action: 'complete',\n",
              "    }\n",
              "  };\n",
              "}\n",
              "\n",
              "scope.google = scope.google || {};\n",
              "scope.google.colab = scope.google.colab || {};\n",
              "scope.google.colab._files = {\n",
              "  _uploadFiles,\n",
              "  _uploadFilesContinue,\n",
              "};\n",
              "})(self);\n",
              "</script> "
            ]
          },
          "metadata": {}
        }
      ],
      "source": [
        "from google.colab import files\n",
        "files.upload()  # Thực hiện tải tệp kaggle.json lên từ máy tính (phải có tài khoản kaggle nha)"
      ]
    },
    {
      "cell_type": "code",
      "execution_count": null,
      "metadata": {
        "id": "BmMYK_0J9BfM"
      },
      "outputs": [],
      "source": [
        "!mkdir -p ~/.kaggle\n",
        "!cp kaggle.json ~/.kaggle/\n",
        "!chmod 600 ~/.kaggle/kaggle.json"
      ]
    },
    {
      "cell_type": "markdown",
      "metadata": {
        "id": "_mfPKh8gNBzu"
      },
      "source": [
        "Mount google drive content vào trong notebook"
      ]
    },
    {
      "cell_type": "code",
      "execution_count": null,
      "metadata": {
        "id": "W-B1BkMA4sxI"
      },
      "outputs": [],
      "source": [
        "from google.colab import drive\n",
        "drive.mount('/content/drive')"
      ]
    },
    {
      "cell_type": "code",
      "execution_count": null,
      "metadata": {
        "id": "SyP0yVL86dM2"
      },
      "outputs": [],
      "source": [
        "!kaggle datasets download -d namdz242221/dsp305x-01-a-vn-dataset"
      ]
    },
    {
      "cell_type": "markdown",
      "metadata": {
        "id": "Z70Ej4nDNF6z"
      },
      "source": [
        "unzip the dataset"
      ]
    },
    {
      "cell_type": "code",
      "execution_count": null,
      "metadata": {
        "collapsed": true,
        "id": "lMB35q466tv6"
      },
      "outputs": [],
      "source": [
        "!unzip dsp305x-01-a-vn-dataset.zip -d /content/dataset\n"
      ]
    },
    {
      "cell_type": "code",
      "execution_count": null,
      "metadata": {
        "id": "Xs8fUB7M9KnD"
      },
      "outputs": [],
      "source": [
        "!ls /content/dataset"
      ]
    },
    {
      "cell_type": "markdown",
      "metadata": {
        "id": "oca26Z0eNIwa"
      },
      "source": [
        "check content trong tệp"
      ]
    },
    {
      "cell_type": "code",
      "execution_count": null,
      "metadata": {
        "id": "TQiqcG789jv6"
      },
      "outputs": [],
      "source": [
        "!ls /content/dataset"
      ]
    },
    {
      "cell_type": "code",
      "execution_count": null,
      "metadata": {
        "id": "hgy5LhAQ9n_q"
      },
      "outputs": [],
      "source": [
        "import os\n",
        "dataset_dir = \"/content/dataset\"\n",
        "for root, dirs, files in os.walk(dataset_dir):\n",
        "    print(root, \"contains\", len(files), \"files.\")\n"
      ]
    },
    {
      "cell_type": "markdown",
      "metadata": {
        "id": "7hBhmkWzNO0R"
      },
      "source": [
        "check shape của từng ảnh"
      ]
    },
    {
      "cell_type": "code",
      "execution_count": null,
      "metadata": {
        "id": "tQhoXhc6_32h"
      },
      "outputs": [],
      "source": [
        "from PIL import Image\n",
        "import os\n",
        "from collections import defaultdict\n",
        "\n",
        "def check_unique_shapes(dataset_dir):\n",
        "    # count the number of difference shapes\n",
        "    shape_counts = defaultdict(int)\n",
        "\n",
        "    for root, dirs, files in os.walk(dataset_dir):\n",
        "        for file in files:\n",
        "            if file.endswith(('.png', '.jpg', '.jpeg')):\n",
        "                img_path = os.path.join(root, file)\n",
        "                try:\n",
        "                    with Image.open(img_path) as img:\n",
        "                        shape = img.size  # Lấy kích thước (chiều rộng, chiều cao) của hình ảnh\n",
        "                        shape_counts[shape] += 1\n",
        "                except Exception as e:\n",
        "                    print(f\"Error processing image {img_path}: {e}\")\n",
        "\n",
        "    return shape_counts\n",
        "\n",
        "# Ví dụ sử dụng\n",
        "dataset_dir = \"/content/dataset\"\n",
        "unique_shapes = check_unique_shapes(dataset_dir)\n",
        "\n",
        "# In ra các shape và số lần xuất hiện\n",
        "for shape, count in unique_shapes.items():\n",
        "    print(f\"Shape {shape} appears {count} times.\")\n"
      ]
    },
    {
      "cell_type": "markdown",
      "metadata": {
        "id": "yG-b_YldDat7"
      },
      "source": [
        "👉 shape của những ảnh trong dataset là 224,224"
      ]
    },
    {
      "cell_type": "code",
      "execution_count": null,
      "metadata": {
        "id": "GD6rBKMINVzZ"
      },
      "outputs": [],
      "source": [
        "# xóa file metadata.json (chỉ có tác dụng khi upload data lên kaggle.)\n",
        "!rm /content/dataset/dataset-metadata.json"
      ]
    },
    {
      "cell_type": "markdown",
      "metadata": {
        "id": "jVJIIgXKsJVS"
      },
      "source": [
        "### Pre-check"
      ]
    },
    {
      "cell_type": "markdown",
      "metadata": {
        "id": "Ocv4VriCPPIF"
      },
      "source": [
        "tải file .utils/ETL_functions.py từ thư mục đồ án"
      ]
    },
    {
      "cell_type": "code",
      "execution_count": null,
      "metadata": {
        "collapsed": true,
        "id": "pmLmW1T87Gry"
      },
      "outputs": [],
      "source": [
        "from google.colab import files\n",
        "files.upload()  # Thực hiện tải ETL_functions.py lên từ máy tính"
      ]
    },
    {
      "cell_type": "code",
      "execution_count": null,
      "metadata": {
        "id": "xSX5662UhEHg"
      },
      "outputs": [],
      "source": [
        "import ETL_functions as etl\n",
        "from ETL_functions import *"
      ]
    },
    {
      "cell_type": "markdown",
      "metadata": {
        "id": "-MrVOiNZJP6I"
      },
      "source": [
        "### Mở bộ dữ liệu hoa"
      ]
    },
    {
      "cell_type": "code",
      "execution_count": null,
      "metadata": {
        "id": "KFugpiDMsfNS"
      },
      "outputs": [],
      "source": [
        "train_path = \"/content/dataset/DSP305x_01-A_VN-dataset/train\"\n",
        "test_path = \"/content/dataset/DSP305x_01-A_VN-dataset/test\"\n",
        "val_path = \"/content/dataset/DSP305x_01-A_VN-dataset/val\""
      ]
    },
    {
      "cell_type": "code",
      "execution_count": null,
      "metadata": {
        "id": "Tmet8qhUhZhH"
      },
      "outputs": [],
      "source": [
        "train= etl.load_dataset(train_path)\n",
        "test = etl.load_dataset(test_path)\n",
        "val = etl.load_dataset(val_path)\n",
        "train"
      ]
    },
    {
      "cell_type": "markdown",
      "metadata": {
        "id": "2GWCoYNrJkxg"
      },
      "source": [
        "### Tạo model"
      ]
    },
    {
      "cell_type": "markdown",
      "metadata": {
        "id": "vpipAca4Jm6i"
      },
      "source": [
        "#### thiết lập mixed_precision\n"
      ]
    },
    {
      "cell_type": "code",
      "execution_count": null,
      "metadata": {
        "id": "jTD7b5yYHB_s"
      },
      "outputs": [],
      "source": [
        "# Enable mixed precision training\n",
        "from tensorflow.keras import mixed_precision\n",
        "mixed_precision.set_global_policy(policy=\"mixed_float16\")\n",
        "mixed_precision.global_policy()"
      ]
    },
    {
      "cell_type": "code",
      "execution_count": null,
      "metadata": {
        "id": "yR5LNx4Wxpmh"
      },
      "outputs": [],
      "source": [
        "train.shape, test.shape, val.shape"
      ]
    },
    {
      "cell_type": "markdown",
      "metadata": {
        "id": "U5RR8hRnJtTu"
      },
      "source": [
        "#### Tạo tensorboard callbacks"
      ]
    },
    {
      "cell_type": "code",
      "execution_count": null,
      "metadata": {
        "id": "VC2zu5yNtWLD"
      },
      "outputs": [],
      "source": [
        "import tensorflow as tf\n",
        "import datetime\n",
        "from tensorflow.keras.applications import EfficientNetB2, InceptionV3, VGG16\n",
        "from tensorflow.keras.layers import Dense, GlobalAveragePooling2D, Dropout, Input, Flatten, BatchNormalization\n",
        "from tensorflow.keras.models import Model\n",
        "from tensorflow.keras.preprocessing.image import ImageDataGenerator\n",
        "from tensorflow.keras.callbacks import EarlyStopping, ModelCheckpoint, TensorBoard\n",
        "import matplotlib.pyplot as plt\n",
        "import os"
      ]
    },
    {
      "cell_type": "code",
      "execution_count": null,
      "metadata": {
        "id": "dEWs-ru2HEFA"
      },
      "outputs": [],
      "source": [
        "# Thiết lập thư mục cho TensorBoard logs\n",
        "log_dir = \"logs/fit\"\n",
        "tensorboard_callback = TensorBoard(log_dir=log_dir, histogram_freq=1)\n",
        "\n",
        "# Thiết lập checkpoint để lưu trọng số mô hình tốt nhất\n",
        "checkpoint_dir = './model_checkpoints'\n",
        "os.makedirs(checkpoint_dir, exist_ok=True)\n",
        "\n",
        "xception_checkpoint_path = os.path.join(checkpoint_dir, 'xception_best_weights.h5')\n",
        "inception_checkpoint_path = os.path.join(checkpoint_dir, 'inception_best_weights.h5')\n",
        "vgg16_checkpoint_path = os.path.join(checkpoint_dir, 'vgg16_best_weights.h5')\n",
        "\n",
        "xception_checkpoint = ModelCheckpoint(filepath=xception_checkpoint_path, save_weights_only=True, monitor='val_accuracy', mode='max', save_best_only=True, verbose=1)\n",
        "inception_checkpoint = ModelCheckpoint(filepath=inception_checkpoint_path, save_weights_only=True, monitor='val_accuracy', mode='max', save_best_only=True, verbose=1)\n",
        "vgg16_checkpoint = ModelCheckpoint(filepath=vgg16_checkpoint_path, save_weights_only=True, monitor='val_accuracy', mode='max', save_best_only=True, verbose=1)\n"
      ]
    },
    {
      "cell_type": "markdown",
      "source": [
        "buffer"
      ],
      "metadata": {
        "id": "_BLDegZKKxGt"
      }
    },
    {
      "cell_type": "markdown",
      "source": [
        "#### ImageDataGenerator : load ảnh"
      ],
      "metadata": {
        "id": "9X4dGFi1I5bq"
      }
    },
    {
      "cell_type": "code",
      "execution_count": null,
      "metadata": {
        "id": "rlo6mtEYpkmG"
      },
      "outputs": [],
      "source": [
        "#\n",
        "datagen = ImageDataGenerator(\n",
        "    rescale=1.0/255,\n",
        ")"
      ]
    },
    {
      "cell_type": "code",
      "execution_count": null,
      "metadata": {
        "id": "aSXmuVYL0knc"
      },
      "outputs": [],
      "source": [
        "# Create iterators for train, validation, and test data\n",
        "train_generator = datagen.flow_from_dataframe(train, x_col='ImgPath', y_col='Class', target_size=(224, 224),batch_size=8)\n",
        "val_generator = datagen.flow_from_dataframe(val, x_col='ImgPath', y_col='Class', target_size=(224, 224), batch_size = 8)\n",
        "test_generator = datagen.flow_from_dataframe(test, x_col='ImgPath', y_col='Class', target_size=(224, 224), batch_size=8)\n"
      ]
    },
    {
      "cell_type": "code",
      "execution_count": null,
      "metadata": {
        "id": "kj8tWHUZ5S-p"
      },
      "outputs": [],
      "source": [
        "for data_batch, labels_batch in train_generator:\n",
        "    print(\"Data batch shape:\", data_batch.shape)\n",
        "    print(\"Labels batch shape:\", labels_batch.shape)\n",
        "    break"
      ]
    },
    {
      "cell_type": "markdown",
      "source": [
        "#### Build model"
      ],
      "metadata": {
        "id": "Nb9_66GjJLAR"
      }
    },
    {
      "cell_type": "code",
      "execution_count": null,
      "metadata": {
        "id": "BAagLWKI1SdL"
      },
      "outputs": [],
      "source": [
        "def build_model(base_model, num_classes):\n",
        "    # Freeze the base model\n",
        "    base_model.trainable = False\n",
        "\n",
        "    # Define the input layer\n",
        "    inputs = Input(shape=(224, 224, 3))\n",
        "\n",
        "    # Pass the input through the base model\n",
        "    x = base_model(inputs, training=False)\n",
        "\n",
        "    # Global Average Pooling for downsampling the feature map\n",
        "    x = GlobalAveragePooling2D()(x)\n",
        "\n",
        "    # Flatten the output for the fully connected layers\n",
        "    x = Flatten()(x)\n",
        "\n",
        "    # Add a fully connected dense layer with ReLU activation\n",
        "    x = Dense(128, activation=\"relu\")(x)\n",
        "\n",
        "    # Add a dropout layer for regularization\n",
        "    x = Dropout(0.5)(x)\n",
        "\n",
        "    # Final output layer with softmax activation for multi-class classification\n",
        "    outputs = Dense(num_classes, activation=\"softmax\")(x)\n",
        "\n",
        "    # Create the model\n",
        "    model = Model(inputs, outputs)\n",
        "    return model\n"
      ]
    },
    {
      "cell_type": "markdown",
      "source": [
        "#### Compile model  "
      ],
      "metadata": {
        "id": "XOBRYfYNJNue"
      }
    },
    {
      "cell_type": "code",
      "execution_count": null,
      "metadata": {
        "id": "1LXU_meX22gV"
      },
      "outputs": [],
      "source": [
        "# Number of classes (e.g., 10 classes for 10 flower types)\n",
        "num_classes = 10\n",
        "\n",
        "# Initialize the pre-trained models\n",
        "vgg16_model = build_model(VGG16(weights=\"imagenet\", include_top=False), num_classes)\n",
        "xception_model = build_model(EfficientNetB2(weights=\"imagenet\", include_top=False), num_classes)\n",
        "inception_model = build_model(InceptionV3(weights=\"imagenet\", include_top=False), num_classes)\n",
        "\n",
        "# Compile the models with optimizer, loss, and metrics\n",
        "vgg16_model.compile(optimizer=\"adam\", loss=\"categorical_crossentropy\", metrics=[\"accuracy\"])\n",
        "xception_model.compile(optimizer=\"adam\", loss=\"categorical_crossentropy\", metrics=[\"accuracy\"])\n",
        "inception_model.compile(optimizer=\"adam\", loss=\"categorical_crossentropy\", metrics=[\"accuracy\"])\n"
      ]
    },
    {
      "cell_type": "code",
      "execution_count": null,
      "metadata": {
        "id": "RXTUao2suYmb"
      },
      "outputs": [],
      "source": [
        "vgg16_model.summary()"
      ]
    },
    {
      "cell_type": "code",
      "execution_count": null,
      "metadata": {
        "id": "9wps58WHplTr"
      },
      "outputs": [],
      "source": [
        "print(\"Training VGG16 model...\")\n",
        "history_vgg = vgg16_model.fit(train_generator,\n",
        "                              epochs=10,\n",
        "                              validation_data=val_generator,\n",
        "                              callbacks=[vgg16_checkpoint])"
      ]
    },
    {
      "cell_type": "code",
      "execution_count": null,
      "metadata": {
        "id": "TiuRaWRnuWoe"
      },
      "outputs": [],
      "source": [
        "xception_model.summary()"
      ]
    },
    {
      "cell_type": "code",
      "execution_count": null,
      "metadata": {
        "id": "0TJDFyQwpj66"
      },
      "outputs": [],
      "source": [
        "print(\"Training InceptionV3 model...\")\n",
        "\n",
        "history_xception = xception_model.fit(train_generator,\n",
        "                                  epochs=10,\n",
        "                                  validation_data=val_generator,\n",
        "                                  callbacks=[xception_checkpoint])"
      ]
    },
    {
      "cell_type": "code",
      "execution_count": null,
      "metadata": {
        "id": "Pwb_A287uUgx"
      },
      "outputs": [],
      "source": [
        "inception_model.summary()"
      ]
    },
    {
      "cell_type": "code",
      "execution_count": null,
      "metadata": {
        "id": "YoPlI0EU3FAa"
      },
      "outputs": [],
      "source": [
        "# Train the models\n",
        "print(\"Training EfficientNetB0 model...\")\n",
        "\n",
        "history_inception = inception_model.fit(train_generator, epochs=10,\n",
        "                                     validation_data=val_generator,\n",
        "                                     callbacks=[inception_checkpoint])\n"
      ]
    },
    {
      "cell_type": "markdown",
      "source": [
        "### So sánh và chọn model tốt nhất cho bước tiếp theo"
      ],
      "metadata": {
        "id": "7q_jUIhvIw-y"
      }
    },
    {
      "cell_type": "code",
      "source": [
        "import matplotlib.pyplot as plt\n",
        "\n",
        "def plot_history(histories, titles):\n",
        "    for i, history in enumerate(histories):\n",
        "        plt.figure(figsize=(12, 4))\n",
        "        # Plot accuracy\n",
        "        plt.subplot(1, 2, 1)\n",
        "        plt.plot(history.history['accuracy'], label='train_accuracy')\n",
        "        plt.plot(history.history['val_accuracy'], label='val_accuracy')\n",
        "        plt.title(f'{titles[i]} - Accuracy')\n",
        "        plt.xlabel('Epoch')\n",
        "        plt.ylabel('Accuracy')\n",
        "        plt.legend()\n",
        "\n",
        "        # Plot loss\n",
        "        plt.subplot(1, 2, 2)\n",
        "        plt.plot(history.history['loss'], label='train_loss')\n",
        "        plt.plot(history.history['val_loss'], label='val_loss')\n",
        "        plt.title(f'{titles[i]} - Loss')\n",
        "        plt.xlabel('Epoch')\n",
        "        plt.ylabel('Loss')\n",
        "        plt.legend()\n",
        "\n",
        "        plt.show()\n",
        "\n",
        "# Plot histories\n",
        "plot_history([history_inception, history_vgg, history_xception],\n",
        "             ['InceptionV3', 'VGG16', 'Xception_model'])"
      ],
      "metadata": {
        "id": "t2OmB1d6L8mr"
      },
      "execution_count": null,
      "outputs": []
    },
    {
      "cell_type": "markdown",
      "source": [
        "## Load model để fine-tune"
      ],
      "metadata": {
        "id": "kMUcUhjhRU-h"
      }
    },
    {
      "cell_type": "code",
      "source": [
        "from tensorflow.keras.models import load_model\n",
        "\n",
        "# Thay 'path_to_model' bằng đường dẫn chính xác đến file mô hình đã lưu\n",
        "model_path = '/content/drive/MyDrive/Funix_Capstione_model/xception_finetuned_model.h5'\n",
        "model = load_model(model_path)\n"
      ],
      "metadata": {
        "id": "4Aws_pFgMaAN"
      },
      "execution_count": null,
      "outputs": []
    },
    {
      "cell_type": "code",
      "source": [
        "# In ra tên của mỗi lớp và trạng thái có thể train (trainable) của chúng\n",
        "for layer in model.layers:\n",
        "    print(f'Layer Name: {layer.name}, Trainable: {layer.trainable}')"
      ],
      "metadata": {
        "id": "r0bEqgJLPu1J"
      },
      "execution_count": null,
      "outputs": []
    },
    {
      "cell_type": "markdown",
      "source": [
        "### Mở thêm vài layer để train"
      ],
      "metadata": {
        "id": "JAtMYMSTP4nK"
      }
    },
    {
      "cell_type": "code",
      "source": [
        "# Giả sử Xception là một lớp cơ sở trong mô hình của bạn\n",
        "xception_base = model.get_layer('xception')\n",
        "# Mở khóa các lớp trong Block13 và Block14\n",
        "for layer in xception_base.layers:\n",
        "    if 'block13' in layer.name or 'block14' in layer.name:\n",
        "        layer.trainable = True\n",
        "    else:\n",
        "        layer.trainable = False  # Giữ nguyên các lớp khác không thay đổi\n"
      ],
      "metadata": {
        "id": "dssRsDImP0RU"
      },
      "execution_count": null,
      "outputs": []
    },
    {
      "cell_type": "code",
      "source": [
        "# In ra trạng thái của mỗi lớp\n",
        "for layer in model.layers:\n",
        "    print(f'Layer: {layer.name}, Trainable: {layer.trainable}')"
      ],
      "metadata": {
        "id": "SrHPDALlP1kF"
      },
      "execution_count": null,
      "outputs": []
    },
    {
      "cell_type": "markdown",
      "source": [
        "### Tạo model mới"
      ],
      "metadata": {
        "id": "b60rM5O3UZ_d"
      }
    },
    {
      "cell_type": "code",
      "source": [
        "# Thêm BatchNormalization và Dropout vào các lớp đã mở khóa\n",
        "x = xception_model.get_layer('flatten_2').output\n",
        "x = BatchNormalization()(x)\n",
        "x = Dense(128, activation=\"relu\", kernel_regularizer=tf.keras.regularizers.l2(0.001))(x)\n",
        "x = Dropout(0.5)(x)\n",
        "outputs = Dense(train_generator.num_classes, activation='softmax')(x)\n",
        "\n",
        "# Tạo mô hình mới với các lớp đã được fine-tune\n",
        "fine_tuned_model = Model(inputs=xception_model.input, outputs=outputs)\n",
        "\n",
        "# Biên dịch lại mô hình\n",
        "fine_tuned_model.compile(optimizer=tf.keras.optimizers.Adam(learning_rate=1e-5),\n",
        "                         loss='categorical_crossentropy',\n",
        "                         metrics=['accuracy'])\n"
      ],
      "metadata": {
        "id": "zBbPYFGaUHX5"
      },
      "execution_count": null,
      "outputs": []
    },
    {
      "cell_type": "markdown",
      "source": [
        "### Thiết lập checkpoint và callback cho finetune model"
      ],
      "metadata": {
        "id": "4rrmpZ9bUica"
      }
    },
    {
      "cell_type": "code",
      "source": [
        "checkpoint_dir = './xception_finetuned.keras'\n",
        "os.makedirs(checkpoint_dir, exist_ok=True)\n",
        "\n",
        "fine_tune_checkpoint = ModelCheckpoint(filepath=os.path.join(checkpoint_dir, 'xception_finetune_best_weights.weights.h5'),\n",
        "                                       save_weights_only=True,\n",
        "                                       monitor='val_loss',\n",
        "                                       mode='min',\n",
        "                                       save_best_only=True,\n",
        "                                       verbose=1)\n",
        "\n",
        "early_stopping = EarlyStopping(monitor='val_loss', patience=10, restore_best_weights=True)\n",
        "\n",
        "tensorboard_callback = TensorBoard(log_dir=\"logs/fit_finetune\", histogram_freq=1)\n"
      ],
      "metadata": {
        "id": "CcQYUEkUUh4l"
      },
      "execution_count": null,
      "outputs": []
    },
    {
      "cell_type": "markdown",
      "source": [
        "### Data augmentation"
      ],
      "metadata": {
        "id": "cPjHCT5hRcPU"
      }
    },
    {
      "cell_type": "code",
      "source": [
        "finetune_datagen = ImageDataGenerator(\n",
        "    rescale=1./255,\n",
        "    rotation_range=40,\n",
        "    width_shift_range=0.2,\n",
        "    height_shift_range=0.2,\n",
        "    shear_range=0.2,\n",
        "    zoom_range=0.2,\n",
        "    horizontal_flip=True,\n",
        "    fill_mode='nearest'\n",
        ")\n",
        "finetune_train_generator = finetune_datagen.flow_from_dataframe(train, x_col='ImgPath', y_col='Class', target_size=(224, 224),batch_size=8)"
      ],
      "metadata": {
        "id": "2RG_7erBQ_Tf"
      },
      "execution_count": null,
      "outputs": []
    },
    {
      "cell_type": "markdown",
      "source": [
        "### Fit model"
      ],
      "metadata": {
        "id": "JCAjRboVUo1U"
      }
    },
    {
      "cell_type": "code",
      "source": [
        "fine_tuned_model.summary()"
      ],
      "metadata": {
        "id": "6ZHFJJSvUeES"
      },
      "execution_count": null,
      "outputs": []
    },
    {
      "cell_type": "markdown",
      "source": [
        "#### tính toán steps"
      ],
      "metadata": {
        "id": "DF04jEf7Ven1"
      }
    },
    {
      "cell_type": "code",
      "source": [
        "num_train_samples = int(20371 * 0.8)  # 80% dữ liệu cho huấn luyện\n",
        "num_val_samples = int(20371 * 0.05)    # 20% dữ liệu cho validation\n",
        "\n",
        "batch_size = 16\n",
        "\n",
        "steps_per_epoch = num_train_samples // batch_size\n",
        "validation_steps = num_val_samples // batch_size"
      ],
      "metadata": {
        "id": "ZVgqznEjU-Nx"
      },
      "execution_count": null,
      "outputs": []
    },
    {
      "cell_type": "code",
      "source": [
        "# Huấn luyện mô hình\n",
        "fine_tuned_history = fine_tuned_model.fit(finetune_train_generator,\n",
        "                                          epochs=20,\n",
        "                                          steps_per_epoch=steps_per_epoch,\n",
        "                                          validation_data=val_generator,\n",
        "                                          validation_steps=validation_steps,\n",
        "                                          callbacks=[fine_tune_checkpoint, early_stopping, tensorboard_callback])\n"
      ],
      "metadata": {
        "id": "-dbbBqPdUom4"
      },
      "execution_count": null,
      "outputs": []
    },
    {
      "cell_type": "code",
      "source": [
        "# đánh giá mô hình\n",
        "test_loss, test_accuracy = fine_tuned_model.evaluate(test_generator)\n",
        "print(f\"Test Loss: {test_loss}, Test Accuracy: {test_accuracy}\")"
      ],
      "metadata": {
        "id": "Mb8nVCIWVoob"
      },
      "execution_count": null,
      "outputs": []
    },
    {
      "cell_type": "code",
      "source": [
        "asdsadsadsadcascsacd"
      ],
      "metadata": {
        "id": "2ZjhYlvqVlky"
      },
      "execution_count": null,
      "outputs": []
    },
    {
      "cell_type": "code",
      "source": [
        "model.save(\"drive/My Drive/\")"
      ],
      "metadata": {
        "id": "zzDkkSHAWi4C"
      },
      "execution_count": null,
      "outputs": []
    },
    {
      "cell_type": "code",
      "execution_count": null,
      "metadata": {
        "id": "5fFyjM-n3Qbg"
      },
      "outputs": [],
      "source": [
        "from tensorflow.keras.preprocessing import image\n",
        "from tensorflow.keras.applications.xception import preprocess_input\n",
        "import numpy as np\n",
        "\n",
        "def extract_features(image_path, model):\n",
        "    img = image.load_img(image_path, target_size=(224, 224))\n",
        "    img_array = image.img_to_array(img)\n",
        "    img_array = np.expand_dims(img_array, axis=0)\n",
        "    img_array = preprocess_input(img_array)\n",
        "    features = model.predict(img_array)\n",
        "    return features.flatten()\n",
        "\n",
        "# Trích xuất đặc trưng cho tất cả ảnh\n",
        "image_paths = [os.path.join('data_directory', img) for img in os.listdir('data_directory')]\n",
        "features_list = [extract_features(img_path, model) for img_path in image_paths]\n",
        "features_array = np.array(features_list)"
      ]
    }
  ],
  "metadata": {
    "accelerator": "GPU",
    "colab": {
      "gpuType": "T4",
      "provenance": [],
      "toc_visible": true,
      "machine_shape": "hm",
      "include_colab_link": true
    },
    "kernelspec": {
      "display_name": "Python 3",
      "name": "python3"
    },
    "language_info": {
      "name": "python"
    }
  },
  "nbformat": 4,
  "nbformat_minor": 0
}